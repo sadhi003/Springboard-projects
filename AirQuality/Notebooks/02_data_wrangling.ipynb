{
 "cells": [
  {
   "cell_type": "markdown",
   "metadata": {
    "id": "cj3VBAZMD0es"
   },
   "source": [
    "# 2 Data wrangling<a id='2_Data_wrangling'></a>"
   ]
  },
  {
   "cell_type": "markdown",
   "metadata": {
    "id": "mBuYkuleD0ev"
   },
   "source": [
    "## 2.1 Contents<a id='2.1_Contents'></a>\n",
    "* [2 Data wrangling](#2_Data_wrangling)\n",
    "  * [2.1 Contents](#2.1_Contents)\n",
    "  * [2.2 Introduction](#2.2_Introduction)\n",
    "    * [2.2.1 Recap Of Data Science Problem](#2.2.1_Recap_Of_Data_Science_Problem)\n",
    "    * [2.2.2 Data Resource](#2.2.2_Data_Resource)\n",
    "  * [2.3 Imports](#2.3_Imports)\n",
    "  * [2.4 Objectives](#2.4_Objectives)\n",
    "  * [2.5 Load The Ski Resort Data](#2.5_Load_The_Ski_Resort_Data)\n",
    "  * [2.6 Explore The Data](#2.6_Explore_The_Data)\n",
    "    * [2.6.1 Explore target feature](#2.6.1_Explore_Target_Feature)\n",
    "    * [2.6.2 Data Type Conversion](#2.6.2_Data_Type_Conversion)\n",
    "    * [2.6.3 Number of missing values](#2.6.3_Missing_Values)\n",
    "  * [2.7 Create New DataFrame and Save the Data](#2.7_Create_New_DataFrame_Save_Data)\n",
    "  * [2.8 Drop Rows With No Price Data](#2.8_Drop_Rows_With_No_Price_Data)\n",
    "  * [2.9 Review distributions](#2.9_Review_distributions)\n",
    "  * [2.10 Population data](#2.10_Population_data)\n",
    "  * [2.11 Target Feature](#2.11_Target_Feature)\n",
    "    * [2.11.1 Number Of Missing Values By Row - Resort](#2.11.1_Number_Of_Missing_Values_By_Row_-_Resort)\n",
    "  * [2.12 Save data](#2.12_Save_data)\n",
    "  * [2.13 Summary](#2.13_Summary)\n"
   ]
  },
  {
   "cell_type": "markdown",
   "metadata": {
    "id": "RiNQboaXD0ew"
   },
   "source": [
    "## 2.2 Introduction<a id='2.2_Introduction'></a>"
   ]
  },
  {
   "cell_type": "markdown",
   "metadata": {
    "id": "7Z5sCqDnD0ew"
   },
   "source": [
    "This step focuses on collecting your data, organizing it, and making sure it's well defined. Also preliminary cleaning will be done here before exploratory further in the subsequent notebook."
   ]
  },
  {
   "cell_type": "markdown",
   "metadata": {
    "id": "X2sxiZJLD0ex"
   },
   "source": [
    "### 2.2.1 Recap Of Data Science Problem<a id='2.2.1_Recap_Of_Data_Science_Problem'></a>"
   ]
  },
  {
   "cell_type": "markdown",
   "metadata": {
    "id": "QqYu0jSsD0ex"
   },
   "source": [
    "The purpose of this project is to come up with a linear model to predict the air quality index in the Kathmandu city and provide the air quality forecast. The air quality index provides extent of air pollutant such as pm2.5, o3, co, so2 and so on in the air. With a city that is undergoing such a marked increase in its economy and all the growth associated with it, there will be a large amount of environmental challenges ahead as many developing cities in Asia have been witness to, many of which are still going through them. With a reduction in the amount of diesel fuel vehicles as well as open burn sources being cracked down on, Kathmandu may be able to see some form of improvement in its air quality in the years to come.\n",
    "\n",
    "PM2.5 refers to particulate matter that is 2.5 micrometers or less in diameter, and due to its small size and subsequent dangers to human health, is used as a major component in calculating overall air quality.\n",
    "\n",
    "\n",
    "![EPA standard air quality levels](../images/air_quality_index_level.png)"
   ]
  },
  {
   "cell_type": "markdown",
   "metadata": {
    "id": "Xl6lJYJpD0ex"
   },
   "source": [
    "### 2.2.2 Data Resource<a id='2.2.2_Data_Resource'></a>"
   ]
  },
  {
   "cell_type": "markdown",
   "metadata": {
    "id": "T3TzWetTD0ey"
   },
   "source": [
    "I am using two sets of data for this project. Daily average weather data from totimpo.net and air quality data from Phora Darbar US embassy in Kathmandu. "
   ]
  },
  {
   "cell_type": "code",
   "execution_count": null,
   "metadata": {
    "id": "t2x3PvYSD0ey"
   },
   "outputs": [],
   "source": []
  },
  {
   "cell_type": "markdown",
   "metadata": {
    "id": "xYpljxZjD0ey"
   },
   "source": [
    "## 2.3 Imports<a id='2.3_Imports'></a>"
   ]
  },
  {
   "cell_type": "code",
   "execution_count": 1,
   "metadata": {
    "colab": {
     "base_uri": "https://localhost:8080/",
     "height": 351
    },
    "executionInfo": {
     "elapsed": 1146,
     "status": "error",
     "timestamp": 1636651861058,
     "user": {
      "displayName": "Shankar Adhikari",
      "photoUrl": "https://lh3.googleusercontent.com/a-/AOh14GhQtDIfA3CaW3Q_V5PY3ATDpTqfjxBKo2xuaTuKAg=s64",
      "userId": "16382697433067752884"
     },
     "user_tz": 300
    },
    "id": "xKk9DJUTD0ez",
    "outputId": "b60153d7-5c4d-4a3a-9e2d-777879e0831c"
   },
   "outputs": [],
   "source": [
    "\n",
    "#Import pandas, matplotlib.pyplot, and seaborn in the correct lines below\n",
    "import pandas as pd\n",
    "import numpy as np\n",
    "import matplotlib.pyplot as plt\n",
    "import seaborn as sns\n",
    "import missingno as mnso\n",
    "import os"
   ]
  },
  {
   "cell_type": "markdown",
   "metadata": {
    "id": "b13_99_0D0e1"
   },
   "source": [
    "## 2.4 Objectives<a id='2.4_Objectives'></a>"
   ]
  },
  {
   "cell_type": "markdown",
   "metadata": {
    "id": "ZQkzlD_TD0e2"
   },
   "source": [
    "These are the main objectives for this notebook. Before moving to next exploratory data analysis, I will try to find answer of these questions. \n",
    "\n",
    "* Are we dealing with correct data for this project?\n",
    "    * Does we have correct target variable?\n",
    "    * Feature we collected are right feature to predict what we want to do?\n",
    "* Is there any issue with the data?\n",
    "\n",
    "These question will be answer briefly at the end. "
   ]
  },
  {
   "cell_type": "markdown",
   "metadata": {
    "id": "lU7sUj3UD0e2"
   },
   "source": [
    "## 2.5 Load The Air Quality data.<a id='2.5_Load_The_Ski_Resort_Data'></a>"
   ]
  },
  {
   "cell_type": "code",
   "execution_count": 2,
   "metadata": {
    "executionInfo": {
     "elapsed": 245,
     "status": "aborted",
     "timestamp": 1636651860676,
     "user": {
      "displayName": "Shankar Adhikari",
      "photoUrl": "https://lh3.googleusercontent.com/a-/AOh14GhQtDIfA3CaW3Q_V5PY3ATDpTqfjxBKo2xuaTuKAg=s64",
      "userId": "16382697433067752884"
     },
     "user_tz": 300
    },
    "id": "ydCMQ-FID0e3"
   },
   "outputs": [],
   "source": [
    "# the supplied CSV data file is the raw_data directory\n",
    "aq_data1 = pd.read_csv('../data/realdata/us_embassy-phora-durbar-kathmandu-air-quality.csv')\n",
    "#aq_data2 = pd.read_csv('../data/realdata/us-embassy-kathmandu-air-quality.csv')"
   ]
  },
  {
   "cell_type": "markdown",
   "metadata": {
    "id": "KxtrjFbXD0e4"
   },
   "source": [
    "Good first steps in auditing the data are the info method and displaying the first few records with head."
   ]
  },
  {
   "cell_type": "code",
   "execution_count": 3,
   "metadata": {
    "executionInfo": {
     "elapsed": 247,
     "status": "aborted",
     "timestamp": 1636651860679,
     "user": {
      "displayName": "Shankar Adhikari",
      "photoUrl": "https://lh3.googleusercontent.com/a-/AOh14GhQtDIfA3CaW3Q_V5PY3ATDpTqfjxBKo2xuaTuKAg=s64",
      "userId": "16382697433067752884"
     },
     "user_tz": 300
    },
    "id": "WKTecwKWD0e4"
   },
   "outputs": [
    {
     "name": "stdout",
     "output_type": "stream",
     "text": [
      "<class 'pandas.core.frame.DataFrame'>\n",
      "RangeIndex: 1712 entries, 0 to 1711\n",
      "Data columns (total 3 columns):\n",
      " #   Column  Non-Null Count  Dtype \n",
      "---  ------  --------------  ----- \n",
      " 0   date    1712 non-null   object\n",
      " 1    pm25   1712 non-null   object\n",
      " 2    pm10   1712 non-null   object\n",
      "dtypes: object(3)\n",
      "memory usage: 40.2+ KB\n"
     ]
    }
   ],
   "source": [
    "# summary of the data\n",
    "aq_data1.info()"
   ]
  },
  {
   "cell_type": "markdown",
   "metadata": {
    "id": "1wQ-sMjZD0e5"
   },
   "source": [
    "`pm25` is the particulate matter 2.5 level and `pm10` is the particulate matter 10 level. The overall air quality index would be the maximum of either of these quantities. "
   ]
  },
  {
   "cell_type": "markdown",
   "metadata": {
    "id": "l7Db9eyzD0e6"
   },
   "source": [
    "So I will make a different column getting maximum value from these two column and assign as `AQI`. "
   ]
  },
  {
   "cell_type": "code",
   "execution_count": 4,
   "metadata": {
    "executionInfo": {
     "elapsed": 34,
     "status": "aborted",
     "timestamp": 1636651860680,
     "user": {
      "displayName": "Shankar Adhikari",
      "photoUrl": "https://lh3.googleusercontent.com/a-/AOh14GhQtDIfA3CaW3Q_V5PY3ATDpTqfjxBKo2xuaTuKAg=s64",
      "userId": "16382697433067752884"
     },
     "user_tz": 300
    },
    "id": "eG8CZfpvD0e7",
    "scrolled": true
   },
   "outputs": [
    {
     "data": {
      "text/html": [
       "<div>\n",
       "<style scoped>\n",
       "    .dataframe tbody tr th:only-of-type {\n",
       "        vertical-align: middle;\n",
       "    }\n",
       "\n",
       "    .dataframe tbody tr th {\n",
       "        vertical-align: top;\n",
       "    }\n",
       "\n",
       "    .dataframe thead th {\n",
       "        text-align: right;\n",
       "    }\n",
       "</style>\n",
       "<table border=\"1\" class=\"dataframe\">\n",
       "  <thead>\n",
       "    <tr style=\"text-align: right;\">\n",
       "      <th></th>\n",
       "      <th>date</th>\n",
       "      <th>pm25</th>\n",
       "      <th>pm10</th>\n",
       "    </tr>\n",
       "  </thead>\n",
       "  <tbody>\n",
       "    <tr>\n",
       "      <th>0</th>\n",
       "      <td>2022/1/4</td>\n",
       "      <td>164</td>\n",
       "      <td>46</td>\n",
       "    </tr>\n",
       "    <tr>\n",
       "      <th>1</th>\n",
       "      <td>2022/1/5</td>\n",
       "      <td>167</td>\n",
       "      <td>45</td>\n",
       "    </tr>\n",
       "    <tr>\n",
       "      <th>2</th>\n",
       "      <td>2022/1/6</td>\n",
       "      <td>172</td>\n",
       "      <td>32</td>\n",
       "    </tr>\n",
       "    <tr>\n",
       "      <th>3</th>\n",
       "      <td>2022/1/7</td>\n",
       "      <td>146</td>\n",
       "      <td>30</td>\n",
       "    </tr>\n",
       "    <tr>\n",
       "      <th>4</th>\n",
       "      <td>2022/1/8</td>\n",
       "      <td>152</td>\n",
       "      <td>21</td>\n",
       "    </tr>\n",
       "  </tbody>\n",
       "</table>\n",
       "</div>"
      ],
      "text/plain": [
       "       date  pm25  pm10\n",
       "0  2022/1/4   164    46\n",
       "1  2022/1/5   167    45\n",
       "2  2022/1/6   172    32\n",
       "3  2022/1/7   146    30\n",
       "4  2022/1/8   152    21"
      ]
     },
     "execution_count": 4,
     "metadata": {},
     "output_type": "execute_result"
    }
   ],
   "source": [
    "# give a quick look in the data\n",
    "aq_data1.head()"
   ]
  },
  {
   "cell_type": "markdown",
   "metadata": {
    "id": "NVAjTYKcD0e7"
   },
   "source": [
    "Data includes most recent date. Next section we will explore more on data."
   ]
  },
  {
   "cell_type": "raw",
   "metadata": {},
   "source": []
  },
  {
   "cell_type": "markdown",
   "metadata": {
    "id": "DwHcSyZfD0e8"
   },
   "source": [
    "## 2.6 Explore The Data<a id='2.6_Explore_The_Data'></a>"
   ]
  },
  {
   "cell_type": "markdown",
   "metadata": {
    "id": "gHU10j-PD0e8"
   },
   "source": [
    "### 2.6.1 Explore Target Features<a id='2.6.1_Explore_Target_Feature'></a>"
   ]
  },
  {
   "cell_type": "markdown",
   "metadata": {
    "id": "eqW7CujgD0e9"
   },
   "source": [
    "Check more info in the data"
   ]
  },
  {
   "cell_type": "code",
   "execution_count": 5,
   "metadata": {
    "executionInfo": {
     "elapsed": 34,
     "status": "aborted",
     "timestamp": 1636651860680,
     "user": {
      "displayName": "Shankar Adhikari",
      "photoUrl": "https://lh3.googleusercontent.com/a-/AOh14GhQtDIfA3CaW3Q_V5PY3ATDpTqfjxBKo2xuaTuKAg=s64",
      "userId": "16382697433067752884"
     },
     "user_tz": 300
    },
    "id": "B4uJ8EiWD0e9"
   },
   "outputs": [
    {
     "data": {
      "text/html": [
       "<div>\n",
       "<style scoped>\n",
       "    .dataframe tbody tr th:only-of-type {\n",
       "        vertical-align: middle;\n",
       "    }\n",
       "\n",
       "    .dataframe tbody tr th {\n",
       "        vertical-align: top;\n",
       "    }\n",
       "\n",
       "    .dataframe thead th {\n",
       "        text-align: right;\n",
       "    }\n",
       "</style>\n",
       "<table border=\"1\" class=\"dataframe\">\n",
       "  <thead>\n",
       "    <tr style=\"text-align: right;\">\n",
       "      <th></th>\n",
       "      <th>date</th>\n",
       "      <th>pm25</th>\n",
       "      <th>pm10</th>\n",
       "    </tr>\n",
       "  </thead>\n",
       "  <tbody>\n",
       "    <tr>\n",
       "      <th>count</th>\n",
       "      <td>1712</td>\n",
       "      <td>1712</td>\n",
       "      <td>1712</td>\n",
       "    </tr>\n",
       "    <tr>\n",
       "      <th>unique</th>\n",
       "      <td>1712</td>\n",
       "      <td>207</td>\n",
       "      <td>144</td>\n",
       "    </tr>\n",
       "    <tr>\n",
       "      <th>top</th>\n",
       "      <td>2017/8/20</td>\n",
       "      <td>61</td>\n",
       "      <td></td>\n",
       "    </tr>\n",
       "    <tr>\n",
       "      <th>freq</th>\n",
       "      <td>1</td>\n",
       "      <td>26</td>\n",
       "      <td>920</td>\n",
       "    </tr>\n",
       "  </tbody>\n",
       "</table>\n",
       "</div>"
      ],
      "text/plain": [
       "             date  pm25  pm10\n",
       "count        1712  1712  1712\n",
       "unique       1712   207   144\n",
       "top     2017/8/20    61      \n",
       "freq            1    26   920"
      ]
     },
     "execution_count": 5,
     "metadata": {},
     "output_type": "execute_result"
    }
   ],
   "source": [
    "# look at more summary in the data\n",
    "aq_data1.describe()"
   ]
  },
  {
   "cell_type": "markdown",
   "metadata": {
    "id": "anhna-dvD0e-"
   },
   "source": [
    "Data includes total of 1712 entries. But data is not showing other information correctly."
   ]
  },
  {
   "cell_type": "code",
   "execution_count": 6,
   "metadata": {},
   "outputs": [
    {
     "data": {
      "text/plain": [
       "Index(['date', ' pm25', ' pm10'], dtype='object')"
      ]
     },
     "execution_count": 6,
     "metadata": {},
     "output_type": "execute_result"
    }
   ],
   "source": [
    "# check column names\n",
    "aq_data1.columns"
   ]
  },
  {
   "cell_type": "markdown",
   "metadata": {},
   "source": [
    "Columns names has extra space, lets remove that"
   ]
  },
  {
   "cell_type": "code",
   "execution_count": 7,
   "metadata": {},
   "outputs": [],
   "source": [
    "aq_data1= aq_data1.rename(columns = {\" pm25\": \"pm25\", \n",
    "                         \" pm10\":\"pm10\"})"
   ]
  },
  {
   "cell_type": "code",
   "execution_count": 8,
   "metadata": {},
   "outputs": [
    {
     "name": "stdout",
     "output_type": "stream",
     "text": [
      "<class 'pandas.core.frame.DataFrame'>\n",
      "RangeIndex: 1712 entries, 0 to 1711\n",
      "Data columns (total 3 columns):\n",
      " #   Column  Non-Null Count  Dtype \n",
      "---  ------  --------------  ----- \n",
      " 0   date    1712 non-null   object\n",
      " 1   pm25    1712 non-null   object\n",
      " 2   pm10    1712 non-null   object\n",
      "dtypes: object(3)\n",
      "memory usage: 40.2+ KB\n"
     ]
    }
   ],
   "source": [
    "aq_data1.info()"
   ]
  },
  {
   "cell_type": "code",
   "execution_count": 9,
   "metadata": {
    "scrolled": true
   },
   "outputs": [
    {
     "data": {
      "text/plain": [
       "array([' ', ' 100', ' 101', ' 102', ' 103', ' 104', ' 105', ' 106',\n",
       "       ' 107', ' 108', ' 109', ' 110', ' 111', ' 112', ' 113', ' 114',\n",
       "       ' 115', ' 116', ' 117', ' 118', ' 119', ' 120', ' 121', ' 122',\n",
       "       ' 123', ' 124', ' 125', ' 126', ' 127', ' 128', ' 129', ' 130',\n",
       "       ' 131', ' 132', ' 133', ' 134', ' 135', ' 136', ' 137', ' 138',\n",
       "       ' 139', ' 140', ' 141', ' 142', ' 143', ' 144', ' 145', ' 146',\n",
       "       ' 147', ' 148', ' 149', ' 150', ' 151', ' 152', ' 153', ' 154',\n",
       "       ' 155', ' 156', ' 157', ' 158', ' 159', ' 160', ' 161', ' 162',\n",
       "       ' 163', ' 164', ' 165', ' 166', ' 167', ' 168', ' 169', ' 170',\n",
       "       ' 171', ' 172', ' 173', ' 174', ' 175', ' 176', ' 177', ' 178',\n",
       "       ' 179', ' 180', ' 181', ' 182', ' 183', ' 184', ' 185', ' 186',\n",
       "       ' 187', ' 188', ' 189', ' 19', ' 190', ' 191', ' 192', ' 193',\n",
       "       ' 194', ' 195', ' 196', ' 197', ' 199', ' 20', ' 200', ' 201',\n",
       "       ' 202', ' 203', ' 204', ' 205', ' 206', ' 207', ' 209', ' 21',\n",
       "       ' 210', ' 211', ' 216', ' 217', ' 218', ' 22', ' 220', ' 223',\n",
       "       ' 23', ' 232', ' 238', ' 247', ' 259', ' 26', ' 27', ' 272', ' 28',\n",
       "       ' 29', ' 299', ' 30', ' 305', ' 306', ' 31', ' 32', ' 329', ' 33',\n",
       "       ' 336', ' 34', ' 35', ' 36', ' 367', ' 37', ' 38', ' 39', ' 395',\n",
       "       ' 40', ' 41', ' 42', ' 43', ' 44', ' 45', ' 46', ' 47', ' 48',\n",
       "       ' 49', ' 50', ' 51', ' 52', ' 53', ' 54', ' 55', ' 56', ' 57',\n",
       "       ' 58', ' 59', ' 60', ' 61', ' 62', ' 63', ' 64', ' 65', ' 66',\n",
       "       ' 67', ' 68', ' 69', ' 70', ' 71', ' 72', ' 73', ' 74', ' 75',\n",
       "       ' 76', ' 77', ' 78', ' 79', ' 80', ' 81', ' 82', ' 83', ' 84',\n",
       "       ' 85', ' 86', ' 87', ' 88', ' 89', ' 90', ' 91', ' 92', ' 93',\n",
       "       ' 94', ' 95', ' 96', ' 97', ' 98', ' 99'], dtype=object)"
      ]
     },
     "execution_count": 9,
     "metadata": {},
     "output_type": "execute_result"
    }
   ],
   "source": [
    "# check unique value for one of the data feature pm25 in the data to find if there any missing type \n",
    "unique_data = aq_data1.pm25.unique()\n",
    "np.sort(unique_data)"
   ]
  },
  {
   "cell_type": "markdown",
   "metadata": {},
   "source": [
    "Data contains lots of missing value as empty string. Since we know `pm25` and `pm10` are numeric features, so next we will convert those into numeric value. Also, we can change `date` to pandas date-time type. The missing empty string will convert to not a number type by pandas."
   ]
  },
  {
   "cell_type": "markdown",
   "metadata": {},
   "source": [
    "### 2.6.2 Data Type Conversion<a id='2.6.2_Data_Type_Conversion'></a>"
   ]
  },
  {
   "cell_type": "code",
   "execution_count": 10,
   "metadata": {},
   "outputs": [],
   "source": [
    "# there is issue that pm25 and pm10 includes empty row as string. So the following line will convert string to NaN \n",
    "# with the option errors='coerce'\n",
    "aq_data1['pm25'] = pd.to_numeric(aq_data1.pm25,errors='coerce')\n",
    "aq_data1['pm10'] = pd.to_numeric(aq_data1.pm10,errors='coerce')"
   ]
  },
  {
   "cell_type": "code",
   "execution_count": 11,
   "metadata": {},
   "outputs": [],
   "source": [
    "# similarly change date to pandas datetime type\n",
    "aq_data1['date'] = pd.to_datetime(aq_data1.date)"
   ]
  },
  {
   "cell_type": "code",
   "execution_count": 12,
   "metadata": {},
   "outputs": [
    {
     "name": "stdout",
     "output_type": "stream",
     "text": [
      "<class 'pandas.core.frame.DataFrame'>\n",
      "RangeIndex: 1712 entries, 0 to 1711\n",
      "Data columns (total 3 columns):\n",
      " #   Column  Non-Null Count  Dtype         \n",
      "---  ------  --------------  -----         \n",
      " 0   date    1712 non-null   datetime64[ns]\n",
      " 1   pm25    1687 non-null   float64       \n",
      " 2   pm10    792 non-null    float64       \n",
      "dtypes: datetime64[ns](1), float64(2)\n",
      "memory usage: 40.2 KB\n"
     ]
    }
   ],
   "source": [
    "# lets give one more look on the data. We can see right conversion here.\n",
    "aq_data1.info()"
   ]
  },
  {
   "cell_type": "markdown",
   "metadata": {},
   "source": [
    "Lets check numeric data type again."
   ]
  },
  {
   "cell_type": "code",
   "execution_count": 13,
   "metadata": {},
   "outputs": [
    {
     "data": {
      "text/html": [
       "<div>\n",
       "<style scoped>\n",
       "    .dataframe tbody tr th:only-of-type {\n",
       "        vertical-align: middle;\n",
       "    }\n",
       "\n",
       "    .dataframe tbody tr th {\n",
       "        vertical-align: top;\n",
       "    }\n",
       "\n",
       "    .dataframe thead th {\n",
       "        text-align: right;\n",
       "    }\n",
       "</style>\n",
       "<table border=\"1\" class=\"dataframe\">\n",
       "  <thead>\n",
       "    <tr style=\"text-align: right;\">\n",
       "      <th></th>\n",
       "      <th>pm25</th>\n",
       "      <th>pm10</th>\n",
       "    </tr>\n",
       "  </thead>\n",
       "  <tbody>\n",
       "    <tr>\n",
       "      <th>count</th>\n",
       "      <td>1687.000000</td>\n",
       "      <td>792.000000</td>\n",
       "    </tr>\n",
       "    <tr>\n",
       "      <th>mean</th>\n",
       "      <td>112.656194</td>\n",
       "      <td>51.044192</td>\n",
       "    </tr>\n",
       "    <tr>\n",
       "      <th>std</th>\n",
       "      <td>51.543084</td>\n",
       "      <td>35.886277</td>\n",
       "    </tr>\n",
       "    <tr>\n",
       "      <th>min</th>\n",
       "      <td>19.000000</td>\n",
       "      <td>1.000000</td>\n",
       "    </tr>\n",
       "    <tr>\n",
       "      <th>25%</th>\n",
       "      <td>64.000000</td>\n",
       "      <td>20.750000</td>\n",
       "    </tr>\n",
       "    <tr>\n",
       "      <th>50%</th>\n",
       "      <td>115.000000</td>\n",
       "      <td>45.000000</td>\n",
       "    </tr>\n",
       "    <tr>\n",
       "      <th>75%</th>\n",
       "      <td>155.000000</td>\n",
       "      <td>75.250000</td>\n",
       "    </tr>\n",
       "    <tr>\n",
       "      <th>max</th>\n",
       "      <td>395.000000</td>\n",
       "      <td>212.000000</td>\n",
       "    </tr>\n",
       "  </tbody>\n",
       "</table>\n",
       "</div>"
      ],
      "text/plain": [
       "              pm25        pm10\n",
       "count  1687.000000  792.000000\n",
       "mean    112.656194   51.044192\n",
       "std      51.543084   35.886277\n",
       "min      19.000000    1.000000\n",
       "25%      64.000000   20.750000\n",
       "50%     115.000000   45.000000\n",
       "75%     155.000000   75.250000\n",
       "max     395.000000  212.000000"
      ]
     },
     "execution_count": 13,
     "metadata": {},
     "output_type": "execute_result"
    }
   ],
   "source": [
    "aq_data1.describe()"
   ]
  },
  {
   "cell_type": "markdown",
   "metadata": {},
   "source": [
    "This time the data description tells us lots of information. There are few missing values in pm25 but more that 60% missing values for pm10. The minimum value of pm25 is 19 which is reasonable but the maximum value 395 is too high based on EPA standard, it falls in the too hazardous region. It could be possible or may be a false data. Will check those higher values. "
   ]
  },
  {
   "cell_type": "markdown",
   "metadata": {
    "id": "jEZj30xRD0e-"
   },
   "source": [
    "### 2.6.3 Number of missing values<a id='2.6.3_Missing_Values'></a>"
   ]
  },
  {
   "cell_type": "markdown",
   "metadata": {
    "id": "4zi8y5FND0e_"
   },
   "source": [
    "Count the number of missing values in each column and sort them."
   ]
  },
  {
   "cell_type": "code",
   "execution_count": 14,
   "metadata": {
    "executionInfo": {
     "elapsed": 34,
     "status": "aborted",
     "timestamp": 1636651860681,
     "user": {
      "displayName": "Shankar Adhikari",
      "photoUrl": "https://lh3.googleusercontent.com/a-/AOh14GhQtDIfA3CaW3Q_V5PY3ATDpTqfjxBKo2xuaTuKAg=s64",
      "userId": "16382697433067752884"
     },
     "user_tz": 300
    },
    "id": "Vv_qp_PpD0e_"
   },
   "outputs": [
    {
     "data": {
      "text/html": [
       "<div>\n",
       "<style scoped>\n",
       "    .dataframe tbody tr th:only-of-type {\n",
       "        vertical-align: middle;\n",
       "    }\n",
       "\n",
       "    .dataframe tbody tr th {\n",
       "        vertical-align: top;\n",
       "    }\n",
       "\n",
       "    .dataframe thead th {\n",
       "        text-align: right;\n",
       "    }\n",
       "</style>\n",
       "<table border=\"1\" class=\"dataframe\">\n",
       "  <thead>\n",
       "    <tr style=\"text-align: right;\">\n",
       "      <th></th>\n",
       "      <th>missing count</th>\n",
       "      <th>missing percentage</th>\n",
       "    </tr>\n",
       "  </thead>\n",
       "  <tbody>\n",
       "    <tr>\n",
       "      <th>date</th>\n",
       "      <td>0</td>\n",
       "      <td>0.000000</td>\n",
       "    </tr>\n",
       "    <tr>\n",
       "      <th>pm25</th>\n",
       "      <td>25</td>\n",
       "      <td>1.460280</td>\n",
       "    </tr>\n",
       "    <tr>\n",
       "      <th>pm10</th>\n",
       "      <td>920</td>\n",
       "      <td>53.738318</td>\n",
       "    </tr>\n",
       "  </tbody>\n",
       "</table>\n",
       "</div>"
      ],
      "text/plain": [
       "      missing count  missing percentage\n",
       "date              0            0.000000\n",
       "pm25             25            1.460280\n",
       "pm10            920           53.738318"
      ]
     },
     "execution_count": 14,
     "metadata": {},
     "output_type": "execute_result"
    }
   ],
   "source": [
    "#Count (using `.sum()`) the number of missing values (`.isnull()`) in each column of \n",
    "#air quality data as well as the percentages (using `.mean()` instead of `.sum()`).\n",
    "#Order them (increasing or decreasing) using sort_values\n",
    "#Call `pd.concat` to present these in a single table (DataFrame) with the helpful column names 'count' and #'%'\n",
    "missing = pd.concat([aq_data1.isnull().sum(), 100 * aq_data1.isnull().mean()], axis=1)\n",
    "missing.columns=[\"missing count\", \"missing percentage\"]\n",
    "missing.sort_values(by=['missing count'])"
   ]
  },
  {
   "cell_type": "markdown",
   "metadata": {
    "executionInfo": {
     "elapsed": 34,
     "status": "aborted",
     "timestamp": 1636651860681,
     "user": {
      "displayName": "Shankar Adhikari",
      "photoUrl": "https://lh3.googleusercontent.com/a-/AOh14GhQtDIfA3CaW3Q_V5PY3ATDpTqfjxBKo2xuaTuKAg=s64",
      "userId": "16382697433067752884"
     },
     "user_tz": 300
    },
    "id": "U3xz3wGghBWq"
   },
   "source": [
    "There too many missing values for `pm10`. Lets check those 25 missing values in the pm25 where we can find pm10 data or not."
   ]
  },
  {
   "cell_type": "code",
   "execution_count": 15,
   "metadata": {
    "id": "9PpSXU_tD0fA"
   },
   "outputs": [
    {
     "data": {
      "text/html": [
       "<div>\n",
       "<style scoped>\n",
       "    .dataframe tbody tr th:only-of-type {\n",
       "        vertical-align: middle;\n",
       "    }\n",
       "\n",
       "    .dataframe tbody tr th {\n",
       "        vertical-align: top;\n",
       "    }\n",
       "\n",
       "    .dataframe thead th {\n",
       "        text-align: right;\n",
       "    }\n",
       "</style>\n",
       "<table border=\"1\" class=\"dataframe\">\n",
       "  <thead>\n",
       "    <tr style=\"text-align: right;\">\n",
       "      <th></th>\n",
       "      <th>date</th>\n",
       "      <th>pm25</th>\n",
       "      <th>pm10</th>\n",
       "    </tr>\n",
       "  </thead>\n",
       "  <tbody>\n",
       "    <tr>\n",
       "      <th>1687</th>\n",
       "      <td>2021-08-22</td>\n",
       "      <td>NaN</td>\n",
       "      <td>24.0</td>\n",
       "    </tr>\n",
       "    <tr>\n",
       "      <th>1688</th>\n",
       "      <td>2021-08-23</td>\n",
       "      <td>NaN</td>\n",
       "      <td>20.0</td>\n",
       "    </tr>\n",
       "    <tr>\n",
       "      <th>1689</th>\n",
       "      <td>2021-08-24</td>\n",
       "      <td>NaN</td>\n",
       "      <td>24.0</td>\n",
       "    </tr>\n",
       "    <tr>\n",
       "      <th>1690</th>\n",
       "      <td>2021-06-23</td>\n",
       "      <td>NaN</td>\n",
       "      <td>21.0</td>\n",
       "    </tr>\n",
       "    <tr>\n",
       "      <th>1691</th>\n",
       "      <td>2021-06-24</td>\n",
       "      <td>NaN</td>\n",
       "      <td>23.0</td>\n",
       "    </tr>\n",
       "    <tr>\n",
       "      <th>1692</th>\n",
       "      <td>2020-10-05</td>\n",
       "      <td>NaN</td>\n",
       "      <td>23.0</td>\n",
       "    </tr>\n",
       "    <tr>\n",
       "      <th>1693</th>\n",
       "      <td>2020-10-06</td>\n",
       "      <td>NaN</td>\n",
       "      <td>27.0</td>\n",
       "    </tr>\n",
       "    <tr>\n",
       "      <th>1694</th>\n",
       "      <td>2020-10-07</td>\n",
       "      <td>NaN</td>\n",
       "      <td>30.0</td>\n",
       "    </tr>\n",
       "    <tr>\n",
       "      <th>1695</th>\n",
       "      <td>2020-10-08</td>\n",
       "      <td>NaN</td>\n",
       "      <td>36.0</td>\n",
       "    </tr>\n",
       "    <tr>\n",
       "      <th>1696</th>\n",
       "      <td>2020-07-27</td>\n",
       "      <td>NaN</td>\n",
       "      <td>17.0</td>\n",
       "    </tr>\n",
       "    <tr>\n",
       "      <th>1697</th>\n",
       "      <td>2020-07-28</td>\n",
       "      <td>NaN</td>\n",
       "      <td>14.0</td>\n",
       "    </tr>\n",
       "    <tr>\n",
       "      <th>1698</th>\n",
       "      <td>2020-03-12</td>\n",
       "      <td>NaN</td>\n",
       "      <td>60.0</td>\n",
       "    </tr>\n",
       "    <tr>\n",
       "      <th>1699</th>\n",
       "      <td>2020-03-13</td>\n",
       "      <td>NaN</td>\n",
       "      <td>52.0</td>\n",
       "    </tr>\n",
       "    <tr>\n",
       "      <th>1700</th>\n",
       "      <td>2020-03-14</td>\n",
       "      <td>NaN</td>\n",
       "      <td>24.0</td>\n",
       "    </tr>\n",
       "    <tr>\n",
       "      <th>1701</th>\n",
       "      <td>2020-03-15</td>\n",
       "      <td>NaN</td>\n",
       "      <td>72.0</td>\n",
       "    </tr>\n",
       "    <tr>\n",
       "      <th>1702</th>\n",
       "      <td>2020-03-16</td>\n",
       "      <td>NaN</td>\n",
       "      <td>53.0</td>\n",
       "    </tr>\n",
       "    <tr>\n",
       "      <th>1703</th>\n",
       "      <td>2019-12-21</td>\n",
       "      <td>NaN</td>\n",
       "      <td>91.0</td>\n",
       "    </tr>\n",
       "    <tr>\n",
       "      <th>1704</th>\n",
       "      <td>2019-12-22</td>\n",
       "      <td>NaN</td>\n",
       "      <td>84.0</td>\n",
       "    </tr>\n",
       "    <tr>\n",
       "      <th>1705</th>\n",
       "      <td>2019-12-23</td>\n",
       "      <td>NaN</td>\n",
       "      <td>78.0</td>\n",
       "    </tr>\n",
       "    <tr>\n",
       "      <th>1706</th>\n",
       "      <td>2019-12-24</td>\n",
       "      <td>NaN</td>\n",
       "      <td>74.0</td>\n",
       "    </tr>\n",
       "    <tr>\n",
       "      <th>1707</th>\n",
       "      <td>2019-12-25</td>\n",
       "      <td>NaN</td>\n",
       "      <td>91.0</td>\n",
       "    </tr>\n",
       "    <tr>\n",
       "      <th>1708</th>\n",
       "      <td>2018-10-20</td>\n",
       "      <td>NaN</td>\n",
       "      <td>77.0</td>\n",
       "    </tr>\n",
       "    <tr>\n",
       "      <th>1709</th>\n",
       "      <td>2018-10-21</td>\n",
       "      <td>NaN</td>\n",
       "      <td>75.0</td>\n",
       "    </tr>\n",
       "    <tr>\n",
       "      <th>1710</th>\n",
       "      <td>2018-10-22</td>\n",
       "      <td>NaN</td>\n",
       "      <td>91.0</td>\n",
       "    </tr>\n",
       "    <tr>\n",
       "      <th>1711</th>\n",
       "      <td>2018-10-23</td>\n",
       "      <td>NaN</td>\n",
       "      <td>103.0</td>\n",
       "    </tr>\n",
       "  </tbody>\n",
       "</table>\n",
       "</div>"
      ],
      "text/plain": [
       "           date  pm25   pm10\n",
       "1687 2021-08-22   NaN   24.0\n",
       "1688 2021-08-23   NaN   20.0\n",
       "1689 2021-08-24   NaN   24.0\n",
       "1690 2021-06-23   NaN   21.0\n",
       "1691 2021-06-24   NaN   23.0\n",
       "1692 2020-10-05   NaN   23.0\n",
       "1693 2020-10-06   NaN   27.0\n",
       "1694 2020-10-07   NaN   30.0\n",
       "1695 2020-10-08   NaN   36.0\n",
       "1696 2020-07-27   NaN   17.0\n",
       "1697 2020-07-28   NaN   14.0\n",
       "1698 2020-03-12   NaN   60.0\n",
       "1699 2020-03-13   NaN   52.0\n",
       "1700 2020-03-14   NaN   24.0\n",
       "1701 2020-03-15   NaN   72.0\n",
       "1702 2020-03-16   NaN   53.0\n",
       "1703 2019-12-21   NaN   91.0\n",
       "1704 2019-12-22   NaN   84.0\n",
       "1705 2019-12-23   NaN   78.0\n",
       "1706 2019-12-24   NaN   74.0\n",
       "1707 2019-12-25   NaN   91.0\n",
       "1708 2018-10-20   NaN   77.0\n",
       "1709 2018-10-21   NaN   75.0\n",
       "1710 2018-10-22   NaN   91.0\n",
       "1711 2018-10-23   NaN  103.0"
      ]
     },
     "execution_count": 15,
     "metadata": {},
     "output_type": "execute_result"
    }
   ],
   "source": [
    "# check columns with NaN value for pm25 has data on pm10 column. \n",
    "aq_data1[aq_data1.pm25.isnull()]"
   ]
  },
  {
   "cell_type": "markdown",
   "metadata": {},
   "source": [
    "This shows the data missing for `pm25` has data on `pm10` for few dates. So we can choose `pm10` values for AQI on those dates. Beside that lets check how many dates has `pm25` higher than `pm10` and vice-versa."
   ]
  },
  {
   "cell_type": "code",
   "execution_count": 16,
   "metadata": {},
   "outputs": [],
   "source": [
    "# counts number of data for pm25 higher than pm10 and vice-versa\n",
    "compareValue = (aq_data1[aq_data1.pm25 > aq_data1.pm10].shape[0],\n",
    "                         aq_data1[aq_data1.pm25 < aq_data1.pm10].shape[0],  aq_data1[aq_data1.pm25 == aq_data1.pm10].shape[0])"
   ]
  },
  {
   "cell_type": "code",
   "execution_count": 17,
   "metadata": {},
   "outputs": [
    {
     "name": "stdout",
     "output_type": "stream",
     "text": [
      "pm25 > pm10 = 739\n",
      "pm25 < pm10 = 26\n",
      "pm 25 == pm10 = 2\n"
     ]
    }
   ],
   "source": [
    "print (f'pm25 > pm10 = {compareValue[0]}')\n",
    "print (f'pm25 < pm10 = {compareValue[1]}')\n",
    "print (f'pm 25 == pm10 = {compareValue[2]}')"
   ]
  },
  {
   "cell_type": "markdown",
   "metadata": {},
   "source": [
    "Its not comparing NaN data with numeric value. We can just remove NaN values with 0. At the end we don't want those zeros and there is no data that contains 0 in it. "
   ]
  },
  {
   "cell_type": "code",
   "execution_count": 18,
   "metadata": {},
   "outputs": [],
   "source": [
    "# fill nan with 0.0 and apply to same dataframe\n",
    "aq_data1.fillna(0.0,inplace=True)"
   ]
  },
  {
   "cell_type": "code",
   "execution_count": 19,
   "metadata": {},
   "outputs": [
    {
     "data": {
      "text/html": [
       "<div>\n",
       "<style scoped>\n",
       "    .dataframe tbody tr th:only-of-type {\n",
       "        vertical-align: middle;\n",
       "    }\n",
       "\n",
       "    .dataframe tbody tr th {\n",
       "        vertical-align: top;\n",
       "    }\n",
       "\n",
       "    .dataframe thead th {\n",
       "        text-align: right;\n",
       "    }\n",
       "</style>\n",
       "<table border=\"1\" class=\"dataframe\">\n",
       "  <thead>\n",
       "    <tr style=\"text-align: right;\">\n",
       "      <th></th>\n",
       "      <th>pm25</th>\n",
       "      <th>pm10</th>\n",
       "    </tr>\n",
       "  </thead>\n",
       "  <tbody>\n",
       "    <tr>\n",
       "      <th>count</th>\n",
       "      <td>1712.000000</td>\n",
       "      <td>1712.000000</td>\n",
       "    </tr>\n",
       "    <tr>\n",
       "      <th>mean</th>\n",
       "      <td>111.011098</td>\n",
       "      <td>23.613902</td>\n",
       "    </tr>\n",
       "    <tr>\n",
       "      <th>std</th>\n",
       "      <td>52.920719</td>\n",
       "      <td>35.263008</td>\n",
       "    </tr>\n",
       "    <tr>\n",
       "      <th>min</th>\n",
       "      <td>0.000000</td>\n",
       "      <td>0.000000</td>\n",
       "    </tr>\n",
       "    <tr>\n",
       "      <th>25%</th>\n",
       "      <td>63.000000</td>\n",
       "      <td>0.000000</td>\n",
       "    </tr>\n",
       "    <tr>\n",
       "      <th>50%</th>\n",
       "      <td>114.000000</td>\n",
       "      <td>0.000000</td>\n",
       "    </tr>\n",
       "    <tr>\n",
       "      <th>75%</th>\n",
       "      <td>155.000000</td>\n",
       "      <td>36.250000</td>\n",
       "    </tr>\n",
       "    <tr>\n",
       "      <th>max</th>\n",
       "      <td>395.000000</td>\n",
       "      <td>212.000000</td>\n",
       "    </tr>\n",
       "  </tbody>\n",
       "</table>\n",
       "</div>"
      ],
      "text/plain": [
       "              pm25         pm10\n",
       "count  1712.000000  1712.000000\n",
       "mean    111.011098    23.613902\n",
       "std      52.920719    35.263008\n",
       "min       0.000000     0.000000\n",
       "25%      63.000000     0.000000\n",
       "50%     114.000000     0.000000\n",
       "75%     155.000000    36.250000\n",
       "max     395.000000   212.000000"
      ]
     },
     "execution_count": 19,
     "metadata": {},
     "output_type": "execute_result"
    }
   ],
   "source": [
    "# check info again\n",
    "aq_data1.describe()"
   ]
  },
  {
   "cell_type": "markdown",
   "metadata": {},
   "source": [
    "* Finally create new data frame with date and air quality index column where air quality index value is the maximum value of either pm25 or pm10\n"
   ]
  },
  {
   "cell_type": "markdown",
   "metadata": {},
   "source": [
    "## 2.7 Create New DataFrame and Save the Datas<a id='2.7_Create_New_DataFrame_Save_Data'></a>"
   ]
  },
  {
   "cell_type": "code",
   "execution_count": 20,
   "metadata": {},
   "outputs": [],
   "source": [
    "# create new dataframe from date \n",
    "data1 = pd.DataFrame(aq_data1['date'], columns=['date'])"
   ]
  },
  {
   "cell_type": "code",
   "execution_count": 21,
   "metadata": {},
   "outputs": [],
   "source": [
    "# include AQI column from maximum value of either pm25 or pm10\n",
    "data1['AQI'] = aq_data1[[\"pm25\", \"pm10\"]].max(axis=1)"
   ]
  },
  {
   "cell_type": "code",
   "execution_count": 22,
   "metadata": {},
   "outputs": [
    {
     "data": {
      "text/html": [
       "<div>\n",
       "<style scoped>\n",
       "    .dataframe tbody tr th:only-of-type {\n",
       "        vertical-align: middle;\n",
       "    }\n",
       "\n",
       "    .dataframe tbody tr th {\n",
       "        vertical-align: top;\n",
       "    }\n",
       "\n",
       "    .dataframe thead th {\n",
       "        text-align: right;\n",
       "    }\n",
       "</style>\n",
       "<table border=\"1\" class=\"dataframe\">\n",
       "  <thead>\n",
       "    <tr style=\"text-align: right;\">\n",
       "      <th></th>\n",
       "      <th>date</th>\n",
       "      <th>AQI</th>\n",
       "    </tr>\n",
       "  </thead>\n",
       "  <tbody>\n",
       "    <tr>\n",
       "      <th>0</th>\n",
       "      <td>2022-01-04</td>\n",
       "      <td>164.0</td>\n",
       "    </tr>\n",
       "    <tr>\n",
       "      <th>1</th>\n",
       "      <td>2022-01-05</td>\n",
       "      <td>167.0</td>\n",
       "    </tr>\n",
       "    <tr>\n",
       "      <th>2</th>\n",
       "      <td>2022-01-06</td>\n",
       "      <td>172.0</td>\n",
       "    </tr>\n",
       "    <tr>\n",
       "      <th>3</th>\n",
       "      <td>2022-01-07</td>\n",
       "      <td>146.0</td>\n",
       "    </tr>\n",
       "    <tr>\n",
       "      <th>4</th>\n",
       "      <td>2022-01-08</td>\n",
       "      <td>152.0</td>\n",
       "    </tr>\n",
       "  </tbody>\n",
       "</table>\n",
       "</div>"
      ],
      "text/plain": [
       "        date    AQI\n",
       "0 2022-01-04  164.0\n",
       "1 2022-01-05  167.0\n",
       "2 2022-01-06  172.0\n",
       "3 2022-01-07  146.0\n",
       "4 2022-01-08  152.0"
      ]
     },
     "execution_count": 22,
     "metadata": {},
     "output_type": "execute_result"
    }
   ],
   "source": [
    "#check data again\n",
    "data1.head()"
   ]
  },
  {
   "cell_type": "code",
   "execution_count": 23,
   "metadata": {},
   "outputs": [
    {
     "name": "stdout",
     "output_type": "stream",
     "text": [
      "<class 'pandas.core.frame.DataFrame'>\n",
      "RangeIndex: 1712 entries, 0 to 1711\n",
      "Data columns (total 2 columns):\n",
      " #   Column  Non-Null Count  Dtype         \n",
      "---  ------  --------------  -----         \n",
      " 0   date    1712 non-null   datetime64[ns]\n",
      " 1   AQI     1712 non-null   float64       \n",
      "dtypes: datetime64[ns](1), float64(1)\n",
      "memory usage: 26.9 KB\n"
     ]
    }
   ],
   "source": [
    "# more info\n",
    "data1.info()"
   ]
  },
  {
   "cell_type": "code",
   "execution_count": 24,
   "metadata": {},
   "outputs": [
    {
     "data": {
      "text/html": [
       "<div>\n",
       "<style scoped>\n",
       "    .dataframe tbody tr th:only-of-type {\n",
       "        vertical-align: middle;\n",
       "    }\n",
       "\n",
       "    .dataframe tbody tr th {\n",
       "        vertical-align: top;\n",
       "    }\n",
       "\n",
       "    .dataframe thead th {\n",
       "        text-align: right;\n",
       "    }\n",
       "</style>\n",
       "<table border=\"1\" class=\"dataframe\">\n",
       "  <thead>\n",
       "    <tr style=\"text-align: right;\">\n",
       "      <th></th>\n",
       "      <th>AQI</th>\n",
       "    </tr>\n",
       "  </thead>\n",
       "  <tbody>\n",
       "    <tr>\n",
       "      <th>count</th>\n",
       "      <td>1712.000000</td>\n",
       "    </tr>\n",
       "    <tr>\n",
       "      <th>mean</th>\n",
       "      <td>111.969042</td>\n",
       "    </tr>\n",
       "    <tr>\n",
       "      <th>std</th>\n",
       "      <td>51.902166</td>\n",
       "    </tr>\n",
       "    <tr>\n",
       "      <th>min</th>\n",
       "      <td>14.000000</td>\n",
       "    </tr>\n",
       "    <tr>\n",
       "      <th>25%</th>\n",
       "      <td>64.000000</td>\n",
       "    </tr>\n",
       "    <tr>\n",
       "      <th>50%</th>\n",
       "      <td>114.000000</td>\n",
       "    </tr>\n",
       "    <tr>\n",
       "      <th>75%</th>\n",
       "      <td>155.000000</td>\n",
       "    </tr>\n",
       "    <tr>\n",
       "      <th>max</th>\n",
       "      <td>395.000000</td>\n",
       "    </tr>\n",
       "  </tbody>\n",
       "</table>\n",
       "</div>"
      ],
      "text/plain": [
       "               AQI\n",
       "count  1712.000000\n",
       "mean    111.969042\n",
       "std      51.902166\n",
       "min      14.000000\n",
       "25%      64.000000\n",
       "50%     114.000000\n",
       "75%     155.000000\n",
       "max     395.000000"
      ]
     },
     "execution_count": 24,
     "metadata": {},
     "output_type": "execute_result"
    }
   ],
   "source": [
    "# so no missing data in our final dataset.\n",
    "data1.describe()"
   ]
  },
  {
   "cell_type": "code",
   "execution_count": 25,
   "metadata": {},
   "outputs": [
    {
     "data": {
      "image/png": "[encoded data removed]",
      "text/plain": [
       "<Figure size 720x576 with 1 Axes>"
      ]
     },
     "metadata": {
      "needs_background": "light"
     },
     "output_type": "display_data"
    }
   ],
   "source": [
    "# before saving data lets quickly look air quality index value in different dates \n",
    "plt.figure(figsize=(10,8))\n",
    "plt.scatter(data1['date'],data1['AQI'])\n",
    "plt.title('AQI values from 2017 to 2021 in Kathmandu')\n",
    "plt.xlabel('Dates')\n",
    "plt.ylabel('AQI values')\n",
    "plt.show()"
   ]
  },
  {
   "cell_type": "code",
   "execution_count": 26,
   "metadata": {},
   "outputs": [],
   "source": [
    "# order data in ascending date and set date as index\n",
    "data1.sort_values(by='date',ascending=True,inplace=True)\n",
    "data1.set_index('date',inplace=True)"
   ]
  },
  {
   "cell_type": "code",
   "execution_count": 27,
   "metadata": {},
   "outputs": [
    {
     "data": {
      "text/html": [
       "<div>\n",
       "<style scoped>\n",
       "    .dataframe tbody tr th:only-of-type {\n",
       "        vertical-align: middle;\n",
       "    }\n",
       "\n",
       "    .dataframe tbody tr th {\n",
       "        vertical-align: top;\n",
       "    }\n",
       "\n",
       "    .dataframe thead th {\n",
       "        text-align: right;\n",
       "    }\n",
       "</style>\n",
       "<table border=\"1\" class=\"dataframe\">\n",
       "  <thead>\n",
       "    <tr style=\"text-align: right;\">\n",
       "      <th></th>\n",
       "      <th>AQI</th>\n",
       "    </tr>\n",
       "    <tr>\n",
       "      <th>date</th>\n",
       "      <th></th>\n",
       "    </tr>\n",
       "  </thead>\n",
       "  <tbody>\n",
       "    <tr>\n",
       "      <th>2017-03-24</th>\n",
       "      <td>162.0</td>\n",
       "    </tr>\n",
       "    <tr>\n",
       "      <th>2017-03-25</th>\n",
       "      <td>156.0</td>\n",
       "    </tr>\n",
       "    <tr>\n",
       "      <th>2017-03-26</th>\n",
       "      <td>131.0</td>\n",
       "    </tr>\n",
       "    <tr>\n",
       "      <th>2017-03-27</th>\n",
       "      <td>169.0</td>\n",
       "    </tr>\n",
       "    <tr>\n",
       "      <th>2017-03-28</th>\n",
       "      <td>162.0</td>\n",
       "    </tr>\n",
       "  </tbody>\n",
       "</table>\n",
       "</div>"
      ],
      "text/plain": [
       "              AQI\n",
       "date             \n",
       "2017-03-24  162.0\n",
       "2017-03-25  156.0\n",
       "2017-03-26  131.0\n",
       "2017-03-27  169.0\n",
       "2017-03-28  162.0"
      ]
     },
     "execution_count": 27,
     "metadata": {},
     "output_type": "execute_result"
    }
   ],
   "source": [
    "data1.head()"
   ]
  },
  {
   "cell_type": "markdown",
   "metadata": {},
   "source": [
    "Save data in the same folder with different name. Does not include index while saving. "
   ]
  },
  {
   "cell_type": "code",
   "execution_count": 76,
   "metadata": {
    "id": "RkqQfzYgD0fA"
   },
   "outputs": [],
   "source": [
    "# save with no index value\n",
    "data1.to_csv('../data/realdata/airquality_kathmandu.csv',index=True)"
   ]
  },
  {
   "cell_type": "markdown",
   "metadata": {
    "id": "MDQPI3jxD0fA"
   },
   "source": [
    "* For next part of this notebook, we will explore weather data that was collected and saved yearly from 2017 to 2021. We collected weather data after 2017 to match date for available air quality data. "
   ]
  },
  {
   "cell_type": "markdown",
   "metadata": {
    "executionInfo": {
     "elapsed": 34,
     "status": "aborted",
     "timestamp": 1636651860682,
     "user": {
      "displayName": "Shankar Adhikari",
      "photoUrl": "https://lh3.googleusercontent.com/a-/AOh14GhQtDIfA3CaW3Q_V5PY3ATDpTqfjxBKo2xuaTuKAg=s64",
      "userId": "16382697433067752884"
     },
     "user_tz": 300
    },
    "id": "xLtLAIB8D0fB"
   },
   "source": [
    "## 2.8 Loading Weather Data <a id='2.5_Load_Weather_Data'></a>"
   ]
  },
  {
   "cell_type": "code",
   "execution_count": 29,
   "metadata": {
    "id": "ugS20AdMD0fC"
   },
   "outputs": [],
   "source": [
    "# Load weather data skipping first two columns. First two columns contains geolocation information for the weather\n",
    "# station. \n",
    "df1 = pd.read_csv('../data/weather/S444540_2017_climate.csv',skiprows=2)\n",
    "df2 = pd.read_csv('../data/weather/S444540_2018_climate.csv',skiprows=2)\n",
    "df3 =  pd.read_csv('../data/weather/S444540_2019_climate.csv',skiprows=2)\n",
    "df4 = pd.read_csv('../data/weather/S444540_2020_climate.csv',skiprows=2)\n",
    "df5 = pd.read_csv('../data/weather/S444540_2021_climate.csv',skiprows=2)"
   ]
  },
  {
   "cell_type": "code",
   "execution_count": 30,
   "metadata": {
    "id": "jCmDmxakD0fF"
   },
   "outputs": [
    {
     "data": {
      "text/html": [
       "<div>\n",
       "<style scoped>\n",
       "    .dataframe tbody tr th:only-of-type {\n",
       "        vertical-align: middle;\n",
       "    }\n",
       "\n",
       "    .dataframe tbody tr th {\n",
       "        vertical-align: top;\n",
       "    }\n",
       "\n",
       "    .dataframe thead th {\n",
       "        text-align: right;\n",
       "    }\n",
       "</style>\n",
       "<table border=\"1\" class=\"dataframe\">\n",
       "  <thead>\n",
       "    <tr style=\"text-align: right;\">\n",
       "      <th></th>\n",
       "      <th>Day</th>\n",
       "      <th>T</th>\n",
       "      <th>TM</th>\n",
       "      <th>Tm</th>\n",
       "      <th>SLP</th>\n",
       "      <th>H</th>\n",
       "      <th>PP</th>\n",
       "      <th>VV</th>\n",
       "      <th>V</th>\n",
       "      <th>VM</th>\n",
       "      <th>VG</th>\n",
       "      <th>RA</th>\n",
       "      <th>SN</th>\n",
       "      <th>TS</th>\n",
       "      <th>FG</th>\n",
       "    </tr>\n",
       "  </thead>\n",
       "  <tbody>\n",
       "    <tr>\n",
       "      <th>0</th>\n",
       "      <td>NaN</td>\n",
       "      <td>Average Temperature</td>\n",
       "      <td>Maximum temperature</td>\n",
       "      <td>Minimum temperature</td>\n",
       "      <td>Atmospheric pressure at sea level</td>\n",
       "      <td>Average relative humidity</td>\n",
       "      <td>Total rainfall and / or snowmelt</td>\n",
       "      <td>Average visibility</td>\n",
       "      <td>Average wind speed</td>\n",
       "      <td>Maximum sustained wind speed</td>\n",
       "      <td>Maximum speed of wind</td>\n",
       "      <td>Indicate if there was rain or drizzle (In the ...</td>\n",
       "      <td>Snow indicator (In the monthly average, total ...</td>\n",
       "      <td>Indicates whether there storm (In the monthly ...</td>\n",
       "      <td>Indicates whether there was fog (In the monthl...</td>\n",
       "    </tr>\n",
       "    <tr>\n",
       "      <th>1</th>\n",
       "      <td>2017-01-01</td>\n",
       "      <td>8.3</td>\n",
       "      <td>14.5</td>\n",
       "      <td>3</td>\n",
       "      <td>-</td>\n",
       "      <td>84</td>\n",
       "      <td>0</td>\n",
       "      <td>3.9</td>\n",
       "      <td>5.2</td>\n",
       "      <td>11.1</td>\n",
       "      <td>-</td>\n",
       "      <td>o</td>\n",
       "      <td>NaN</td>\n",
       "      <td>o</td>\n",
       "      <td>NaN</td>\n",
       "    </tr>\n",
       "    <tr>\n",
       "      <th>2</th>\n",
       "      <td>2017-01-02</td>\n",
       "      <td>9.3</td>\n",
       "      <td>19</td>\n",
       "      <td>2.6</td>\n",
       "      <td>-</td>\n",
       "      <td>71</td>\n",
       "      <td>0</td>\n",
       "      <td>5.3</td>\n",
       "      <td>7.2</td>\n",
       "      <td>18.3</td>\n",
       "      <td>-</td>\n",
       "      <td>o</td>\n",
       "      <td>NaN</td>\n",
       "      <td>o</td>\n",
       "      <td>NaN</td>\n",
       "    </tr>\n",
       "    <tr>\n",
       "      <th>3</th>\n",
       "      <td>2017-01-03</td>\n",
       "      <td>9.6</td>\n",
       "      <td>18</td>\n",
       "      <td>3</td>\n",
       "      <td>-</td>\n",
       "      <td>67</td>\n",
       "      <td>0</td>\n",
       "      <td>6.3</td>\n",
       "      <td>4.1</td>\n",
       "      <td>13</td>\n",
       "      <td>-</td>\n",
       "      <td>NaN</td>\n",
       "      <td>NaN</td>\n",
       "      <td>NaN</td>\n",
       "      <td>NaN</td>\n",
       "    </tr>\n",
       "    <tr>\n",
       "      <th>4</th>\n",
       "      <td>2017-01-04</td>\n",
       "      <td>9.4</td>\n",
       "      <td>19</td>\n",
       "      <td>2.8</td>\n",
       "      <td>-</td>\n",
       "      <td>66</td>\n",
       "      <td>0</td>\n",
       "      <td>6</td>\n",
       "      <td>5.2</td>\n",
       "      <td>14.8</td>\n",
       "      <td>-</td>\n",
       "      <td>NaN</td>\n",
       "      <td>NaN</td>\n",
       "      <td>NaN</td>\n",
       "      <td>NaN</td>\n",
       "    </tr>\n",
       "  </tbody>\n",
       "</table>\n",
       "</div>"
      ],
      "text/plain": [
       "          Day                    T                   TM                   Tm  \\\n",
       "0         NaN  Average Temperature  Maximum temperature  Minimum temperature   \n",
       "1  2017-01-01                  8.3                 14.5                    3   \n",
       "2  2017-01-02                  9.3                   19                  2.6   \n",
       "3  2017-01-03                  9.6                   18                    3   \n",
       "4  2017-01-04                  9.4                   19                  2.8   \n",
       "\n",
       "                                 SLP                          H  \\\n",
       "0  Atmospheric pressure at sea level  Average relative humidity   \n",
       "1                                  -                         84   \n",
       "2                                  -                         71   \n",
       "3                                  -                         67   \n",
       "4                                  -                         66   \n",
       "\n",
       "                                 PP                  VV                   V  \\\n",
       "0  Total rainfall and / or snowmelt  Average visibility  Average wind speed   \n",
       "1                                 0                 3.9                 5.2   \n",
       "2                                 0                 5.3                 7.2   \n",
       "3                                 0                 6.3                 4.1   \n",
       "4                                 0                   6                 5.2   \n",
       "\n",
       "                             VM                     VG  \\\n",
       "0  Maximum sustained wind speed  Maximum speed of wind   \n",
       "1                          11.1                      -   \n",
       "2                          18.3                      -   \n",
       "3                            13                      -   \n",
       "4                          14.8                      -   \n",
       "\n",
       "                                                  RA  \\\n",
       "0  Indicate if there was rain or drizzle (In the ...   \n",
       "1                                                  o   \n",
       "2                                                  o   \n",
       "3                                                NaN   \n",
       "4                                                NaN   \n",
       "\n",
       "                                                  SN  \\\n",
       "0  Snow indicator (In the monthly average, total ...   \n",
       "1                                                NaN   \n",
       "2                                                NaN   \n",
       "3                                                NaN   \n",
       "4                                                NaN   \n",
       "\n",
       "                                                  TS  \\\n",
       "0  Indicates whether there storm (In the monthly ...   \n",
       "1                                                  o   \n",
       "2                                                  o   \n",
       "3                                                NaN   \n",
       "4                                                NaN   \n",
       "\n",
       "                                                  FG  \n",
       "0  Indicates whether there was fog (In the monthl...  \n",
       "1                                                NaN  \n",
       "2                                                NaN  \n",
       "3                                                NaN  \n",
       "4                                                NaN  "
      ]
     },
     "execution_count": 30,
     "metadata": {},
     "output_type": "execute_result"
    }
   ],
   "source": [
    "# look at one of the dataframe \n",
    "df1.head()"
   ]
  },
  {
   "cell_type": "markdown",
   "metadata": {
    "executionInfo": {
     "elapsed": 34,
     "status": "aborted",
     "timestamp": 1636651860682,
     "user": {
      "displayName": "Shankar Adhikari",
      "photoUrl": "https://lh3.googleusercontent.com/a-/AOh14GhQtDIfA3CaW3Q_V5PY3ATDpTqfjxBKo2xuaTuKAg=s64",
      "userId": "16382697433067752884"
     },
     "user_tz": 300
    },
    "id": "cPudkcIsD0fG"
   },
   "source": [
    "* Each year data includes daily average weather information, such as temperature, pressure, humidity, visibility, wind speed and so on. \n"
   ]
  },
  {
   "cell_type": "code",
   "execution_count": 31,
   "metadata": {
    "id": "incWpeSUD0fH"
   },
   "outputs": [
    {
     "name": "stdout",
     "output_type": "stream",
     "text": [
      "<class 'pandas.core.frame.DataFrame'>\n",
      "RangeIndex: 366 entries, 0 to 365\n",
      "Data columns (total 15 columns):\n",
      " #   Column  Non-Null Count  Dtype \n",
      "---  ------  --------------  ----- \n",
      " 0   Day     365 non-null    object\n",
      " 1   T       366 non-null    object\n",
      " 2   TM      366 non-null    object\n",
      " 3   Tm      366 non-null    object\n",
      " 4   SLP     366 non-null    object\n",
      " 5   H       366 non-null    object\n",
      " 6   PP      366 non-null    object\n",
      " 7   VV      366 non-null    object\n",
      " 8   V       366 non-null    object\n",
      " 9   VM      366 non-null    object\n",
      " 10  VG      366 non-null    object\n",
      " 11  RA      90 non-null     object\n",
      " 12  SN      2 non-null      object\n",
      " 13  TS      42 non-null     object\n",
      " 14  FG      6 non-null      object\n",
      "dtypes: object(15)\n",
      "memory usage: 43.0+ KB\n"
     ]
    }
   ],
   "source": [
    "# check features more info\n",
    "df1.info()"
   ]
  },
  {
   "cell_type": "markdown",
   "metadata": {
    "id": "0pRyuq0VD0fI"
   },
   "source": [
    "* There are abbreviations as column name and its elaboration on the next column. Here are more explanation of these abbreviation:\n",
    "\n",
    "**T** Average Temperature (C) \n",
    "\n",
    "**TM** Maximum Temperature (C)\n",
    "\n",
    "**Tm** Minimum Temperature (C)\n",
    "\n",
    "**SLP** Atmospheric pressure at sea level(hPa). \n",
    "\n",
    "**H** Average relative humidity (%)\n",
    "\n",
    "**PP** Total rainfall and /or snowmelt (mm)\n",
    "\n",
    "**VV** Average visibility (Km)\n",
    "\n",
    "**V** Average wind speed (Km/h)\n",
    "\n",
    "**VM** Maximum sustained wind speed (Km/h)\n",
    "\n",
    "**VG** Maximum speed of wind (Km/h)\n",
    "\n",
    "**RA** Indicate if there was rain or drizzle (In monthly average, total days it rained)\n",
    "\n",
    "**SN** Snow indicator (In the monthly average, total days that snowed)\n",
    "\n",
    "**TS** Indicates whether there storm(In the monthly average, Total days with thunderstorm) \n",
    "\n",
    "**FG** Indicates whether there was fog (In the monthly average, Total days with fog)"
   ]
  },
  {
   "cell_type": "markdown",
   "metadata": {},
   "source": [
    "### 2.8.1 Explore Weather Data<a id='2.6.2_Explore_Weather_Data'></a>"
   ]
  },
  {
   "cell_type": "markdown",
   "metadata": {
    "executionInfo": {
     "elapsed": 34,
     "status": "aborted",
     "timestamp": 1636651860682,
     "user": {
      "displayName": "Shankar Adhikari",
      "photoUrl": "https://lh3.googleusercontent.com/a-/AOh14GhQtDIfA3CaW3Q_V5PY3ATDpTqfjxBKo2xuaTuKAg=s64",
      "userId": "16382697433067752884"
     },
     "user_tz": 300
    },
    "id": "gyjdDUCKD0fI"
   },
   "source": [
    "First row of that includes total form for these abbreviation in our data. Lets remove that row."
   ]
  },
  {
   "cell_type": "code",
   "execution_count": 32,
   "metadata": {
    "executionInfo": {
     "elapsed": 34,
     "status": "aborted",
     "timestamp": 1636651860683,
     "user": {
      "displayName": "Shankar Adhikari",
      "photoUrl": "https://lh3.googleusercontent.com/a-/AOh14GhQtDIfA3CaW3Q_V5PY3ATDpTqfjxBKo2xuaTuKAg=s64",
      "userId": "16382697433067752884"
     },
     "user_tz": 300
    },
    "id": "KtVgrVpYD0fI"
   },
   "outputs": [],
   "source": [
    "# drop first row in all year data\n",
    "df1 = df1.drop(0)\n",
    "df2 = df2.drop(0)\n",
    "df3 = df3.drop(0)\n",
    "df4 = df4.drop(0)\n",
    "df5 = df5.drop(0)"
   ]
  },
  {
   "cell_type": "code",
   "execution_count": 33,
   "metadata": {
    "executionInfo": {
     "elapsed": 34,
     "status": "aborted",
     "timestamp": 1636651860683,
     "user": {
      "displayName": "Shankar Adhikari",
      "photoUrl": "https://lh3.googleusercontent.com/a-/AOh14GhQtDIfA3CaW3Q_V5PY3ATDpTqfjxBKo2xuaTuKAg=s64",
      "userId": "16382697433067752884"
     },
     "user_tz": 300
    },
    "id": "16TYynjND0fJ"
   },
   "outputs": [],
   "source": [
    "# add all this data and make a single dataframe\n",
    "frames = [df1, df2, df3, df4, df5]\n",
    "we_data = pd.concat(frames)"
   ]
  },
  {
   "cell_type": "code",
   "execution_count": 34,
   "metadata": {
    "id": "EeTNxJRCD0fK"
   },
   "outputs": [
    {
     "data": {
      "text/html": [
       "<div>\n",
       "<style scoped>\n",
       "    .dataframe tbody tr th:only-of-type {\n",
       "        vertical-align: middle;\n",
       "    }\n",
       "\n",
       "    .dataframe tbody tr th {\n",
       "        vertical-align: top;\n",
       "    }\n",
       "\n",
       "    .dataframe thead th {\n",
       "        text-align: right;\n",
       "    }\n",
       "</style>\n",
       "<table border=\"1\" class=\"dataframe\">\n",
       "  <thead>\n",
       "    <tr style=\"text-align: right;\">\n",
       "      <th></th>\n",
       "      <th>Day</th>\n",
       "      <th>T</th>\n",
       "      <th>TM</th>\n",
       "      <th>Tm</th>\n",
       "      <th>SLP</th>\n",
       "      <th>H</th>\n",
       "      <th>PP</th>\n",
       "      <th>VV</th>\n",
       "      <th>V</th>\n",
       "      <th>VM</th>\n",
       "      <th>VG</th>\n",
       "      <th>RA</th>\n",
       "      <th>SN</th>\n",
       "      <th>TS</th>\n",
       "      <th>FG</th>\n",
       "    </tr>\n",
       "  </thead>\n",
       "  <tbody>\n",
       "    <tr>\n",
       "      <th>1</th>\n",
       "      <td>2017-01-01</td>\n",
       "      <td>8.3</td>\n",
       "      <td>14.5</td>\n",
       "      <td>3</td>\n",
       "      <td>-</td>\n",
       "      <td>84</td>\n",
       "      <td>0</td>\n",
       "      <td>3.9</td>\n",
       "      <td>5.2</td>\n",
       "      <td>11.1</td>\n",
       "      <td>-</td>\n",
       "      <td>o</td>\n",
       "      <td>NaN</td>\n",
       "      <td>o</td>\n",
       "      <td>NaN</td>\n",
       "    </tr>\n",
       "    <tr>\n",
       "      <th>2</th>\n",
       "      <td>2017-01-02</td>\n",
       "      <td>9.3</td>\n",
       "      <td>19</td>\n",
       "      <td>2.6</td>\n",
       "      <td>-</td>\n",
       "      <td>71</td>\n",
       "      <td>0</td>\n",
       "      <td>5.3</td>\n",
       "      <td>7.2</td>\n",
       "      <td>18.3</td>\n",
       "      <td>-</td>\n",
       "      <td>o</td>\n",
       "      <td>NaN</td>\n",
       "      <td>o</td>\n",
       "      <td>NaN</td>\n",
       "    </tr>\n",
       "    <tr>\n",
       "      <th>3</th>\n",
       "      <td>2017-01-03</td>\n",
       "      <td>9.6</td>\n",
       "      <td>18</td>\n",
       "      <td>3</td>\n",
       "      <td>-</td>\n",
       "      <td>67</td>\n",
       "      <td>0</td>\n",
       "      <td>6.3</td>\n",
       "      <td>4.1</td>\n",
       "      <td>13</td>\n",
       "      <td>-</td>\n",
       "      <td>NaN</td>\n",
       "      <td>NaN</td>\n",
       "      <td>NaN</td>\n",
       "      <td>NaN</td>\n",
       "    </tr>\n",
       "    <tr>\n",
       "      <th>4</th>\n",
       "      <td>2017-01-04</td>\n",
       "      <td>9.4</td>\n",
       "      <td>19</td>\n",
       "      <td>2.8</td>\n",
       "      <td>-</td>\n",
       "      <td>66</td>\n",
       "      <td>0</td>\n",
       "      <td>6</td>\n",
       "      <td>5.2</td>\n",
       "      <td>14.8</td>\n",
       "      <td>-</td>\n",
       "      <td>NaN</td>\n",
       "      <td>NaN</td>\n",
       "      <td>NaN</td>\n",
       "      <td>NaN</td>\n",
       "    </tr>\n",
       "    <tr>\n",
       "      <th>5</th>\n",
       "      <td>2017-01-05</td>\n",
       "      <td>10.5</td>\n",
       "      <td>19.5</td>\n",
       "      <td>3</td>\n",
       "      <td>-</td>\n",
       "      <td>60</td>\n",
       "      <td>0</td>\n",
       "      <td>6.4</td>\n",
       "      <td>5.4</td>\n",
       "      <td>13</td>\n",
       "      <td>-</td>\n",
       "      <td>NaN</td>\n",
       "      <td>NaN</td>\n",
       "      <td>NaN</td>\n",
       "      <td>NaN</td>\n",
       "    </tr>\n",
       "  </tbody>\n",
       "</table>\n",
       "</div>"
      ],
      "text/plain": [
       "          Day     T    TM   Tm SLP   H PP   VV    V    VM VG   RA   SN   TS  \\\n",
       "1  2017-01-01   8.3  14.5    3   -  84  0  3.9  5.2  11.1  -    o  NaN    o   \n",
       "2  2017-01-02   9.3    19  2.6   -  71  0  5.3  7.2  18.3  -    o  NaN    o   \n",
       "3  2017-01-03   9.6    18    3   -  67  0  6.3  4.1    13  -  NaN  NaN  NaN   \n",
       "4  2017-01-04   9.4    19  2.8   -  66  0    6  5.2  14.8  -  NaN  NaN  NaN   \n",
       "5  2017-01-05  10.5  19.5    3   -  60  0  6.4  5.4    13  -  NaN  NaN  NaN   \n",
       "\n",
       "    FG  \n",
       "1  NaN  \n",
       "2  NaN  \n",
       "3  NaN  \n",
       "4  NaN  \n",
       "5  NaN  "
      ]
     },
     "execution_count": 34,
     "metadata": {},
     "output_type": "execute_result"
    }
   ],
   "source": [
    "# check data\n",
    "we_data.head()"
   ]
  },
  {
   "cell_type": "code",
   "execution_count": 35,
   "metadata": {
    "executionInfo": {
     "elapsed": 34,
     "status": "aborted",
     "timestamp": 1636651860683,
     "user": {
      "displayName": "Shankar Adhikari",
      "photoUrl": "https://lh3.googleusercontent.com/a-/AOh14GhQtDIfA3CaW3Q_V5PY3ATDpTqfjxBKo2xuaTuKAg=s64",
      "userId": "16382697433067752884"
     },
     "user_tz": 300
    },
    "id": "HxJxdi_yD0fK"
   },
   "outputs": [
    {
     "name": "stdout",
     "output_type": "stream",
     "text": [
      "<class 'pandas.core.frame.DataFrame'>\n",
      "Int64Index: 1826 entries, 1 to 365\n",
      "Data columns (total 15 columns):\n",
      " #   Column  Non-Null Count  Dtype \n",
      "---  ------  --------------  ----- \n",
      " 0   Day     1826 non-null   object\n",
      " 1   T       1826 non-null   object\n",
      " 2   TM      1826 non-null   object\n",
      " 3   Tm      1826 non-null   object\n",
      " 4   SLP     1826 non-null   object\n",
      " 5   H       1826 non-null   object\n",
      " 6   PP      1826 non-null   object\n",
      " 7   VV      1826 non-null   object\n",
      " 8   V       1826 non-null   object\n",
      " 9   VM      1826 non-null   object\n",
      " 10  VG      1826 non-null   object\n",
      " 11  RA      467 non-null    object\n",
      " 12  SN      14 non-null     object\n",
      " 13  TS      254 non-null    object\n",
      " 14  FG      38 non-null     object\n",
      "dtypes: object(15)\n",
      "memory usage: 228.2+ KB\n"
     ]
    }
   ],
   "source": [
    "# get info about data \n",
    "we_data.info()"
   ]
  },
  {
   "cell_type": "code",
   "execution_count": 36,
   "metadata": {
    "id": "A1FfIM9fD0fO"
   },
   "outputs": [
    {
     "data": {
      "text/plain": [
       "(1826, 15)"
      ]
     },
     "execution_count": 36,
     "metadata": {},
     "output_type": "execute_result"
    }
   ],
   "source": [
    "# shape of data\n",
    "we_data.shape"
   ]
  },
  {
   "cell_type": "code",
   "execution_count": null,
   "metadata": {},
   "outputs": [],
   "source": []
  },
  {
   "cell_type": "markdown",
   "metadata": {},
   "source": [
    "In total there are 1826 data from 2017 to 2021 days. The above info roughly shows how many missing values are there in each columns. But we don't know what type of data are missing. Since we know these data must be numerical values except Day. Lets check missing data here."
   ]
  },
  {
   "cell_type": "markdown",
   "metadata": {},
   "source": [
    "### 2.8.2 Check Missingness in the Data<a id='2.6.2_Handling_Missing_Data'></a>"
   ]
  },
  {
   "cell_type": "markdown",
   "metadata": {},
   "source": [
    "#### 2.8.2.1 Featurewise missingness handling<a id='2.8.2.1_Featurewise_Missingness'></a>"
   ]
  },
  {
   "cell_type": "code",
   "execution_count": 37,
   "metadata": {
    "id": "sEykggdvD0fP"
   },
   "outputs": [
    {
     "data": {
      "text/plain": [
       "SLP       1\n",
       "SN        1\n",
       "RA        2\n",
       "TS        2\n",
       "FG        2\n",
       "VG       27\n",
       "VM       35\n",
       "VV       46\n",
       "V        57\n",
       "H        69\n",
       "PP      141\n",
       "TM      179\n",
       "T       189\n",
       "Tm      189\n",
       "Day    1826\n",
       "dtype: int64"
      ]
     },
     "execution_count": 37,
     "metadata": {},
     "output_type": "execute_result"
    }
   ],
   "source": [
    "# check unique value on each columns \n",
    "we_data.nunique().sort_values()"
   ]
  },
  {
   "cell_type": "markdown",
   "metadata": {
    "id": "FrHReag4D0fQ"
   },
   "source": [
    " Eventhough these data should have continuous numeric type, we got `SLP` has just 1 type. Similary `SN` is also just one type. These data may be completely missing. Beside those other columns such as `RA`, `TS` and `FG`'s are monthly average days for rain,storm and fog which shows there are only two types. These columns looks suspecious as well. "
   ]
  },
  {
   "cell_type": "code",
   "execution_count": 38,
   "metadata": {
    "id": "q78SF1x6D0fQ"
   },
   "outputs": [
    {
     "data": {
      "text/plain": [
       "array(['-'], dtype=object)"
      ]
     },
     "execution_count": 38,
     "metadata": {},
     "output_type": "execute_result"
    }
   ],
   "source": [
    "# check values in SLP colums\n",
    "we_data.SLP.unique()"
   ]
  },
  {
   "cell_type": "markdown",
   "metadata": {
    "executionInfo": {
     "elapsed": 34,
     "status": "aborted",
     "timestamp": 1636651860684,
     "user": {
      "displayName": "Shankar Adhikari",
      "photoUrl": "https://lh3.googleusercontent.com/a-/AOh14GhQtDIfA3CaW3Q_V5PY3ATDpTqfjxBKo2xuaTuKAg=s64",
      "userId": "16382697433067752884"
     },
     "user_tz": 300
    },
    "id": "CsR5rzjMD0fR"
   },
   "source": [
    "It only contain - value. Add this column to drop column list"
   ]
  },
  {
   "cell_type": "code",
   "execution_count": 39,
   "metadata": {
    "id": "HHLJ955gD0fR"
   },
   "outputs": [],
   "source": [
    "# drop column's list\n",
    "drop_list = ['SLP']"
   ]
  },
  {
   "cell_type": "code",
   "execution_count": 40,
   "metadata": {
    "executionInfo": {
     "elapsed": 34,
     "status": "aborted",
     "timestamp": 1636651860684,
     "user": {
      "displayName": "Shankar Adhikari",
      "photoUrl": "https://lh3.googleusercontent.com/a-/AOh14GhQtDIfA3CaW3Q_V5PY3ATDpTqfjxBKo2xuaTuKAg=s64",
      "userId": "16382697433067752884"
     },
     "user_tz": 300
    },
    "id": "PfTa5qYOD0fS"
   },
   "outputs": [
    {
     "data": {
      "text/plain": [
       "array([nan, '-'], dtype=object)"
      ]
     },
     "execution_count": 40,
     "metadata": {},
     "output_type": "execute_result"
    }
   ],
   "source": [
    "# check for SN\n",
    "we_data.SN.unique()"
   ]
  },
  {
   "cell_type": "markdown",
   "metadata": {
    "id": "YCkcUd2DD0fS"
   },
   "source": [
    "Interesting, it has nan and - values only. Since geographically Kathmandu valley never had snow, having no values make sense for this column. Add this to drop list as well."
   ]
  },
  {
   "cell_type": "markdown",
   "metadata": {},
   "source": [
    "#### 2.8.2.2 Drop Columns which contains total missing values<a id='2.8.2.1_Featurewise_Missingness'></a>"
   ]
  },
  {
   "cell_type": "code",
   "execution_count": 41,
   "metadata": {
    "executionInfo": {
     "elapsed": 35,
     "status": "aborted",
     "timestamp": 1636651860684,
     "user": {
      "displayName": "Shankar Adhikari",
      "photoUrl": "https://lh3.googleusercontent.com/a-/AOh14GhQtDIfA3CaW3Q_V5PY3ATDpTqfjxBKo2xuaTuKAg=s64",
      "userId": "16382697433067752884"
     },
     "user_tz": 300
    },
    "id": "oDdEHeMtD0fT"
   },
   "outputs": [],
   "source": [
    "# append SN feature\n",
    "drop_list.append('SN')"
   ]
  },
  {
   "cell_type": "code",
   "execution_count": 42,
   "metadata": {
    "id": "Q3DvdADYD0fU"
   },
   "outputs": [
    {
     "data": {
      "text/plain": [
       "(array(['o', nan, '-'], dtype=object),\n",
       " array(['o', nan, '-'], dtype=object),\n",
       " array([nan, 'o', '-'], dtype=object))"
      ]
     },
     "execution_count": 42,
     "metadata": {},
     "output_type": "execute_result"
    }
   ],
   "source": [
    "# check other features\n",
    "we_data.RA.unique(), we_data.TS.unique(), we_data.FG.unique()\n"
   ]
  },
  {
   "cell_type": "markdown",
   "metadata": {},
   "source": [
    "By suprise, all these feature does not have numeric value, only has no relevant string or values. So lets keep those column in the dropping list as well."
   ]
  },
  {
   "cell_type": "code",
   "execution_count": 43,
   "metadata": {},
   "outputs": [],
   "source": [
    "# append RA, TS, FG in the drop list\n",
    "drop_list.append('RA')\n",
    "drop_list.append('TS')\n",
    "drop_list.append('FG')"
   ]
  },
  {
   "cell_type": "code",
   "execution_count": 44,
   "metadata": {},
   "outputs": [],
   "source": [
    "# check drop list and drop columns from weather data\n",
    "drop_list\n",
    "we_data.drop(columns=drop_list, inplace=True)"
   ]
  },
  {
   "cell_type": "code",
   "execution_count": 45,
   "metadata": {},
   "outputs": [
    {
     "name": "stdout",
     "output_type": "stream",
     "text": [
      "<class 'pandas.core.frame.DataFrame'>\n",
      "Int64Index: 1826 entries, 1 to 365\n",
      "Data columns (total 10 columns):\n",
      " #   Column  Non-Null Count  Dtype \n",
      "---  ------  --------------  ----- \n",
      " 0   Day     1826 non-null   object\n",
      " 1   T       1826 non-null   object\n",
      " 2   TM      1826 non-null   object\n",
      " 3   Tm      1826 non-null   object\n",
      " 4   H       1826 non-null   object\n",
      " 5   PP      1826 non-null   object\n",
      " 6   VV      1826 non-null   object\n",
      " 7   V       1826 non-null   object\n",
      " 8   VM      1826 non-null   object\n",
      " 9   VG      1826 non-null   object\n",
      "dtypes: object(10)\n",
      "memory usage: 156.9+ KB\n"
     ]
    }
   ],
   "source": [
    "# get info again\n",
    "we_data.info()"
   ]
  },
  {
   "cell_type": "markdown",
   "metadata": {},
   "source": [
    "#### 2.8.2.3 Convert Data to float values<a id='2.8.2.3_Featurewise_Missingness'></a>"
   ]
  },
  {
   "cell_type": "code",
   "execution_count": 46,
   "metadata": {},
   "outputs": [],
   "source": [
    "# replace any - value with nan\n",
    "we_data = we_data.replace('-',np.NaN).astype(we_data.dtypes)"
   ]
  },
  {
   "cell_type": "markdown",
   "metadata": {},
   "source": [
    "**Data Type** Lets convert object to float data type for each of these variable"
   ]
  },
  {
   "cell_type": "code",
   "execution_count": 47,
   "metadata": {},
   "outputs": [],
   "source": [
    "# change to float type for all features except Day.\n",
    "we_data.columns\n",
    "for col in we_data.columns:\n",
    "    if (col == 'Day'):\n",
    "        continue\n",
    "    else:\n",
    "        we_data[col] = we_data[col].astype('float')"
   ]
  },
  {
   "cell_type": "code",
   "execution_count": 48,
   "metadata": {},
   "outputs": [],
   "source": [
    "# also convert Day to pandas datetime type and rename to date \n",
    "we_data['Day'] = pd.to_datetime(we_data.Day)\n",
    "we_data.rename({'Day':'date'}, axis=1, inplace=True)\n",
    "we_data.set_index('date',inplace=True)"
   ]
  },
  {
   "cell_type": "code",
   "execution_count": 49,
   "metadata": {
    "executionInfo": {
     "elapsed": 35,
     "status": "aborted",
     "timestamp": 1636651860685,
     "user": {
      "displayName": "Shankar Adhikari",
      "photoUrl": "https://lh3.googleusercontent.com/a-/AOh14GhQtDIfA3CaW3Q_V5PY3ATDpTqfjxBKo2xuaTuKAg=s64",
      "userId": "16382697433067752884"
     },
     "user_tz": 300
    },
    "id": "WHJzq_Z8D0fV"
   },
   "outputs": [
    {
     "name": "stdout",
     "output_type": "stream",
     "text": [
      "<class 'pandas.core.frame.DataFrame'>\n",
      "DatetimeIndex: 1826 entries, 2017-01-01 to 2021-12-31\n",
      "Data columns (total 9 columns):\n",
      " #   Column  Non-Null Count  Dtype  \n",
      "---  ------  --------------  -----  \n",
      " 0   T       1812 non-null   float64\n",
      " 1   TM      1812 non-null   float64\n",
      " 2   Tm      1812 non-null   float64\n",
      " 3   H       1811 non-null   float64\n",
      " 4   PP      1635 non-null   float64\n",
      " 5   VV      1812 non-null   float64\n",
      " 6   V       1812 non-null   float64\n",
      " 7   VM      1812 non-null   float64\n",
      " 8   VG      93 non-null     float64\n",
      "dtypes: float64(9)\n",
      "memory usage: 142.7 KB\n"
     ]
    }
   ],
   "source": [
    "# get info again\n",
    "we_data.info()"
   ]
  },
  {
   "cell_type": "markdown",
   "metadata": {},
   "source": [
    "#### 2.8.2.4 Further Check Null Values<a id='2.8.2.1_Featurewise_Missingness'></a>"
   ]
  },
  {
   "cell_type": "code",
   "execution_count": 50,
   "metadata": {
    "executionInfo": {
     "elapsed": 35,
     "status": "aborted",
     "timestamp": 1636651860685,
     "user": {
      "displayName": "Shankar Adhikari",
      "photoUrl": "https://lh3.googleusercontent.com/a-/AOh14GhQtDIfA3CaW3Q_V5PY3ATDpTqfjxBKo2xuaTuKAg=s64",
      "userId": "16382697433067752884"
     },
     "user_tz": 300
    },
    "id": "7uDAb7eHD0fW"
   },
   "outputs": [],
   "source": [
    "# get null dataframe and see there is any pattern of missingness \n",
    "weather_nullity = we_data.isnull()\n"
   ]
  },
  {
   "cell_type": "code",
   "execution_count": 51,
   "metadata": {},
   "outputs": [
    {
     "data": {
      "text/plain": [
       "T       14\n",
       "TM      14\n",
       "Tm      14\n",
       "H       15\n",
       "PP     191\n",
       "VV      14\n",
       "V       14\n",
       "VM      14\n",
       "VG    1733\n",
       "dtype: int64"
      ]
     },
     "execution_count": 51,
     "metadata": {},
     "output_type": "execute_result"
    }
   ],
   "source": [
    "# total missing value on each column\n",
    "weather_nullity.sum()"
   ]
  },
  {
   "cell_type": "code",
   "execution_count": 52,
   "metadata": {},
   "outputs": [
    {
     "data": {
      "text/plain": [
       "T      0.766703\n",
       "TM     0.766703\n",
       "Tm     0.766703\n",
       "H      0.821468\n",
       "PP    10.460022\n",
       "VV     0.766703\n",
       "V      0.766703\n",
       "VM     0.766703\n",
       "VG    94.906900\n",
       "dtype: float64"
      ]
     },
     "execution_count": 52,
     "metadata": {},
     "output_type": "execute_result"
    }
   ],
   "source": [
    "# see percentage missing\n",
    "weather_nullity.mean()*100"
   ]
  },
  {
   "cell_type": "markdown",
   "metadata": {},
   "source": [
    "Large portion of data were missing from `VG` features. So remove this feature as well. "
   ]
  },
  {
   "cell_type": "code",
   "execution_count": 53,
   "metadata": {},
   "outputs": [],
   "source": [
    "# drop VG column in both we_data and weather_nullity\n",
    "we_data.drop(columns=['VG'],inplace=True)\n",
    "weather_nullity.drop(columns=['VG'],inplace=True)"
   ]
  },
  {
   "cell_type": "code",
   "execution_count": 54,
   "metadata": {},
   "outputs": [
    {
     "data": {
      "text/html": [
       "<div>\n",
       "<style scoped>\n",
       "    .dataframe tbody tr th:only-of-type {\n",
       "        vertical-align: middle;\n",
       "    }\n",
       "\n",
       "    .dataframe tbody tr th {\n",
       "        vertical-align: top;\n",
       "    }\n",
       "\n",
       "    .dataframe thead th {\n",
       "        text-align: right;\n",
       "    }\n",
       "</style>\n",
       "<table border=\"1\" class=\"dataframe\">\n",
       "  <thead>\n",
       "    <tr style=\"text-align: right;\">\n",
       "      <th></th>\n",
       "      <th>T</th>\n",
       "      <th>TM</th>\n",
       "      <th>Tm</th>\n",
       "      <th>H</th>\n",
       "      <th>PP</th>\n",
       "      <th>VV</th>\n",
       "      <th>V</th>\n",
       "      <th>VM</th>\n",
       "    </tr>\n",
       "    <tr>\n",
       "      <th>date</th>\n",
       "      <th></th>\n",
       "      <th></th>\n",
       "      <th></th>\n",
       "      <th></th>\n",
       "      <th></th>\n",
       "      <th></th>\n",
       "      <th></th>\n",
       "      <th></th>\n",
       "    </tr>\n",
       "  </thead>\n",
       "  <tbody>\n",
       "    <tr>\n",
       "      <th>2017-01-01</th>\n",
       "      <td>8.3</td>\n",
       "      <td>14.5</td>\n",
       "      <td>3.0</td>\n",
       "      <td>84.0</td>\n",
       "      <td>0.00</td>\n",
       "      <td>3.9</td>\n",
       "      <td>5.2</td>\n",
       "      <td>11.1</td>\n",
       "    </tr>\n",
       "    <tr>\n",
       "      <th>2017-01-02</th>\n",
       "      <td>9.3</td>\n",
       "      <td>19.0</td>\n",
       "      <td>2.6</td>\n",
       "      <td>71.0</td>\n",
       "      <td>0.00</td>\n",
       "      <td>5.3</td>\n",
       "      <td>7.2</td>\n",
       "      <td>18.3</td>\n",
       "    </tr>\n",
       "    <tr>\n",
       "      <th>2017-01-03</th>\n",
       "      <td>9.6</td>\n",
       "      <td>18.0</td>\n",
       "      <td>3.0</td>\n",
       "      <td>67.0</td>\n",
       "      <td>0.00</td>\n",
       "      <td>6.3</td>\n",
       "      <td>4.1</td>\n",
       "      <td>13.0</td>\n",
       "    </tr>\n",
       "    <tr>\n",
       "      <th>2017-01-04</th>\n",
       "      <td>9.4</td>\n",
       "      <td>19.0</td>\n",
       "      <td>2.8</td>\n",
       "      <td>66.0</td>\n",
       "      <td>0.00</td>\n",
       "      <td>6.0</td>\n",
       "      <td>5.2</td>\n",
       "      <td>14.8</td>\n",
       "    </tr>\n",
       "    <tr>\n",
       "      <th>2017-01-05</th>\n",
       "      <td>10.5</td>\n",
       "      <td>19.5</td>\n",
       "      <td>3.0</td>\n",
       "      <td>60.0</td>\n",
       "      <td>0.00</td>\n",
       "      <td>6.4</td>\n",
       "      <td>5.4</td>\n",
       "      <td>13.0</td>\n",
       "    </tr>\n",
       "    <tr>\n",
       "      <th>...</th>\n",
       "      <td>...</td>\n",
       "      <td>...</td>\n",
       "      <td>...</td>\n",
       "      <td>...</td>\n",
       "      <td>...</td>\n",
       "      <td>...</td>\n",
       "      <td>...</td>\n",
       "      <td>...</td>\n",
       "    </tr>\n",
       "    <tr>\n",
       "      <th>2021-12-27</th>\n",
       "      <td>9.7</td>\n",
       "      <td>17.0</td>\n",
       "      <td>4.0</td>\n",
       "      <td>76.0</td>\n",
       "      <td>0.00</td>\n",
       "      <td>4.3</td>\n",
       "      <td>5.9</td>\n",
       "      <td>14.8</td>\n",
       "    </tr>\n",
       "    <tr>\n",
       "      <th>2021-12-28</th>\n",
       "      <td>10.2</td>\n",
       "      <td>15.0</td>\n",
       "      <td>3.6</td>\n",
       "      <td>77.0</td>\n",
       "      <td>0.00</td>\n",
       "      <td>3.2</td>\n",
       "      <td>5.2</td>\n",
       "      <td>13.0</td>\n",
       "    </tr>\n",
       "    <tr>\n",
       "      <th>2021-12-29</th>\n",
       "      <td>7.3</td>\n",
       "      <td>9.0</td>\n",
       "      <td>6.8</td>\n",
       "      <td>99.0</td>\n",
       "      <td>37.34</td>\n",
       "      <td>4.5</td>\n",
       "      <td>3.7</td>\n",
       "      <td>13.0</td>\n",
       "    </tr>\n",
       "    <tr>\n",
       "      <th>2021-12-30</th>\n",
       "      <td>8.3</td>\n",
       "      <td>13.5</td>\n",
       "      <td>5.0</td>\n",
       "      <td>90.0</td>\n",
       "      <td>8.38</td>\n",
       "      <td>4.2</td>\n",
       "      <td>3.3</td>\n",
       "      <td>7.6</td>\n",
       "    </tr>\n",
       "    <tr>\n",
       "      <th>2021-12-31</th>\n",
       "      <td>8.4</td>\n",
       "      <td>15.0</td>\n",
       "      <td>4.0</td>\n",
       "      <td>81.0</td>\n",
       "      <td>0.00</td>\n",
       "      <td>4.2</td>\n",
       "      <td>4.6</td>\n",
       "      <td>13.0</td>\n",
       "    </tr>\n",
       "  </tbody>\n",
       "</table>\n",
       "<p>1826 rows × 8 columns</p>\n",
       "</div>"
      ],
      "text/plain": [
       "               T    TM   Tm     H     PP   VV    V    VM\n",
       "date                                                    \n",
       "2017-01-01   8.3  14.5  3.0  84.0   0.00  3.9  5.2  11.1\n",
       "2017-01-02   9.3  19.0  2.6  71.0   0.00  5.3  7.2  18.3\n",
       "2017-01-03   9.6  18.0  3.0  67.0   0.00  6.3  4.1  13.0\n",
       "2017-01-04   9.4  19.0  2.8  66.0   0.00  6.0  5.2  14.8\n",
       "2017-01-05  10.5  19.5  3.0  60.0   0.00  6.4  5.4  13.0\n",
       "...          ...   ...  ...   ...    ...  ...  ...   ...\n",
       "2021-12-27   9.7  17.0  4.0  76.0   0.00  4.3  5.9  14.8\n",
       "2021-12-28  10.2  15.0  3.6  77.0   0.00  3.2  5.2  13.0\n",
       "2021-12-29   7.3   9.0  6.8  99.0  37.34  4.5  3.7  13.0\n",
       "2021-12-30   8.3  13.5  5.0  90.0   8.38  4.2  3.3   7.6\n",
       "2021-12-31   8.4  15.0  4.0  81.0   0.00  4.2  4.6  13.0\n",
       "\n",
       "[1826 rows x 8 columns]"
      ]
     },
     "execution_count": 54,
     "metadata": {},
     "output_type": "execute_result"
    }
   ],
   "source": [
    "# sort datebase based on date if it is not\n",
    "we_data.sort_values(by='date')"
   ]
  },
  {
   "cell_type": "code",
   "execution_count": 55,
   "metadata": {},
   "outputs": [
    {
     "data": {
      "text/plain": [
       "<matplotlib.axes._subplots.AxesSubplot at 0x7faf32d9b340>"
      ]
     },
     "execution_count": 55,
     "metadata": {},
     "output_type": "execute_result"
    },
    {
     "data": {
      "image/png": "[encoded data removed]",
      "text/plain": [
       "<Figure size 1800x720 with 2 Axes>"
      ]
     },
     "metadata": {
      "needs_background": "light"
     },
     "output_type": "display_data"
    }
   ],
   "source": [
    "# see weather null dataframe to get more idea of null values present in other features such as PP has 10%\n",
    "mnso.matrix(we_data)"
   ]
  },
  {
   "cell_type": "code",
   "execution_count": 56,
   "metadata": {},
   "outputs": [
    {
     "data": {
      "text/plain": [
       "(1826, 8)"
      ]
     },
     "execution_count": 56,
     "metadata": {},
     "output_type": "execute_result"
    }
   ],
   "source": [
    "we_data.shape"
   ]
  },
  {
   "cell_type": "markdown",
   "metadata": {},
   "source": [
    "Missing data on all features except `PP` has same randomness that is, no recording on those date. May be sensor was not working or some other cause. Let remove data on those date. What about `PP` values that correspond to total rainfall. Maybe no rainfall on missing data dates. First lets remove days with missing values on all other features."
   ]
  },
  {
   "cell_type": "code",
   "execution_count": 57,
   "metadata": {},
   "outputs": [],
   "source": [
    "# drop row with nan values in temperature feature; which is true for all other columns except PP\n",
    "we_data.dropna(subset=['T'],inplace=True)"
   ]
  },
  {
   "cell_type": "code",
   "execution_count": 58,
   "metadata": {},
   "outputs": [
    {
     "data": {
      "text/plain": [
       "(1812, 8)"
      ]
     },
     "execution_count": 58,
     "metadata": {},
     "output_type": "execute_result"
    }
   ],
   "source": [
    "we_data.shape"
   ]
  },
  {
   "cell_type": "code",
   "execution_count": 59,
   "metadata": {},
   "outputs": [
    {
     "data": {
      "text/plain": [
       "T     0.000000\n",
       "TM    0.000000\n",
       "Tm    0.000000\n",
       "H     0.055188\n",
       "PP    9.768212\n",
       "VV    0.000000\n",
       "V     0.000000\n",
       "VM    0.000000\n",
       "dtype: float64"
      ]
     },
     "execution_count": 59,
     "metadata": {},
     "output_type": "execute_result"
    }
   ],
   "source": [
    "we_data.isna().mean()*100"
   ]
  },
  {
   "cell_type": "markdown",
   "metadata": {},
   "source": [
    "9% data are missing for pricipitation values. Check if there is any hidden missing values in it. \n"
   ]
  },
  {
   "cell_type": "code",
   "execution_count": 60,
   "metadata": {},
   "outputs": [
    {
     "data": {
      "text/html": [
       "<div>\n",
       "<style scoped>\n",
       "    .dataframe tbody tr th:only-of-type {\n",
       "        vertical-align: middle;\n",
       "    }\n",
       "\n",
       "    .dataframe tbody tr th {\n",
       "        vertical-align: top;\n",
       "    }\n",
       "\n",
       "    .dataframe thead th {\n",
       "        text-align: right;\n",
       "    }\n",
       "</style>\n",
       "<table border=\"1\" class=\"dataframe\">\n",
       "  <thead>\n",
       "    <tr style=\"text-align: right;\">\n",
       "      <th></th>\n",
       "      <th>T</th>\n",
       "      <th>TM</th>\n",
       "      <th>Tm</th>\n",
       "      <th>H</th>\n",
       "      <th>PP</th>\n",
       "      <th>VV</th>\n",
       "      <th>V</th>\n",
       "      <th>VM</th>\n",
       "    </tr>\n",
       "  </thead>\n",
       "  <tbody>\n",
       "    <tr>\n",
       "      <th>count</th>\n",
       "      <td>1812.000000</td>\n",
       "      <td>1812.000000</td>\n",
       "      <td>1812.000000</td>\n",
       "      <td>1811.000000</td>\n",
       "      <td>1635.000000</td>\n",
       "      <td>1812.000000</td>\n",
       "      <td>1812.000000</td>\n",
       "      <td>1812.000000</td>\n",
       "    </tr>\n",
       "    <tr>\n",
       "      <th>mean</th>\n",
       "      <td>18.374172</td>\n",
       "      <td>25.450000</td>\n",
       "      <td>13.119592</td>\n",
       "      <td>74.414688</td>\n",
       "      <td>3.464159</td>\n",
       "      <td>6.338576</td>\n",
       "      <td>6.675497</td>\n",
       "      <td>18.596192</td>\n",
       "    </tr>\n",
       "    <tr>\n",
       "      <th>std</th>\n",
       "      <td>5.145533</td>\n",
       "      <td>4.356901</td>\n",
       "      <td>6.392535</td>\n",
       "      <td>12.182126</td>\n",
       "      <td>9.632599</td>\n",
       "      <td>1.215793</td>\n",
       "      <td>1.558818</td>\n",
       "      <td>5.467774</td>\n",
       "    </tr>\n",
       "    <tr>\n",
       "      <th>min</th>\n",
       "      <td>7.200000</td>\n",
       "      <td>9.000000</td>\n",
       "      <td>0.000000</td>\n",
       "      <td>30.000000</td>\n",
       "      <td>0.000000</td>\n",
       "      <td>1.900000</td>\n",
       "      <td>1.300000</td>\n",
       "      <td>5.400000</td>\n",
       "    </tr>\n",
       "    <tr>\n",
       "      <th>25%</th>\n",
       "      <td>13.900000</td>\n",
       "      <td>22.200000</td>\n",
       "      <td>7.500000</td>\n",
       "      <td>67.000000</td>\n",
       "      <td>0.000000</td>\n",
       "      <td>5.600000</td>\n",
       "      <td>5.600000</td>\n",
       "      <td>14.800000</td>\n",
       "    </tr>\n",
       "    <tr>\n",
       "      <th>50%</th>\n",
       "      <td>19.450000</td>\n",
       "      <td>26.500000</td>\n",
       "      <td>13.700000</td>\n",
       "      <td>75.000000</td>\n",
       "      <td>0.000000</td>\n",
       "      <td>6.600000</td>\n",
       "      <td>6.500000</td>\n",
       "      <td>18.300000</td>\n",
       "    </tr>\n",
       "    <tr>\n",
       "      <th>75%</th>\n",
       "      <td>23.100000</td>\n",
       "      <td>29.000000</td>\n",
       "      <td>19.500000</td>\n",
       "      <td>84.000000</td>\n",
       "      <td>1.520000</td>\n",
       "      <td>7.200000</td>\n",
       "      <td>7.600000</td>\n",
       "      <td>21.700000</td>\n",
       "    </tr>\n",
       "    <tr>\n",
       "      <th>max</th>\n",
       "      <td>26.400000</td>\n",
       "      <td>33.500000</td>\n",
       "      <td>22.000000</td>\n",
       "      <td>100.000000</td>\n",
       "      <td>121.670000</td>\n",
       "      <td>9.200000</td>\n",
       "      <td>20.200000</td>\n",
       "      <td>66.500000</td>\n",
       "    </tr>\n",
       "  </tbody>\n",
       "</table>\n",
       "</div>"
      ],
      "text/plain": [
       "                 T           TM           Tm            H           PP  \\\n",
       "count  1812.000000  1812.000000  1812.000000  1811.000000  1635.000000   \n",
       "mean     18.374172    25.450000    13.119592    74.414688     3.464159   \n",
       "std       5.145533     4.356901     6.392535    12.182126     9.632599   \n",
       "min       7.200000     9.000000     0.000000    30.000000     0.000000   \n",
       "25%      13.900000    22.200000     7.500000    67.000000     0.000000   \n",
       "50%      19.450000    26.500000    13.700000    75.000000     0.000000   \n",
       "75%      23.100000    29.000000    19.500000    84.000000     1.520000   \n",
       "max      26.400000    33.500000    22.000000   100.000000   121.670000   \n",
       "\n",
       "                VV            V           VM  \n",
       "count  1812.000000  1812.000000  1812.000000  \n",
       "mean      6.338576     6.675497    18.596192  \n",
       "std       1.215793     1.558818     5.467774  \n",
       "min       1.900000     1.300000     5.400000  \n",
       "25%       5.600000     5.600000    14.800000  \n",
       "50%       6.600000     6.500000    18.300000  \n",
       "75%       7.200000     7.600000    21.700000  \n",
       "max       9.200000    20.200000    66.500000  "
      ]
     },
     "execution_count": 60,
     "metadata": {},
     "output_type": "execute_result"
    }
   ],
   "source": [
    "we_data.describe()"
   ]
  },
  {
   "cell_type": "markdown",
   "metadata": {},
   "source": [
    "Seems like `PP` has minimum upto 50 percentile is 0.0 values. Lets see histogram from this variable. "
   ]
  },
  {
   "cell_type": "code",
   "execution_count": 61,
   "metadata": {},
   "outputs": [
    {
     "data": {
      "image/png": "[encoded data removed]",
      "text/plain": [
       "<Figure size 432x288 with 1 Axes>"
      ]
     },
     "metadata": {
      "needs_background": "light"
     },
     "output_type": "display_data"
    }
   ],
   "source": [
    "we_data.PP.hist(bins=30)\n",
    "plt.xlabel('precipitation')\n",
    "plt.ylabel('count');"
   ]
  },
  {
   "cell_type": "markdown",
   "metadata": {},
   "source": [
    "* how many days have more than zero precipitation. How many days have Nan values. And how many days have 0.0 precipitaion?\n"
   ]
  },
  {
   "cell_type": "code",
   "execution_count": 62,
   "metadata": {},
   "outputs": [
    {
     "name": "stdout",
     "output_type": "stream",
     "text": [
      "Total number days for precipitation greater that 0.0: 521\n",
      "Total number days for precipitation equal to 0.0: 1114\n",
      "Total number days for precipitation has NaN value : 177\n"
     ]
    }
   ],
   "source": [
    "# PP variable summary.\n",
    "print (f'Total number days for precipitation greater that 0.0: {we_data.PP[we_data.PP > 0.0].value_counts().sum()}')\n",
    "print (f'Total number days for precipitation equal to 0.0: {we_data.PP[we_data.PP == 0.0].value_counts().sum()}')\n",
    "print (f'Total number days for precipitation has NaN value : {we_data.PP.isnull().sum()}')"
   ]
  },
  {
   "cell_type": "markdown",
   "metadata": {},
   "source": [
    "For now I will keep this feature replacing Nan value with 0.0. The model prediction will be check with or without this feature in the future"
   ]
  },
  {
   "cell_type": "code",
   "execution_count": 63,
   "metadata": {},
   "outputs": [],
   "source": [
    "we_data['PP'].fillna(0.0,inplace=True)"
   ]
  },
  {
   "cell_type": "code",
   "execution_count": 64,
   "metadata": {},
   "outputs": [
    {
     "data": {
      "text/plain": [
       "T     0.000000\n",
       "TM    0.000000\n",
       "Tm    0.000000\n",
       "H     0.055188\n",
       "PP    0.000000\n",
       "VV    0.000000\n",
       "V     0.000000\n",
       "VM    0.000000\n",
       "dtype: float64"
      ]
     },
     "execution_count": 64,
     "metadata": {},
     "output_type": "execute_result"
    }
   ],
   "source": [
    "we_data.isna().mean()*100"
   ]
  },
  {
   "cell_type": "code",
   "execution_count": 65,
   "metadata": {},
   "outputs": [
    {
     "data": {
      "text/html": [
       "<div>\n",
       "<style scoped>\n",
       "    .dataframe tbody tr th:only-of-type {\n",
       "        vertical-align: middle;\n",
       "    }\n",
       "\n",
       "    .dataframe tbody tr th {\n",
       "        vertical-align: top;\n",
       "    }\n",
       "\n",
       "    .dataframe thead th {\n",
       "        text-align: right;\n",
       "    }\n",
       "</style>\n",
       "<table border=\"1\" class=\"dataframe\">\n",
       "  <thead>\n",
       "    <tr style=\"text-align: right;\">\n",
       "      <th></th>\n",
       "      <th>T</th>\n",
       "      <th>TM</th>\n",
       "      <th>Tm</th>\n",
       "      <th>H</th>\n",
       "      <th>PP</th>\n",
       "      <th>VV</th>\n",
       "      <th>V</th>\n",
       "      <th>VM</th>\n",
       "    </tr>\n",
       "  </thead>\n",
       "  <tbody>\n",
       "    <tr>\n",
       "      <th>count</th>\n",
       "      <td>1812.000000</td>\n",
       "      <td>1812.000000</td>\n",
       "      <td>1812.000000</td>\n",
       "      <td>1811.000000</td>\n",
       "      <td>1812.000000</td>\n",
       "      <td>1812.000000</td>\n",
       "      <td>1812.000000</td>\n",
       "      <td>1812.000000</td>\n",
       "    </tr>\n",
       "    <tr>\n",
       "      <th>mean</th>\n",
       "      <td>18.374172</td>\n",
       "      <td>25.450000</td>\n",
       "      <td>13.119592</td>\n",
       "      <td>74.414688</td>\n",
       "      <td>3.125773</td>\n",
       "      <td>6.338576</td>\n",
       "      <td>6.675497</td>\n",
       "      <td>18.596192</td>\n",
       "    </tr>\n",
       "    <tr>\n",
       "      <th>std</th>\n",
       "      <td>5.145533</td>\n",
       "      <td>4.356901</td>\n",
       "      <td>6.392535</td>\n",
       "      <td>12.182126</td>\n",
       "      <td>9.207422</td>\n",
       "      <td>1.215793</td>\n",
       "      <td>1.558818</td>\n",
       "      <td>5.467774</td>\n",
       "    </tr>\n",
       "    <tr>\n",
       "      <th>min</th>\n",
       "      <td>7.200000</td>\n",
       "      <td>9.000000</td>\n",
       "      <td>0.000000</td>\n",
       "      <td>30.000000</td>\n",
       "      <td>0.000000</td>\n",
       "      <td>1.900000</td>\n",
       "      <td>1.300000</td>\n",
       "      <td>5.400000</td>\n",
       "    </tr>\n",
       "    <tr>\n",
       "      <th>25%</th>\n",
       "      <td>13.900000</td>\n",
       "      <td>22.200000</td>\n",
       "      <td>7.500000</td>\n",
       "      <td>67.000000</td>\n",
       "      <td>0.000000</td>\n",
       "      <td>5.600000</td>\n",
       "      <td>5.600000</td>\n",
       "      <td>14.800000</td>\n",
       "    </tr>\n",
       "    <tr>\n",
       "      <th>50%</th>\n",
       "      <td>19.450000</td>\n",
       "      <td>26.500000</td>\n",
       "      <td>13.700000</td>\n",
       "      <td>75.000000</td>\n",
       "      <td>0.000000</td>\n",
       "      <td>6.600000</td>\n",
       "      <td>6.500000</td>\n",
       "      <td>18.300000</td>\n",
       "    </tr>\n",
       "    <tr>\n",
       "      <th>75%</th>\n",
       "      <td>23.100000</td>\n",
       "      <td>29.000000</td>\n",
       "      <td>19.500000</td>\n",
       "      <td>84.000000</td>\n",
       "      <td>0.760000</td>\n",
       "      <td>7.200000</td>\n",
       "      <td>7.600000</td>\n",
       "      <td>21.700000</td>\n",
       "    </tr>\n",
       "    <tr>\n",
       "      <th>max</th>\n",
       "      <td>26.400000</td>\n",
       "      <td>33.500000</td>\n",
       "      <td>22.000000</td>\n",
       "      <td>100.000000</td>\n",
       "      <td>121.670000</td>\n",
       "      <td>9.200000</td>\n",
       "      <td>20.200000</td>\n",
       "      <td>66.500000</td>\n",
       "    </tr>\n",
       "  </tbody>\n",
       "</table>\n",
       "</div>"
      ],
      "text/plain": [
       "                 T           TM           Tm            H           PP  \\\n",
       "count  1812.000000  1812.000000  1812.000000  1811.000000  1812.000000   \n",
       "mean     18.374172    25.450000    13.119592    74.414688     3.125773   \n",
       "std       5.145533     4.356901     6.392535    12.182126     9.207422   \n",
       "min       7.200000     9.000000     0.000000    30.000000     0.000000   \n",
       "25%      13.900000    22.200000     7.500000    67.000000     0.000000   \n",
       "50%      19.450000    26.500000    13.700000    75.000000     0.000000   \n",
       "75%      23.100000    29.000000    19.500000    84.000000     0.760000   \n",
       "max      26.400000    33.500000    22.000000   100.000000   121.670000   \n",
       "\n",
       "                VV            V           VM  \n",
       "count  1812.000000  1812.000000  1812.000000  \n",
       "mean      6.338576     6.675497    18.596192  \n",
       "std       1.215793     1.558818     5.467774  \n",
       "min       1.900000     1.300000     5.400000  \n",
       "25%       5.600000     5.600000    14.800000  \n",
       "50%       6.600000     6.500000    18.300000  \n",
       "75%       7.200000     7.600000    21.700000  \n",
       "max       9.200000    20.200000    66.500000  "
      ]
     },
     "execution_count": 65,
     "metadata": {},
     "output_type": "execute_result"
    }
   ],
   "source": [
    "# The last feature that has zeor missing value is humidity. Lets check data that has nan value for humidity\n",
    "we_data.describe()"
   ]
  },
  {
   "cell_type": "code",
   "execution_count": 66,
   "metadata": {},
   "outputs": [
    {
     "data": {
      "text/plain": [
       "1"
      ]
     },
     "execution_count": 66,
     "metadata": {},
     "output_type": "execute_result"
    }
   ],
   "source": [
    "# count total data with missing humidity\n",
    "we_data.H.isna().sum()"
   ]
  },
  {
   "cell_type": "code",
   "execution_count": 67,
   "metadata": {},
   "outputs": [],
   "source": [
    "# its just one data point. add humidity from earlier day on this day\n",
    "we_data['H'].fillna(method='ffill',inplace=True)"
   ]
  },
  {
   "cell_type": "code",
   "execution_count": 68,
   "metadata": {},
   "outputs": [
    {
     "data": {
      "text/plain": [
       "T     0.0\n",
       "TM    0.0\n",
       "Tm    0.0\n",
       "H     0.0\n",
       "PP    0.0\n",
       "VV    0.0\n",
       "V     0.0\n",
       "VM    0.0\n",
       "dtype: float64"
      ]
     },
     "execution_count": 68,
     "metadata": {},
     "output_type": "execute_result"
    }
   ],
   "source": [
    "we_data.isna().mean()*100"
   ]
  },
  {
   "cell_type": "markdown",
   "metadata": {},
   "source": [
    "## 2.9 Combine Weather and Climate Data<a id='2.9_Combine_Two_Data'></a>"
   ]
  },
  {
   "cell_type": "code",
   "execution_count": 69,
   "metadata": {},
   "outputs": [],
   "source": [
    "data = pd.merge(we_data,data1,how='inner',left_index=True,right_index=True)"
   ]
  },
  {
   "cell_type": "code",
   "execution_count": 70,
   "metadata": {},
   "outputs": [
    {
     "name": "stdout",
     "output_type": "stream",
     "text": [
      "<class 'pandas.core.frame.DataFrame'>\n",
      "DatetimeIndex: 1675 entries, 2017-03-24 to 2021-12-31\n",
      "Data columns (total 9 columns):\n",
      " #   Column  Non-Null Count  Dtype  \n",
      "---  ------  --------------  -----  \n",
      " 0   T       1675 non-null   float64\n",
      " 1   TM      1675 non-null   float64\n",
      " 2   Tm      1675 non-null   float64\n",
      " 3   H       1675 non-null   float64\n",
      " 4   PP      1675 non-null   float64\n",
      " 5   VV      1675 non-null   float64\n",
      " 6   V       1675 non-null   float64\n",
      " 7   VM      1675 non-null   float64\n",
      " 8   AQI     1675 non-null   float64\n",
      "dtypes: float64(9)\n",
      "memory usage: 130.9 KB\n"
     ]
    }
   ],
   "source": [
    "data.info()"
   ]
  },
  {
   "cell_type": "code",
   "execution_count": 72,
   "metadata": {},
   "outputs": [
    {
     "data": {
      "text/html": [
       "<div>\n",
       "<style scoped>\n",
       "    .dataframe tbody tr th:only-of-type {\n",
       "        vertical-align: middle;\n",
       "    }\n",
       "\n",
       "    .dataframe tbody tr th {\n",
       "        vertical-align: top;\n",
       "    }\n",
       "\n",
       "    .dataframe thead th {\n",
       "        text-align: right;\n",
       "    }\n",
       "</style>\n",
       "<table border=\"1\" class=\"dataframe\">\n",
       "  <thead>\n",
       "    <tr style=\"text-align: right;\">\n",
       "      <th></th>\n",
       "      <th>T</th>\n",
       "      <th>TM</th>\n",
       "      <th>Tm</th>\n",
       "      <th>H</th>\n",
       "      <th>PP</th>\n",
       "      <th>VV</th>\n",
       "      <th>V</th>\n",
       "      <th>VM</th>\n",
       "      <th>AQI</th>\n",
       "    </tr>\n",
       "  </thead>\n",
       "  <tbody>\n",
       "    <tr>\n",
       "      <th>count</th>\n",
       "      <td>1675.000000</td>\n",
       "      <td>1675.000000</td>\n",
       "      <td>1675.000000</td>\n",
       "      <td>1675.000000</td>\n",
       "      <td>1675.000000</td>\n",
       "      <td>1675.000000</td>\n",
       "      <td>1675.000000</td>\n",
       "      <td>1675.000000</td>\n",
       "      <td>1675.000000</td>\n",
       "    </tr>\n",
       "    <tr>\n",
       "      <th>mean</th>\n",
       "      <td>18.773134</td>\n",
       "      <td>25.688896</td>\n",
       "      <td>13.649672</td>\n",
       "      <td>75.088358</td>\n",
       "      <td>3.306519</td>\n",
       "      <td>6.395642</td>\n",
       "      <td>6.690687</td>\n",
       "      <td>18.586149</td>\n",
       "      <td>111.018507</td>\n",
       "    </tr>\n",
       "    <tr>\n",
       "      <th>std</th>\n",
       "      <td>5.052455</td>\n",
       "      <td>4.346871</td>\n",
       "      <td>6.266066</td>\n",
       "      <td>12.192721</td>\n",
       "      <td>9.493956</td>\n",
       "      <td>1.208813</td>\n",
       "      <td>1.572663</td>\n",
       "      <td>5.380931</td>\n",
       "      <td>52.025385</td>\n",
       "    </tr>\n",
       "    <tr>\n",
       "      <th>min</th>\n",
       "      <td>7.200000</td>\n",
       "      <td>9.000000</td>\n",
       "      <td>0.000000</td>\n",
       "      <td>30.000000</td>\n",
       "      <td>0.000000</td>\n",
       "      <td>1.900000</td>\n",
       "      <td>1.300000</td>\n",
       "      <td>5.400000</td>\n",
       "      <td>14.000000</td>\n",
       "    </tr>\n",
       "    <tr>\n",
       "      <th>25%</th>\n",
       "      <td>14.600000</td>\n",
       "      <td>22.600000</td>\n",
       "      <td>8.000000</td>\n",
       "      <td>68.000000</td>\n",
       "      <td>0.000000</td>\n",
       "      <td>5.600000</td>\n",
       "      <td>5.600000</td>\n",
       "      <td>14.800000</td>\n",
       "      <td>63.000000</td>\n",
       "    </tr>\n",
       "    <tr>\n",
       "      <th>50%</th>\n",
       "      <td>20.200000</td>\n",
       "      <td>27.000000</td>\n",
       "      <td>14.600000</td>\n",
       "      <td>76.000000</td>\n",
       "      <td>0.000000</td>\n",
       "      <td>6.600000</td>\n",
       "      <td>6.500000</td>\n",
       "      <td>18.300000</td>\n",
       "      <td>112.000000</td>\n",
       "    </tr>\n",
       "    <tr>\n",
       "      <th>75%</th>\n",
       "      <td>23.200000</td>\n",
       "      <td>29.000000</td>\n",
       "      <td>19.800000</td>\n",
       "      <td>84.000000</td>\n",
       "      <td>1.020000</td>\n",
       "      <td>7.200000</td>\n",
       "      <td>7.800000</td>\n",
       "      <td>20.600000</td>\n",
       "      <td>154.000000</td>\n",
       "    </tr>\n",
       "    <tr>\n",
       "      <th>max</th>\n",
       "      <td>26.400000</td>\n",
       "      <td>33.500000</td>\n",
       "      <td>22.000000</td>\n",
       "      <td>100.000000</td>\n",
       "      <td>121.670000</td>\n",
       "      <td>9.200000</td>\n",
       "      <td>20.200000</td>\n",
       "      <td>57.600000</td>\n",
       "      <td>395.000000</td>\n",
       "    </tr>\n",
       "  </tbody>\n",
       "</table>\n",
       "</div>"
      ],
      "text/plain": [
       "                 T           TM           Tm            H           PP  \\\n",
       "count  1675.000000  1675.000000  1675.000000  1675.000000  1675.000000   \n",
       "mean     18.773134    25.688896    13.649672    75.088358     3.306519   \n",
       "std       5.052455     4.346871     6.266066    12.192721     9.493956   \n",
       "min       7.200000     9.000000     0.000000    30.000000     0.000000   \n",
       "25%      14.600000    22.600000     8.000000    68.000000     0.000000   \n",
       "50%      20.200000    27.000000    14.600000    76.000000     0.000000   \n",
       "75%      23.200000    29.000000    19.800000    84.000000     1.020000   \n",
       "max      26.400000    33.500000    22.000000   100.000000   121.670000   \n",
       "\n",
       "                VV            V           VM          AQI  \n",
       "count  1675.000000  1675.000000  1675.000000  1675.000000  \n",
       "mean      6.395642     6.690687    18.586149   111.018507  \n",
       "std       1.208813     1.572663     5.380931    52.025385  \n",
       "min       1.900000     1.300000     5.400000    14.000000  \n",
       "25%       5.600000     5.600000    14.800000    63.000000  \n",
       "50%       6.600000     6.500000    18.300000   112.000000  \n",
       "75%       7.200000     7.800000    20.600000   154.000000  \n",
       "max       9.200000    20.200000    57.600000   395.000000  "
      ]
     },
     "execution_count": 72,
     "metadata": {},
     "output_type": "execute_result"
    }
   ],
   "source": [
    "data.describe()"
   ]
  },
  {
   "cell_type": "code",
   "execution_count": 74,
   "metadata": {},
   "outputs": [
    {
     "data": {
      "text/plain": [
       "<matplotlib.axes._subplots.AxesSubplot at 0x7faf353ac3d0>"
      ]
     },
     "execution_count": 74,
     "metadata": {},
     "output_type": "execute_result"
    },
    {
     "data": {
      "image/png": "[encoded data removed]",
      "text/plain": [
       "<Figure size 1728x720 with 3 Axes>"
      ]
     },
     "metadata": {
      "needs_background": "light"
     },
     "output_type": "display_data"
    }
   ],
   "source": [
    "mnso.bar(data)"
   ]
  },
  {
   "cell_type": "markdown",
   "metadata": {},
   "source": [
    "### No Missing Data"
   ]
  },
  {
   "cell_type": "code",
   "execution_count": 75,
   "metadata": {},
   "outputs": [],
   "source": [
    "# save data with index true\n",
    "data.to_csv('../data/realdata/airquality_climate_combine.csv',index=True)"
   ]
  },
  {
   "cell_type": "code",
   "execution_count": null,
   "metadata": {},
   "outputs": [],
   "source": []
  }
 ],
 "metadata": {
  "colab": {
   "name": "02_data_wrangling.ipynb",
   "provenance": []
  },
  "kernelspec": {
   "display_name": "stock",
   "language": "python",
   "name": "stock"
  },
  "language_info": {
   "codemirror_mode": {
    "name": "ipython",
    "version": 3
   },
   "file_extension": ".py",
   "mimetype": "text/x-python",
   "name": "python",
   "nbconvert_exporter": "python",
   "pygments_lexer": "ipython3",
   "version": "3.8.3"
  },
  "toc": {
   "base_numbering": 1,
   "nav_menu": {},
   "number_sections": true,
   "sideBar": true,
   "skip_h1_title": false,
   "title_cell": "Table of Contents",
   "title_sidebar": "Contents",
   "toc_cell": false,
   "toc_position": {},
   "toc_section_display": true,
   "toc_window_display": true
  },
  "varInspector": {
   "cols": {
    "lenName": 16,
    "lenType": 16,
    "lenVar": 40
   },
   "kernels_config": {
    "python": {
     "delete_cmd_postfix": "",
     "delete_cmd_prefix": "del ",
     "library": "var_list.py",
     "varRefreshCmd": "print(var_dic_list())"
    },
    "r": {
     "delete_cmd_postfix": ") ",
     "delete_cmd_prefix": "rm(",
     "library": "var_list.r",
     "varRefreshCmd": "cat(var_dic_list()) "
    }
   },
   "types_to_exclude": [
    "module",
    "function",
    "builtin_function_or_method",
    "instance",
    "_Feature"
   ],
   "window_display": false
  }
 },
 "nbformat": 4,
 "nbformat_minor": 4
}
