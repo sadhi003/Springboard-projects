{
 "cells": [
  {
   "cell_type": "markdown",
   "metadata": {
    "id": "Tia3MP1SJpgj"
   },
   "source": [
    "# Springboard Data Science Career Track Unit 4 Challenge - Tier 3 Complete\n",
    "\n",
    "## Objectives\n",
    "Hey! Great job getting through those challenging DataCamp courses. You're learning a lot in a short span of time. \n",
    "\n",
    "In this notebook, you're going to apply the skills you've been learning, bridging the gap between the controlled environment of DataCamp and the *slightly* messier work that data scientists do with actual datasets!\n",
    "\n",
    "Here’s the mystery we’re going to solve: ***which boroughs of London have seen the greatest increase in housing prices, on average, over the last two decades?***\n",
    "\n",
    "\n",
    "A borough is just a fancy word for district. You may be familiar with the five boroughs of New York… well, there are 32 boroughs within Greater London [(here's some info for the curious)](https://en.wikipedia.org/wiki/London_boroughs). Some of them are more desirable areas to live in, and the data will reflect that with a greater rise in housing prices.\n",
    "\n",
    "***This is the Tier 3 notebook, which means it's not filled in at all: we'll just give you the skeleton of a project, the brief and the data. It's up to you to play around with it and see what you can find out! Good luck! If you struggle, feel free to look at easier tiers for help; but try to dip in and out of them, as the more independent work you do, the better it is for your learning!***\n",
    "\n",
    "This challenge will make use of only what you learned in the following DataCamp courses: \n",
    "- Prework courses (Introduction to Python for Data Science, Intermediate Python for Data Science)\n",
    "- Data Types for Data Science\n",
    "- Python Data Science Toolbox (Part One) \n",
    "- pandas Foundations\n",
    "- Manipulating DataFrames with pandas\n",
    "- Merging DataFrames with pandas\n",
    "\n",
    "Of the tools, techniques and concepts in the above DataCamp courses, this challenge should require the application of the following: \n",
    "- **pandas**\n",
    "    - **data ingestion and inspection** (pandas Foundations, Module One) \n",
    "    - **exploratory data analysis** (pandas Foundations, Module Two)\n",
    "    - **tidying and cleaning** (Manipulating DataFrames with pandas, Module Three) \n",
    "    - **transforming DataFrames** (Manipulating DataFrames with pandas, Module One)\n",
    "    - **subsetting DataFrames with lists** (Manipulating DataFrames with pandas, Module One) \n",
    "    - **filtering DataFrames** (Manipulating DataFrames with pandas, Module One) \n",
    "    - **grouping data** (Manipulating DataFrames with pandas, Module Four) \n",
    "    - **melting data** (Manipulating DataFrames with pandas, Module Three) \n",
    "    - **advanced indexing** (Manipulating DataFrames with pandas, Module Four) \n",
    "- **matplotlib** (Intermediate Python for Data Science, Module One)\n",
    "- **fundamental data types** (Data Types for Data Science, Module One) \n",
    "- **dictionaries** (Intermediate Python for Data Science, Module Two)\n",
    "- **handling dates and times** (Data Types for Data Science, Module Four)\n",
    "- **function definition** (Python Data Science Toolbox - Part One, Module One)\n",
    "- **default arguments, variable length, and scope** (Python Data Science Toolbox - Part One, Module Two) \n",
    "- **lambda functions and error handling** (Python Data Science Toolbox - Part One, Module Four) "
   ]
  },
  {
   "cell_type": "markdown",
   "metadata": {
    "id": "Ipgd2nV8Jpgl"
   },
   "source": [
    "## The Data Science Pipeline\n",
    "\n",
    "This is Tier Three, so we'll get you started. But after that, it's all in your hands! When you feel done with your investigations, look back over what you've accomplished, and prepare a quick presentation of your findings for the next mentor meeting. \n",
    "\n",
    "Data Science is magical. In this case study, you'll get to apply some complex machine learning algorithms. But as  [David Spiegelhalter](https://www.youtube.com/watch?v=oUs1uvsz0Ok) reminds us, there is no substitute for simply **taking a really, really good look at the data.** Sometimes, this is all we need to answer our question.\n",
    "\n",
    "Data Science projects generally adhere to the four stages of Data Science Pipeline:\n",
    "1. Sourcing and loading \n",
    "2. Cleaning, transforming, and visualizing \n",
    "3. Modeling \n",
    "4. Evaluating and concluding \n"
   ]
  },
  {
   "cell_type": "markdown",
   "metadata": {
    "id": "zswDqbefJpgm"
   },
   "source": [
    "### 1. Sourcing and Loading \n",
    "\n",
    "Any Data Science project kicks off by importing  ***pandas***. The documentation of this wonderful library can be found [here](https://pandas.pydata.org/). As you've seen, pandas is conveniently connected to the [Numpy](http://www.numpy.org/) and [Matplotlib](https://matplotlib.org/) libraries. \n",
    "\n",
    "***Hint:*** This part of the data science pipeline will test those skills you acquired in the pandas Foundations course, Module One. "
   ]
  },
  {
   "cell_type": "markdown",
   "metadata": {
    "id": "aEau5nEvJpgm"
   },
   "source": [
    "#### 1.1. Importing Libraries"
   ]
  },
  {
   "cell_type": "code",
   "execution_count": 231,
   "metadata": {
    "executionInfo": {
     "elapsed": 5,
     "status": "ok",
     "timestamp": 1636655577787,
     "user": {
      "displayName": "Shankar Adhikari",
      "photoUrl": "https://lh3.googleusercontent.com/a-/AOh14GhQtDIfA3CaW3Q_V5PY3ATDpTqfjxBKo2xuaTuKAg=s64",
      "userId": "16382697433067752884"
     },
     "user_tz": 300
    },
    "id": "7Bt_Q_oPJpgn"
   },
   "outputs": [],
   "source": [
    "# Let's import the pandas, numpy libraries as pd, and np respectively. \n",
    "import pandas as pd\n",
    "import numpy as np\n",
    "\n",
    "# Load the pyplot collection of functions from matplotlib, as plt \n",
    "import matplotlib.pyplot as plt"
   ]
  },
  {
   "cell_type": "markdown",
   "metadata": {
    "id": "koUrawxsJpgq"
   },
   "source": [
    "#### 1.2.  Loading the data\n",
    "Your data comes from the [London Datastore](https://data.london.gov.uk/): a free, open-source data-sharing portal for London-oriented datasets. "
   ]
  },
  {
   "cell_type": "code",
   "execution_count": 232,
   "metadata": {
    "executionInfo": {
     "elapsed": 2789,
     "status": "ok",
     "timestamp": 1636656036598,
     "user": {
      "displayName": "Shankar Adhikari",
      "photoUrl": "https://lh3.googleusercontent.com/a-/AOh14GhQtDIfA3CaW3Q_V5PY3ATDpTqfjxBKo2xuaTuKAg=s64",
      "userId": "16382697433067752884"
     },
     "user_tz": 300
    },
    "id": "AiLiD4v3Jpgr"
   },
   "outputs": [],
   "source": [
    "# First, make a variable called url_LondonHousePrices, and assign it the following link, enclosed in quotation-marks as a string:\n",
    "# https://data.london.gov.uk/download/uk-house-price-index/70ac0766-8902-4eb5-aab5-01951aaed773/UK%20House%20price%20index.xls\n",
    "\n",
    "url_LondonHousePrices = \"https://data.london.gov.uk/download/uk-house-price-index/70ac0766-8902-4eb5-aab5-01951aaed773/UK%20House%20price%20index.xls\"\n",
    "\n",
    "# The dataset we're interested in contains the Average prices of the houses, and is actually on a particular sheet of the Excel file. \n",
    "# As a result, we need to specify the sheet name in the read_excel() method.\n",
    "# Put this data into a variable called properties.  \n",
    "properties = pd.read_excel(url_LondonHousePrices, sheet_name='Average price', index_col= None,engine='openpyxl')"
   ]
  },
  {
   "cell_type": "markdown",
   "metadata": {
    "id": "POukEJXgJpgu"
   },
   "source": [
    "### 2. Cleaning, transforming, and visualizing\n",
    "This second stage is arguably the most important part of any Data Science project. The first thing to do is take a proper look at the data. Cleaning forms the majority of this stage, and can be done both before or after Transformation.\n",
    "\n",
    "The end goal of data cleaning is to have tidy data. When data is tidy: \n",
    "\n",
    "1. Each variable has a column.\n",
    "2. Each observation forms a row.\n",
    "\n",
    "Keep the end goal in mind as you move through this process, every step will take you closer. \n",
    "\n",
    "\n",
    "\n",
    "***Hint:*** This part of the data science pipeline should test those skills you acquired in: \n",
    "- Intermediate Python for data science, all modules.\n",
    "- pandas Foundations, all modules. \n",
    "- Manipulating DataFrames with pandas, all modules.\n",
    "- Data Types for Data Science, Module Four.\n",
    "- Python Data Science Toolbox - Part One, all modules"
   ]
  },
  {
   "cell_type": "markdown",
   "metadata": {
    "id": "Te0Q548tnzZa"
   },
   "source": [
    "**2.1. Exploring your data** \n",
    "\n",
    "Think about your pandas functions for checking out a dataframe. "
   ]
  },
  {
   "cell_type": "code",
   "execution_count": 233,
   "metadata": {
    "colab": {
     "base_uri": "https://localhost:8080/",
     "height": 326
    },
    "executionInfo": {
     "elapsed": 178,
     "status": "ok",
     "timestamp": 1636656037009,
     "user": {
      "displayName": "Shankar Adhikari",
      "photoUrl": "https://lh3.googleusercontent.com/a-/AOh14GhQtDIfA3CaW3Q_V5PY3ATDpTqfjxBKo2xuaTuKAg=s64",
      "userId": "16382697433067752884"
     },
     "user_tz": 300
    },
    "id": "Rxirxw_qoAJa",
    "outputId": "8c0ae92c-88ad-4641-c8ae-d1322cd13804"
   },
   "outputs": [
    {
     "data": {
      "text/html": [
       "<div>\n",
       "<style scoped>\n",
       "    .dataframe tbody tr th:only-of-type {\n",
       "        vertical-align: middle;\n",
       "    }\n",
       "\n",
       "    .dataframe tbody tr th {\n",
       "        vertical-align: top;\n",
       "    }\n",
       "\n",
       "    .dataframe thead th {\n",
       "        text-align: right;\n",
       "    }\n",
       "</style>\n",
       "<table border=\"1\" class=\"dataframe\">\n",
       "  <thead>\n",
       "    <tr style=\"text-align: right;\">\n",
       "      <th></th>\n",
       "      <th>Unnamed: 0</th>\n",
       "      <th>City of London</th>\n",
       "      <th>Barking &amp; Dagenham</th>\n",
       "      <th>Barnet</th>\n",
       "      <th>Bexley</th>\n",
       "      <th>Brent</th>\n",
       "      <th>Bromley</th>\n",
       "      <th>Camden</th>\n",
       "      <th>Croydon</th>\n",
       "      <th>Ealing</th>\n",
       "      <th>...</th>\n",
       "      <th>NORTH WEST</th>\n",
       "      <th>YORKS &amp; THE HUMBER</th>\n",
       "      <th>EAST MIDLANDS</th>\n",
       "      <th>WEST MIDLANDS</th>\n",
       "      <th>EAST OF ENGLAND</th>\n",
       "      <th>LONDON</th>\n",
       "      <th>SOUTH EAST</th>\n",
       "      <th>SOUTH WEST</th>\n",
       "      <th>Unnamed: 47</th>\n",
       "      <th>England</th>\n",
       "    </tr>\n",
       "  </thead>\n",
       "  <tbody>\n",
       "    <tr>\n",
       "      <th>0</th>\n",
       "      <td>NaT</td>\n",
       "      <td>E09000001</td>\n",
       "      <td>E09000002</td>\n",
       "      <td>E09000003</td>\n",
       "      <td>E09000004</td>\n",
       "      <td>E09000005</td>\n",
       "      <td>E09000006</td>\n",
       "      <td>E09000007</td>\n",
       "      <td>E09000008</td>\n",
       "      <td>E09000009</td>\n",
       "      <td>...</td>\n",
       "      <td>E12000002</td>\n",
       "      <td>E12000003</td>\n",
       "      <td>E12000004</td>\n",
       "      <td>E12000005</td>\n",
       "      <td>E12000006</td>\n",
       "      <td>E12000007</td>\n",
       "      <td>E12000008</td>\n",
       "      <td>E12000009</td>\n",
       "      <td>NaN</td>\n",
       "      <td>E92000001</td>\n",
       "    </tr>\n",
       "    <tr>\n",
       "      <th>1</th>\n",
       "      <td>1995-01-01</td>\n",
       "      <td>91449</td>\n",
       "      <td>50460.2</td>\n",
       "      <td>93284.5</td>\n",
       "      <td>64958.1</td>\n",
       "      <td>71306.6</td>\n",
       "      <td>81671.5</td>\n",
       "      <td>120933</td>\n",
       "      <td>69158.2</td>\n",
       "      <td>79885.9</td>\n",
       "      <td>...</td>\n",
       "      <td>43958.5</td>\n",
       "      <td>44803.4</td>\n",
       "      <td>45544.5</td>\n",
       "      <td>48527.5</td>\n",
       "      <td>56701.6</td>\n",
       "      <td>74435.8</td>\n",
       "      <td>64018.9</td>\n",
       "      <td>54705.2</td>\n",
       "      <td>NaN</td>\n",
       "      <td>53202.8</td>\n",
       "    </tr>\n",
       "    <tr>\n",
       "      <th>2</th>\n",
       "      <td>1995-02-01</td>\n",
       "      <td>82202.8</td>\n",
       "      <td>51085.8</td>\n",
       "      <td>93190.2</td>\n",
       "      <td>64787.9</td>\n",
       "      <td>72022.3</td>\n",
       "      <td>81657.6</td>\n",
       "      <td>119509</td>\n",
       "      <td>68951.1</td>\n",
       "      <td>80897.1</td>\n",
       "      <td>...</td>\n",
       "      <td>43925.4</td>\n",
       "      <td>44528.8</td>\n",
       "      <td>46051.6</td>\n",
       "      <td>49341.3</td>\n",
       "      <td>56593.6</td>\n",
       "      <td>72777.9</td>\n",
       "      <td>63715</td>\n",
       "      <td>54356.1</td>\n",
       "      <td>NaN</td>\n",
       "      <td>53096.2</td>\n",
       "    </tr>\n",
       "    <tr>\n",
       "      <th>3</th>\n",
       "      <td>1995-03-01</td>\n",
       "      <td>79120.7</td>\n",
       "      <td>51269</td>\n",
       "      <td>92247.5</td>\n",
       "      <td>64367.5</td>\n",
       "      <td>72015.8</td>\n",
       "      <td>81449.3</td>\n",
       "      <td>120282</td>\n",
       "      <td>68712.4</td>\n",
       "      <td>81379.9</td>\n",
       "      <td>...</td>\n",
       "      <td>44434.9</td>\n",
       "      <td>45200.5</td>\n",
       "      <td>45383.8</td>\n",
       "      <td>49442.2</td>\n",
       "      <td>56171.2</td>\n",
       "      <td>73896.8</td>\n",
       "      <td>64113.6</td>\n",
       "      <td>53583.1</td>\n",
       "      <td>NaN</td>\n",
       "      <td>53201.3</td>\n",
       "    </tr>\n",
       "    <tr>\n",
       "      <th>4</th>\n",
       "      <td>1995-04-01</td>\n",
       "      <td>77101.2</td>\n",
       "      <td>53133.5</td>\n",
       "      <td>90762.9</td>\n",
       "      <td>64277.7</td>\n",
       "      <td>72965.6</td>\n",
       "      <td>81124.4</td>\n",
       "      <td>120098</td>\n",
       "      <td>68610</td>\n",
       "      <td>82188.9</td>\n",
       "      <td>...</td>\n",
       "      <td>44267.8</td>\n",
       "      <td>45614.3</td>\n",
       "      <td>46124.2</td>\n",
       "      <td>49455.9</td>\n",
       "      <td>56567.9</td>\n",
       "      <td>74455.3</td>\n",
       "      <td>64623.2</td>\n",
       "      <td>54786</td>\n",
       "      <td>NaN</td>\n",
       "      <td>53590.9</td>\n",
       "    </tr>\n",
       "  </tbody>\n",
       "</table>\n",
       "<p>5 rows × 49 columns</p>\n",
       "</div>"
      ],
      "text/plain": [
       "  Unnamed: 0 City of London Barking & Dagenham     Barnet     Bexley  \\\n",
       "0        NaT      E09000001          E09000002  E09000003  E09000004   \n",
       "1 1995-01-01          91449            50460.2    93284.5    64958.1   \n",
       "2 1995-02-01        82202.8            51085.8    93190.2    64787.9   \n",
       "3 1995-03-01        79120.7              51269    92247.5    64367.5   \n",
       "4 1995-04-01        77101.2            53133.5    90762.9    64277.7   \n",
       "\n",
       "       Brent    Bromley     Camden    Croydon     Ealing  ... NORTH WEST  \\\n",
       "0  E09000005  E09000006  E09000007  E09000008  E09000009  ...  E12000002   \n",
       "1    71306.6    81671.5     120933    69158.2    79885.9  ...    43958.5   \n",
       "2    72022.3    81657.6     119509    68951.1    80897.1  ...    43925.4   \n",
       "3    72015.8    81449.3     120282    68712.4    81379.9  ...    44434.9   \n",
       "4    72965.6    81124.4     120098      68610    82188.9  ...    44267.8   \n",
       "\n",
       "  YORKS & THE HUMBER EAST MIDLANDS WEST MIDLANDS EAST OF ENGLAND     LONDON  \\\n",
       "0          E12000003     E12000004     E12000005       E12000006  E12000007   \n",
       "1            44803.4       45544.5       48527.5         56701.6    74435.8   \n",
       "2            44528.8       46051.6       49341.3         56593.6    72777.9   \n",
       "3            45200.5       45383.8       49442.2         56171.2    73896.8   \n",
       "4            45614.3       46124.2       49455.9         56567.9    74455.3   \n",
       "\n",
       "  SOUTH EAST SOUTH WEST Unnamed: 47    England  \n",
       "0  E12000008  E12000009         NaN  E92000001  \n",
       "1    64018.9    54705.2         NaN    53202.8  \n",
       "2      63715    54356.1         NaN    53096.2  \n",
       "3    64113.6    53583.1         NaN    53201.3  \n",
       "4    64623.2      54786         NaN    53590.9  \n",
       "\n",
       "[5 rows x 49 columns]"
      ]
     },
     "execution_count": 233,
     "metadata": {},
     "output_type": "execute_result"
    }
   ],
   "source": [
    "properties.head()"
   ]
  },
  {
   "cell_type": "markdown",
   "metadata": {
    "id": "tE9Sqt9-oAta"
   },
   "source": [
    "**2.2. Cleaning the data**\n",
    "\n",
    "You might find you need to transpose your dataframe, check out what its row indexes are, and reset the index. You  also might find you need to assign the values of the first row to your column headings  . (Hint: recall the .columns feature of DataFrames, as well as the iloc[] method).\n",
    "\n",
    "Don't be afraid to use StackOverflow for help  with this."
   ]
  },
  {
   "cell_type": "code",
   "execution_count": 234,
   "metadata": {
    "executionInfo": {
     "elapsed": 233,
     "status": "ok",
     "timestamp": 1636656043531,
     "user": {
      "displayName": "Shankar Adhikari",
      "photoUrl": "https://lh3.googleusercontent.com/a-/AOh14GhQtDIfA3CaW3Q_V5PY3ATDpTqfjxBKo2xuaTuKAg=s64",
      "userId": "16382697433067752884"
     },
     "user_tz": 300
    },
    "id": "cdAu1A3YoH_r"
   },
   "outputs": [],
   "source": [
    "properties_T = properties.T"
   ]
  },
  {
   "cell_type": "markdown",
   "metadata": {
    "id": "o1uLbJAsoIjK"
   },
   "source": [
    "**2.3. Cleaning the data (part 2)**\n",
    "\n",
    "You might we have to **rename** a couple columns. How do you do this? The clue's pretty bold..."
   ]
  },
  {
   "cell_type": "code",
   "execution_count": 235,
   "metadata": {
    "colab": {
     "base_uri": "https://localhost:8080/",
     "height": 321
    },
    "executionInfo": {
     "elapsed": 452,
     "status": "ok",
     "timestamp": 1636656046283,
     "user": {
      "displayName": "Shankar Adhikari",
      "photoUrl": "https://lh3.googleusercontent.com/a-/AOh14GhQtDIfA3CaW3Q_V5PY3ATDpTqfjxBKo2xuaTuKAg=s64",
      "userId": "16382697433067752884"
     },
     "user_tz": 300
    },
    "id": "GKkmn1AnoVZS",
    "outputId": "0316818d-34ea-416d-b12c-e484f0cd1b49"
   },
   "outputs": [
    {
     "data": {
      "text/html": [
       "<div>\n",
       "<style scoped>\n",
       "    .dataframe tbody tr th:only-of-type {\n",
       "        vertical-align: middle;\n",
       "    }\n",
       "\n",
       "    .dataframe tbody tr th {\n",
       "        vertical-align: top;\n",
       "    }\n",
       "\n",
       "    .dataframe thead th {\n",
       "        text-align: right;\n",
       "    }\n",
       "</style>\n",
       "<table border=\"1\" class=\"dataframe\">\n",
       "  <thead>\n",
       "    <tr style=\"text-align: right;\">\n",
       "      <th></th>\n",
       "      <th>0</th>\n",
       "      <th>1</th>\n",
       "      <th>2</th>\n",
       "      <th>3</th>\n",
       "      <th>4</th>\n",
       "      <th>5</th>\n",
       "      <th>6</th>\n",
       "      <th>7</th>\n",
       "      <th>8</th>\n",
       "      <th>9</th>\n",
       "      <th>...</th>\n",
       "      <th>311</th>\n",
       "      <th>312</th>\n",
       "      <th>313</th>\n",
       "      <th>314</th>\n",
       "      <th>315</th>\n",
       "      <th>316</th>\n",
       "      <th>317</th>\n",
       "      <th>318</th>\n",
       "      <th>319</th>\n",
       "      <th>320</th>\n",
       "    </tr>\n",
       "  </thead>\n",
       "  <tbody>\n",
       "    <tr>\n",
       "      <th>Unnamed: 0</th>\n",
       "      <td>NaT</td>\n",
       "      <td>1995-01-01 00:00:00</td>\n",
       "      <td>1995-02-01 00:00:00</td>\n",
       "      <td>1995-03-01 00:00:00</td>\n",
       "      <td>1995-04-01 00:00:00</td>\n",
       "      <td>1995-05-01 00:00:00</td>\n",
       "      <td>1995-06-01 00:00:00</td>\n",
       "      <td>1995-07-01 00:00:00</td>\n",
       "      <td>1995-08-01 00:00:00</td>\n",
       "      <td>1995-09-01 00:00:00</td>\n",
       "      <td>...</td>\n",
       "      <td>2020-11-01 00:00:00</td>\n",
       "      <td>2020-12-01 00:00:00</td>\n",
       "      <td>2021-01-01 00:00:00</td>\n",
       "      <td>2021-02-01 00:00:00</td>\n",
       "      <td>2021-03-01 00:00:00</td>\n",
       "      <td>2021-04-01 00:00:00</td>\n",
       "      <td>2021-05-01 00:00:00</td>\n",
       "      <td>2021-06-01 00:00:00</td>\n",
       "      <td>2021-07-01 00:00:00</td>\n",
       "      <td>2021-08-01 00:00:00</td>\n",
       "    </tr>\n",
       "    <tr>\n",
       "      <th>City of London</th>\n",
       "      <td>E09000001</td>\n",
       "      <td>91449</td>\n",
       "      <td>82202.8</td>\n",
       "      <td>79120.7</td>\n",
       "      <td>77101.2</td>\n",
       "      <td>84409.1</td>\n",
       "      <td>94900.5</td>\n",
       "      <td>110128</td>\n",
       "      <td>112329</td>\n",
       "      <td>104473</td>\n",
       "      <td>...</td>\n",
       "      <td>769392</td>\n",
       "      <td>801999</td>\n",
       "      <td>754435</td>\n",
       "      <td>726332</td>\n",
       "      <td>716777</td>\n",
       "      <td>741943</td>\n",
       "      <td>735181</td>\n",
       "      <td>756917</td>\n",
       "      <td>-</td>\n",
       "      <td>-</td>\n",
       "    </tr>\n",
       "    <tr>\n",
       "      <th>Barking &amp; Dagenham</th>\n",
       "      <td>E09000002</td>\n",
       "      <td>50460.2</td>\n",
       "      <td>51085.8</td>\n",
       "      <td>51269</td>\n",
       "      <td>53133.5</td>\n",
       "      <td>53042.2</td>\n",
       "      <td>53700.3</td>\n",
       "      <td>52113.1</td>\n",
       "      <td>52232.2</td>\n",
       "      <td>51471.6</td>\n",
       "      <td>...</td>\n",
       "      <td>305012</td>\n",
       "      <td>309560</td>\n",
       "      <td>312132</td>\n",
       "      <td>315702</td>\n",
       "      <td>312396</td>\n",
       "      <td>313831</td>\n",
       "      <td>312673</td>\n",
       "      <td>319378</td>\n",
       "      <td>327926</td>\n",
       "      <td>334219</td>\n",
       "    </tr>\n",
       "    <tr>\n",
       "      <th>Barnet</th>\n",
       "      <td>E09000003</td>\n",
       "      <td>93284.5</td>\n",
       "      <td>93190.2</td>\n",
       "      <td>92247.5</td>\n",
       "      <td>90762.9</td>\n",
       "      <td>90258</td>\n",
       "      <td>90107.2</td>\n",
       "      <td>91441.2</td>\n",
       "      <td>92361.3</td>\n",
       "      <td>93273.1</td>\n",
       "      <td>...</td>\n",
       "      <td>528816</td>\n",
       "      <td>532528</td>\n",
       "      <td>537566</td>\n",
       "      <td>536076</td>\n",
       "      <td>537209</td>\n",
       "      <td>530830</td>\n",
       "      <td>533048</td>\n",
       "      <td>544260</td>\n",
       "      <td>536409</td>\n",
       "      <td>552793</td>\n",
       "    </tr>\n",
       "    <tr>\n",
       "      <th>Bexley</th>\n",
       "      <td>E09000004</td>\n",
       "      <td>64958.1</td>\n",
       "      <td>64787.9</td>\n",
       "      <td>64367.5</td>\n",
       "      <td>64277.7</td>\n",
       "      <td>63997.1</td>\n",
       "      <td>64252.3</td>\n",
       "      <td>63722.7</td>\n",
       "      <td>64432.6</td>\n",
       "      <td>64509.5</td>\n",
       "      <td>...</td>\n",
       "      <td>346253</td>\n",
       "      <td>352261</td>\n",
       "      <td>355506</td>\n",
       "      <td>358862</td>\n",
       "      <td>361551</td>\n",
       "      <td>362668</td>\n",
       "      <td>362280</td>\n",
       "      <td>364125</td>\n",
       "      <td>366332</td>\n",
       "      <td>372338</td>\n",
       "    </tr>\n",
       "  </tbody>\n",
       "</table>\n",
       "<p>5 rows × 321 columns</p>\n",
       "</div>"
      ],
      "text/plain": [
       "                          0                    1                    2    \\\n",
       "Unnamed: 0                NaT  1995-01-01 00:00:00  1995-02-01 00:00:00   \n",
       "City of London      E09000001                91449              82202.8   \n",
       "Barking & Dagenham  E09000002              50460.2              51085.8   \n",
       "Barnet              E09000003              93284.5              93190.2   \n",
       "Bexley              E09000004              64958.1              64787.9   \n",
       "\n",
       "                                    3                    4    \\\n",
       "Unnamed: 0          1995-03-01 00:00:00  1995-04-01 00:00:00   \n",
       "City of London                  79120.7              77101.2   \n",
       "Barking & Dagenham                51269              53133.5   \n",
       "Barnet                          92247.5              90762.9   \n",
       "Bexley                          64367.5              64277.7   \n",
       "\n",
       "                                    5                    6    \\\n",
       "Unnamed: 0          1995-05-01 00:00:00  1995-06-01 00:00:00   \n",
       "City of London                  84409.1              94900.5   \n",
       "Barking & Dagenham              53042.2              53700.3   \n",
       "Barnet                            90258              90107.2   \n",
       "Bexley                          63997.1              64252.3   \n",
       "\n",
       "                                    7                    8    \\\n",
       "Unnamed: 0          1995-07-01 00:00:00  1995-08-01 00:00:00   \n",
       "City of London                   110128               112329   \n",
       "Barking & Dagenham              52113.1              52232.2   \n",
       "Barnet                          91441.2              92361.3   \n",
       "Bexley                          63722.7              64432.6   \n",
       "\n",
       "                                    9    ...                  311  \\\n",
       "Unnamed: 0          1995-09-01 00:00:00  ...  2020-11-01 00:00:00   \n",
       "City of London                   104473  ...               769392   \n",
       "Barking & Dagenham              51471.6  ...               305012   \n",
       "Barnet                          93273.1  ...               528816   \n",
       "Bexley                          64509.5  ...               346253   \n",
       "\n",
       "                                    312                  313  \\\n",
       "Unnamed: 0          2020-12-01 00:00:00  2021-01-01 00:00:00   \n",
       "City of London                   801999               754435   \n",
       "Barking & Dagenham               309560               312132   \n",
       "Barnet                           532528               537566   \n",
       "Bexley                           352261               355506   \n",
       "\n",
       "                                    314                  315  \\\n",
       "Unnamed: 0          2021-02-01 00:00:00  2021-03-01 00:00:00   \n",
       "City of London                   726332               716777   \n",
       "Barking & Dagenham               315702               312396   \n",
       "Barnet                           536076               537209   \n",
       "Bexley                           358862               361551   \n",
       "\n",
       "                                    316                  317  \\\n",
       "Unnamed: 0          2021-04-01 00:00:00  2021-05-01 00:00:00   \n",
       "City of London                   741943               735181   \n",
       "Barking & Dagenham               313831               312673   \n",
       "Barnet                           530830               533048   \n",
       "Bexley                           362668               362280   \n",
       "\n",
       "                                    318                  319  \\\n",
       "Unnamed: 0          2021-06-01 00:00:00  2021-07-01 00:00:00   \n",
       "City of London                   756917                    -   \n",
       "Barking & Dagenham               319378               327926   \n",
       "Barnet                           544260               536409   \n",
       "Bexley                           364125               366332   \n",
       "\n",
       "                                    320  \n",
       "Unnamed: 0          2021-08-01 00:00:00  \n",
       "City of London                        -  \n",
       "Barking & Dagenham               334219  \n",
       "Barnet                           552793  \n",
       "Bexley                           372338  \n",
       "\n",
       "[5 rows x 321 columns]"
      ]
     },
     "execution_count": 235,
     "metadata": {},
     "output_type": "execute_result"
    }
   ],
   "source": [
    "properties_T.head()"
   ]
  },
  {
   "cell_type": "code",
   "execution_count": 236,
   "metadata": {
    "colab": {
     "base_uri": "https://localhost:8080/"
    },
    "executionInfo": {
     "elapsed": 258,
     "status": "ok",
     "timestamp": 1636656052650,
     "user": {
      "displayName": "Shankar Adhikari",
      "photoUrl": "https://lh3.googleusercontent.com/a-/AOh14GhQtDIfA3CaW3Q_V5PY3ATDpTqfjxBKo2xuaTuKAg=s64",
      "userId": "16382697433067752884"
     },
     "user_tz": 300
    },
    "id": "pZJ9fXpDG_zj",
    "outputId": "73bad030-19c1-40c9-c530-800e1e36563b"
   },
   "outputs": [
    {
     "data": {
      "text/plain": [
       "Index(['Unnamed: 0', 'City of London', 'Barking & Dagenham', 'Barnet',\n",
       "       'Bexley', 'Brent', 'Bromley', 'Camden', 'Croydon', 'Ealing', 'Enfield',\n",
       "       'Greenwich', 'Hackney', 'Hammersmith & Fulham', 'Haringey', 'Harrow',\n",
       "       'Havering', 'Hillingdon', 'Hounslow', 'Islington',\n",
       "       'Kensington & Chelsea', 'Kingston upon Thames', 'Lambeth', 'Lewisham',\n",
       "       'Merton', 'Newham', 'Redbridge', 'Richmond upon Thames', 'Southwark',\n",
       "       'Sutton', 'Tower Hamlets', 'Waltham Forest', 'Wandsworth',\n",
       "       'Westminster', 'Unnamed: 34', 'Inner London', 'Outer London',\n",
       "       'Unnamed: 37', 'NORTH EAST', 'NORTH WEST', 'YORKS & THE HUMBER',\n",
       "       'EAST MIDLANDS', 'WEST MIDLANDS', 'EAST OF ENGLAND', 'LONDON',\n",
       "       'SOUTH EAST', 'SOUTH WEST', 'Unnamed: 47', 'England'],\n",
       "      dtype='object')"
      ]
     },
     "execution_count": 236,
     "metadata": {},
     "output_type": "execute_result"
    }
   ],
   "source": [
    "properties_T.index"
   ]
  },
  {
   "cell_type": "markdown",
   "metadata": {
    "id": "jy8BzXHmoWEw"
   },
   "source": [
    "**2.4.Transforming the data**\n",
    "\n",
    "Remember what Wes McKinney said about tidy data? \n",
    "\n",
    "You might need to **melt** your DataFrame here. "
   ]
  },
  {
   "cell_type": "code",
   "execution_count": 237,
   "metadata": {
    "executionInfo": {
     "elapsed": 427,
     "status": "ok",
     "timestamp": 1636656056437,
     "user": {
      "displayName": "Shankar Adhikari",
      "photoUrl": "https://lh3.googleusercontent.com/a-/AOh14GhQtDIfA3CaW3Q_V5PY3ATDpTqfjxBKo2xuaTuKAg=s64",
      "userId": "16382697433067752884"
     },
     "user_tz": 300
    },
    "id": "S2wM0qLuo2Zt"
   },
   "outputs": [],
   "source": [
    "properties_T = properties_T.reset_index()"
   ]
  },
  {
   "cell_type": "code",
   "execution_count": 238,
   "metadata": {
    "executionInfo": {
     "elapsed": 166,
     "status": "ok",
     "timestamp": 1636656060695,
     "user": {
      "displayName": "Shankar Adhikari",
      "photoUrl": "https://lh3.googleusercontent.com/a-/AOh14GhQtDIfA3CaW3Q_V5PY3ATDpTqfjxBKo2xuaTuKAg=s64",
      "userId": "16382697433067752884"
     },
     "user_tz": 300
    },
    "id": "ENi1HM-HG_zk"
   },
   "outputs": [],
   "source": [
    "properties_T.columns = properties_T.iloc[0]"
   ]
  },
  {
   "cell_type": "code",
   "execution_count": 239,
   "metadata": {
    "colab": {
     "base_uri": "https://localhost:8080/",
     "height": 355
    },
    "executionInfo": {
     "elapsed": 410,
     "status": "ok",
     "timestamp": 1636656075586,
     "user": {
      "displayName": "Shankar Adhikari",
      "photoUrl": "https://lh3.googleusercontent.com/a-/AOh14GhQtDIfA3CaW3Q_V5PY3ATDpTqfjxBKo2xuaTuKAg=s64",
      "userId": "16382697433067752884"
     },
     "user_tz": 300
    },
    "id": "cqFf5ePdG_zk",
    "outputId": "5a9a4446-bb92-46bc-a5f3-6f2e6a748a2b"
   },
   "outputs": [
    {
     "data": {
      "text/html": [
       "<div>\n",
       "<style scoped>\n",
       "    .dataframe tbody tr th:only-of-type {\n",
       "        vertical-align: middle;\n",
       "    }\n",
       "\n",
       "    .dataframe tbody tr th {\n",
       "        vertical-align: top;\n",
       "    }\n",
       "\n",
       "    .dataframe thead th {\n",
       "        text-align: right;\n",
       "    }\n",
       "</style>\n",
       "<table border=\"1\" class=\"dataframe\">\n",
       "  <thead>\n",
       "    <tr style=\"text-align: right;\">\n",
       "      <th></th>\n",
       "      <th>Unnamed: 0</th>\n",
       "      <th>NaN</th>\n",
       "      <th>1995-01-01 00:00:00</th>\n",
       "      <th>1995-02-01 00:00:00</th>\n",
       "      <th>1995-03-01 00:00:00</th>\n",
       "      <th>1995-04-01 00:00:00</th>\n",
       "      <th>1995-05-01 00:00:00</th>\n",
       "      <th>1995-06-01 00:00:00</th>\n",
       "      <th>1995-07-01 00:00:00</th>\n",
       "      <th>1995-08-01 00:00:00</th>\n",
       "      <th>...</th>\n",
       "      <th>2020-11-01 00:00:00</th>\n",
       "      <th>2020-12-01 00:00:00</th>\n",
       "      <th>2021-01-01 00:00:00</th>\n",
       "      <th>2021-02-01 00:00:00</th>\n",
       "      <th>2021-03-01 00:00:00</th>\n",
       "      <th>2021-04-01 00:00:00</th>\n",
       "      <th>2021-05-01 00:00:00</th>\n",
       "      <th>2021-06-01 00:00:00</th>\n",
       "      <th>2021-07-01 00:00:00</th>\n",
       "      <th>2021-08-01 00:00:00</th>\n",
       "    </tr>\n",
       "  </thead>\n",
       "  <tbody>\n",
       "    <tr>\n",
       "      <th>0</th>\n",
       "      <td>Unnamed: 0</td>\n",
       "      <td>NaT</td>\n",
       "      <td>1995-01-01 00:00:00</td>\n",
       "      <td>1995-02-01 00:00:00</td>\n",
       "      <td>1995-03-01 00:00:00</td>\n",
       "      <td>1995-04-01 00:00:00</td>\n",
       "      <td>1995-05-01 00:00:00</td>\n",
       "      <td>1995-06-01 00:00:00</td>\n",
       "      <td>1995-07-01 00:00:00</td>\n",
       "      <td>1995-08-01 00:00:00</td>\n",
       "      <td>...</td>\n",
       "      <td>2020-11-01 00:00:00</td>\n",
       "      <td>2020-12-01 00:00:00</td>\n",
       "      <td>2021-01-01 00:00:00</td>\n",
       "      <td>2021-02-01 00:00:00</td>\n",
       "      <td>2021-03-01 00:00:00</td>\n",
       "      <td>2021-04-01 00:00:00</td>\n",
       "      <td>2021-05-01 00:00:00</td>\n",
       "      <td>2021-06-01 00:00:00</td>\n",
       "      <td>2021-07-01 00:00:00</td>\n",
       "      <td>2021-08-01 00:00:00</td>\n",
       "    </tr>\n",
       "    <tr>\n",
       "      <th>1</th>\n",
       "      <td>City of London</td>\n",
       "      <td>E09000001</td>\n",
       "      <td>91449</td>\n",
       "      <td>82202.8</td>\n",
       "      <td>79120.7</td>\n",
       "      <td>77101.2</td>\n",
       "      <td>84409.1</td>\n",
       "      <td>94900.5</td>\n",
       "      <td>110128</td>\n",
       "      <td>112329</td>\n",
       "      <td>...</td>\n",
       "      <td>769392</td>\n",
       "      <td>801999</td>\n",
       "      <td>754435</td>\n",
       "      <td>726332</td>\n",
       "      <td>716777</td>\n",
       "      <td>741943</td>\n",
       "      <td>735181</td>\n",
       "      <td>756917</td>\n",
       "      <td>-</td>\n",
       "      <td>-</td>\n",
       "    </tr>\n",
       "    <tr>\n",
       "      <th>2</th>\n",
       "      <td>Barking &amp; Dagenham</td>\n",
       "      <td>E09000002</td>\n",
       "      <td>50460.2</td>\n",
       "      <td>51085.8</td>\n",
       "      <td>51269</td>\n",
       "      <td>53133.5</td>\n",
       "      <td>53042.2</td>\n",
       "      <td>53700.3</td>\n",
       "      <td>52113.1</td>\n",
       "      <td>52232.2</td>\n",
       "      <td>...</td>\n",
       "      <td>305012</td>\n",
       "      <td>309560</td>\n",
       "      <td>312132</td>\n",
       "      <td>315702</td>\n",
       "      <td>312396</td>\n",
       "      <td>313831</td>\n",
       "      <td>312673</td>\n",
       "      <td>319378</td>\n",
       "      <td>327926</td>\n",
       "      <td>334219</td>\n",
       "    </tr>\n",
       "    <tr>\n",
       "      <th>3</th>\n",
       "      <td>Barnet</td>\n",
       "      <td>E09000003</td>\n",
       "      <td>93284.5</td>\n",
       "      <td>93190.2</td>\n",
       "      <td>92247.5</td>\n",
       "      <td>90762.9</td>\n",
       "      <td>90258</td>\n",
       "      <td>90107.2</td>\n",
       "      <td>91441.2</td>\n",
       "      <td>92361.3</td>\n",
       "      <td>...</td>\n",
       "      <td>528816</td>\n",
       "      <td>532528</td>\n",
       "      <td>537566</td>\n",
       "      <td>536076</td>\n",
       "      <td>537209</td>\n",
       "      <td>530830</td>\n",
       "      <td>533048</td>\n",
       "      <td>544260</td>\n",
       "      <td>536409</td>\n",
       "      <td>552793</td>\n",
       "    </tr>\n",
       "    <tr>\n",
       "      <th>4</th>\n",
       "      <td>Bexley</td>\n",
       "      <td>E09000004</td>\n",
       "      <td>64958.1</td>\n",
       "      <td>64787.9</td>\n",
       "      <td>64367.5</td>\n",
       "      <td>64277.7</td>\n",
       "      <td>63997.1</td>\n",
       "      <td>64252.3</td>\n",
       "      <td>63722.7</td>\n",
       "      <td>64432.6</td>\n",
       "      <td>...</td>\n",
       "      <td>346253</td>\n",
       "      <td>352261</td>\n",
       "      <td>355506</td>\n",
       "      <td>358862</td>\n",
       "      <td>361551</td>\n",
       "      <td>362668</td>\n",
       "      <td>362280</td>\n",
       "      <td>364125</td>\n",
       "      <td>366332</td>\n",
       "      <td>372338</td>\n",
       "    </tr>\n",
       "  </tbody>\n",
       "</table>\n",
       "<p>5 rows × 322 columns</p>\n",
       "</div>"
      ],
      "text/plain": [
       "0          Unnamed: 0        NaN  1995-01-01 00:00:00  1995-02-01 00:00:00  \\\n",
       "0          Unnamed: 0        NaT  1995-01-01 00:00:00  1995-02-01 00:00:00   \n",
       "1      City of London  E09000001                91449              82202.8   \n",
       "2  Barking & Dagenham  E09000002              50460.2              51085.8   \n",
       "3              Barnet  E09000003              93284.5              93190.2   \n",
       "4              Bexley  E09000004              64958.1              64787.9   \n",
       "\n",
       "0  1995-03-01 00:00:00  1995-04-01 00:00:00  1995-05-01 00:00:00  \\\n",
       "0  1995-03-01 00:00:00  1995-04-01 00:00:00  1995-05-01 00:00:00   \n",
       "1              79120.7              77101.2              84409.1   \n",
       "2                51269              53133.5              53042.2   \n",
       "3              92247.5              90762.9                90258   \n",
       "4              64367.5              64277.7              63997.1   \n",
       "\n",
       "0  1995-06-01 00:00:00  1995-07-01 00:00:00  1995-08-01 00:00:00  ...  \\\n",
       "0  1995-06-01 00:00:00  1995-07-01 00:00:00  1995-08-01 00:00:00  ...   \n",
       "1              94900.5               110128               112329  ...   \n",
       "2              53700.3              52113.1              52232.2  ...   \n",
       "3              90107.2              91441.2              92361.3  ...   \n",
       "4              64252.3              63722.7              64432.6  ...   \n",
       "\n",
       "0  2020-11-01 00:00:00  2020-12-01 00:00:00  2021-01-01 00:00:00  \\\n",
       "0  2020-11-01 00:00:00  2020-12-01 00:00:00  2021-01-01 00:00:00   \n",
       "1               769392               801999               754435   \n",
       "2               305012               309560               312132   \n",
       "3               528816               532528               537566   \n",
       "4               346253               352261               355506   \n",
       "\n",
       "0  2021-02-01 00:00:00  2021-03-01 00:00:00  2021-04-01 00:00:00  \\\n",
       "0  2021-02-01 00:00:00  2021-03-01 00:00:00  2021-04-01 00:00:00   \n",
       "1               726332               716777               741943   \n",
       "2               315702               312396               313831   \n",
       "3               536076               537209               530830   \n",
       "4               358862               361551               362668   \n",
       "\n",
       "0  2021-05-01 00:00:00  2021-06-01 00:00:00  2021-07-01 00:00:00  \\\n",
       "0  2021-05-01 00:00:00  2021-06-01 00:00:00  2021-07-01 00:00:00   \n",
       "1               735181               756917                    -   \n",
       "2               312673               319378               327926   \n",
       "3               533048               544260               536409   \n",
       "4               362280               364125               366332   \n",
       "\n",
       "0  2021-08-01 00:00:00  \n",
       "0  2021-08-01 00:00:00  \n",
       "1                    -  \n",
       "2               334219  \n",
       "3               552793  \n",
       "4               372338  \n",
       "\n",
       "[5 rows x 322 columns]"
      ]
     },
     "execution_count": 239,
     "metadata": {},
     "output_type": "execute_result"
    }
   ],
   "source": [
    "properties_T.head()"
   ]
  },
  {
   "cell_type": "code",
   "execution_count": 240,
   "metadata": {
    "executionInfo": {
     "elapsed": 147,
     "status": "ok",
     "timestamp": 1636656079031,
     "user": {
      "displayName": "Shankar Adhikari",
      "photoUrl": "https://lh3.googleusercontent.com/a-/AOh14GhQtDIfA3CaW3Q_V5PY3ATDpTqfjxBKo2xuaTuKAg=s64",
      "userId": "16382697433067752884"
     },
     "user_tz": 300
    },
    "id": "ZmCUf_ttG_zl"
   },
   "outputs": [],
   "source": [
    "properties_T = properties_T.drop(0)"
   ]
  },
  {
   "cell_type": "markdown",
   "metadata": {
    "id": "7kIsgAo7o3mf"
   },
   "source": [
    "Remember to make sure your column data types are all correct. Average prices, for example, should be floating point numbers... "
   ]
  },
  {
   "cell_type": "code",
   "execution_count": 241,
   "metadata": {
    "colab": {
     "base_uri": "https://localhost:8080/"
    },
    "executionInfo": {
     "elapsed": 219,
     "status": "ok",
     "timestamp": 1636656093299,
     "user": {
      "displayName": "Shankar Adhikari",
      "photoUrl": "https://lh3.googleusercontent.com/a-/AOh14GhQtDIfA3CaW3Q_V5PY3ATDpTqfjxBKo2xuaTuKAg=s64",
      "userId": "16382697433067752884"
     },
     "user_tz": 300
    },
    "id": "R4rj1LwNG_zl",
    "outputId": "fb66a512-b871-47a3-f1d4-f4fa587e779e"
   },
   "outputs": [
    {
     "data": {
      "text/plain": [
       "(48, 322)"
      ]
     },
     "execution_count": 241,
     "metadata": {},
     "output_type": "execute_result"
    }
   ],
   "source": [
    "properties_T.shape"
   ]
  },
  {
   "cell_type": "code",
   "execution_count": null,
   "metadata": {
    "executionInfo": {
     "elapsed": 163,
     "status": "ok",
     "timestamp": 1636656126807,
     "user": {
      "displayName": "Shankar Adhikari",
      "photoUrl": "https://lh3.googleusercontent.com/a-/AOh14GhQtDIfA3CaW3Q_V5PY3ATDpTqfjxBKo2xuaTuKAg=s64",
      "userId": "16382697433067752884"
     },
     "user_tz": 300
    },
    "id": "ZcR4IHbcpOaq"
   },
   "outputs": [],
   "source": []
  },
  {
   "cell_type": "markdown",
   "metadata": {
    "id": "knLUXHLypOtw"
   },
   "source": [
    "**2.5. Cleaning the data (part 3)**\n",
    "\n",
    "Do we have an equal number of observations in the ID, Average Price, Month, and London Borough columns? Remember that there are only 32 London Boroughs. How many entries do you have in that column? \n",
    "\n",
    "Check out the contents of the London Borough column, and if you find null values, get rid of them however you see fit. "
   ]
  },
  {
   "cell_type": "code",
   "execution_count": 242,
   "metadata": {
    "colab": {
     "base_uri": "https://localhost:8080/"
    },
    "executionInfo": {
     "elapsed": 194,
     "status": "ok",
     "timestamp": 1636656129818,
     "user": {
      "displayName": "Shankar Adhikari",
      "photoUrl": "https://lh3.googleusercontent.com/a-/AOh14GhQtDIfA3CaW3Q_V5PY3ATDpTqfjxBKo2xuaTuKAg=s64",
      "userId": "16382697433067752884"
     },
     "user_tz": 300
    },
    "id": "BnvTW5a3p0fC",
    "outputId": "7993fd95-9bf5-4894-a74a-b4ea000dfac0"
   },
   "outputs": [
    {
     "data": {
      "text/plain": [
       "1           City of London\n",
       "2       Barking & Dagenham\n",
       "3                   Barnet\n",
       "4                   Bexley\n",
       "5                    Brent\n",
       "6                  Bromley\n",
       "7                   Camden\n",
       "8                  Croydon\n",
       "9                   Ealing\n",
       "10                 Enfield\n",
       "11               Greenwich\n",
       "12                 Hackney\n",
       "13    Hammersmith & Fulham\n",
       "14                Haringey\n",
       "15                  Harrow\n",
       "16                Havering\n",
       "17              Hillingdon\n",
       "18                Hounslow\n",
       "19               Islington\n",
       "20    Kensington & Chelsea\n",
       "21    Kingston upon Thames\n",
       "22                 Lambeth\n",
       "23                Lewisham\n",
       "24                  Merton\n",
       "25                  Newham\n",
       "26               Redbridge\n",
       "27    Richmond upon Thames\n",
       "28               Southwark\n",
       "29                  Sutton\n",
       "30           Tower Hamlets\n",
       "31          Waltham Forest\n",
       "32              Wandsworth\n",
       "33             Westminster\n",
       "34             Unnamed: 34\n",
       "35            Inner London\n",
       "36            Outer London\n",
       "37             Unnamed: 37\n",
       "38              NORTH EAST\n",
       "39              NORTH WEST\n",
       "40      YORKS & THE HUMBER\n",
       "41           EAST MIDLANDS\n",
       "42           WEST MIDLANDS\n",
       "43         EAST OF ENGLAND\n",
       "44                  LONDON\n",
       "45              SOUTH EAST\n",
       "46              SOUTH WEST\n",
       "47             Unnamed: 47\n",
       "48                 England\n",
       "Name: Unnamed: 0, dtype: object"
      ]
     },
     "execution_count": 242,
     "metadata": {},
     "output_type": "execute_result"
    }
   ],
   "source": [
    "properties_T.iloc[:,0]"
   ]
  },
  {
   "cell_type": "code",
   "execution_count": 243,
   "metadata": {
    "colab": {
     "base_uri": "https://localhost:8080/",
     "height": 256
    },
    "executionInfo": {
     "elapsed": 921,
     "status": "ok",
     "timestamp": 1636656155562,
     "user": {
      "displayName": "Shankar Adhikari",
      "photoUrl": "https://lh3.googleusercontent.com/a-/AOh14GhQtDIfA3CaW3Q_V5PY3ATDpTqfjxBKo2xuaTuKAg=s64",
      "userId": "16382697433067752884"
     },
     "user_tz": 300
    },
    "id": "yvvZIwoVG_zm",
    "outputId": "655aafcc-cdd9-4854-ef52-d23d79c26fa9"
   },
   "outputs": [
    {
     "data": {
      "text/html": [
       "<div>\n",
       "<style scoped>\n",
       "    .dataframe tbody tr th:only-of-type {\n",
       "        vertical-align: middle;\n",
       "    }\n",
       "\n",
       "    .dataframe tbody tr th {\n",
       "        vertical-align: top;\n",
       "    }\n",
       "\n",
       "    .dataframe thead th {\n",
       "        text-align: right;\n",
       "    }\n",
       "</style>\n",
       "<table border=\"1\" class=\"dataframe\">\n",
       "  <thead>\n",
       "    <tr style=\"text-align: right;\">\n",
       "      <th></th>\n",
       "      <th>Unnamed: 0</th>\n",
       "      <th>NaN</th>\n",
       "      <th>1995-01-01 00:00:00</th>\n",
       "      <th>1995-02-01 00:00:00</th>\n",
       "      <th>1995-03-01 00:00:00</th>\n",
       "      <th>1995-04-01 00:00:00</th>\n",
       "      <th>1995-05-01 00:00:00</th>\n",
       "      <th>1995-06-01 00:00:00</th>\n",
       "      <th>1995-07-01 00:00:00</th>\n",
       "      <th>1995-08-01 00:00:00</th>\n",
       "      <th>...</th>\n",
       "      <th>2020-11-01 00:00:00</th>\n",
       "      <th>2020-12-01 00:00:00</th>\n",
       "      <th>2021-01-01 00:00:00</th>\n",
       "      <th>2021-02-01 00:00:00</th>\n",
       "      <th>2021-03-01 00:00:00</th>\n",
       "      <th>2021-04-01 00:00:00</th>\n",
       "      <th>2021-05-01 00:00:00</th>\n",
       "      <th>2021-06-01 00:00:00</th>\n",
       "      <th>2021-07-01 00:00:00</th>\n",
       "      <th>2021-08-01 00:00:00</th>\n",
       "    </tr>\n",
       "  </thead>\n",
       "  <tbody>\n",
       "    <tr>\n",
       "      <th>count</th>\n",
       "      <td>48</td>\n",
       "      <td>45</td>\n",
       "      <td>45.00000</td>\n",
       "      <td>45.0000</td>\n",
       "      <td>45.00000</td>\n",
       "      <td>45.0</td>\n",
       "      <td>45.00000</td>\n",
       "      <td>45.0000</td>\n",
       "      <td>45.0000</td>\n",
       "      <td>45.00000</td>\n",
       "      <td>...</td>\n",
       "      <td>45.0000</td>\n",
       "      <td>45.000</td>\n",
       "      <td>45.0000</td>\n",
       "      <td>45.000</td>\n",
       "      <td>45.0000</td>\n",
       "      <td>45.0000</td>\n",
       "      <td>45.0000</td>\n",
       "      <td>45.0000</td>\n",
       "      <td>45.000</td>\n",
       "      <td>45.000</td>\n",
       "    </tr>\n",
       "    <tr>\n",
       "      <th>unique</th>\n",
       "      <td>48</td>\n",
       "      <td>45</td>\n",
       "      <td>45.00000</td>\n",
       "      <td>45.0000</td>\n",
       "      <td>45.00000</td>\n",
       "      <td>45.0</td>\n",
       "      <td>45.00000</td>\n",
       "      <td>45.0000</td>\n",
       "      <td>45.0000</td>\n",
       "      <td>45.00000</td>\n",
       "      <td>...</td>\n",
       "      <td>45.0000</td>\n",
       "      <td>45.000</td>\n",
       "      <td>45.0000</td>\n",
       "      <td>45.000</td>\n",
       "      <td>45.0000</td>\n",
       "      <td>45.0000</td>\n",
       "      <td>45.0000</td>\n",
       "      <td>45.0000</td>\n",
       "      <td>45.000</td>\n",
       "      <td>45.000</td>\n",
       "    </tr>\n",
       "    <tr>\n",
       "      <th>top</th>\n",
       "      <td>Ealing</td>\n",
       "      <td>E09000001</td>\n",
       "      <td>76287.56947</td>\n",
       "      <td>111103.0394</td>\n",
       "      <td>56171.18278</td>\n",
       "      <td>106875.0</td>\n",
       "      <td>69759.21989</td>\n",
       "      <td>79956.3621</td>\n",
       "      <td>110128.0423</td>\n",
       "      <td>44193.66583</td>\n",
       "      <td>...</td>\n",
       "      <td>902768.5758</td>\n",
       "      <td>1350334.637</td>\n",
       "      <td>499135.0911</td>\n",
       "      <td>454740.829</td>\n",
       "      <td>385099.9514</td>\n",
       "      <td>436543.2518</td>\n",
       "      <td>505485.0302</td>\n",
       "      <td>294576.5093</td>\n",
       "      <td>552831.691</td>\n",
       "      <td>185968.454</td>\n",
       "    </tr>\n",
       "    <tr>\n",
       "      <th>freq</th>\n",
       "      <td>1</td>\n",
       "      <td>1</td>\n",
       "      <td>1.00000</td>\n",
       "      <td>1.0000</td>\n",
       "      <td>1.00000</td>\n",
       "      <td>1.0</td>\n",
       "      <td>1.00000</td>\n",
       "      <td>1.0000</td>\n",
       "      <td>1.0000</td>\n",
       "      <td>1.00000</td>\n",
       "      <td>...</td>\n",
       "      <td>1.0000</td>\n",
       "      <td>1.000</td>\n",
       "      <td>1.0000</td>\n",
       "      <td>1.000</td>\n",
       "      <td>1.0000</td>\n",
       "      <td>1.0000</td>\n",
       "      <td>1.0000</td>\n",
       "      <td>1.0000</td>\n",
       "      <td>1.000</td>\n",
       "      <td>1.000</td>\n",
       "    </tr>\n",
       "  </tbody>\n",
       "</table>\n",
       "<p>4 rows × 322 columns</p>\n",
       "</div>"
      ],
      "text/plain": [
       "0      Unnamed: 0        NaN  1995-01-01 00:00:00  1995-02-01 00:00:00  \\\n",
       "count          48         45             45.00000              45.0000   \n",
       "unique         48         45             45.00000              45.0000   \n",
       "top        Ealing  E09000001          76287.56947          111103.0394   \n",
       "freq            1          1              1.00000               1.0000   \n",
       "\n",
       "0       1995-03-01 00:00:00  1995-04-01 00:00:00  1995-05-01 00:00:00  \\\n",
       "count              45.00000                 45.0             45.00000   \n",
       "unique             45.00000                 45.0             45.00000   \n",
       "top             56171.18278             106875.0          69759.21989   \n",
       "freq                1.00000                  1.0              1.00000   \n",
       "\n",
       "0       1995-06-01 00:00:00  1995-07-01 00:00:00  1995-08-01 00:00:00  ...  \\\n",
       "count               45.0000              45.0000             45.00000  ...   \n",
       "unique              45.0000              45.0000             45.00000  ...   \n",
       "top              79956.3621          110128.0423          44193.66583  ...   \n",
       "freq                 1.0000               1.0000              1.00000  ...   \n",
       "\n",
       "0       2020-11-01 00:00:00  2020-12-01 00:00:00  2021-01-01 00:00:00  \\\n",
       "count               45.0000               45.000              45.0000   \n",
       "unique              45.0000               45.000              45.0000   \n",
       "top             902768.5758          1350334.637          499135.0911   \n",
       "freq                 1.0000                1.000               1.0000   \n",
       "\n",
       "0       2021-02-01 00:00:00  2021-03-01 00:00:00  2021-04-01 00:00:00  \\\n",
       "count                45.000              45.0000              45.0000   \n",
       "unique               45.000              45.0000              45.0000   \n",
       "top              454740.829          385099.9514          436543.2518   \n",
       "freq                  1.000               1.0000               1.0000   \n",
       "\n",
       "0       2021-05-01 00:00:00  2021-06-01 00:00:00  2021-07-01 00:00:00  \\\n",
       "count               45.0000              45.0000               45.000   \n",
       "unique              45.0000              45.0000               45.000   \n",
       "top             505485.0302          294576.5093           552831.691   \n",
       "freq                 1.0000               1.0000                1.000   \n",
       "\n",
       "0       2021-08-01 00:00:00  \n",
       "count                45.000  \n",
       "unique               45.000  \n",
       "top              185968.454  \n",
       "freq                  1.000  \n",
       "\n",
       "[4 rows x 322 columns]"
      ]
     },
     "execution_count": 243,
     "metadata": {},
     "output_type": "execute_result"
    }
   ],
   "source": [
    "properties_T.describe()"
   ]
  },
  {
   "cell_type": "code",
   "execution_count": 244,
   "metadata": {
    "executionInfo": {
     "elapsed": 149,
     "status": "ok",
     "timestamp": 1636656218790,
     "user": {
      "displayName": "Shankar Adhikari",
      "photoUrl": "https://lh3.googleusercontent.com/a-/AOh14GhQtDIfA3CaW3Q_V5PY3ATDpTqfjxBKo2xuaTuKAg=s64",
      "userId": "16382697433067752884"
     },
     "user_tz": 300
    },
    "id": "AYLcFM-JG_zm"
   },
   "outputs": [],
   "source": [
    "properties_T = properties_T.rename(columns = {'Unnamed: 0':'London_Borough', pd.NaT: 'ID'})"
   ]
  },
  {
   "cell_type": "code",
   "execution_count": 245,
   "metadata": {
    "colab": {
     "base_uri": "https://localhost:8080/"
    },
    "executionInfo": {
     "elapsed": 4,
     "status": "ok",
     "timestamp": 1636656221766,
     "user": {
      "displayName": "Shankar Adhikari",
      "photoUrl": "https://lh3.googleusercontent.com/a-/AOh14GhQtDIfA3CaW3Q_V5PY3ATDpTqfjxBKo2xuaTuKAg=s64",
      "userId": "16382697433067752884"
     },
     "user_tz": 300
    },
    "id": "3YVro3JSG_zm",
    "outputId": "afc02826-32d8-4ac8-9f66-3edb02a603f5"
   },
   "outputs": [
    {
     "data": {
      "text/plain": [
       "0\n",
       "London_Borough         0\n",
       "ID                     3\n",
       "1995-01-01 00:00:00    3\n",
       "1995-02-01 00:00:00    3\n",
       "1995-03-01 00:00:00    3\n",
       "                      ..\n",
       "2021-04-01 00:00:00    3\n",
       "2021-05-01 00:00:00    3\n",
       "2021-06-01 00:00:00    3\n",
       "2021-07-01 00:00:00    3\n",
       "2021-08-01 00:00:00    3\n",
       "Length: 322, dtype: int64"
      ]
     },
     "execution_count": 245,
     "metadata": {},
     "output_type": "execute_result"
    }
   ],
   "source": [
    "properties_T.isna().sum()"
   ]
  },
  {
   "cell_type": "code",
   "execution_count": 246,
   "metadata": {
    "colab": {
     "base_uri": "https://localhost:8080/",
     "height": 304
    },
    "executionInfo": {
     "elapsed": 206,
     "status": "ok",
     "timestamp": 1636656236460,
     "user": {
      "displayName": "Shankar Adhikari",
      "photoUrl": "https://lh3.googleusercontent.com/a-/AOh14GhQtDIfA3CaW3Q_V5PY3ATDpTqfjxBKo2xuaTuKAg=s64",
      "userId": "16382697433067752884"
     },
     "user_tz": 300
    },
    "id": "VmfidveaG_zm",
    "outputId": "78e5a97e-d6dc-40b7-b2ef-97e8e1c7dfab"
   },
   "outputs": [
    {
     "data": {
      "text/html": [
       "<div>\n",
       "<style scoped>\n",
       "    .dataframe tbody tr th:only-of-type {\n",
       "        vertical-align: middle;\n",
       "    }\n",
       "\n",
       "    .dataframe tbody tr th {\n",
       "        vertical-align: top;\n",
       "    }\n",
       "\n",
       "    .dataframe thead th {\n",
       "        text-align: right;\n",
       "    }\n",
       "</style>\n",
       "<table border=\"1\" class=\"dataframe\">\n",
       "  <thead>\n",
       "    <tr style=\"text-align: right;\">\n",
       "      <th></th>\n",
       "      <th>London_Borough</th>\n",
       "      <th>ID</th>\n",
       "      <th>1995-01-01 00:00:00</th>\n",
       "      <th>1995-02-01 00:00:00</th>\n",
       "      <th>1995-03-01 00:00:00</th>\n",
       "      <th>1995-04-01 00:00:00</th>\n",
       "      <th>1995-05-01 00:00:00</th>\n",
       "      <th>1995-06-01 00:00:00</th>\n",
       "      <th>1995-07-01 00:00:00</th>\n",
       "      <th>1995-08-01 00:00:00</th>\n",
       "      <th>...</th>\n",
       "      <th>2020-11-01 00:00:00</th>\n",
       "      <th>2020-12-01 00:00:00</th>\n",
       "      <th>2021-01-01 00:00:00</th>\n",
       "      <th>2021-02-01 00:00:00</th>\n",
       "      <th>2021-03-01 00:00:00</th>\n",
       "      <th>2021-04-01 00:00:00</th>\n",
       "      <th>2021-05-01 00:00:00</th>\n",
       "      <th>2021-06-01 00:00:00</th>\n",
       "      <th>2021-07-01 00:00:00</th>\n",
       "      <th>2021-08-01 00:00:00</th>\n",
       "    </tr>\n",
       "  </thead>\n",
       "  <tbody>\n",
       "    <tr>\n",
       "      <th>1</th>\n",
       "      <td>City of London</td>\n",
       "      <td>E09000001</td>\n",
       "      <td>91449</td>\n",
       "      <td>82202.8</td>\n",
       "      <td>79120.7</td>\n",
       "      <td>77101.2</td>\n",
       "      <td>84409.1</td>\n",
       "      <td>94900.5</td>\n",
       "      <td>110128</td>\n",
       "      <td>112329</td>\n",
       "      <td>...</td>\n",
       "      <td>769392</td>\n",
       "      <td>801999</td>\n",
       "      <td>754435</td>\n",
       "      <td>726332</td>\n",
       "      <td>716777</td>\n",
       "      <td>741943</td>\n",
       "      <td>735181</td>\n",
       "      <td>756917</td>\n",
       "      <td>-</td>\n",
       "      <td>-</td>\n",
       "    </tr>\n",
       "    <tr>\n",
       "      <th>2</th>\n",
       "      <td>Barking &amp; Dagenham</td>\n",
       "      <td>E09000002</td>\n",
       "      <td>50460.2</td>\n",
       "      <td>51085.8</td>\n",
       "      <td>51269</td>\n",
       "      <td>53133.5</td>\n",
       "      <td>53042.2</td>\n",
       "      <td>53700.3</td>\n",
       "      <td>52113.1</td>\n",
       "      <td>52232.2</td>\n",
       "      <td>...</td>\n",
       "      <td>305012</td>\n",
       "      <td>309560</td>\n",
       "      <td>312132</td>\n",
       "      <td>315702</td>\n",
       "      <td>312396</td>\n",
       "      <td>313831</td>\n",
       "      <td>312673</td>\n",
       "      <td>319378</td>\n",
       "      <td>327926</td>\n",
       "      <td>334219</td>\n",
       "    </tr>\n",
       "    <tr>\n",
       "      <th>3</th>\n",
       "      <td>Barnet</td>\n",
       "      <td>E09000003</td>\n",
       "      <td>93284.5</td>\n",
       "      <td>93190.2</td>\n",
       "      <td>92247.5</td>\n",
       "      <td>90762.9</td>\n",
       "      <td>90258</td>\n",
       "      <td>90107.2</td>\n",
       "      <td>91441.2</td>\n",
       "      <td>92361.3</td>\n",
       "      <td>...</td>\n",
       "      <td>528816</td>\n",
       "      <td>532528</td>\n",
       "      <td>537566</td>\n",
       "      <td>536076</td>\n",
       "      <td>537209</td>\n",
       "      <td>530830</td>\n",
       "      <td>533048</td>\n",
       "      <td>544260</td>\n",
       "      <td>536409</td>\n",
       "      <td>552793</td>\n",
       "    </tr>\n",
       "    <tr>\n",
       "      <th>4</th>\n",
       "      <td>Bexley</td>\n",
       "      <td>E09000004</td>\n",
       "      <td>64958.1</td>\n",
       "      <td>64787.9</td>\n",
       "      <td>64367.5</td>\n",
       "      <td>64277.7</td>\n",
       "      <td>63997.1</td>\n",
       "      <td>64252.3</td>\n",
       "      <td>63722.7</td>\n",
       "      <td>64432.6</td>\n",
       "      <td>...</td>\n",
       "      <td>346253</td>\n",
       "      <td>352261</td>\n",
       "      <td>355506</td>\n",
       "      <td>358862</td>\n",
       "      <td>361551</td>\n",
       "      <td>362668</td>\n",
       "      <td>362280</td>\n",
       "      <td>364125</td>\n",
       "      <td>366332</td>\n",
       "      <td>372338</td>\n",
       "    </tr>\n",
       "    <tr>\n",
       "      <th>5</th>\n",
       "      <td>Brent</td>\n",
       "      <td>E09000005</td>\n",
       "      <td>71306.6</td>\n",
       "      <td>72022.3</td>\n",
       "      <td>72015.8</td>\n",
       "      <td>72965.6</td>\n",
       "      <td>73704</td>\n",
       "      <td>74310.5</td>\n",
       "      <td>74127</td>\n",
       "      <td>73547</td>\n",
       "      <td>...</td>\n",
       "      <td>513101</td>\n",
       "      <td>495067</td>\n",
       "      <td>512404</td>\n",
       "      <td>515714</td>\n",
       "      <td>522139</td>\n",
       "      <td>504846</td>\n",
       "      <td>511237</td>\n",
       "      <td>516787</td>\n",
       "      <td>522216</td>\n",
       "      <td>516260</td>\n",
       "    </tr>\n",
       "  </tbody>\n",
       "</table>\n",
       "<p>5 rows × 322 columns</p>\n",
       "</div>"
      ],
      "text/plain": [
       "0      London_Borough         ID 1995-01-01 00:00:00 1995-02-01 00:00:00  \\\n",
       "1      City of London  E09000001               91449             82202.8   \n",
       "2  Barking & Dagenham  E09000002             50460.2             51085.8   \n",
       "3              Barnet  E09000003             93284.5             93190.2   \n",
       "4              Bexley  E09000004             64958.1             64787.9   \n",
       "5               Brent  E09000005             71306.6             72022.3   \n",
       "\n",
       "0 1995-03-01 00:00:00 1995-04-01 00:00:00 1995-05-01 00:00:00  \\\n",
       "1             79120.7             77101.2             84409.1   \n",
       "2               51269             53133.5             53042.2   \n",
       "3             92247.5             90762.9               90258   \n",
       "4             64367.5             64277.7             63997.1   \n",
       "5             72015.8             72965.6               73704   \n",
       "\n",
       "0 1995-06-01 00:00:00 1995-07-01 00:00:00 1995-08-01 00:00:00  ...  \\\n",
       "1             94900.5              110128              112329  ...   \n",
       "2             53700.3             52113.1             52232.2  ...   \n",
       "3             90107.2             91441.2             92361.3  ...   \n",
       "4             64252.3             63722.7             64432.6  ...   \n",
       "5             74310.5               74127               73547  ...   \n",
       "\n",
       "0 2020-11-01 00:00:00 2020-12-01 00:00:00 2021-01-01 00:00:00  \\\n",
       "1              769392              801999              754435   \n",
       "2              305012              309560              312132   \n",
       "3              528816              532528              537566   \n",
       "4              346253              352261              355506   \n",
       "5              513101              495067              512404   \n",
       "\n",
       "0 2021-02-01 00:00:00 2021-03-01 00:00:00 2021-04-01 00:00:00  \\\n",
       "1              726332              716777              741943   \n",
       "2              315702              312396              313831   \n",
       "3              536076              537209              530830   \n",
       "4              358862              361551              362668   \n",
       "5              515714              522139              504846   \n",
       "\n",
       "0 2021-05-01 00:00:00 2021-06-01 00:00:00 2021-07-01 00:00:00  \\\n",
       "1              735181              756917                   -   \n",
       "2              312673              319378              327926   \n",
       "3              533048              544260              536409   \n",
       "4              362280              364125              366332   \n",
       "5              511237              516787              522216   \n",
       "\n",
       "0 2021-08-01 00:00:00  \n",
       "1                   -  \n",
       "2              334219  \n",
       "3              552793  \n",
       "4              372338  \n",
       "5              516260  \n",
       "\n",
       "[5 rows x 322 columns]"
      ]
     },
     "execution_count": 246,
     "metadata": {},
     "output_type": "execute_result"
    }
   ],
   "source": [
    "properties_T.head()"
   ]
  },
  {
   "cell_type": "code",
   "execution_count": 247,
   "metadata": {
    "executionInfo": {
     "elapsed": 256,
     "status": "ok",
     "timestamp": 1636656254783,
     "user": {
      "displayName": "Shankar Adhikari",
      "photoUrl": "https://lh3.googleusercontent.com/a-/AOh14GhQtDIfA3CaW3Q_V5PY3ATDpTqfjxBKo2xuaTuKAg=s64",
      "userId": "16382697433067752884"
     },
     "user_tz": 300
    },
    "id": "ss6JM4KzG_zn"
   },
   "outputs": [],
   "source": [
    "clean_properties = pd.melt(properties_T, id_vars= ['London_Borough', 'ID'])"
   ]
  },
  {
   "cell_type": "code",
   "execution_count": 248,
   "metadata": {
    "colab": {
     "base_uri": "https://localhost:8080/"
    },
    "executionInfo": {
     "elapsed": 211,
     "status": "ok",
     "timestamp": 1636656268817,
     "user": {
      "displayName": "Shankar Adhikari",
      "photoUrl": "https://lh3.googleusercontent.com/a-/AOh14GhQtDIfA3CaW3Q_V5PY3ATDpTqfjxBKo2xuaTuKAg=s64",
      "userId": "16382697433067752884"
     },
     "user_tz": 300
    },
    "id": "P-AKzxMWG_zn",
    "outputId": "ad3ca919-379b-4eb0-92ee-068c00d95f9d"
   },
   "outputs": [
    {
     "data": {
      "text/plain": [
       "London_Borough            object\n",
       "ID                        object\n",
       "0                 datetime64[ns]\n",
       "value                     object\n",
       "dtype: object"
      ]
     },
     "execution_count": 248,
     "metadata": {},
     "output_type": "execute_result"
    }
   ],
   "source": [
    "clean_properties.dtypes"
   ]
  },
  {
   "cell_type": "code",
   "execution_count": 249,
   "metadata": {
    "colab": {
     "base_uri": "https://localhost:8080/",
     "height": 204
    },
    "executionInfo": {
     "elapsed": 272,
     "status": "ok",
     "timestamp": 1636656278746,
     "user": {
      "displayName": "Shankar Adhikari",
      "photoUrl": "https://lh3.googleusercontent.com/a-/AOh14GhQtDIfA3CaW3Q_V5PY3ATDpTqfjxBKo2xuaTuKAg=s64",
      "userId": "16382697433067752884"
     },
     "user_tz": 300
    },
    "id": "9IjXW1RuG_zn",
    "outputId": "18b7e091-0450-4f03-ff07-c1294397adc9"
   },
   "outputs": [
    {
     "data": {
      "text/html": [
       "<div>\n",
       "<style scoped>\n",
       "    .dataframe tbody tr th:only-of-type {\n",
       "        vertical-align: middle;\n",
       "    }\n",
       "\n",
       "    .dataframe tbody tr th {\n",
       "        vertical-align: top;\n",
       "    }\n",
       "\n",
       "    .dataframe thead th {\n",
       "        text-align: right;\n",
       "    }\n",
       "</style>\n",
       "<table border=\"1\" class=\"dataframe\">\n",
       "  <thead>\n",
       "    <tr style=\"text-align: right;\">\n",
       "      <th></th>\n",
       "      <th>London_Borough</th>\n",
       "      <th>ID</th>\n",
       "      <th>0</th>\n",
       "      <th>value</th>\n",
       "    </tr>\n",
       "  </thead>\n",
       "  <tbody>\n",
       "    <tr>\n",
       "      <th>0</th>\n",
       "      <td>City of London</td>\n",
       "      <td>E09000001</td>\n",
       "      <td>1995-01-01</td>\n",
       "      <td>91449</td>\n",
       "    </tr>\n",
       "    <tr>\n",
       "      <th>1</th>\n",
       "      <td>Barking &amp; Dagenham</td>\n",
       "      <td>E09000002</td>\n",
       "      <td>1995-01-01</td>\n",
       "      <td>50460.2</td>\n",
       "    </tr>\n",
       "    <tr>\n",
       "      <th>2</th>\n",
       "      <td>Barnet</td>\n",
       "      <td>E09000003</td>\n",
       "      <td>1995-01-01</td>\n",
       "      <td>93284.5</td>\n",
       "    </tr>\n",
       "    <tr>\n",
       "      <th>3</th>\n",
       "      <td>Bexley</td>\n",
       "      <td>E09000004</td>\n",
       "      <td>1995-01-01</td>\n",
       "      <td>64958.1</td>\n",
       "    </tr>\n",
       "    <tr>\n",
       "      <th>4</th>\n",
       "      <td>Brent</td>\n",
       "      <td>E09000005</td>\n",
       "      <td>1995-01-01</td>\n",
       "      <td>71306.6</td>\n",
       "    </tr>\n",
       "  </tbody>\n",
       "</table>\n",
       "</div>"
      ],
      "text/plain": [
       "       London_Borough         ID          0    value\n",
       "0      City of London  E09000001 1995-01-01    91449\n",
       "1  Barking & Dagenham  E09000002 1995-01-01  50460.2\n",
       "2              Barnet  E09000003 1995-01-01  93284.5\n",
       "3              Bexley  E09000004 1995-01-01  64958.1\n",
       "4               Brent  E09000005 1995-01-01  71306.6"
      ]
     },
     "execution_count": 249,
     "metadata": {},
     "output_type": "execute_result"
    }
   ],
   "source": [
    "clean_properties.head()"
   ]
  },
  {
   "cell_type": "code",
   "execution_count": 250,
   "metadata": {
    "executionInfo": {
     "elapsed": 168,
     "status": "ok",
     "timestamp": 1636656316828,
     "user": {
      "displayName": "Shankar Adhikari",
      "photoUrl": "https://lh3.googleusercontent.com/a-/AOh14GhQtDIfA3CaW3Q_V5PY3ATDpTqfjxBKo2xuaTuKAg=s64",
      "userId": "16382697433067752884"
     },
     "user_tz": 300
    },
    "id": "BzgXkNYtG_zo"
   },
   "outputs": [],
   "source": [
    "# rename columns 0 and 'value'\n",
    "clean_properties = clean_properties.rename(columns={0:'Date', 'value':\"Price\"})"
   ]
  },
  {
   "cell_type": "code",
   "execution_count": 251,
   "metadata": {
    "colab": {
     "base_uri": "https://localhost:8080/"
    },
    "executionInfo": {
     "elapsed": 262,
     "status": "ok",
     "timestamp": 1636656432552,
     "user": {
      "displayName": "Shankar Adhikari",
      "photoUrl": "https://lh3.googleusercontent.com/a-/AOh14GhQtDIfA3CaW3Q_V5PY3ATDpTqfjxBKo2xuaTuKAg=s64",
      "userId": "16382697433067752884"
     },
     "user_tz": 300
    },
    "id": "2r3aSR61G_zo",
    "outputId": "58bd75f0-0238-496a-d764-bb4dc36a6d7b"
   },
   "outputs": [
    {
     "data": {
      "text/html": [
       "<div>\n",
       "<style scoped>\n",
       "    .dataframe tbody tr th:only-of-type {\n",
       "        vertical-align: middle;\n",
       "    }\n",
       "\n",
       "    .dataframe tbody tr th {\n",
       "        vertical-align: top;\n",
       "    }\n",
       "\n",
       "    .dataframe thead th {\n",
       "        text-align: right;\n",
       "    }\n",
       "</style>\n",
       "<table border=\"1\" class=\"dataframe\">\n",
       "  <thead>\n",
       "    <tr style=\"text-align: right;\">\n",
       "      <th></th>\n",
       "      <th>London_Borough</th>\n",
       "      <th>ID</th>\n",
       "      <th>Date</th>\n",
       "      <th>Price</th>\n",
       "    </tr>\n",
       "  </thead>\n",
       "  <tbody>\n",
       "    <tr>\n",
       "      <th>0</th>\n",
       "      <td>City of London</td>\n",
       "      <td>E09000001</td>\n",
       "      <td>1995-01-01</td>\n",
       "      <td>91449</td>\n",
       "    </tr>\n",
       "    <tr>\n",
       "      <th>1</th>\n",
       "      <td>Barking &amp; Dagenham</td>\n",
       "      <td>E09000002</td>\n",
       "      <td>1995-01-01</td>\n",
       "      <td>50460.2</td>\n",
       "    </tr>\n",
       "  </tbody>\n",
       "</table>\n",
       "</div>"
      ],
      "text/plain": [
       "       London_Borough         ID       Date    Price\n",
       "0      City of London  E09000001 1995-01-01    91449\n",
       "1  Barking & Dagenham  E09000002 1995-01-01  50460.2"
      ]
     },
     "execution_count": 251,
     "metadata": {},
     "output_type": "execute_result"
    }
   ],
   "source": [
    "# read out first 2 rows of dataframe\n",
    "clean_properties.head(2)"
   ]
  },
  {
   "cell_type": "code",
   "execution_count": 252,
   "metadata": {
    "colab": {
     "base_uri": "https://localhost:8080/",
     "height": 436
    },
    "executionInfo": {
     "elapsed": 232,
     "status": "error",
     "timestamp": 1636656344859,
     "user": {
      "displayName": "Shankar Adhikari",
      "photoUrl": "https://lh3.googleusercontent.com/a-/AOh14GhQtDIfA3CaW3Q_V5PY3ATDpTqfjxBKo2xuaTuKAg=s64",
      "userId": "16382697433067752884"
     },
     "user_tz": 300
    },
    "id": "d6wan8KnG_zo",
    "outputId": "4c2b930a-58dd-46c4-b5db-810b16d3c55d"
   },
   "outputs": [
    {
     "name": "stdout",
     "output_type": "stream",
     "text": [
      "<class 'pandas.core.frame.DataFrame'>\n",
      "RangeIndex: 15360 entries, 0 to 15359\n",
      "Data columns (total 4 columns):\n",
      "London_Borough    15360 non-null object\n",
      "ID                14400 non-null object\n",
      "Date              15360 non-null datetime64[ns]\n",
      "Price             14400 non-null object\n",
      "dtypes: datetime64[ns](1), object(3)\n",
      "memory usage: 480.1+ KB\n"
     ]
    },
    {
     "data": {
      "text/html": [
       "<div>\n",
       "<style scoped>\n",
       "    .dataframe tbody tr th:only-of-type {\n",
       "        vertical-align: middle;\n",
       "    }\n",
       "\n",
       "    .dataframe tbody tr th {\n",
       "        vertical-align: top;\n",
       "    }\n",
       "\n",
       "    .dataframe thead th {\n",
       "        text-align: right;\n",
       "    }\n",
       "</style>\n",
       "<table border=\"1\" class=\"dataframe\">\n",
       "  <thead>\n",
       "    <tr style=\"text-align: right;\">\n",
       "      <th></th>\n",
       "      <th>London_Borough</th>\n",
       "      <th>ID</th>\n",
       "      <th>Date</th>\n",
       "      <th>Price</th>\n",
       "    </tr>\n",
       "  </thead>\n",
       "  <tbody>\n",
       "    <tr>\n",
       "      <th>15264</th>\n",
       "      <td>City of London</td>\n",
       "      <td>E09000001</td>\n",
       "      <td>2021-07-01</td>\n",
       "      <td>-</td>\n",
       "    </tr>\n",
       "    <tr>\n",
       "      <th>15312</th>\n",
       "      <td>City of London</td>\n",
       "      <td>E09000001</td>\n",
       "      <td>2021-08-01</td>\n",
       "      <td>-</td>\n",
       "    </tr>\n",
       "  </tbody>\n",
       "</table>\n",
       "</div>"
      ],
      "text/plain": [
       "       London_Borough         ID       Date Price\n",
       "15264  City of London  E09000001 2021-07-01     -\n",
       "15312  City of London  E09000001 2021-08-01     -"
      ]
     },
     "execution_count": 252,
     "metadata": {},
     "output_type": "execute_result"
    }
   ],
   "source": [
    "clean_properties.info()\n",
    "clean_properties[clean_properties['Price']=='-']"
   ]
  },
  {
   "cell_type": "code",
   "execution_count": 253,
   "metadata": {
    "colab": {
     "base_uri": "https://localhost:8080/"
    },
    "executionInfo": {
     "elapsed": 168,
     "status": "ok",
     "timestamp": 1636656468075,
     "user": {
      "displayName": "Shankar Adhikari",
      "photoUrl": "https://lh3.googleusercontent.com/a-/AOh14GhQtDIfA3CaW3Q_V5PY3ATDpTqfjxBKo2xuaTuKAg=s64",
      "userId": "16382697433067752884"
     },
     "user_tz": 300
    },
    "id": "Ydx-yvy7G_zo",
    "outputId": "ea27b0c7-6080-4a94-e585-ed58fc988468"
   },
   "outputs": [],
   "source": [
    "# remove row with - data\n",
    "clean_properties['Price'].replace('-', np.nan, inplace=True)"
   ]
  },
  {
   "cell_type": "code",
   "execution_count": 254,
   "metadata": {},
   "outputs": [
    {
     "data": {
      "text/plain": [
       "London_Borough      0\n",
       "ID                960\n",
       "Date                0\n",
       "Price             962\n",
       "dtype: int64"
      ]
     },
     "execution_count": 254,
     "metadata": {},
     "output_type": "execute_result"
    }
   ],
   "source": [
    "clean_properties.isna().sum()"
   ]
  },
  {
   "cell_type": "code",
   "execution_count": 255,
   "metadata": {
    "colab": {
     "base_uri": "https://localhost:8080/"
    },
    "executionInfo": {
     "elapsed": 214,
     "status": "ok",
     "timestamp": 1636656472183,
     "user": {
      "displayName": "Shankar Adhikari",
      "photoUrl": "https://lh3.googleusercontent.com/a-/AOh14GhQtDIfA3CaW3Q_V5PY3ATDpTqfjxBKo2xuaTuKAg=s64",
      "userId": "16382697433067752884"
     },
     "user_tz": 300
    },
    "id": "O8luiQ6UG_zp",
    "outputId": "ff445c16-fb36-4f25-f12b-681f8b85ab28"
   },
   "outputs": [
    {
     "data": {
      "text/plain": [
       "London_Borough    15360\n",
       "ID                14400\n",
       "Date              15360\n",
       "Price             14398\n",
       "dtype: int64"
      ]
     },
     "execution_count": 255,
     "metadata": {},
     "output_type": "execute_result"
    }
   ],
   "source": [
    "# call count method to check if there is any missing value\n",
    "clean_properties.count()"
   ]
  },
  {
   "cell_type": "code",
   "execution_count": 256,
   "metadata": {
    "colab": {
     "base_uri": "https://localhost:8080/"
    },
    "executionInfo": {
     "elapsed": 192,
     "status": "ok",
     "timestamp": 1636656474944,
     "user": {
      "displayName": "Shankar Adhikari",
      "photoUrl": "https://lh3.googleusercontent.com/a-/AOh14GhQtDIfA3CaW3Q_V5PY3ATDpTqfjxBKo2xuaTuKAg=s64",
      "userId": "16382697433067752884"
     },
     "user_tz": 300
    },
    "id": "nCIy-1lZG_zp",
    "outputId": "4cc7923a-8998-4faa-b84f-33de537b9f00"
   },
   "outputs": [
    {
     "data": {
      "text/plain": [
       "array(['City of London', 'Barking & Dagenham', 'Barnet', 'Bexley',\n",
       "       'Brent', 'Bromley', 'Camden', 'Croydon', 'Ealing', 'Enfield',\n",
       "       'Greenwich', 'Hackney', 'Hammersmith & Fulham', 'Haringey',\n",
       "       'Harrow', 'Havering', 'Hillingdon', 'Hounslow', 'Islington',\n",
       "       'Kensington & Chelsea', 'Kingston upon Thames', 'Lambeth',\n",
       "       'Lewisham', 'Merton', 'Newham', 'Redbridge',\n",
       "       'Richmond upon Thames', 'Southwark', 'Sutton', 'Tower Hamlets',\n",
       "       'Waltham Forest', 'Wandsworth', 'Westminster', 'Unnamed: 34',\n",
       "       'Inner London', 'Outer London', 'Unnamed: 37', 'NORTH EAST',\n",
       "       'NORTH WEST', 'YORKS & THE HUMBER', 'EAST MIDLANDS',\n",
       "       'WEST MIDLANDS', 'EAST OF ENGLAND', 'LONDON', 'SOUTH EAST',\n",
       "       'SOUTH WEST', 'Unnamed: 47', 'England'], dtype=object)"
      ]
     },
     "execution_count": 256,
     "metadata": {},
     "output_type": "execute_result"
    }
   ],
   "source": [
    "# check unique value for London_borough column using unique function\n",
    "clean_properties[\"London_Borough\"].unique()"
   ]
  },
  {
   "cell_type": "code",
   "execution_count": 257,
   "metadata": {
    "colab": {
     "base_uri": "https://localhost:8080/",
     "height": 204
    },
    "executionInfo": {
     "elapsed": 169,
     "status": "ok",
     "timestamp": 1636656483863,
     "user": {
      "displayName": "Shankar Adhikari",
      "photoUrl": "https://lh3.googleusercontent.com/a-/AOh14GhQtDIfA3CaW3Q_V5PY3ATDpTqfjxBKo2xuaTuKAg=s64",
      "userId": "16382697433067752884"
     },
     "user_tz": 300
    },
    "id": "LMoByXu-G_zp",
    "outputId": "81fec38d-87cf-4bdd-8567-781ce11d3b15"
   },
   "outputs": [
    {
     "data": {
      "text/html": [
       "<div>\n",
       "<style scoped>\n",
       "    .dataframe tbody tr th:only-of-type {\n",
       "        vertical-align: middle;\n",
       "    }\n",
       "\n",
       "    .dataframe tbody tr th {\n",
       "        vertical-align: top;\n",
       "    }\n",
       "\n",
       "    .dataframe thead th {\n",
       "        text-align: right;\n",
       "    }\n",
       "</style>\n",
       "<table border=\"1\" class=\"dataframe\">\n",
       "  <thead>\n",
       "    <tr style=\"text-align: right;\">\n",
       "      <th></th>\n",
       "      <th>London_Borough</th>\n",
       "      <th>ID</th>\n",
       "      <th>Date</th>\n",
       "      <th>Price</th>\n",
       "    </tr>\n",
       "  </thead>\n",
       "  <tbody>\n",
       "    <tr>\n",
       "      <th>33</th>\n",
       "      <td>Unnamed: 34</td>\n",
       "      <td>NaN</td>\n",
       "      <td>1995-01-01</td>\n",
       "      <td>NaN</td>\n",
       "    </tr>\n",
       "    <tr>\n",
       "      <th>81</th>\n",
       "      <td>Unnamed: 34</td>\n",
       "      <td>NaN</td>\n",
       "      <td>1995-02-01</td>\n",
       "      <td>NaN</td>\n",
       "    </tr>\n",
       "    <tr>\n",
       "      <th>129</th>\n",
       "      <td>Unnamed: 34</td>\n",
       "      <td>NaN</td>\n",
       "      <td>1995-03-01</td>\n",
       "      <td>NaN</td>\n",
       "    </tr>\n",
       "    <tr>\n",
       "      <th>177</th>\n",
       "      <td>Unnamed: 34</td>\n",
       "      <td>NaN</td>\n",
       "      <td>1995-04-01</td>\n",
       "      <td>NaN</td>\n",
       "    </tr>\n",
       "    <tr>\n",
       "      <th>225</th>\n",
       "      <td>Unnamed: 34</td>\n",
       "      <td>NaN</td>\n",
       "      <td>1995-05-01</td>\n",
       "      <td>NaN</td>\n",
       "    </tr>\n",
       "  </tbody>\n",
       "</table>\n",
       "</div>"
      ],
      "text/plain": [
       "    London_Borough   ID       Date  Price\n",
       "33     Unnamed: 34  NaN 1995-01-01    NaN\n",
       "81     Unnamed: 34  NaN 1995-02-01    NaN\n",
       "129    Unnamed: 34  NaN 1995-03-01    NaN\n",
       "177    Unnamed: 34  NaN 1995-04-01    NaN\n",
       "225    Unnamed: 34  NaN 1995-05-01    NaN"
      ]
     },
     "execution_count": 257,
     "metadata": {},
     "output_type": "execute_result"
    }
   ],
   "source": [
    "# Look for row of Unnamed 34 in the London Borough column\n",
    "clean_properties[clean_properties['London_Borough'] == 'Unnamed: 34'].head()"
   ]
  },
  {
   "cell_type": "code",
   "execution_count": 258,
   "metadata": {
    "colab": {
     "base_uri": "https://localhost:8080/",
     "height": 204
    },
    "executionInfo": {
     "elapsed": 163,
     "status": "ok",
     "timestamp": 1636656493284,
     "user": {
      "displayName": "Shankar Adhikari",
      "photoUrl": "https://lh3.googleusercontent.com/a-/AOh14GhQtDIfA3CaW3Q_V5PY3ATDpTqfjxBKo2xuaTuKAg=s64",
      "userId": "16382697433067752884"
     },
     "user_tz": 300
    },
    "id": "yTC9c6hMG_zp",
    "outputId": "222980b0-268f-41b3-cf7e-b6c44c3928d2"
   },
   "outputs": [
    {
     "data": {
      "text/html": [
       "<div>\n",
       "<style scoped>\n",
       "    .dataframe tbody tr th:only-of-type {\n",
       "        vertical-align: middle;\n",
       "    }\n",
       "\n",
       "    .dataframe tbody tr th {\n",
       "        vertical-align: top;\n",
       "    }\n",
       "\n",
       "    .dataframe thead th {\n",
       "        text-align: right;\n",
       "    }\n",
       "</style>\n",
       "<table border=\"1\" class=\"dataframe\">\n",
       "  <thead>\n",
       "    <tr style=\"text-align: right;\">\n",
       "      <th></th>\n",
       "      <th>London_Borough</th>\n",
       "      <th>ID</th>\n",
       "      <th>Date</th>\n",
       "      <th>Price</th>\n",
       "    </tr>\n",
       "  </thead>\n",
       "  <tbody>\n",
       "    <tr>\n",
       "      <th>36</th>\n",
       "      <td>Unnamed: 37</td>\n",
       "      <td>NaN</td>\n",
       "      <td>1995-01-01</td>\n",
       "      <td>NaN</td>\n",
       "    </tr>\n",
       "    <tr>\n",
       "      <th>84</th>\n",
       "      <td>Unnamed: 37</td>\n",
       "      <td>NaN</td>\n",
       "      <td>1995-02-01</td>\n",
       "      <td>NaN</td>\n",
       "    </tr>\n",
       "    <tr>\n",
       "      <th>132</th>\n",
       "      <td>Unnamed: 37</td>\n",
       "      <td>NaN</td>\n",
       "      <td>1995-03-01</td>\n",
       "      <td>NaN</td>\n",
       "    </tr>\n",
       "    <tr>\n",
       "      <th>180</th>\n",
       "      <td>Unnamed: 37</td>\n",
       "      <td>NaN</td>\n",
       "      <td>1995-04-01</td>\n",
       "      <td>NaN</td>\n",
       "    </tr>\n",
       "    <tr>\n",
       "      <th>228</th>\n",
       "      <td>Unnamed: 37</td>\n",
       "      <td>NaN</td>\n",
       "      <td>1995-05-01</td>\n",
       "      <td>NaN</td>\n",
       "    </tr>\n",
       "  </tbody>\n",
       "</table>\n",
       "</div>"
      ],
      "text/plain": [
       "    London_Borough   ID       Date  Price\n",
       "36     Unnamed: 37  NaN 1995-01-01    NaN\n",
       "84     Unnamed: 37  NaN 1995-02-01    NaN\n",
       "132    Unnamed: 37  NaN 1995-03-01    NaN\n",
       "180    Unnamed: 37  NaN 1995-04-01    NaN\n",
       "228    Unnamed: 37  NaN 1995-05-01    NaN"
      ]
     },
     "execution_count": 258,
     "metadata": {},
     "output_type": "execute_result"
    }
   ],
   "source": [
    "# Look for row of Unnamed 37 in the London Borough column\n",
    "clean_properties[clean_properties['London_Borough'] == 'Unnamed: 37'].head()"
   ]
  },
  {
   "cell_type": "code",
   "execution_count": null,
   "metadata": {
    "executionInfo": {
     "elapsed": 151,
     "status": "ok",
     "timestamp": 1636656496710,
     "user": {
      "displayName": "Shankar Adhikari",
      "photoUrl": "https://lh3.googleusercontent.com/a-/AOh14GhQtDIfA3CaW3Q_V5PY3ATDpTqfjxBKo2xuaTuKAg=s64",
      "userId": "16382697433067752884"
     },
     "user_tz": 300
    },
    "id": "04UZ0d0qG_zp"
   },
   "outputs": [],
   "source": []
  },
  {
   "cell_type": "code",
   "execution_count": 259,
   "metadata": {
    "executionInfo": {
     "elapsed": 149,
     "status": "ok",
     "timestamp": 1636656501393,
     "user": {
      "displayName": "Shankar Adhikari",
      "photoUrl": "https://lh3.googleusercontent.com/a-/AOh14GhQtDIfA3CaW3Q_V5PY3ATDpTqfjxBKo2xuaTuKAg=s64",
      "userId": "16382697433067752884"
     },
     "user_tz": 300
    },
    "id": "MbC5kv6qG_zq"
   },
   "outputs": [],
   "source": [
    "remove_unNamed= ['Unnamed: 34','Unnamed: 37','Unnamed: 47']\n",
    "nonBoroughList = ['Inner London', 'Outer London', \n",
    "               'NORTH EAST', 'NORTH WEST', 'YORKS & THE HUMBER', \n",
    "               'EAST MIDLANDS', 'WEST MIDLANDS',\n",
    "              'EAST OF ENGLAND', 'LONDON', 'SOUTH EAST', \n",
    "              'SOUTH WEST', 'England']"
   ]
  },
  {
   "cell_type": "code",
   "execution_count": 260,
   "metadata": {
    "executionInfo": {
     "elapsed": 201,
     "status": "ok",
     "timestamp": 1636656509556,
     "user": {
      "displayName": "Shankar Adhikari",
      "photoUrl": "https://lh3.googleusercontent.com/a-/AOh14GhQtDIfA3CaW3Q_V5PY3ATDpTqfjxBKo2xuaTuKAg=s64",
      "userId": "16382697433067752884"
     },
     "user_tz": 300
    },
    "id": "rXPY9ZmtG_zq"
   },
   "outputs": [],
   "source": [
    "# get index for all the rows that are removing \n",
    "drop_idx = clean_properties.query('London_Borough in {}'.format(remove_unNamed)).index"
   ]
  },
  {
   "cell_type": "code",
   "execution_count": 261,
   "metadata": {
    "executionInfo": {
     "elapsed": 153,
     "status": "ok",
     "timestamp": 1636656511548,
     "user": {
      "displayName": "Shankar Adhikari",
      "photoUrl": "https://lh3.googleusercontent.com/a-/AOh14GhQtDIfA3CaW3Q_V5PY3ATDpTqfjxBKo2xuaTuKAg=s64",
      "userId": "16382697433067752884"
     },
     "user_tz": 300
    },
    "id": "2wS37d8gG_zq"
   },
   "outputs": [],
   "source": [
    "# drop rows based on index number \n",
    "clean_properties = clean_properties.drop(labels=drop_idx,axis=0)"
   ]
  },
  {
   "cell_type": "code",
   "execution_count": 262,
   "metadata": {
    "colab": {
     "base_uri": "https://localhost:8080/"
    },
    "executionInfo": {
     "elapsed": 279,
     "status": "ok",
     "timestamp": 1636656515391,
     "user": {
      "displayName": "Shankar Adhikari",
      "photoUrl": "https://lh3.googleusercontent.com/a-/AOh14GhQtDIfA3CaW3Q_V5PY3ATDpTqfjxBKo2xuaTuKAg=s64",
      "userId": "16382697433067752884"
     },
     "user_tz": 300
    },
    "id": "__Ye4BjHG_zq",
    "outputId": "3c64d36a-b99d-4451-ef0c-bb44667d3c28"
   },
   "outputs": [
    {
     "data": {
      "text/plain": [
       "(14400, 4)"
      ]
     },
     "execution_count": 262,
     "metadata": {},
     "output_type": "execute_result"
    }
   ],
   "source": [
    "# checking data size\n",
    "clean_properties.shape"
   ]
  },
  {
   "cell_type": "code",
   "execution_count": 263,
   "metadata": {
    "colab": {
     "base_uri": "https://localhost:8080/"
    },
    "executionInfo": {
     "elapsed": 247,
     "status": "ok",
     "timestamp": 1636656517440,
     "user": {
      "displayName": "Shankar Adhikari",
      "photoUrl": "https://lh3.googleusercontent.com/a-/AOh14GhQtDIfA3CaW3Q_V5PY3ATDpTqfjxBKo2xuaTuKAg=s64",
      "userId": "16382697433067752884"
     },
     "user_tz": 300
    },
    "id": "IwyAyHfEG_zq",
    "outputId": "79740623-02e5-4606-b6f7-b0cfdbfb79e3"
   },
   "outputs": [
    {
     "name": "stdout",
     "output_type": "stream",
     "text": [
      "45\n"
     ]
    }
   ],
   "source": [
    "# counting number of unique values for London_Borough column\n",
    "print (len(clean_properties[\"London_Borough\"].unique()))"
   ]
  },
  {
   "cell_type": "code",
   "execution_count": 264,
   "metadata": {
    "colab": {
     "base_uri": "https://localhost:8080/"
    },
    "executionInfo": {
     "elapsed": 164,
     "status": "ok",
     "timestamp": 1636656520468,
     "user": {
      "displayName": "Shankar Adhikari",
      "photoUrl": "https://lh3.googleusercontent.com/a-/AOh14GhQtDIfA3CaW3Q_V5PY3ATDpTqfjxBKo2xuaTuKAg=s64",
      "userId": "16382697433067752884"
     },
     "user_tz": 300
    },
    "id": "w1nGa9fvG_zr",
    "outputId": "c0b275a0-b6a2-465c-b731-baa09a74534c"
   },
   "outputs": [
    {
     "data": {
      "text/plain": [
       "London_Borough    0\n",
       "ID                0\n",
       "Date              0\n",
       "Price             2\n",
       "dtype: int64"
      ]
     },
     "execution_count": 264,
     "metadata": {},
     "output_type": "execute_result"
    }
   ],
   "source": [
    "# check for NaN value\n",
    "clean_properties.isna().sum()"
   ]
  },
  {
   "cell_type": "code",
   "execution_count": 265,
   "metadata": {
    "colab": {
     "base_uri": "https://localhost:8080/",
     "height": 173
    },
    "executionInfo": {
     "elapsed": 155,
     "status": "ok",
     "timestamp": 1636656524478,
     "user": {
      "displayName": "Shankar Adhikari",
      "photoUrl": "https://lh3.googleusercontent.com/a-/AOh14GhQtDIfA3CaW3Q_V5PY3ATDpTqfjxBKo2xuaTuKAg=s64",
      "userId": "16382697433067752884"
     },
     "user_tz": 300
    },
    "id": "98kP1r25G_zr",
    "outputId": "9ee45977-1e68-4655-ad81-03afb52baa07"
   },
   "outputs": [
    {
     "data": {
      "text/html": [
       "<div>\n",
       "<style scoped>\n",
       "    .dataframe tbody tr th:only-of-type {\n",
       "        vertical-align: middle;\n",
       "    }\n",
       "\n",
       "    .dataframe tbody tr th {\n",
       "        vertical-align: top;\n",
       "    }\n",
       "\n",
       "    .dataframe thead th {\n",
       "        text-align: right;\n",
       "    }\n",
       "</style>\n",
       "<table border=\"1\" class=\"dataframe\">\n",
       "  <thead>\n",
       "    <tr style=\"text-align: right;\">\n",
       "      <th></th>\n",
       "      <th>London_Borough</th>\n",
       "      <th>ID</th>\n",
       "      <th>Date</th>\n",
       "      <th>Price</th>\n",
       "    </tr>\n",
       "  </thead>\n",
       "  <tbody>\n",
       "    <tr>\n",
       "      <th>0</th>\n",
       "      <td>City of London</td>\n",
       "      <td>E09000001</td>\n",
       "      <td>1995-01-01</td>\n",
       "      <td>91448.98487</td>\n",
       "    </tr>\n",
       "    <tr>\n",
       "      <th>1</th>\n",
       "      <td>Barking &amp; Dagenham</td>\n",
       "      <td>E09000002</td>\n",
       "      <td>1995-01-01</td>\n",
       "      <td>50460.22660</td>\n",
       "    </tr>\n",
       "    <tr>\n",
       "      <th>2</th>\n",
       "      <td>Barnet</td>\n",
       "      <td>E09000003</td>\n",
       "      <td>1995-01-01</td>\n",
       "      <td>93284.51832</td>\n",
       "    </tr>\n",
       "    <tr>\n",
       "      <th>3</th>\n",
       "      <td>Bexley</td>\n",
       "      <td>E09000004</td>\n",
       "      <td>1995-01-01</td>\n",
       "      <td>64958.09036</td>\n",
       "    </tr>\n",
       "  </tbody>\n",
       "</table>\n",
       "</div>"
      ],
      "text/plain": [
       "       London_Borough         ID       Date        Price\n",
       "0      City of London  E09000001 1995-01-01  91448.98487\n",
       "1  Barking & Dagenham  E09000002 1995-01-01  50460.22660\n",
       "2              Barnet  E09000003 1995-01-01  93284.51832\n",
       "3              Bexley  E09000004 1995-01-01  64958.09036"
      ]
     },
     "execution_count": 265,
     "metadata": {},
     "output_type": "execute_result"
    }
   ],
   "source": [
    "# select no NaN data\n",
    "NaNFreeDF1 = clean_properties[clean_properties['Price'].notna()]\n",
    "NaNFreeDF1.head(4)"
   ]
  },
  {
   "cell_type": "code",
   "execution_count": 266,
   "metadata": {
    "colab": {
     "base_uri": "https://localhost:8080/"
    },
    "executionInfo": {
     "elapsed": 187,
     "status": "ok",
     "timestamp": 1636656529379,
     "user": {
      "displayName": "Shankar Adhikari",
      "photoUrl": "https://lh3.googleusercontent.com/a-/AOh14GhQtDIfA3CaW3Q_V5PY3ATDpTqfjxBKo2xuaTuKAg=s64",
      "userId": "16382697433067752884"
     },
     "user_tz": 300
    },
    "id": "ofrK5Y4wG_zr",
    "outputId": "de3b97b8-1cea-44b1-ada4-30966e574a41"
   },
   "outputs": [
    {
     "data": {
      "text/plain": [
       "London_Borough    14398\n",
       "ID                14398\n",
       "Date              14398\n",
       "Price             14398\n",
       "dtype: int64"
      ]
     },
     "execution_count": 266,
     "metadata": {},
     "output_type": "execute_result"
    }
   ],
   "source": [
    "# count NaN free data \n",
    "NaNFreeDF1.count()"
   ]
  },
  {
   "cell_type": "code",
   "execution_count": 267,
   "metadata": {
    "colab": {
     "base_uri": "https://localhost:8080/",
     "height": 297
    },
    "executionInfo": {
     "elapsed": 205,
     "status": "ok",
     "timestamp": 1636656531673,
     "user": {
      "displayName": "Shankar Adhikari",
      "photoUrl": "https://lh3.googleusercontent.com/a-/AOh14GhQtDIfA3CaW3Q_V5PY3ATDpTqfjxBKo2xuaTuKAg=s64",
      "userId": "16382697433067752884"
     },
     "user_tz": 300
    },
    "id": "Bcda2IwYG_zr",
    "outputId": "e159bd03-07c4-49e2-be49-242260b474a0"
   },
   "outputs": [
    {
     "data": {
      "text/html": [
       "<div>\n",
       "<style scoped>\n",
       "    .dataframe tbody tr th:only-of-type {\n",
       "        vertical-align: middle;\n",
       "    }\n",
       "\n",
       "    .dataframe tbody tr th {\n",
       "        vertical-align: top;\n",
       "    }\n",
       "\n",
       "    .dataframe thead th {\n",
       "        text-align: right;\n",
       "    }\n",
       "</style>\n",
       "<table border=\"1\" class=\"dataframe\">\n",
       "  <thead>\n",
       "    <tr style=\"text-align: right;\">\n",
       "      <th></th>\n",
       "      <th>London_Borough</th>\n",
       "      <th>ID</th>\n",
       "      <th>Date</th>\n",
       "      <th>Price</th>\n",
       "    </tr>\n",
       "  </thead>\n",
       "  <tbody>\n",
       "    <tr>\n",
       "      <th>0</th>\n",
       "      <td>City of London</td>\n",
       "      <td>E09000001</td>\n",
       "      <td>1995-01-01</td>\n",
       "      <td>91448.98487</td>\n",
       "    </tr>\n",
       "    <tr>\n",
       "      <th>1</th>\n",
       "      <td>Barking &amp; Dagenham</td>\n",
       "      <td>E09000002</td>\n",
       "      <td>1995-01-01</td>\n",
       "      <td>50460.22660</td>\n",
       "    </tr>\n",
       "    <tr>\n",
       "      <th>2</th>\n",
       "      <td>Barnet</td>\n",
       "      <td>E09000003</td>\n",
       "      <td>1995-01-01</td>\n",
       "      <td>93284.51832</td>\n",
       "    </tr>\n",
       "    <tr>\n",
       "      <th>3</th>\n",
       "      <td>Bexley</td>\n",
       "      <td>E09000004</td>\n",
       "      <td>1995-01-01</td>\n",
       "      <td>64958.09036</td>\n",
       "    </tr>\n",
       "    <tr>\n",
       "      <th>4</th>\n",
       "      <td>Brent</td>\n",
       "      <td>E09000005</td>\n",
       "      <td>1995-01-01</td>\n",
       "      <td>71306.56698</td>\n",
       "    </tr>\n",
       "    <tr>\n",
       "      <th>5</th>\n",
       "      <td>Bromley</td>\n",
       "      <td>E09000006</td>\n",
       "      <td>1995-01-01</td>\n",
       "      <td>81671.47692</td>\n",
       "    </tr>\n",
       "    <tr>\n",
       "      <th>6</th>\n",
       "      <td>Camden</td>\n",
       "      <td>E09000007</td>\n",
       "      <td>1995-01-01</td>\n",
       "      <td>120932.88810</td>\n",
       "    </tr>\n",
       "    <tr>\n",
       "      <th>7</th>\n",
       "      <td>Croydon</td>\n",
       "      <td>E09000008</td>\n",
       "      <td>1995-01-01</td>\n",
       "      <td>69158.16225</td>\n",
       "    </tr>\n",
       "  </tbody>\n",
       "</table>\n",
       "</div>"
      ],
      "text/plain": [
       "       London_Borough         ID       Date         Price\n",
       "0      City of London  E09000001 1995-01-01   91448.98487\n",
       "1  Barking & Dagenham  E09000002 1995-01-01   50460.22660\n",
       "2              Barnet  E09000003 1995-01-01   93284.51832\n",
       "3              Bexley  E09000004 1995-01-01   64958.09036\n",
       "4               Brent  E09000005 1995-01-01   71306.56698\n",
       "5             Bromley  E09000006 1995-01-01   81671.47692\n",
       "6              Camden  E09000007 1995-01-01  120932.88810\n",
       "7             Croydon  E09000008 1995-01-01   69158.16225"
      ]
     },
     "execution_count": 267,
     "metadata": {},
     "output_type": "execute_result"
    }
   ],
   "source": [
    "# now drop nan and count data again\n",
    "NaNFreeDF2 = clean_properties.dropna()\n",
    "NaNFreeDF2.head(8)"
   ]
  },
  {
   "cell_type": "code",
   "execution_count": 268,
   "metadata": {
    "colab": {
     "base_uri": "https://localhost:8080/"
    },
    "executionInfo": {
     "elapsed": 386,
     "status": "ok",
     "timestamp": 1636656535755,
     "user": {
      "displayName": "Shankar Adhikari",
      "photoUrl": "https://lh3.googleusercontent.com/a-/AOh14GhQtDIfA3CaW3Q_V5PY3ATDpTqfjxBKo2xuaTuKAg=s64",
      "userId": "16382697433067752884"
     },
     "user_tz": 300
    },
    "id": "a5Sl7zs7G_zr",
    "outputId": "f0ce64d8-97c7-436d-bf84-5c6aa3ed38ef"
   },
   "outputs": [
    {
     "data": {
      "text/plain": [
       "London_Borough    14398\n",
       "ID                14398\n",
       "Date              14398\n",
       "Price             14398\n",
       "dtype: int64"
      ]
     },
     "execution_count": 268,
     "metadata": {},
     "output_type": "execute_result"
    }
   ],
   "source": [
    "# count data after dropna \n",
    "NaNFreeDF2.count()"
   ]
  },
  {
   "cell_type": "code",
   "execution_count": 269,
   "metadata": {
    "colab": {
     "base_uri": "https://localhost:8080/",
     "height": 419
    },
    "executionInfo": {
     "elapsed": 181,
     "status": "ok",
     "timestamp": 1636656540071,
     "user": {
      "displayName": "Shankar Adhikari",
      "photoUrl": "https://lh3.googleusercontent.com/a-/AOh14GhQtDIfA3CaW3Q_V5PY3ATDpTqfjxBKo2xuaTuKAg=s64",
      "userId": "16382697433067752884"
     },
     "user_tz": 300
    },
    "id": "3rszv9svG_zr",
    "outputId": "3f8f84a6-e80f-47af-a412-b146e80ff6a6"
   },
   "outputs": [
    {
     "data": {
      "text/html": [
       "<div>\n",
       "<style scoped>\n",
       "    .dataframe tbody tr th:only-of-type {\n",
       "        vertical-align: middle;\n",
       "    }\n",
       "\n",
       "    .dataframe tbody tr th {\n",
       "        vertical-align: top;\n",
       "    }\n",
       "\n",
       "    .dataframe thead th {\n",
       "        text-align: right;\n",
       "    }\n",
       "</style>\n",
       "<table border=\"1\" class=\"dataframe\">\n",
       "  <thead>\n",
       "    <tr style=\"text-align: right;\">\n",
       "      <th></th>\n",
       "      <th>London_Borough</th>\n",
       "      <th>ID</th>\n",
       "      <th>Date</th>\n",
       "      <th>Price</th>\n",
       "    </tr>\n",
       "  </thead>\n",
       "  <tbody>\n",
       "    <tr>\n",
       "      <th>34</th>\n",
       "      <td>Inner London</td>\n",
       "      <td>E13000001</td>\n",
       "      <td>1995-01-01</td>\n",
       "      <td>78251.97650</td>\n",
       "    </tr>\n",
       "    <tr>\n",
       "      <th>35</th>\n",
       "      <td>Outer London</td>\n",
       "      <td>E13000002</td>\n",
       "      <td>1995-01-01</td>\n",
       "      <td>72958.79836</td>\n",
       "    </tr>\n",
       "    <tr>\n",
       "      <th>37</th>\n",
       "      <td>NORTH EAST</td>\n",
       "      <td>E12000001</td>\n",
       "      <td>1995-01-01</td>\n",
       "      <td>42076.35411</td>\n",
       "    </tr>\n",
       "    <tr>\n",
       "      <th>38</th>\n",
       "      <td>NORTH WEST</td>\n",
       "      <td>E12000002</td>\n",
       "      <td>1995-01-01</td>\n",
       "      <td>43958.48001</td>\n",
       "    </tr>\n",
       "    <tr>\n",
       "      <th>39</th>\n",
       "      <td>YORKS &amp; THE HUMBER</td>\n",
       "      <td>E12000003</td>\n",
       "      <td>1995-01-01</td>\n",
       "      <td>44803.42878</td>\n",
       "    </tr>\n",
       "    <tr>\n",
       "      <th>...</th>\n",
       "      <td>...</td>\n",
       "      <td>...</td>\n",
       "      <td>...</td>\n",
       "      <td>...</td>\n",
       "    </tr>\n",
       "    <tr>\n",
       "      <th>15354</th>\n",
       "      <td>EAST OF ENGLAND</td>\n",
       "      <td>E12000006</td>\n",
       "      <td>2021-08-01</td>\n",
       "      <td>324509.99710</td>\n",
       "    </tr>\n",
       "    <tr>\n",
       "      <th>15355</th>\n",
       "      <td>LONDON</td>\n",
       "      <td>E12000007</td>\n",
       "      <td>2021-08-01</td>\n",
       "      <td>525893.18600</td>\n",
       "    </tr>\n",
       "    <tr>\n",
       "      <th>15356</th>\n",
       "      <td>SOUTH EAST</td>\n",
       "      <td>E12000008</td>\n",
       "      <td>2021-08-01</td>\n",
       "      <td>358069.75880</td>\n",
       "    </tr>\n",
       "    <tr>\n",
       "      <th>15357</th>\n",
       "      <td>SOUTH WEST</td>\n",
       "      <td>E12000009</td>\n",
       "      <td>2021-08-01</td>\n",
       "      <td>288658.31640</td>\n",
       "    </tr>\n",
       "    <tr>\n",
       "      <th>15359</th>\n",
       "      <td>England</td>\n",
       "      <td>E92000001</td>\n",
       "      <td>2021-08-01</td>\n",
       "      <td>280920.88110</td>\n",
       "    </tr>\n",
       "  </tbody>\n",
       "</table>\n",
       "<p>3840 rows × 4 columns</p>\n",
       "</div>"
      ],
      "text/plain": [
       "           London_Borough         ID       Date         Price\n",
       "34           Inner London  E13000001 1995-01-01   78251.97650\n",
       "35           Outer London  E13000002 1995-01-01   72958.79836\n",
       "37             NORTH EAST  E12000001 1995-01-01   42076.35411\n",
       "38             NORTH WEST  E12000002 1995-01-01   43958.48001\n",
       "39     YORKS & THE HUMBER  E12000003 1995-01-01   44803.42878\n",
       "...                   ...        ...        ...           ...\n",
       "15354     EAST OF ENGLAND  E12000006 2021-08-01  324509.99710\n",
       "15355              LONDON  E12000007 2021-08-01  525893.18600\n",
       "15356          SOUTH EAST  E12000008 2021-08-01  358069.75880\n",
       "15357          SOUTH WEST  E12000009 2021-08-01  288658.31640\n",
       "15359             England  E92000001 2021-08-01  280920.88110\n",
       "\n",
       "[3840 rows x 4 columns]"
      ]
     },
     "execution_count": 269,
     "metadata": {},
     "output_type": "execute_result"
    }
   ],
   "source": [
    "# look data in non-borough list using isna\n",
    "NaNFreeDF2[NaNFreeDF2.London_Borough.isin(nonBoroughList)]"
   ]
  },
  {
   "cell_type": "code",
   "execution_count": 270,
   "metadata": {
    "executionInfo": {
     "elapsed": 331,
     "status": "ok",
     "timestamp": 1636656547227,
     "user": {
      "displayName": "Shankar Adhikari",
      "photoUrl": "https://lh3.googleusercontent.com/a-/AOh14GhQtDIfA3CaW3Q_V5PY3ATDpTqfjxBKo2xuaTuKAg=s64",
      "userId": "16382697433067752884"
     },
     "user_tz": 300
    },
    "id": "ZMWpgLEzG_zs"
   },
   "outputs": [],
   "source": [
    "# remove non borough data\n",
    "df = NaNFreeDF2[~NaNFreeDF2.London_Borough.isin(nonBoroughList)]"
   ]
  },
  {
   "cell_type": "code",
   "execution_count": 271,
   "metadata": {
    "colab": {
     "base_uri": "https://localhost:8080/"
    },
    "executionInfo": {
     "elapsed": 283,
     "status": "ok",
     "timestamp": 1636656553518,
     "user": {
      "displayName": "Shankar Adhikari",
      "photoUrl": "https://lh3.googleusercontent.com/a-/AOh14GhQtDIfA3CaW3Q_V5PY3ATDpTqfjxBKo2xuaTuKAg=s64",
      "userId": "16382697433067752884"
     },
     "user_tz": 300
    },
    "id": "RCAsuqtbG_zs",
    "outputId": "f3e37400-62b8-4aac-ac79-ccb823357a6c"
   },
   "outputs": [
    {
     "data": {
      "text/plain": [
       "(10558, 4)"
      ]
     },
     "execution_count": 271,
     "metadata": {},
     "output_type": "execute_result"
    }
   ],
   "source": [
    "df.shape"
   ]
  },
  {
   "cell_type": "markdown",
   "metadata": {
    "id": "PGEx6mJsp6dG"
   },
   "source": [
    "**2.6. Visualizing the data**\n",
    "\n",
    "To visualize the data, why not subset on a particular London Borough? Maybe do a line plot of Month against Average Price?"
   ]
  },
  {
   "cell_type": "code",
   "execution_count": 272,
   "metadata": {
    "executionInfo": {
     "elapsed": 217,
     "status": "ok",
     "timestamp": 1636656566491,
     "user": {
      "displayName": "Shankar Adhikari",
      "photoUrl": "https://lh3.googleusercontent.com/a-/AOh14GhQtDIfA3CaW3Q_V5PY3ATDpTqfjxBKo2xuaTuKAg=s64",
      "userId": "16382697433067752884"
     },
     "user_tz": 300
    },
    "id": "Bt42Fn8gG_zs"
   },
   "outputs": [],
   "source": [
    "# get data for single Borough \n",
    "df_1 = df[df[\"London_Borough\"] == \"Brent\"]"
   ]
  },
  {
   "cell_type": "code",
   "execution_count": 275,
   "metadata": {
    "colab": {
     "base_uri": "https://localhost:8080/",
     "height": 296
    },
    "executionInfo": {
     "elapsed": 507,
     "status": "ok",
     "timestamp": 1636656571531,
     "user": {
      "displayName": "Shankar Adhikari",
      "photoUrl": "https://lh3.googleusercontent.com/a-/AOh14GhQtDIfA3CaW3Q_V5PY3ATDpTqfjxBKo2xuaTuKAg=s64",
      "userId": "16382697433067752884"
     },
     "user_tz": 300
    },
    "id": "yW7DVwiEG_zs",
    "outputId": "5cda3457-d409-4b68-fc34-b04652e96a80"
   },
   "outputs": [
    {
     "data": {
      "text/plain": [
       "<matplotlib.axes._subplots.AxesSubplot at 0x7f81d52b94c0>"
      ]
     },
     "execution_count": 275,
     "metadata": {},
     "output_type": "execute_result"
    },
    {
     "data": {
      "image/png": "[encoded data removed]",
      "text/plain": [
       "<Figure size 432x288 with 1 Axes>"
      ]
     },
     "metadata": {
      "needs_background": "light"
     },
     "output_type": "display_data"
    }
   ],
   "source": [
    "# draw line plot\n",
    "df_1.plot(x='Date',y='Price',kind='line')"
   ]
  },
  {
   "cell_type": "code",
   "execution_count": null,
   "metadata": {
    "executionInfo": {
     "elapsed": 354,
     "status": "ok",
     "timestamp": 1636656579207,
     "user": {
      "displayName": "Shankar Adhikari",
      "photoUrl": "https://lh3.googleusercontent.com/a-/AOh14GhQtDIfA3CaW3Q_V5PY3ATDpTqfjxBKo2xuaTuKAg=s64",
      "userId": "16382697433067752884"
     },
     "user_tz": 300
    },
    "id": "nAg5pT9cqHAR"
   },
   "outputs": [],
   "source": []
  },
  {
   "cell_type": "markdown",
   "metadata": {
    "id": "aWTPqSJeqHnC"
   },
   "source": [
    "To limit the number of data points you have, you might want to extract the year from every month value your *Month* column. \n",
    "\n",
    "To this end, you *could* apply a ***lambda function***. Your logic could work as follows:\n",
    "1. look through the `Month` column\n",
    "2. extract the year from each individual value in that column \n",
    "3. store that corresponding year as separate column. \n",
    "\n",
    "Whether you go ahead with this is up to you. Just so long as you answer our initial brief: which boroughs of London have seen the greatest house price increase, on average, over the past two decades? "
   ]
  },
  {
   "cell_type": "code",
   "execution_count": 276,
   "metadata": {
    "colab": {
     "base_uri": "https://localhost:8080/"
    },
    "executionInfo": {
     "elapsed": 215,
     "status": "ok",
     "timestamp": 1636656634700,
     "user": {
      "displayName": "Shankar Adhikari",
      "photoUrl": "https://lh3.googleusercontent.com/a-/AOh14GhQtDIfA3CaW3Q_V5PY3ATDpTqfjxBKo2xuaTuKAg=s64",
      "userId": "16382697433067752884"
     },
     "user_tz": 300
    },
    "id": "e0DF92cyqnu8",
    "outputId": "2d921f30-2c0b-438d-fb61-01de46e14941"
   },
   "outputs": [
    {
     "name": "stderr",
     "output_type": "stream",
     "text": [
      "<ipython-input-276-1e7e7738d16c>:2: SettingWithCopyWarning: \n",
      "A value is trying to be set on a copy of a slice from a DataFrame.\n",
      "Try using .loc[row_indexer,col_indexer] = value instead\n",
      "\n",
      "See the caveats in the documentation: http://pandas.pydata.org/pandas-docs/stable/user_guide/indexing.html#returning-a-view-versus-a-copy\n",
      "  df['Year'] = df['Date'].apply(lambda m: m.year)\n"
     ]
    }
   ],
   "source": [
    "# get year from Date column \n",
    "df['Year'] = df['Date'].apply(lambda m: m.year)"
   ]
  },
  {
   "cell_type": "code",
   "execution_count": 277,
   "metadata": {
    "colab": {
     "base_uri": "https://localhost:8080/"
    },
    "executionInfo": {
     "elapsed": 300,
     "status": "ok",
     "timestamp": 1636656647910,
     "user": {
      "displayName": "Shankar Adhikari",
      "photoUrl": "https://lh3.googleusercontent.com/a-/AOh14GhQtDIfA3CaW3Q_V5PY3ATDpTqfjxBKo2xuaTuKAg=s64",
      "userId": "16382697433067752884"
     },
     "user_tz": 300
    },
    "id": "c3aXHF7kG_zt",
    "outputId": "78df35f8-7de6-4ddc-92fb-8add78b47ae9"
   },
   "outputs": [
    {
     "name": "stdout",
     "output_type": "stream",
     "text": [
      "<class 'pandas.core.frame.DataFrame'>\n",
      "Int64Index: 320 entries, 2 to 15314\n",
      "Data columns (total 5 columns):\n",
      "London_Borough    320 non-null object\n",
      "ID                320 non-null object\n",
      "Date              320 non-null datetime64[ns]\n",
      "Price             320 non-null float64\n",
      "Year              320 non-null int64\n",
      "dtypes: datetime64[ns](1), float64(1), int64(1), object(2)\n",
      "memory usage: 15.0+ KB\n"
     ]
    }
   ],
   "source": [
    "df[df[\"London_Borough\"]==\"Barnet\"].info()"
   ]
  },
  {
   "cell_type": "code",
   "execution_count": 326,
   "metadata": {
    "colab": {
     "base_uri": "https://localhost:8080/",
     "height": 324
    },
    "executionInfo": {
     "elapsed": 241,
     "status": "error",
     "timestamp": 1636656652496,
     "user": {
      "displayName": "Shankar Adhikari",
      "photoUrl": "https://lh3.googleusercontent.com/a-/AOh14GhQtDIfA3CaW3Q_V5PY3ATDpTqfjxBKo2xuaTuKAg=s64",
      "userId": "16382697433067752884"
     },
     "user_tz": 300
    },
    "id": "zsub74LnG_zt",
    "outputId": "f505e924-9405-4462-b909-56aa03e66c06"
   },
   "outputs": [
    {
     "data": {
      "text/html": [
       "<div>\n",
       "<style scoped>\n",
       "    .dataframe tbody tr th:only-of-type {\n",
       "        vertical-align: middle;\n",
       "    }\n",
       "\n",
       "    .dataframe tbody tr th {\n",
       "        vertical-align: top;\n",
       "    }\n",
       "\n",
       "    .dataframe thead th {\n",
       "        text-align: right;\n",
       "    }\n",
       "</style>\n",
       "<table border=\"1\" class=\"dataframe\">\n",
       "  <thead>\n",
       "    <tr style=\"text-align: right;\">\n",
       "      <th></th>\n",
       "      <th></th>\n",
       "      <th>Price</th>\n",
       "    </tr>\n",
       "    <tr>\n",
       "      <th>London_Borough</th>\n",
       "      <th>Year</th>\n",
       "      <th></th>\n",
       "    </tr>\n",
       "  </thead>\n",
       "  <tbody>\n",
       "    <tr>\n",
       "      <th rowspan=\"2\" valign=\"top\">Wandsworth</th>\n",
       "      <th>2016</th>\n",
       "      <td>608740.907083</td>\n",
       "    </tr>\n",
       "    <tr>\n",
       "      <th>2017</th>\n",
       "      <td>617921.475300</td>\n",
       "    </tr>\n",
       "    <tr>\n",
       "      <th>Kingston upon Thames</th>\n",
       "      <th>2007</th>\n",
       "      <td>306229.417533</td>\n",
       "    </tr>\n",
       "    <tr>\n",
       "      <th>Brent</th>\n",
       "      <th>2016</th>\n",
       "      <td>489469.418367</td>\n",
       "    </tr>\n",
       "    <tr>\n",
       "      <th>Redbridge</th>\n",
       "      <th>2014</th>\n",
       "      <td>304162.470942</td>\n",
       "    </tr>\n",
       "    <tr>\n",
       "      <th>Sutton</th>\n",
       "      <th>2009</th>\n",
       "      <td>212117.747208</td>\n",
       "    </tr>\n",
       "    <tr>\n",
       "      <th>Hammersmith &amp; Fulham</th>\n",
       "      <th>1996</th>\n",
       "      <td>132045.188025</td>\n",
       "    </tr>\n",
       "    <tr>\n",
       "      <th>Lambeth</th>\n",
       "      <th>2014</th>\n",
       "      <td>433624.910850</td>\n",
       "    </tr>\n",
       "    <tr>\n",
       "      <th>Camden</th>\n",
       "      <th>2002</th>\n",
       "      <td>314179.507833</td>\n",
       "    </tr>\n",
       "    <tr>\n",
       "      <th>Enfield</th>\n",
       "      <th>2009</th>\n",
       "      <td>221993.130783</td>\n",
       "    </tr>\n",
       "  </tbody>\n",
       "</table>\n",
       "</div>"
      ],
      "text/plain": [
       "                                   Price\n",
       "London_Borough       Year               \n",
       "Wandsworth           2016  608740.907083\n",
       "                     2017  617921.475300\n",
       "Kingston upon Thames 2007  306229.417533\n",
       "Brent                2016  489469.418367\n",
       "Redbridge            2014  304162.470942\n",
       "Sutton               2009  212117.747208\n",
       "Hammersmith & Fulham 1996  132045.188025\n",
       "Lambeth              2014  433624.910850\n",
       "Camden               2002  314179.507833\n",
       "Enfield              2009  221993.130783"
      ]
     },
     "execution_count": 326,
     "metadata": {},
     "output_type": "execute_result"
    }
   ],
   "source": [
    "# groupby data based on London borough and year\n",
    "df_gr = df.groupby([\"London_Borough\",\"Year\"]).mean()\n",
    "df_gr.sample(10)\n"
   ]
  },
  {
   "cell_type": "code",
   "execution_count": 288,
   "metadata": {
    "colab": {
     "base_uri": "https://localhost:8080/",
     "height": 164
    },
    "executionInfo": {
     "elapsed": 349,
     "status": "error",
     "timestamp": 1636656660406,
     "user": {
      "displayName": "Shankar Adhikari",
      "photoUrl": "https://lh3.googleusercontent.com/a-/AOh14GhQtDIfA3CaW3Q_V5PY3ATDpTqfjxBKo2xuaTuKAg=s64",
      "userId": "16382697433067752884"
     },
     "user_tz": 300
    },
    "id": "3e3DqR4mG_zt",
    "outputId": "5d8c5f67-5369-48f4-c190-2f4a5be147d6"
   },
   "outputs": [
    {
     "name": "stdout",
     "output_type": "stream",
     "text": [
      "<class 'pandas.core.frame.DataFrame'>\n",
      "MultiIndex: 891 entries, (Barking & Dagenham, 1995) to (Westminster, 2021)\n",
      "Data columns (total 1 columns):\n",
      "Price    891 non-null float64\n",
      "dtypes: float64(1)\n",
      "memory usage: 9.3+ KB\n"
     ]
    }
   ],
   "source": [
    "df_gr.info()"
   ]
  },
  {
   "cell_type": "code",
   "execution_count": 289,
   "metadata": {
    "executionInfo": {
     "elapsed": 170,
     "status": "ok",
     "timestamp": 1636656667306,
     "user": {
      "displayName": "Shankar Adhikari",
      "photoUrl": "https://lh3.googleusercontent.com/a-/AOh14GhQtDIfA3CaW3Q_V5PY3ATDpTqfjxBKo2xuaTuKAg=s64",
      "userId": "16382697433067752884"
     },
     "user_tz": 300
    },
    "id": "Tu8godZ6G_zt"
   },
   "outputs": [
    {
     "data": {
      "text/plain": [
       "1995"
      ]
     },
     "execution_count": 289,
     "metadata": {},
     "output_type": "execute_result"
    }
   ],
   "source": [
    "df.Year.min()"
   ]
  },
  {
   "cell_type": "code",
   "execution_count": null,
   "metadata": {
    "executionInfo": {
     "elapsed": 3,
     "status": "ok",
     "timestamp": 1636656668020,
     "user": {
      "displayName": "Shankar Adhikari",
      "photoUrl": "https://lh3.googleusercontent.com/a-/AOh14GhQtDIfA3CaW3Q_V5PY3ATDpTqfjxBKo2xuaTuKAg=s64",
      "userId": "16382697433067752884"
     },
     "user_tz": 300
    },
    "id": "D-gg8GjLG_zt"
   },
   "outputs": [],
   "source": []
  },
  {
   "cell_type": "code",
   "execution_count": null,
   "metadata": {
    "executionInfo": {
     "elapsed": 4,
     "status": "ok",
     "timestamp": 1636656668630,
     "user": {
      "displayName": "Shankar Adhikari",
      "photoUrl": "https://lh3.googleusercontent.com/a-/AOh14GhQtDIfA3CaW3Q_V5PY3ATDpTqfjxBKo2xuaTuKAg=s64",
      "userId": "16382697433067752884"
     },
     "user_tz": 300
    },
    "id": "l0yJU4ilG_zu"
   },
   "outputs": [],
   "source": []
  },
  {
   "cell_type": "markdown",
   "metadata": {
    "id": "2knuTxAEqoJ4"
   },
   "source": [
    "**3. Modeling**\n",
    "\n",
    "Consider creating a function that will calculate a ratio of house prices, comparing the price of a house in 2018 to the price in 1998.\n",
    "\n",
    "Consider calling this function create_price_ratio.\n",
    "\n",
    "You'd want this function to:\n",
    "1. Take a filter of dfg, specifically where this filter constrains the London_Borough, as an argument. For example, one admissible argument should be: dfg[dfg['London_Borough']=='Camden'].\n",
    "2. Get the Average Price for that Borough, for the years 1998 and 2018.\n",
    "4. Calculate the ratio of the Average Price for 1998 divided by the Average Price for 2018.\n",
    "5. Return that ratio.\n",
    "\n",
    "Once you've written this function, you ultimately want to use it to iterate through all the unique London_Boroughs and work out the ratio capturing the difference of house prices between 1998 and 2018.\n",
    "\n",
    "Bear in mind: you don't have to write a function like this if you don't want to. If you can solve the brief otherwise, then great! \n",
    "\n",
    "***Hint***: This section should test the skills you acquired in:\n",
    "- Python Data Science Toolbox - Part One, all modules"
   ]
  },
  {
   "cell_type": "code",
   "execution_count": 299,
   "metadata": {
    "id": "cKTyr437UgDa"
   },
   "outputs": [],
   "source": [
    "def get_housing_price_ratio(dfs,year=2021):\n",
    "    if (year <= df.Year.min()):\n",
    "        raise Exception('There is no data before 1995')\n",
    "    elif (year -20 > df.Year.min()):\n",
    "        return df.groupby([ \"Year\",\"London_Borough\"])[\"Price\"].mean().agg(lambda x: x[year]/x[year - 20]).sort_values(ascending=False)\n",
    "    else:\n",
    "        return df.groupby([\"Year\",\"London_Borough\"])[\"Price\"].mean().agg(lambda x: x[year]/x[df.Year.min()]).sort_values(ascending=False)"
   ]
  },
  {
   "cell_type": "code",
   "execution_count": 308,
   "metadata": {},
   "outputs": [
    {
     "data": {
      "text/plain": [
       "London_Borough\n",
       "Hackney                 619.828556\n",
       "Waltham Forest          583.475581\n",
       "Southwark               551.648530\n",
       "Lewisham                544.922104\n",
       "Westminster             535.356539\n",
       "Newham                  530.539044\n",
       "City of London          530.162038\n",
       "Haringey                513.462496\n",
       "Kensington & Chelsea    508.246507\n",
       "Lambeth                 495.775116\n",
       "Camden                  493.535341\n",
       "Barking & Dagenham      489.661861\n",
       "Brent                   489.455450\n",
       "Islington               484.404801\n",
       "Greenwich               476.303635\n",
       "Wandsworth              475.770935\n",
       "Merton                  474.127331\n",
       "Tower Hamlets           462.670104\n",
       "Redbridge               447.118201\n",
       "Barnet                  435.819592\n",
       "Havering                432.523037\n",
       "Ealing                  431.145090\n",
       "Kingston upon Thames    427.054952\n",
       "Enfield                 426.347158\n",
       "Bexley                  424.897705\n",
       "Croydon                 420.110028\n",
       "Hillingdon              420.027308\n",
       "Hammersmith & Fulham    413.779810\n",
       "Sutton                  411.852261\n",
       "Bromley                 409.478469\n",
       "Harrow                  405.919643\n",
       "Richmond upon Thames    400.516190\n",
       "Hounslow                397.640911\n",
       "Name: Price, dtype: float64"
      ]
     },
     "execution_count": 308,
     "metadata": {},
     "output_type": "execute_result"
    }
   ],
   "source": [
    "ratios = get_housing_price_ratio(df,2018)*100\n",
    "ratios"
   ]
  },
  {
   "cell_type": "code",
   "execution_count": 313,
   "metadata": {},
   "outputs": [
    {
     "data": {
      "text/plain": [
       "Text(0, 0.5, 'counts')"
      ]
     },
     "execution_count": 313,
     "metadata": {},
     "output_type": "execute_result"
    },
    {
     "data": {
      "image/png": "[encoded data removed]",
      "text/plain": [
       "<Figure size 432x288 with 1 Axes>"
      ]
     },
     "metadata": {
      "needs_background": "light"
     },
     "output_type": "display_data"
    }
   ],
   "source": [
    "ratios.plot(kind='hist',bins=6)\n",
    "plt.xlabel('%change in housing price')\n",
    "plt.ylabel('counts')"
   ]
  },
  {
   "cell_type": "code",
   "execution_count": 318,
   "metadata": {},
   "outputs": [
    {
     "data": {
      "text/plain": [
       "Text(0, 0.5, 'name of London Borough')"
      ]
     },
     "execution_count": 318,
     "metadata": {},
     "output_type": "execute_result"
    },
    {
     "data": {
      "image/png": "[encoded data removed]",
      "text/plain": [
       "<Figure size 432x576 with 1 Axes>"
      ]
     },
     "metadata": {
      "needs_background": "light"
     },
     "output_type": "display_data"
    }
   ],
   "source": [
    "plt.figure(figsize=(6,8))\n",
    "ratios.sort_values(ascending=True).plot(kind='barh',color='green')\n",
    "plt.xlabel('%change in housing price for London Borough')\n",
    "plt.ylabel('name of London Borough')\n"
   ]
  },
  {
   "cell_type": "markdown",
   "metadata": {
    "id": "NzYUI7FxJpgv"
   },
   "source": [
    "### 4. Conclusion\n",
    "What can you conclude? Type out your conclusion below. \n",
    "\n",
    "##### Based on the data provided, it is seen that the london borough's house price increased up to 600% in between 2018 and 1998. This difference can be seen for other time period using the model function *get_housing_price_ratio*. As shown in bar chart above, the highest price increased for Hackey borough and the lowest price increase is for Hounslow borough.  \n",
    "\n",
    "Look back at your notebook. Think about how you might summarize what you have done, and prepare a quick presentation on it to your mentor at your next meeting. \n",
    "\n",
    "We hope you enjoyed this practical project. It should have consolidated your data hygiene and pandas skills by looking at a real-world problem involving just the kind of dataset you might encounter as a budding data scientist. Congratulations, and looking forward to seeing you at the next step in the course! "
   ]
  },
  {
   "cell_type": "code",
   "execution_count": null,
   "metadata": {},
   "outputs": [],
   "source": []
  }
 ],
 "metadata": {
  "colab": {
   "collapsed_sections": [],
   "name": "Unit 4 Challenge - Tier 3.ipynb",
   "provenance": []
  },
  "kernelspec": {
   "display_name": "Python 3",
   "language": "python",
   "name": "python3"
  },
  "language_info": {
   "codemirror_mode": {
    "name": "ipython",
    "version": 3
   },
   "file_extension": ".py",
   "mimetype": "text/x-python",
   "name": "python",
   "nbconvert_exporter": "python",
   "pygments_lexer": "ipython3",
   "version": "3.8.1"
  }
 },
 "nbformat": 4,
 "nbformat_minor": 4
}
