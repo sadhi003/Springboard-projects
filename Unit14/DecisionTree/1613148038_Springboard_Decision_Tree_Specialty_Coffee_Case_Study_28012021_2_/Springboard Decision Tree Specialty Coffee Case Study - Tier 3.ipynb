{
 "cells": [
  {
   "cell_type": "markdown",
   "metadata": {
    "colab_type": "text",
    "id": "Jm0w3zN4DuVK"
   },
   "source": [
    "# **Springboard Decision Tree Specialty Coffee Case Study - Tier 3**\n",
    "\n",
    "\n"
   ]
  },
  {
   "cell_type": "markdown",
   "metadata": {
    "colab_type": "text",
    "id": "BhqpAY7GDuVN"
   },
   "source": [
    "# The Scenario\n",
    "\n",
    "Imagine you've just finished the Springboard Data Science Career Track course, and have been hired by a rising popular specialty coffee company - RR Diner Coffee - as a data scientist. Congratulations!\n",
    "\n",
    "RR Diner Coffee sells two types of thing:\n",
    "- specialty coffee beans, in bulk (by the kilogram only) \n",
    "- coffee equipment and merchandise (grinders, brewing equipment, mugs, books, t-shirts).\n",
    "\n",
    "RR Diner Coffee has three stores, two in Europe and one in the USA. The flagshap store is in the USA, and everything is quality assessed there, before being shipped out. Customers further away from the USA flagship store have higher shipping charges. \n",
    "\n",
    "You've been taken on at RR Diner Coffee because the company are turning towards using data science and machine learning to systematically make decisions about which coffee farmers they should strike deals with. \n",
    "\n",
    "RR Diner Coffee typically buys coffee from farmers, processes it on site, brings it back to the USA, roasts it, packages it, markets it, and ships it (only in bulk, and after quality assurance) to customers internationally. These customers all own coffee shops in major cities like New York, Paris, London, Hong Kong, Tokyo, and Berlin. \n",
    "\n",
    "Now, RR Diner Coffee has a decision about whether to strike a deal with a legendary coffee farm (known as the **Hidden Farm**) in rural China: there are rumours their coffee tastes of lychee and dark chocolate, while also being as sweet as apple juice. \n",
    "\n",
    "It's a risky decision, as the deal will be expensive, and the coffee might not be bought by customers. The stakes are high: times are tough, stocks are low, farmers are reverting to old deals with the larger enterprises and the publicity of selling *Hidden Farm* coffee could save the RR Diner Coffee business. \n",
    "\n",
    "Your first job, then, is ***to build a decision tree to predict how many units of the Hidden Farm Chinese coffee will be purchased by RR Diner Coffee's most loyal customers.*** \n",
    "\n",
    "To this end, you and your team have conducted a survey of 710 of the most loyal RR Diner Coffee customers, collecting data on the customers':\n",
    "- age\n",
    "- gender \n",
    "- salary \n",
    "- whether they have bought at least one RR Diner Coffee product online\n",
    "- their distance from the flagship store in the USA (standardized to a number between 0 and 11) \n",
    "- how much they spent on RR Diner Coffee products on the week of the survey \n",
    "- how much they spent on RR Diner Coffee products in the month preeding the survey\n",
    "- the number of RR Diner coffee bean shipments each customer has ordered over the preceding year. \n",
    "\n",
    "You also asked each customer participating in the survey whether they would buy the Hidden Farm coffee, and some (but not all) of the customers gave responses to that question. \n",
    "\n",
    "You sit back and think: if more than 70% of the interviewed customers are likely to buy the Hidden Farm coffee, you will strike the deal with the local Hidden Farm farmers and sell the coffee. Otherwise, you won't strike the deal and the Hidden Farm coffee will remain in legends only. There's some doubt in your mind about whether 70% is a reasonable threshold, but it'll do for the moment. \n",
    "\n",
    "To solve the problem, then, you will build a decision tree to implement a classification solution. \n",
    "\n",
    "\n",
    "-------------------------------\n",
    "As ever, this notebook is **tiered**, meaning you can elect that tier that is right for your confidence and skill level. There are 3 tiers, with tier 1 being the easiest and tier 3 being the hardest. This is ***tier 3***, so it will be challenging. \n",
    "\n",
    "**1. Sourcing and loading** \n",
    "- Import packages\n",
    "- Load data\n",
    "- Explore the data\n",
    "\n",
    " \n",
    "**2. Cleaning, transforming and visualizing**\n",
    "- Cleaning the data\n",
    "- Train/test split\n",
    "  \n",
    "  \n",
    "**3. Modelling** \n",
    "- Model 1: Entropy model - no max_depth\n",
    "- Model 2: Gini impurity model - no max_depth\n",
    "- Model 3: Entropy model - max depth 3\n",
    "- Model 4: Gini impurity model - max depth 3\n",
    "\n",
    "\n",
    "**4. Evaluating and concluding** \n",
    "- How many customers will buy Hidden Farm coffee?\n",
    "- Decision\n",
    "\n",
    "**5. Random Forest** \n",
    "- Import necessary modules\n",
    "- Model\n",
    "- Revise conclusion\n",
    "    "
   ]
  },
  {
   "cell_type": "markdown",
   "metadata": {
    "colab_type": "text",
    "id": "nciXGXtCDuVO"
   },
   "source": [
    "# 0. Overview\n",
    "\n",
    "This notebook uses decision trees to determine whether the factors of salary, gender, age, how much money the customer spent last week and during the preceding month on RR Diner Coffee products, how many kilogram coffee bags the customer bought over the last year, whether they have bought at least one RR Diner Coffee product online, and their distance from the flagship store in the USA, could predict whether customers would purchase the Hidden Farm coffee if a deal with its farmers were struck. "
   ]
  },
  {
   "cell_type": "markdown",
   "metadata": {
    "colab_type": "text",
    "id": "5fSgD2h9DuVP"
   },
   "source": [
    "# 1. Sourcing and loading\n",
    "## 1a. Import Packages"
   ]
  },
  {
   "cell_type": "code",
   "execution_count": 68,
   "metadata": {
    "colab": {},
    "colab_type": "code",
    "id": "CfGkTcLvDuVQ"
   },
   "outputs": [],
   "source": [
    "import pandas as pd\n",
    "import numpy as np\n",
    "from sklearn import tree, metrics\n",
    "from sklearn import preprocessing\n",
    "from sklearn.model_selection import train_test_split\n",
    "from sklearn.ensemble import RandomForestClassifier\n",
    "import graphviz\n",
    "import seaborn as sns\n",
    "import matplotlib.pyplot as plt\n",
    "from io import StringIO  \n",
    "from IPython.display import Image  \n",
    "import pydotplus"
   ]
  },
  {
   "cell_type": "markdown",
   "metadata": {
    "colab_type": "text",
    "id": "ZLgxyhNrDuVT"
   },
   "source": [
    "## 1b. Load data "
   ]
  },
  {
   "cell_type": "code",
   "execution_count": 3,
   "metadata": {
    "colab": {},
    "colab_type": "code",
    "id": "chW2ozlnDuVU"
   },
   "outputs": [
    {
     "data": {
      "text/html": [
       "<div>\n",
       "<style scoped>\n",
       "    .dataframe tbody tr th:only-of-type {\n",
       "        vertical-align: middle;\n",
       "    }\n",
       "\n",
       "    .dataframe tbody tr th {\n",
       "        vertical-align: top;\n",
       "    }\n",
       "\n",
       "    .dataframe thead th {\n",
       "        text-align: right;\n",
       "    }\n",
       "</style>\n",
       "<table border=\"1\" class=\"dataframe\">\n",
       "  <thead>\n",
       "    <tr style=\"text-align: right;\">\n",
       "      <th></th>\n",
       "      <th>Age</th>\n",
       "      <th>Gender</th>\n",
       "      <th>num_coffeeBags_per_year</th>\n",
       "      <th>spent_week</th>\n",
       "      <th>spent_month</th>\n",
       "      <th>SlrAY</th>\n",
       "      <th>Distance</th>\n",
       "      <th>Online</th>\n",
       "      <th>Decision</th>\n",
       "    </tr>\n",
       "  </thead>\n",
       "  <tbody>\n",
       "    <tr>\n",
       "      <th>0</th>\n",
       "      <td>36</td>\n",
       "      <td>Female</td>\n",
       "      <td>0</td>\n",
       "      <td>24</td>\n",
       "      <td>73</td>\n",
       "      <td>42789</td>\n",
       "      <td>0.003168</td>\n",
       "      <td>0</td>\n",
       "      <td>1.0</td>\n",
       "    </tr>\n",
       "    <tr>\n",
       "      <th>1</th>\n",
       "      <td>24</td>\n",
       "      <td>Male</td>\n",
       "      <td>0</td>\n",
       "      <td>44</td>\n",
       "      <td>164</td>\n",
       "      <td>74035</td>\n",
       "      <td>0.520906</td>\n",
       "      <td>0</td>\n",
       "      <td>NaN</td>\n",
       "    </tr>\n",
       "    <tr>\n",
       "      <th>2</th>\n",
       "      <td>24</td>\n",
       "      <td>Male</td>\n",
       "      <td>0</td>\n",
       "      <td>39</td>\n",
       "      <td>119</td>\n",
       "      <td>30563</td>\n",
       "      <td>0.916005</td>\n",
       "      <td>1</td>\n",
       "      <td>1.0</td>\n",
       "    </tr>\n",
       "    <tr>\n",
       "      <th>3</th>\n",
       "      <td>20</td>\n",
       "      <td>Male</td>\n",
       "      <td>0</td>\n",
       "      <td>30</td>\n",
       "      <td>107</td>\n",
       "      <td>13166</td>\n",
       "      <td>0.932098</td>\n",
       "      <td>1</td>\n",
       "      <td>NaN</td>\n",
       "    </tr>\n",
       "    <tr>\n",
       "      <th>4</th>\n",
       "      <td>24</td>\n",
       "      <td>Female</td>\n",
       "      <td>0</td>\n",
       "      <td>20</td>\n",
       "      <td>36</td>\n",
       "      <td>14244</td>\n",
       "      <td>0.965881</td>\n",
       "      <td>0</td>\n",
       "      <td>1.0</td>\n",
       "    </tr>\n",
       "  </tbody>\n",
       "</table>\n",
       "</div>"
      ],
      "text/plain": [
       "   Age  Gender  num_coffeeBags_per_year  spent_week  spent_month  SlrAY  \\\n",
       "0   36  Female                        0          24           73  42789   \n",
       "1   24    Male                        0          44          164  74035   \n",
       "2   24    Male                        0          39          119  30563   \n",
       "3   20    Male                        0          30          107  13166   \n",
       "4   24  Female                        0          20           36  14244   \n",
       "\n",
       "   Distance  Online  Decision  \n",
       "0  0.003168       0       1.0  \n",
       "1  0.520906       0       NaN  \n",
       "2  0.916005       1       1.0  \n",
       "3  0.932098       1       NaN  \n",
       "4  0.965881       0       1.0  "
      ]
     },
     "execution_count": 3,
     "metadata": {},
     "output_type": "execute_result"
    }
   ],
   "source": [
    "# Read in the data to a variable called coffeeData\n",
    "coffeeData = pd.read_csv('data/RRDinerCoffeeData.csv')\n",
    "coffeeData.head()"
   ]
  },
  {
   "cell_type": "markdown",
   "metadata": {
    "colab_type": "text",
    "id": "qnMVYf2NDuVW"
   },
   "source": [
    "## 1c. Explore the data"
   ]
  },
  {
   "cell_type": "markdown",
   "metadata": {
    "colab_type": "text",
    "id": "U5Qm4obyDuVX"
   },
   "source": [
    "As we've seen, exploration entails doing things like checking out the **initial appearance** of the data with head(), the **dimensions** of our data with .shape, the **data types** of the variables with .info(), the **number of non-null values**, how much **memory** is being used to store the data, and finally the major summary statistcs capturing **central tendancy, dispersion and the null-excluding shape of the dataset's distribution**. \n",
    "\n",
    "How much of this can you do yourself by this point in the course? Have a real go. "
   ]
  },
  {
   "cell_type": "code",
   "execution_count": 4,
   "metadata": {
    "colab": {},
    "colab_type": "code",
    "id": "cHEKFT4SDuVY"
   },
   "outputs": [
    {
     "data": {
      "text/html": [
       "<div>\n",
       "<style scoped>\n",
       "    .dataframe tbody tr th:only-of-type {\n",
       "        vertical-align: middle;\n",
       "    }\n",
       "\n",
       "    .dataframe tbody tr th {\n",
       "        vertical-align: top;\n",
       "    }\n",
       "\n",
       "    .dataframe thead th {\n",
       "        text-align: right;\n",
       "    }\n",
       "</style>\n",
       "<table border=\"1\" class=\"dataframe\">\n",
       "  <thead>\n",
       "    <tr style=\"text-align: right;\">\n",
       "      <th></th>\n",
       "      <th>Age</th>\n",
       "      <th>Gender</th>\n",
       "      <th>num_coffeeBags_per_year</th>\n",
       "      <th>spent_week</th>\n",
       "      <th>spent_month</th>\n",
       "      <th>SlrAY</th>\n",
       "      <th>Distance</th>\n",
       "      <th>Online</th>\n",
       "      <th>Decision</th>\n",
       "    </tr>\n",
       "  </thead>\n",
       "  <tbody>\n",
       "    <tr>\n",
       "      <th>0</th>\n",
       "      <td>36</td>\n",
       "      <td>Female</td>\n",
       "      <td>0</td>\n",
       "      <td>24</td>\n",
       "      <td>73</td>\n",
       "      <td>42789</td>\n",
       "      <td>0.003168</td>\n",
       "      <td>0</td>\n",
       "      <td>1.0</td>\n",
       "    </tr>\n",
       "    <tr>\n",
       "      <th>1</th>\n",
       "      <td>24</td>\n",
       "      <td>Male</td>\n",
       "      <td>0</td>\n",
       "      <td>44</td>\n",
       "      <td>164</td>\n",
       "      <td>74035</td>\n",
       "      <td>0.520906</td>\n",
       "      <td>0</td>\n",
       "      <td>NaN</td>\n",
       "    </tr>\n",
       "    <tr>\n",
       "      <th>2</th>\n",
       "      <td>24</td>\n",
       "      <td>Male</td>\n",
       "      <td>0</td>\n",
       "      <td>39</td>\n",
       "      <td>119</td>\n",
       "      <td>30563</td>\n",
       "      <td>0.916005</td>\n",
       "      <td>1</td>\n",
       "      <td>1.0</td>\n",
       "    </tr>\n",
       "    <tr>\n",
       "      <th>3</th>\n",
       "      <td>20</td>\n",
       "      <td>Male</td>\n",
       "      <td>0</td>\n",
       "      <td>30</td>\n",
       "      <td>107</td>\n",
       "      <td>13166</td>\n",
       "      <td>0.932098</td>\n",
       "      <td>1</td>\n",
       "      <td>NaN</td>\n",
       "    </tr>\n",
       "    <tr>\n",
       "      <th>4</th>\n",
       "      <td>24</td>\n",
       "      <td>Female</td>\n",
       "      <td>0</td>\n",
       "      <td>20</td>\n",
       "      <td>36</td>\n",
       "      <td>14244</td>\n",
       "      <td>0.965881</td>\n",
       "      <td>0</td>\n",
       "      <td>1.0</td>\n",
       "    </tr>\n",
       "  </tbody>\n",
       "</table>\n",
       "</div>"
      ],
      "text/plain": [
       "   Age  Gender  num_coffeeBags_per_year  spent_week  spent_month  SlrAY  \\\n",
       "0   36  Female                        0          24           73  42789   \n",
       "1   24    Male                        0          44          164  74035   \n",
       "2   24    Male                        0          39          119  30563   \n",
       "3   20    Male                        0          30          107  13166   \n",
       "4   24  Female                        0          20           36  14244   \n",
       "\n",
       "   Distance  Online  Decision  \n",
       "0  0.003168       0       1.0  \n",
       "1  0.520906       0       NaN  \n",
       "2  0.916005       1       1.0  \n",
       "3  0.932098       1       NaN  \n",
       "4  0.965881       0       1.0  "
      ]
     },
     "execution_count": 4,
     "metadata": {},
     "output_type": "execute_result"
    }
   ],
   "source": [
    "# Call head() on your data \n",
    "coffeeData.head()"
   ]
  },
  {
   "cell_type": "code",
   "execution_count": 5,
   "metadata": {
    "colab": {},
    "colab_type": "code",
    "id": "rDshwA7tDuVa"
   },
   "outputs": [
    {
     "data": {
      "text/plain": [
       "(702, 9)"
      ]
     },
     "execution_count": 5,
     "metadata": {},
     "output_type": "execute_result"
    }
   ],
   "source": [
    "# Call .shape on your data\n",
    "coffeeData.shape"
   ]
  },
  {
   "cell_type": "code",
   "execution_count": 6,
   "metadata": {
    "colab": {},
    "colab_type": "code",
    "id": "iCxo0tomDuVc"
   },
   "outputs": [
    {
     "name": "stdout",
     "output_type": "stream",
     "text": [
      "<class 'pandas.core.frame.DataFrame'>\n",
      "RangeIndex: 702 entries, 0 to 701\n",
      "Data columns (total 9 columns):\n",
      " #   Column                   Non-Null Count  Dtype  \n",
      "---  ------                   --------------  -----  \n",
      " 0   Age                      702 non-null    int64  \n",
      " 1   Gender                   702 non-null    object \n",
      " 2   num_coffeeBags_per_year  702 non-null    int64  \n",
      " 3   spent_week               702 non-null    int64  \n",
      " 4   spent_month              702 non-null    int64  \n",
      " 5   SlrAY                    702 non-null    int64  \n",
      " 6   Distance                 702 non-null    float64\n",
      " 7   Online                   702 non-null    int64  \n",
      " 8   Decision                 474 non-null    float64\n",
      "dtypes: float64(2), int64(6), object(1)\n",
      "memory usage: 49.5+ KB\n"
     ]
    }
   ],
   "source": [
    "# Call info() on your data\n",
    "coffeeData.info()"
   ]
  },
  {
   "cell_type": "code",
   "execution_count": 7,
   "metadata": {
    "colab": {},
    "colab_type": "code",
    "id": "t0ZdmaUeDuVe"
   },
   "outputs": [
    {
     "data": {
      "text/html": [
       "<div>\n",
       "<style scoped>\n",
       "    .dataframe tbody tr th:only-of-type {\n",
       "        vertical-align: middle;\n",
       "    }\n",
       "\n",
       "    .dataframe tbody tr th {\n",
       "        vertical-align: top;\n",
       "    }\n",
       "\n",
       "    .dataframe thead th {\n",
       "        text-align: right;\n",
       "    }\n",
       "</style>\n",
       "<table border=\"1\" class=\"dataframe\">\n",
       "  <thead>\n",
       "    <tr style=\"text-align: right;\">\n",
       "      <th></th>\n",
       "      <th>Age</th>\n",
       "      <th>num_coffeeBags_per_year</th>\n",
       "      <th>spent_week</th>\n",
       "      <th>spent_month</th>\n",
       "      <th>SlrAY</th>\n",
       "      <th>Distance</th>\n",
       "      <th>Online</th>\n",
       "      <th>Decision</th>\n",
       "    </tr>\n",
       "  </thead>\n",
       "  <tbody>\n",
       "    <tr>\n",
       "      <th>count</th>\n",
       "      <td>702.000000</td>\n",
       "      <td>702.000000</td>\n",
       "      <td>702.000000</td>\n",
       "      <td>702.000000</td>\n",
       "      <td>702.000000</td>\n",
       "      <td>702.000000</td>\n",
       "      <td>702.000000</td>\n",
       "      <td>474.000000</td>\n",
       "    </tr>\n",
       "    <tr>\n",
       "      <th>mean</th>\n",
       "      <td>34.243590</td>\n",
       "      <td>2.710826</td>\n",
       "      <td>32.853276</td>\n",
       "      <td>107.923077</td>\n",
       "      <td>43819.843305</td>\n",
       "      <td>4.559186</td>\n",
       "      <td>0.531339</td>\n",
       "      <td>0.639241</td>\n",
       "    </tr>\n",
       "    <tr>\n",
       "      <th>std</th>\n",
       "      <td>13.927945</td>\n",
       "      <td>1.593629</td>\n",
       "      <td>15.731878</td>\n",
       "      <td>55.348485</td>\n",
       "      <td>26192.626943</td>\n",
       "      <td>3.116275</td>\n",
       "      <td>0.499373</td>\n",
       "      <td>0.480728</td>\n",
       "    </tr>\n",
       "    <tr>\n",
       "      <th>min</th>\n",
       "      <td>16.000000</td>\n",
       "      <td>0.000000</td>\n",
       "      <td>0.000000</td>\n",
       "      <td>0.000000</td>\n",
       "      <td>1617.000000</td>\n",
       "      <td>0.003168</td>\n",
       "      <td>0.000000</td>\n",
       "      <td>0.000000</td>\n",
       "    </tr>\n",
       "    <tr>\n",
       "      <th>25%</th>\n",
       "      <td>23.000000</td>\n",
       "      <td>1.000000</td>\n",
       "      <td>24.250000</td>\n",
       "      <td>62.000000</td>\n",
       "      <td>22812.250000</td>\n",
       "      <td>1.877812</td>\n",
       "      <td>0.000000</td>\n",
       "      <td>0.000000</td>\n",
       "    </tr>\n",
       "    <tr>\n",
       "      <th>50%</th>\n",
       "      <td>28.000000</td>\n",
       "      <td>3.000000</td>\n",
       "      <td>36.000000</td>\n",
       "      <td>113.500000</td>\n",
       "      <td>41975.000000</td>\n",
       "      <td>4.196167</td>\n",
       "      <td>1.000000</td>\n",
       "      <td>1.000000</td>\n",
       "    </tr>\n",
       "    <tr>\n",
       "      <th>75%</th>\n",
       "      <td>46.000000</td>\n",
       "      <td>4.000000</td>\n",
       "      <td>43.000000</td>\n",
       "      <td>150.750000</td>\n",
       "      <td>60223.000000</td>\n",
       "      <td>6.712022</td>\n",
       "      <td>1.000000</td>\n",
       "      <td>1.000000</td>\n",
       "    </tr>\n",
       "    <tr>\n",
       "      <th>max</th>\n",
       "      <td>90.000000</td>\n",
       "      <td>5.000000</td>\n",
       "      <td>62.000000</td>\n",
       "      <td>210.000000</td>\n",
       "      <td>182058.000000</td>\n",
       "      <td>10.986203</td>\n",
       "      <td>1.000000</td>\n",
       "      <td>1.000000</td>\n",
       "    </tr>\n",
       "  </tbody>\n",
       "</table>\n",
       "</div>"
      ],
      "text/plain": [
       "              Age  num_coffeeBags_per_year  spent_week  spent_month  \\\n",
       "count  702.000000               702.000000  702.000000   702.000000   \n",
       "mean    34.243590                 2.710826   32.853276   107.923077   \n",
       "std     13.927945                 1.593629   15.731878    55.348485   \n",
       "min     16.000000                 0.000000    0.000000     0.000000   \n",
       "25%     23.000000                 1.000000   24.250000    62.000000   \n",
       "50%     28.000000                 3.000000   36.000000   113.500000   \n",
       "75%     46.000000                 4.000000   43.000000   150.750000   \n",
       "max     90.000000                 5.000000   62.000000   210.000000   \n",
       "\n",
       "               SlrAY    Distance      Online    Decision  \n",
       "count     702.000000  702.000000  702.000000  474.000000  \n",
       "mean    43819.843305    4.559186    0.531339    0.639241  \n",
       "std     26192.626943    3.116275    0.499373    0.480728  \n",
       "min      1617.000000    0.003168    0.000000    0.000000  \n",
       "25%     22812.250000    1.877812    0.000000    0.000000  \n",
       "50%     41975.000000    4.196167    1.000000    1.000000  \n",
       "75%     60223.000000    6.712022    1.000000    1.000000  \n",
       "max    182058.000000   10.986203    1.000000    1.000000  "
      ]
     },
     "execution_count": 7,
     "metadata": {},
     "output_type": "execute_result"
    }
   ],
   "source": [
    "# Call describe() on your data to get the relevant summary statistics for your data \n",
    "coffeeData.describe()"
   ]
  },
  {
   "cell_type": "markdown",
   "metadata": {
    "colab_type": "text",
    "id": "INkujJ6QDuVg"
   },
   "source": [
    "# 2. Cleaning, transforming and visualizing\n",
    "## 2a. Cleaning the data"
   ]
  },
  {
   "cell_type": "markdown",
   "metadata": {
    "colab_type": "text",
    "id": "wIMW_rbdDuVh"
   },
   "source": [
    "Some datasets don't require any cleaning, but almost all do. This one does. We need to replace '1.0' and '0.0' in the 'Decision' column by 'YES' and 'NO' respectively, clean up the values of the 'gender' column, and change the column names to words which maximize meaning and clarity. "
   ]
  },
  {
   "cell_type": "markdown",
   "metadata": {
    "colab_type": "text",
    "id": "EEXdBALeDuVi"
   },
   "source": [
    "First, let's change the name of `spent_week`, `spent_month`, and `SlrAY` to `spent_last_week` and `spent_last_month` and `salary` respectively."
   ]
  },
  {
   "cell_type": "code",
   "execution_count": 8,
   "metadata": {
    "colab": {},
    "colab_type": "code",
    "id": "rhxy23pbDuVi"
   },
   "outputs": [
    {
     "data": {
      "text/plain": [
       "Index(['Age', 'Gender', 'num_coffeeBags_per_year', 'spent_week', 'spent_month',\n",
       "       'SlrAY', 'Distance', 'Online', 'Decision'],\n",
       "      dtype='object')"
      ]
     },
     "execution_count": 8,
     "metadata": {},
     "output_type": "execute_result"
    }
   ],
   "source": [
    "# Check out the names of our data's columns \n",
    "coffeeData.columns"
   ]
  },
  {
   "cell_type": "code",
   "execution_count": 9,
   "metadata": {
    "colab": {},
    "colab_type": "code",
    "id": "C_D1m6ryDuVk"
   },
   "outputs": [],
   "source": [
    "# Make the relevant name changes to spent_week and spent_per_week.\n",
    "coffeeData = coffeeData.rename(columns={'spent_week':'spent_last_week','spent_month':'spent_last_month','SlrAY':'salary'})"
   ]
  },
  {
   "cell_type": "code",
   "execution_count": 10,
   "metadata": {
    "colab": {},
    "colab_type": "code",
    "id": "3cmdaeg8DuVm"
   },
   "outputs": [
    {
     "data": {
      "text/plain": [
       "Index(['Age', 'Gender', 'num_coffeeBags_per_year', 'spent_last_week',\n",
       "       'spent_last_month', 'salary', 'Distance', 'Online', 'Decision'],\n",
       "      dtype='object')"
      ]
     },
     "execution_count": 10,
     "metadata": {},
     "output_type": "execute_result"
    }
   ],
   "source": [
    "# Check out the column names\n",
    "coffeeData.columns"
   ]
  },
  {
   "cell_type": "code",
   "execution_count": 11,
   "metadata": {
    "colab": {},
    "colab_type": "code",
    "id": "XJK-wbfODuVp"
   },
   "outputs": [
    {
     "data": {
      "text/plain": [
       "count      702\n",
       "unique       9\n",
       "top       Male\n",
       "freq       355\n",
       "Name: Gender, dtype: object"
      ]
     },
     "execution_count": 11,
     "metadata": {},
     "output_type": "execute_result"
    }
   ],
   "source": [
    "# Let's have a closer look at the gender column. Its values need cleaning.\n",
    "coffeeData.Gender.describe()"
   ]
  },
  {
   "cell_type": "code",
   "execution_count": 12,
   "metadata": {
    "colab": {},
    "colab_type": "code",
    "id": "88bITtgzDuVr"
   },
   "outputs": [
    {
     "data": {
      "text/plain": [
       "Male      355\n",
       "Female    340\n",
       "F           1\n",
       "male        1\n",
       "f           1\n",
       "female      1\n",
       "M           1\n",
       "MALE        1\n",
       "FEMALE      1\n",
       "Name: Gender, dtype: int64"
      ]
     },
     "execution_count": 12,
     "metadata": {},
     "output_type": "execute_result"
    }
   ],
   "source": [
    "# See the gender column's unique values \n",
    "coffeeData['Gender'].value_counts()"
   ]
  },
  {
   "cell_type": "markdown",
   "metadata": {
    "colab_type": "text",
    "id": "-eGzgGR1DuVt"
   },
   "source": [
    "We can see a bunch of inconsistency here.\n",
    "\n",
    "Use replace() to make the values of the `gender` column just `Female` and `Male`."
   ]
  },
  {
   "cell_type": "code",
   "execution_count": 13,
   "metadata": {
    "colab": {},
    "colab_type": "code",
    "id": "h0FOX3I3DuVu"
   },
   "outputs": [],
   "source": [
    "# Replace all alternate values for the Female entry with 'Female'\n",
    "coffeeData = coffeeData.replace({'Gender':{'M':'Male','f ':'Female','female':'Female','F':'Female',\n",
    "                                           'MALE':'Male','FEMALE':'Female','male':'Male'}})"
   ]
  },
  {
   "cell_type": "code",
   "execution_count": 14,
   "metadata": {
    "colab": {},
    "colab_type": "code",
    "id": "5TThfHgCDuVw"
   },
   "outputs": [
    {
     "data": {
      "text/plain": [
       "Male      358\n",
       "Female    344\n",
       "Name: Gender, dtype: int64"
      ]
     },
     "execution_count": 14,
     "metadata": {},
     "output_type": "execute_result"
    }
   ],
   "source": [
    "# Check out the unique values for the 'gender' column\n",
    "coffeeData.Gender.nunique()\n",
    "coffeeData['Gender'].value_counts()"
   ]
  },
  {
   "cell_type": "code",
   "execution_count": 15,
   "metadata": {
    "colab": {},
    "colab_type": "code",
    "id": "4wRKBvSHDuVy"
   },
   "outputs": [],
   "source": [
    "# Replace all alternate values with \"Male\"\n",
    "#coffeeData = coffeeData['Gender'].str.replace(r'\\F+', '')"
   ]
  },
  {
   "cell_type": "code",
   "execution_count": 16,
   "metadata": {
    "colab": {},
    "colab_type": "code",
    "id": "nhBUkXIADuV0"
   },
   "outputs": [
    {
     "data": {
      "text/plain": [
       "2"
      ]
     },
     "execution_count": 16,
     "metadata": {},
     "output_type": "execute_result"
    }
   ],
   "source": [
    "# Let's check the unique values of the column \"gender\"\n",
    "coffeeData.Gender.nunique()"
   ]
  },
  {
   "cell_type": "code",
   "execution_count": 17,
   "metadata": {
    "colab": {},
    "colab_type": "code",
    "id": "AdhhO4WHDuV2"
   },
   "outputs": [
    {
     "data": {
      "text/plain": [
       "1.0    303\n",
       "0.0    171\n",
       "Name: Decision, dtype: int64"
      ]
     },
     "execution_count": 17,
     "metadata": {},
     "output_type": "execute_result"
    }
   ],
   "source": [
    "# Check out the unique values of the column 'Decision'\n",
    "coffeeData.Decision.nunique()\n",
    "coffeeData.Decision.value_counts()"
   ]
  },
  {
   "cell_type": "markdown",
   "metadata": {
    "colab_type": "text",
    "id": "m1JuiY-iDuV5"
   },
   "source": [
    "We now want to replace `1.0` and `0.0` in the `Decision` column by `YES` and `NO` respectively."
   ]
  },
  {
   "cell_type": "code",
   "execution_count": 18,
   "metadata": {
    "colab": {},
    "colab_type": "code",
    "id": "QsK6gYPgDuV5"
   },
   "outputs": [],
   "source": [
    "# Replace 1.0 and 0.0 by 'Yes' and 'No'\n",
    "coffeeData = coffeeData.replace({'Decision':{1.0: 'YES',0.0:'NO'}})"
   ]
  },
  {
   "cell_type": "code",
   "execution_count": 19,
   "metadata": {
    "colab": {},
    "colab_type": "code",
    "id": "YtHnTZuWDuV9"
   },
   "outputs": [
    {
     "data": {
      "text/plain": [
       "count     474\n",
       "unique      2\n",
       "top       YES\n",
       "freq      303\n",
       "Name: Decision, dtype: object"
      ]
     },
     "execution_count": 19,
     "metadata": {},
     "output_type": "execute_result"
    }
   ],
   "source": [
    "# Check that our replacing those values with 'YES' and 'NO' worked, with unique()\n",
    "coffeeData.Decision.describe()"
   ]
  },
  {
   "cell_type": "markdown",
   "metadata": {
    "colab_type": "text",
    "id": "CKCt-fBlDuWB"
   },
   "source": [
    "## 2b. Train/test split\n",
    "To execute the train/test split properly, we need to do five things: \n",
    "1. Drop all rows with a null value in the `Decision` column, and save the result as NOPrediction: a dataset that will contain all known values for the decision \n",
    "2. Visualize the data using scatter and boxplots of several variables in the y-axis and the decision on the x-axis\n",
    "3. Get the subset of coffeeData with null values in the `Decision` column, and save that subset as Prediction\n",
    "4. Divide the NOPrediction subset into X and y, and then further divide those subsets into train and test subsets for X and y respectively\n",
    "5. Create dummy variables to deal with categorical inputs"
   ]
  },
  {
   "cell_type": "markdown",
   "metadata": {
    "colab_type": "text",
    "id": "ysHdkIaQDuWB"
   },
   "source": [
    "### 1. Drop all null values within the `Decision` column, and save the result as NoPrediction"
   ]
  },
  {
   "cell_type": "code",
   "execution_count": 20,
   "metadata": {
    "colab": {},
    "colab_type": "code",
    "id": "pvgH6SM4DuWC"
   },
   "outputs": [
    {
     "data": {
      "text/plain": [
       "count     474\n",
       "unique      2\n",
       "top       YES\n",
       "freq      303\n",
       "Name: Decision, dtype: object"
      ]
     },
     "execution_count": 20,
     "metadata": {},
     "output_type": "execute_result"
    }
   ],
   "source": [
    "# NoPrediction will contain all known values for the decision\n",
    "# Call dropna() on coffeeData, and store the result in a variable NOPrediction \n",
    "# Call describe() on the Decision column of NoPrediction after calling dropna() on coffeeData\n",
    "NoPrediction = coffeeData.dropna(subset=['Decision'])\n",
    "NoPrediction.Decision.describe()"
   ]
  },
  {
   "cell_type": "markdown",
   "metadata": {
    "colab_type": "text",
    "id": "XfTK5Ec6DuWE"
   },
   "source": [
    "### 2. Visualize the data using scatter and boxplots of several variables in the y-axis and the decision on the x-axis"
   ]
  },
  {
   "cell_type": "code",
   "execution_count": 21,
   "metadata": {
    "colab": {},
    "colab_type": "code",
    "id": "5O-M-t3tDuWE"
   },
   "outputs": [
    {
     "data": {
      "image/png": "[encoded data removed]",
      "text/plain": [
       "<Figure size 432x288 with 1 Axes>"
      ]
     },
     "metadata": {
      "needs_background": "light"
     },
     "output_type": "display_data"
    }
   ],
   "source": [
    "# Exploring our new NOPrediction dataset\n",
    "# Make a boxplot on NOPrediction where the x axis is Decision, and the y axis is spent_last_week\n",
    "sns.boxplot(x='Decision',y='spent_last_week',data=NoPrediction)\n",
    "plt.show()"
   ]
  },
  {
   "cell_type": "markdown",
   "metadata": {
    "colab_type": "text",
    "id": "mVqg_HI7DuWG"
   },
   "source": [
    "Can you admissibly conclude anything from this boxplot? Write your answer here:\n",
    "\n",
    "Most of customer who spent at least some amount last weeks are interested to purchase new coffee from RR's Diner. \n",
    "They may have previous good experience with RR's diner and would like to test this new Hidden Coffee came with \n",
    "completely different flavours.\n",
    "On the orther hand, during survey who says no for new coffee flavour are some people who did not spent any money\n",
    "last week as well.\n",
    "\n"
   ]
  },
  {
   "cell_type": "code",
   "execution_count": 22,
   "metadata": {
    "colab": {},
    "colab_type": "code",
    "id": "q-AyXWSxDuWH"
   },
   "outputs": [
    {
     "data": {
      "image/png": "[encoded data removed]",
      "text/plain": [
       "<Figure size 432x288 with 1 Axes>"
      ]
     },
     "metadata": {
      "needs_background": "light"
     },
     "output_type": "display_data"
    }
   ],
   "source": [
    "# Make a scatterplot on NOPrediction, where x is distance, y is spent_last_month and hue is Decision \n",
    "_ = sns.scatterplot(x='Distance',y='spent_last_month',data=NoPrediction, hue='Decision')\n",
    "plt.show()"
   ]
  },
  {
   "cell_type": "markdown",
   "metadata": {
    "colab_type": "text",
    "id": "I_nr36yZDuWJ"
   },
   "source": [
    "Can you admissibly conclude anything from this scatterplot? Remember: we are trying to build a tree to classify unseen examples. Write your answer here:\n",
    "\n",
    "Two variable `spent_last_week` and `distance` are correlated, where customer who spent less for last month and who lived far from US store are more likely not buying new coffee from RR's diner. "
   ]
  },
  {
   "cell_type": "markdown",
   "metadata": {
    "colab_type": "text",
    "id": "oQBPyvehDuWK"
   },
   "source": [
    "### 3. Get the subset of coffeeData with null values in the Decision column, and save that subset as Prediction"
   ]
  },
  {
   "cell_type": "code",
   "execution_count": 23,
   "metadata": {
    "colab": {},
    "colab_type": "code",
    "id": "vcCednqUDuWL"
   },
   "outputs": [
    {
     "data": {
      "text/html": [
       "<div>\n",
       "<style scoped>\n",
       "    .dataframe tbody tr th:only-of-type {\n",
       "        vertical-align: middle;\n",
       "    }\n",
       "\n",
       "    .dataframe tbody tr th {\n",
       "        vertical-align: top;\n",
       "    }\n",
       "\n",
       "    .dataframe thead th {\n",
       "        text-align: right;\n",
       "    }\n",
       "</style>\n",
       "<table border=\"1\" class=\"dataframe\">\n",
       "  <thead>\n",
       "    <tr style=\"text-align: right;\">\n",
       "      <th></th>\n",
       "      <th>Age</th>\n",
       "      <th>Gender</th>\n",
       "      <th>num_coffeeBags_per_year</th>\n",
       "      <th>spent_last_week</th>\n",
       "      <th>spent_last_month</th>\n",
       "      <th>salary</th>\n",
       "      <th>Distance</th>\n",
       "      <th>Online</th>\n",
       "      <th>Decision</th>\n",
       "    </tr>\n",
       "  </thead>\n",
       "  <tbody>\n",
       "    <tr>\n",
       "      <th>1</th>\n",
       "      <td>24</td>\n",
       "      <td>Male</td>\n",
       "      <td>0</td>\n",
       "      <td>44</td>\n",
       "      <td>164</td>\n",
       "      <td>74035</td>\n",
       "      <td>0.520906</td>\n",
       "      <td>0</td>\n",
       "      <td>NaN</td>\n",
       "    </tr>\n",
       "    <tr>\n",
       "      <th>3</th>\n",
       "      <td>20</td>\n",
       "      <td>Male</td>\n",
       "      <td>0</td>\n",
       "      <td>30</td>\n",
       "      <td>107</td>\n",
       "      <td>13166</td>\n",
       "      <td>0.932098</td>\n",
       "      <td>1</td>\n",
       "      <td>NaN</td>\n",
       "    </tr>\n",
       "    <tr>\n",
       "      <th>7</th>\n",
       "      <td>24</td>\n",
       "      <td>Female</td>\n",
       "      <td>0</td>\n",
       "      <td>20</td>\n",
       "      <td>34</td>\n",
       "      <td>17425</td>\n",
       "      <td>1.193188</td>\n",
       "      <td>0</td>\n",
       "      <td>NaN</td>\n",
       "    </tr>\n",
       "    <tr>\n",
       "      <th>11</th>\n",
       "      <td>24</td>\n",
       "      <td>Female</td>\n",
       "      <td>0</td>\n",
       "      <td>40</td>\n",
       "      <td>153</td>\n",
       "      <td>84803</td>\n",
       "      <td>1.655096</td>\n",
       "      <td>1</td>\n",
       "      <td>NaN</td>\n",
       "    </tr>\n",
       "    <tr>\n",
       "      <th>12</th>\n",
       "      <td>21</td>\n",
       "      <td>Female</td>\n",
       "      <td>0</td>\n",
       "      <td>38</td>\n",
       "      <td>122</td>\n",
       "      <td>42338</td>\n",
       "      <td>1.714179</td>\n",
       "      <td>1</td>\n",
       "      <td>NaN</td>\n",
       "    </tr>\n",
       "  </tbody>\n",
       "</table>\n",
       "</div>"
      ],
      "text/plain": [
       "    Age  Gender  num_coffeeBags_per_year  spent_last_week  spent_last_month  \\\n",
       "1    24    Male                        0               44               164   \n",
       "3    20    Male                        0               30               107   \n",
       "7    24  Female                        0               20                34   \n",
       "11   24  Female                        0               40               153   \n",
       "12   21  Female                        0               38               122   \n",
       "\n",
       "    salary  Distance  Online Decision  \n",
       "1    74035  0.520906       0      NaN  \n",
       "3    13166  0.932098       1      NaN  \n",
       "7    17425  1.193188       0      NaN  \n",
       "11   84803  1.655096       1      NaN  \n",
       "12   42338  1.714179       1      NaN  "
      ]
     },
     "execution_count": 23,
     "metadata": {},
     "output_type": "execute_result"
    }
   ],
   "source": [
    "# Get just those rows whose value for the Decision column is null  \n",
    "prediction = coffeeData[coffeeData['Decision'].isna()]\n",
    "prediction.head()"
   ]
  },
  {
   "cell_type": "code",
   "execution_count": 24,
   "metadata": {
    "colab": {},
    "colab_type": "code",
    "id": "aenlmp9NDuWM"
   },
   "outputs": [
    {
     "data": {
      "text/html": [
       "<div>\n",
       "<style scoped>\n",
       "    .dataframe tbody tr th:only-of-type {\n",
       "        vertical-align: middle;\n",
       "    }\n",
       "\n",
       "    .dataframe tbody tr th {\n",
       "        vertical-align: top;\n",
       "    }\n",
       "\n",
       "    .dataframe thead th {\n",
       "        text-align: right;\n",
       "    }\n",
       "</style>\n",
       "<table border=\"1\" class=\"dataframe\">\n",
       "  <thead>\n",
       "    <tr style=\"text-align: right;\">\n",
       "      <th></th>\n",
       "      <th>Age</th>\n",
       "      <th>num_coffeeBags_per_year</th>\n",
       "      <th>spent_last_week</th>\n",
       "      <th>spent_last_month</th>\n",
       "      <th>salary</th>\n",
       "      <th>Distance</th>\n",
       "      <th>Online</th>\n",
       "    </tr>\n",
       "  </thead>\n",
       "  <tbody>\n",
       "    <tr>\n",
       "      <th>count</th>\n",
       "      <td>228.000000</td>\n",
       "      <td>228.000000</td>\n",
       "      <td>228.000000</td>\n",
       "      <td>228.000000</td>\n",
       "      <td>228.000000</td>\n",
       "      <td>228.000000</td>\n",
       "      <td>228.000000</td>\n",
       "    </tr>\n",
       "    <tr>\n",
       "      <th>mean</th>\n",
       "      <td>31.802632</td>\n",
       "      <td>2.960526</td>\n",
       "      <td>33.394737</td>\n",
       "      <td>110.407895</td>\n",
       "      <td>41923.741228</td>\n",
       "      <td>3.428836</td>\n",
       "      <td>0.570175</td>\n",
       "    </tr>\n",
       "    <tr>\n",
       "      <th>std</th>\n",
       "      <td>14.302293</td>\n",
       "      <td>1.585514</td>\n",
       "      <td>15.697930</td>\n",
       "      <td>53.786536</td>\n",
       "      <td>27406.768360</td>\n",
       "      <td>2.153102</td>\n",
       "      <td>0.496140</td>\n",
       "    </tr>\n",
       "    <tr>\n",
       "      <th>min</th>\n",
       "      <td>16.000000</td>\n",
       "      <td>0.000000</td>\n",
       "      <td>0.000000</td>\n",
       "      <td>0.000000</td>\n",
       "      <td>1617.000000</td>\n",
       "      <td>0.010048</td>\n",
       "      <td>0.000000</td>\n",
       "    </tr>\n",
       "    <tr>\n",
       "      <th>25%</th>\n",
       "      <td>22.000000</td>\n",
       "      <td>2.000000</td>\n",
       "      <td>25.750000</td>\n",
       "      <td>65.000000</td>\n",
       "      <td>15911.500000</td>\n",
       "      <td>1.699408</td>\n",
       "      <td>0.000000</td>\n",
       "    </tr>\n",
       "    <tr>\n",
       "      <th>50%</th>\n",
       "      <td>25.000000</td>\n",
       "      <td>3.000000</td>\n",
       "      <td>37.000000</td>\n",
       "      <td>113.500000</td>\n",
       "      <td>40987.500000</td>\n",
       "      <td>3.208673</td>\n",
       "      <td>1.000000</td>\n",
       "    </tr>\n",
       "    <tr>\n",
       "      <th>75%</th>\n",
       "      <td>39.000000</td>\n",
       "      <td>4.000000</td>\n",
       "      <td>44.000000</td>\n",
       "      <td>151.250000</td>\n",
       "      <td>58537.000000</td>\n",
       "      <td>5.261184</td>\n",
       "      <td>1.000000</td>\n",
       "    </tr>\n",
       "    <tr>\n",
       "      <th>max</th>\n",
       "      <td>67.000000</td>\n",
       "      <td>5.000000</td>\n",
       "      <td>62.000000</td>\n",
       "      <td>210.000000</td>\n",
       "      <td>182058.000000</td>\n",
       "      <td>10.871566</td>\n",
       "      <td>1.000000</td>\n",
       "    </tr>\n",
       "  </tbody>\n",
       "</table>\n",
       "</div>"
      ],
      "text/plain": [
       "              Age  num_coffeeBags_per_year  spent_last_week  spent_last_month  \\\n",
       "count  228.000000               228.000000       228.000000        228.000000   \n",
       "mean    31.802632                 2.960526        33.394737        110.407895   \n",
       "std     14.302293                 1.585514        15.697930         53.786536   \n",
       "min     16.000000                 0.000000         0.000000          0.000000   \n",
       "25%     22.000000                 2.000000        25.750000         65.000000   \n",
       "50%     25.000000                 3.000000        37.000000        113.500000   \n",
       "75%     39.000000                 4.000000        44.000000        151.250000   \n",
       "max     67.000000                 5.000000        62.000000        210.000000   \n",
       "\n",
       "              salary    Distance      Online  \n",
       "count     228.000000  228.000000  228.000000  \n",
       "mean    41923.741228    3.428836    0.570175  \n",
       "std     27406.768360    2.153102    0.496140  \n",
       "min      1617.000000    0.010048    0.000000  \n",
       "25%     15911.500000    1.699408    0.000000  \n",
       "50%     40987.500000    3.208673    1.000000  \n",
       "75%     58537.000000    5.261184    1.000000  \n",
       "max    182058.000000   10.871566    1.000000  "
      ]
     },
     "execution_count": 24,
     "metadata": {},
     "output_type": "execute_result"
    }
   ],
   "source": [
    "# Call describe() on Prediction\n",
    "prediction.describe()"
   ]
  },
  {
   "cell_type": "markdown",
   "metadata": {
    "colab_type": "text",
    "id": "zmN_BPwFDuWO"
   },
   "source": [
    "### 4. Divide the NOPrediction subset into X and y"
   ]
  },
  {
   "cell_type": "code",
   "execution_count": 25,
   "metadata": {
    "colab": {},
    "colab_type": "code",
    "id": "00WtPVYSDuWP"
   },
   "outputs": [
    {
     "data": {
      "text/plain": [
       "Index(['Age', 'Gender', 'num_coffeeBags_per_year', 'spent_last_week',\n",
       "       'spent_last_month', 'salary', 'Distance', 'Online', 'Decision'],\n",
       "      dtype='object')"
      ]
     },
     "execution_count": 25,
     "metadata": {},
     "output_type": "execute_result"
    }
   ],
   "source": [
    "# Check the names of the columns of NOPrediction\n",
    "NoPrediction.columns"
   ]
  },
  {
   "cell_type": "code",
   "execution_count": 26,
   "metadata": {
    "colab": {},
    "colab_type": "code",
    "id": "oPi2gMLfDuWQ"
   },
   "outputs": [],
   "source": [
    "# Let's do our feature selection.\n",
    "# Make a variable called 'features', and a list containing the strings of every column except \"Decision\"\n",
    "features = ['Age','Gender','num_coffeeBags_per_year','spent_last_week','spent_last_month','salary',\n",
    "            'Distance','Online']\n",
    "\n",
    "# Make an explanatory variable called X, and assign it: NoPrediction[features]\n",
    "x = NoPrediction[features]\n",
    "# Make a dependent variable called y, and assign it: NoPrediction.Decision\n",
    "y = NoPrediction.Decision"
   ]
  },
  {
   "cell_type": "markdown",
   "metadata": {
    "colab_type": "text",
    "id": "R-d3XOv8DuWW"
   },
   "source": [
    "### 5. Create dummy variables to deal with categorical inputs\n",
    "One-hot encoding replaces each unique value of a given column with a new column, and puts a 1 in the new column for a given row just if its initial value for the original column matches the new column. Check out [this resource](https://hackernoon.com/what-is-one-hot-encoding-why-and-when-do-you-have-to-use-it-e3c6186d008f) if you haven't seen one-hot-encoding before. \n",
    "\n",
    "**Note**: We will do this before we do our train/test split as to do it after could mean that some categories only end up in the train or test split of our data by chance and this would then lead to different shapes of data for our `X_train` and `X_test` which could/would cause downstream issues when fitting or predicting using a trained model."
   ]
  },
  {
   "cell_type": "code",
   "execution_count": 27,
   "metadata": {
    "colab": {},
    "colab_type": "code",
    "id": "xXHGDZkZDuWW"
   },
   "outputs": [],
   "source": [
    "# One-hot encode all features in X.\n",
    "X = pd.get_dummies(x)"
   ]
  },
  {
   "cell_type": "code",
   "execution_count": 28,
   "metadata": {},
   "outputs": [
    {
     "data": {
      "text/html": [
       "<div>\n",
       "<style scoped>\n",
       "    .dataframe tbody tr th:only-of-type {\n",
       "        vertical-align: middle;\n",
       "    }\n",
       "\n",
       "    .dataframe tbody tr th {\n",
       "        vertical-align: top;\n",
       "    }\n",
       "\n",
       "    .dataframe thead th {\n",
       "        text-align: right;\n",
       "    }\n",
       "</style>\n",
       "<table border=\"1\" class=\"dataframe\">\n",
       "  <thead>\n",
       "    <tr style=\"text-align: right;\">\n",
       "      <th></th>\n",
       "      <th>Age</th>\n",
       "      <th>num_coffeeBags_per_year</th>\n",
       "      <th>spent_last_week</th>\n",
       "      <th>spent_last_month</th>\n",
       "      <th>salary</th>\n",
       "      <th>Distance</th>\n",
       "      <th>Online</th>\n",
       "      <th>Gender_Female</th>\n",
       "      <th>Gender_Male</th>\n",
       "    </tr>\n",
       "  </thead>\n",
       "  <tbody>\n",
       "    <tr>\n",
       "      <th>0</th>\n",
       "      <td>36</td>\n",
       "      <td>0</td>\n",
       "      <td>24</td>\n",
       "      <td>73</td>\n",
       "      <td>42789</td>\n",
       "      <td>0.003168</td>\n",
       "      <td>0</td>\n",
       "      <td>1</td>\n",
       "      <td>0</td>\n",
       "    </tr>\n",
       "    <tr>\n",
       "      <th>2</th>\n",
       "      <td>24</td>\n",
       "      <td>0</td>\n",
       "      <td>39</td>\n",
       "      <td>119</td>\n",
       "      <td>30563</td>\n",
       "      <td>0.916005</td>\n",
       "      <td>1</td>\n",
       "      <td>0</td>\n",
       "      <td>1</td>\n",
       "    </tr>\n",
       "    <tr>\n",
       "      <th>4</th>\n",
       "      <td>24</td>\n",
       "      <td>0</td>\n",
       "      <td>20</td>\n",
       "      <td>36</td>\n",
       "      <td>14244</td>\n",
       "      <td>0.965881</td>\n",
       "      <td>0</td>\n",
       "      <td>1</td>\n",
       "      <td>0</td>\n",
       "    </tr>\n",
       "    <tr>\n",
       "      <th>5</th>\n",
       "      <td>20</td>\n",
       "      <td>0</td>\n",
       "      <td>23</td>\n",
       "      <td>28</td>\n",
       "      <td>14293</td>\n",
       "      <td>1.036346</td>\n",
       "      <td>1</td>\n",
       "      <td>1</td>\n",
       "      <td>0</td>\n",
       "    </tr>\n",
       "    <tr>\n",
       "      <th>6</th>\n",
       "      <td>34</td>\n",
       "      <td>0</td>\n",
       "      <td>55</td>\n",
       "      <td>202</td>\n",
       "      <td>91035</td>\n",
       "      <td>1.134851</td>\n",
       "      <td>0</td>\n",
       "      <td>1</td>\n",
       "      <td>0</td>\n",
       "    </tr>\n",
       "  </tbody>\n",
       "</table>\n",
       "</div>"
      ],
      "text/plain": [
       "   Age  num_coffeeBags_per_year  spent_last_week  spent_last_month  salary  \\\n",
       "0   36                        0               24                73   42789   \n",
       "2   24                        0               39               119   30563   \n",
       "4   24                        0               20                36   14244   \n",
       "5   20                        0               23                28   14293   \n",
       "6   34                        0               55               202   91035   \n",
       "\n",
       "   Distance  Online  Gender_Female  Gender_Male  \n",
       "0  0.003168       0              1            0  \n",
       "2  0.916005       1              0            1  \n",
       "4  0.965881       0              1            0  \n",
       "5  1.036346       1              1            0  \n",
       "6  1.134851       0              1            0  "
      ]
     },
     "execution_count": 28,
     "metadata": {},
     "output_type": "execute_result"
    }
   ],
   "source": [
    "X.head()"
   ]
  },
  {
   "cell_type": "markdown",
   "metadata": {
    "colab_type": "text",
    "id": "Jdn_dHlkDuWS"
   },
   "source": [
    "### 6. Further divide those subsets into train and test subsets for X and y respectively: X_train, X_test, y_train, y_test"
   ]
  },
  {
   "cell_type": "code",
   "execution_count": 29,
   "metadata": {
    "colab": {},
    "colab_type": "code",
    "id": "RqbHQza-DuWT"
   },
   "outputs": [],
   "source": [
    "# Call train_test_split on X, y. Make the test_size = 0.25, and random_state = 246\n",
    "X_train,X_test,y_train,y_test = train_test_split(X,y,test_size=0.25,random_state=246)"
   ]
  },
  {
   "cell_type": "markdown",
   "metadata": {
    "colab_type": "text",
    "id": "nqvyCX-6DuWb"
   },
   "source": [
    "# 3. Modelling\n",
    "It's useful to look at the scikit-learn documentation on decision trees https://scikit-learn.org/stable/modules/tree.html before launching into applying them. If you haven't seen them before, take a look at that link, in particular the section `1.10.5.` "
   ]
  },
  {
   "cell_type": "markdown",
   "metadata": {
    "colab_type": "text",
    "id": "RIm9IN5HDuWc"
   },
   "source": [
    "## Model 1: Entropy model - no max_depth\n",
    "\n",
    "We'll give you a little more guidance here, as the Python is hard to deduce, and scikitlearn takes some getting used to.\n",
    "\n",
    "Theoretically, let's remind ourselves of what's going on with a decision tree implementing an entropy model.\n",
    "\n",
    "Ross Quinlan's **ID3 Algorithm** was one of the first, and one of the most basic, to use entropy as a metric.\n",
    "\n",
    "**Entropy** is a measure of how uncertain we are about which category the data-points fall into at a given point in the tree. The **Information gain** of a specific feature with a threshold (such as 'spent_last_month <= 138.0') is the difference in entropy that exists before and after splitting on that feature; i.e., the information we gain about the categories of the data-points by splitting on that feature and that threshold. \n",
    "\n",
    "Naturally, we want to minimize entropy and maximize information gain. Quinlan's ID3 algorithm is designed to output a tree such that the features at each node, starting from the root, and going all the way down to the leaves, have maximial information gain. We want a tree whose leaves have elements that are *homogeneous*, that is, all of the same category. \n",
    "\n",
    "The first model will be the hardest. Persevere and you'll reap the rewards: you can use almost exactly the same code for the other models. "
   ]
  },
  {
   "cell_type": "code",
   "execution_count": 30,
   "metadata": {
    "colab": {},
    "colab_type": "code",
    "id": "8-gelLDgDuWc"
   },
   "outputs": [
    {
     "data": {
      "text/plain": [
       "DecisionTreeClassifier(criterion='entropy', random_state=1234)"
      ]
     },
     "execution_count": 30,
     "metadata": {},
     "output_type": "execute_result"
    }
   ],
   "source": [
    "# Declare a variable called entr_model and use tree.DecisionTreeClassifier. \n",
    "entr_model = tree.DecisionTreeClassifier(criterion=\"entropy\", random_state = 1234)\n",
    "# Call fit() on entr_model\n",
    "entr_model.fit(X_train,y_train)\n",
    "\n",
    "# Call predict() on entr_model with X_test passed to it, and assign the result to a variable y_pred \n",
    "y_pred = entr_model.predict(X_test)\n",
    "\n",
    "# Call Series on our y_pred variable with the following: pd.Series(y_pred)\n",
    "y_pred = pd.Series(y_pred)\n",
    "\n",
    "# Check out entr_model\n",
    "entr_model"
   ]
  },
  {
   "cell_type": "code",
   "execution_count": 31,
   "metadata": {
    "colab": {},
    "colab_type": "code",
    "id": "S4FbHfWnDuWe"
   },
   "outputs": [
    {
     "data": {
      "image/svg+xml": [
       "<?xml version=\"1.0\" encoding=\"UTF-8\" standalone=\"no\"?>\n",
       "<!DOCTYPE svg PUBLIC \"-//W3C//DTD SVG 1.1//EN\"\n",
       " \"http://www.w3.org/Graphics/SVG/1.1/DTD/svg11.dtd\">\n",
       "<!-- Generated by graphviz version 2.42.3 (20191010.1750)\n",
       " -->\n",
       "<!-- Title: Tree Pages: 1 -->\n",
       "<svg width=\"728pt\" height=\"642pt\"\n",
       " viewBox=\"0.00 0.00 728.23 642.00\" xmlns=\"http://www.w3.org/2000/svg\" xmlns:xlink=\"http://www.w3.org/1999/xlink\">\n",
       "<g id=\"graph0\" class=\"graph\" transform=\"scale(1 1) rotate(0) translate(4 638)\">\n",
       "<title>Tree</title>\n",
       "<polygon fill=\"white\" stroke=\"transparent\" points=\"-4,4 -4,-638 724.23,-638 724.23,4 -4,4\"/>\n",
       "<!-- 0 -->\n",
       "<g id=\"node1\" class=\"node\">\n",
       "<title>0</title>\n",
       "<path fill=\"#abd6f4\" stroke=\"black\" d=\"M413.57,-634C413.57,-634 260.54,-634 260.54,-634 254.54,-634 248.54,-628 248.54,-622 248.54,-622 248.54,-568 248.54,-568 248.54,-562 254.54,-556 260.54,-556 260.54,-556 413.57,-556 413.57,-556 419.57,-556 425.57,-562 425.57,-568 425.57,-568 425.57,-622 425.57,-622 425.57,-628 419.57,-634 413.57,-634\"/>\n",
       "<text text-anchor=\"start\" x=\"256.55\" y=\"-618.8\" font-family=\"Helvetica,sans-Serif\" font-size=\"14.00\">spent_last_month ≤ 138.0</text>\n",
       "<text text-anchor=\"start\" x=\"288.21\" y=\"-604.8\" font-family=\"Helvetica,sans-Serif\" font-size=\"14.00\">entropy = 0.948</text>\n",
       "<text text-anchor=\"start\" x=\"291.33\" y=\"-590.8\" font-family=\"Helvetica,sans-Serif\" font-size=\"14.00\">samples = 355</text>\n",
       "<text text-anchor=\"start\" x=\"281.21\" y=\"-576.8\" font-family=\"Helvetica,sans-Serif\" font-size=\"14.00\">value = [130, 225]</text>\n",
       "<text text-anchor=\"start\" x=\"299.25\" y=\"-562.8\" font-family=\"Helvetica,sans-Serif\" font-size=\"14.00\">class = YES</text>\n",
       "</g>\n",
       "<!-- 1 -->\n",
       "<g id=\"node2\" class=\"node\">\n",
       "<title>1</title>\n",
       "<path fill=\"#fae6d7\" stroke=\"black\" d=\"M319.76,-520C319.76,-520 216.36,-520 216.36,-520 210.36,-520 204.36,-514 204.36,-508 204.36,-508 204.36,-454 204.36,-454 204.36,-448 210.36,-442 216.36,-442 216.36,-442 319.76,-442 319.76,-442 325.76,-442 331.76,-448 331.76,-454 331.76,-454 331.76,-508 331.76,-508 331.76,-514 325.76,-520 319.76,-520\"/>\n",
       "<text text-anchor=\"start\" x=\"215.57\" y=\"-504.8\" font-family=\"Helvetica,sans-Serif\" font-size=\"14.00\">Distance ≤ 3.524</text>\n",
       "<text text-anchor=\"start\" x=\"219.21\" y=\"-490.8\" font-family=\"Helvetica,sans-Serif\" font-size=\"14.00\">entropy = 0.991</text>\n",
       "<text text-anchor=\"start\" x=\"222.33\" y=\"-476.8\" font-family=\"Helvetica,sans-Serif\" font-size=\"14.00\">samples = 234</text>\n",
       "<text text-anchor=\"start\" x=\"212.21\" y=\"-462.8\" font-family=\"Helvetica,sans-Serif\" font-size=\"14.00\">value = [130, 104]</text>\n",
       "<text text-anchor=\"start\" x=\"233.63\" y=\"-448.8\" font-family=\"Helvetica,sans-Serif\" font-size=\"14.00\">class = NO</text>\n",
       "</g>\n",
       "<!-- 0&#45;&gt;1 -->\n",
       "<g id=\"edge1\" class=\"edge\">\n",
       "<title>0&#45;&gt;1</title>\n",
       "<path fill=\"none\" stroke=\"black\" d=\"M313.5,-555.77C308.12,-547.03 302.34,-537.64 296.76,-528.6\"/>\n",
       "<polygon fill=\"black\" stroke=\"black\" points=\"299.73,-526.74 291.5,-520.06 293.77,-530.41 299.73,-526.74\"/>\n",
       "<text text-anchor=\"middle\" x=\"285.72\" y=\"-540.18\" font-family=\"Helvetica,sans-Serif\" font-size=\"14.00\">True</text>\n",
       "</g>\n",
       "<!-- 16 -->\n",
       "<g id=\"node17\" class=\"node\">\n",
       "<title>16</title>\n",
       "<path fill=\"#399de5\" stroke=\"black\" d=\"M450.18,-513C450.18,-513 361.93,-513 361.93,-513 355.93,-513 349.93,-507 349.93,-501 349.93,-501 349.93,-461 349.93,-461 349.93,-455 355.93,-449 361.93,-449 361.93,-449 450.18,-449 450.18,-449 456.18,-449 462.18,-455 462.18,-461 462.18,-461 462.18,-501 462.18,-501 462.18,-507 456.18,-513 450.18,-513\"/>\n",
       "<text text-anchor=\"start\" x=\"365\" y=\"-497.8\" font-family=\"Helvetica,sans-Serif\" font-size=\"14.00\">entropy = 0.0</text>\n",
       "<text text-anchor=\"start\" x=\"360.33\" y=\"-483.8\" font-family=\"Helvetica,sans-Serif\" font-size=\"14.00\">samples = 121</text>\n",
       "<text text-anchor=\"start\" x=\"357.99\" y=\"-469.8\" font-family=\"Helvetica,sans-Serif\" font-size=\"14.00\">value = [0, 121]</text>\n",
       "<text text-anchor=\"start\" x=\"368.25\" y=\"-455.8\" font-family=\"Helvetica,sans-Serif\" font-size=\"14.00\">class = YES</text>\n",
       "</g>\n",
       "<!-- 0&#45;&gt;16 -->\n",
       "<g id=\"edge16\" class=\"edge\">\n",
       "<title>0&#45;&gt;16</title>\n",
       "<path fill=\"none\" stroke=\"black\" d=\"M360.61,-555.77C367.39,-544.77 374.79,-532.75 381.62,-521.66\"/>\n",
       "<polygon fill=\"black\" stroke=\"black\" points=\"384.69,-523.36 386.95,-513.01 378.73,-519.69 384.69,-523.36\"/>\n",
       "<text text-anchor=\"middle\" x=\"392.73\" y=\"-533.13\" font-family=\"Helvetica,sans-Serif\" font-size=\"14.00\">False</text>\n",
       "</g>\n",
       "<!-- 2 -->\n",
       "<g id=\"node3\" class=\"node\">\n",
       "<title>2</title>\n",
       "<path fill=\"#52aae8\" stroke=\"black\" d=\"M245.78,-406C245.78,-406 100.33,-406 100.33,-406 94.33,-406 88.33,-400 88.33,-394 88.33,-394 88.33,-340 88.33,-340 88.33,-334 94.33,-328 100.33,-328 100.33,-328 245.78,-328 245.78,-328 251.78,-328 257.78,-334 257.78,-340 257.78,-340 257.78,-394 257.78,-394 257.78,-400 251.78,-406 245.78,-406\"/>\n",
       "<text text-anchor=\"start\" x=\"96.44\" y=\"-390.8\" font-family=\"Helvetica,sans-Serif\" font-size=\"14.00\">spent_last_month ≤ 24.5</text>\n",
       "<text text-anchor=\"start\" x=\"124.21\" y=\"-376.8\" font-family=\"Helvetica,sans-Serif\" font-size=\"14.00\">entropy = 0.512</text>\n",
       "<text text-anchor=\"start\" x=\"131.23\" y=\"-362.8\" font-family=\"Helvetica,sans-Serif\" font-size=\"14.00\">samples = 79</text>\n",
       "<text text-anchor=\"start\" x=\"128.89\" y=\"-348.8\" font-family=\"Helvetica,sans-Serif\" font-size=\"14.00\">value = [9, 70]</text>\n",
       "<text text-anchor=\"start\" x=\"135.25\" y=\"-334.8\" font-family=\"Helvetica,sans-Serif\" font-size=\"14.00\">class = YES</text>\n",
       "</g>\n",
       "<!-- 1&#45;&gt;2 -->\n",
       "<g id=\"edge2\" class=\"edge\">\n",
       "<title>1&#45;&gt;2</title>\n",
       "<path fill=\"none\" stroke=\"black\" d=\"M235.63,-441.77C227.99,-432.76 219.76,-423.06 211.87,-413.76\"/>\n",
       "<polygon fill=\"black\" stroke=\"black\" points=\"214.48,-411.42 205.34,-406.06 209.14,-415.95 214.48,-411.42\"/>\n",
       "</g>\n",
       "<!-- 7 -->\n",
       "<g id=\"node8\" class=\"node\">\n",
       "<title>7</title>\n",
       "<path fill=\"#eca471\" stroke=\"black\" d=\"M463.57,-406C463.57,-406 310.54,-406 310.54,-406 304.54,-406 298.54,-400 298.54,-394 298.54,-394 298.54,-340 298.54,-340 298.54,-334 304.54,-328 310.54,-328 310.54,-328 463.57,-328 463.57,-328 469.57,-328 475.57,-334 475.57,-340 475.57,-340 475.57,-394 475.57,-394 475.57,-400 469.57,-406 463.57,-406\"/>\n",
       "<text text-anchor=\"start\" x=\"306.55\" y=\"-390.8\" font-family=\"Helvetica,sans-Serif\" font-size=\"14.00\">spent_last_month ≤ 101.0</text>\n",
       "<text text-anchor=\"start\" x=\"338.21\" y=\"-376.8\" font-family=\"Helvetica,sans-Serif\" font-size=\"14.00\">entropy = 0.759</text>\n",
       "<text text-anchor=\"start\" x=\"341.33\" y=\"-362.8\" font-family=\"Helvetica,sans-Serif\" font-size=\"14.00\">samples = 155</text>\n",
       "<text text-anchor=\"start\" x=\"335.1\" y=\"-348.8\" font-family=\"Helvetica,sans-Serif\" font-size=\"14.00\">value = [121, 34]</text>\n",
       "<text text-anchor=\"start\" x=\"352.63\" y=\"-334.8\" font-family=\"Helvetica,sans-Serif\" font-size=\"14.00\">class = NO</text>\n",
       "</g>\n",
       "<!-- 1&#45;&gt;7 -->\n",
       "<g id=\"edge7\" class=\"edge\">\n",
       "<title>1&#45;&gt;7</title>\n",
       "<path fill=\"none\" stroke=\"black\" d=\"M308.68,-441.77C318.54,-432.49 329.17,-422.48 339.33,-412.92\"/>\n",
       "<polygon fill=\"black\" stroke=\"black\" points=\"341.74,-415.46 346.62,-406.06 336.94,-410.36 341.74,-415.46\"/>\n",
       "</g>\n",
       "<!-- 3 -->\n",
       "<g id=\"node4\" class=\"node\">\n",
       "<title>3</title>\n",
       "<path fill=\"#e58139\" stroke=\"black\" d=\"M86.17,-285C86.17,-285 11.94,-285 11.94,-285 5.94,-285 -0.06,-279 -0.06,-273 -0.06,-273 -0.06,-233 -0.06,-233 -0.06,-227 5.94,-221 11.94,-221 11.94,-221 86.17,-221 86.17,-221 92.17,-221 98.17,-227 98.17,-233 98.17,-233 98.17,-273 98.17,-273 98.17,-279 92.17,-285 86.17,-285\"/>\n",
       "<text text-anchor=\"start\" x=\"8\" y=\"-269.8\" font-family=\"Helvetica,sans-Serif\" font-size=\"14.00\">entropy = 0.0</text>\n",
       "<text text-anchor=\"start\" x=\"11.12\" y=\"-255.8\" font-family=\"Helvetica,sans-Serif\" font-size=\"14.00\">samples = 8</text>\n",
       "<text text-anchor=\"start\" x=\"8.78\" y=\"-241.8\" font-family=\"Helvetica,sans-Serif\" font-size=\"14.00\">value = [8, 0]</text>\n",
       "<text text-anchor=\"start\" x=\"14.63\" y=\"-227.8\" font-family=\"Helvetica,sans-Serif\" font-size=\"14.00\">class = NO</text>\n",
       "</g>\n",
       "<!-- 2&#45;&gt;3 -->\n",
       "<g id=\"edge3\" class=\"edge\">\n",
       "<title>2&#45;&gt;3</title>\n",
       "<path fill=\"none\" stroke=\"black\" d=\"M130.73,-327.77C117.95,-316.22 103.92,-303.55 91.15,-292.02\"/>\n",
       "<polygon fill=\"black\" stroke=\"black\" points=\"93.16,-289.12 83.39,-285.01 88.46,-294.31 93.16,-289.12\"/>\n",
       "</g>\n",
       "<!-- 4 -->\n",
       "<g id=\"node5\" class=\"node\">\n",
       "<title>4</title>\n",
       "<path fill=\"#3c9ee5\" stroke=\"black\" d=\"M217.74,-292C217.74,-292 128.37,-292 128.37,-292 122.37,-292 116.37,-286 116.37,-280 116.37,-280 116.37,-226 116.37,-226 116.37,-220 122.37,-214 128.37,-214 128.37,-214 217.74,-214 217.74,-214 223.74,-214 229.74,-220 229.74,-226 229.74,-226 229.74,-280 229.74,-280 229.74,-286 223.74,-292 217.74,-292\"/>\n",
       "<text text-anchor=\"start\" x=\"139.25\" y=\"-276.8\" font-family=\"Helvetica,sans-Serif\" font-size=\"14.00\">Age ≤ 59.0</text>\n",
       "<text text-anchor=\"start\" x=\"124.21\" y=\"-262.8\" font-family=\"Helvetica,sans-Serif\" font-size=\"14.00\">entropy = 0.107</text>\n",
       "<text text-anchor=\"start\" x=\"131.23\" y=\"-248.8\" font-family=\"Helvetica,sans-Serif\" font-size=\"14.00\">samples = 71</text>\n",
       "<text text-anchor=\"start\" x=\"128.89\" y=\"-234.8\" font-family=\"Helvetica,sans-Serif\" font-size=\"14.00\">value = [1, 70]</text>\n",
       "<text text-anchor=\"start\" x=\"135.25\" y=\"-220.8\" font-family=\"Helvetica,sans-Serif\" font-size=\"14.00\">class = YES</text>\n",
       "</g>\n",
       "<!-- 2&#45;&gt;4 -->\n",
       "<g id=\"edge4\" class=\"edge\">\n",
       "<title>2&#45;&gt;4</title>\n",
       "<path fill=\"none\" stroke=\"black\" d=\"M173.06,-327.77C173.06,-319.57 173.06,-310.8 173.06,-302.28\"/>\n",
       "<polygon fill=\"black\" stroke=\"black\" points=\"176.56,-302.06 173.06,-292.06 169.56,-302.06 176.56,-302.06\"/>\n",
       "</g>\n",
       "<!-- 5 -->\n",
       "<g id=\"node6\" class=\"node\">\n",
       "<title>5</title>\n",
       "<path fill=\"#399de5\" stroke=\"black\" d=\"M94.4,-171C94.4,-171 13.72,-171 13.72,-171 7.72,-171 1.72,-165 1.72,-159 1.72,-159 1.72,-119 1.72,-119 1.72,-113 7.72,-107 13.72,-107 13.72,-107 94.4,-107 94.4,-107 100.4,-107 106.4,-113 106.4,-119 106.4,-119 106.4,-159 106.4,-159 106.4,-165 100.4,-171 94.4,-171\"/>\n",
       "<text text-anchor=\"start\" x=\"13\" y=\"-155.8\" font-family=\"Helvetica,sans-Serif\" font-size=\"14.00\">entropy = 0.0</text>\n",
       "<text text-anchor=\"start\" x=\"12.23\" y=\"-141.8\" font-family=\"Helvetica,sans-Serif\" font-size=\"14.00\">samples = 70</text>\n",
       "<text text-anchor=\"start\" x=\"9.89\" y=\"-127.8\" font-family=\"Helvetica,sans-Serif\" font-size=\"14.00\">value = [0, 70]</text>\n",
       "<text text-anchor=\"start\" x=\"16.25\" y=\"-113.8\" font-family=\"Helvetica,sans-Serif\" font-size=\"14.00\">class = YES</text>\n",
       "</g>\n",
       "<!-- 4&#45;&gt;5 -->\n",
       "<g id=\"edge5\" class=\"edge\">\n",
       "<title>4&#45;&gt;5</title>\n",
       "<path fill=\"none\" stroke=\"black\" d=\"M132.44,-213.77C120.17,-202.22 106.71,-189.55 94.46,-178.02\"/>\n",
       "<polygon fill=\"black\" stroke=\"black\" points=\"96.69,-175.32 87,-171.01 91.89,-180.41 96.69,-175.32\"/>\n",
       "</g>\n",
       "<!-- 6 -->\n",
       "<g id=\"node7\" class=\"node\">\n",
       "<title>6</title>\n",
       "<path fill=\"#e58139\" stroke=\"black\" d=\"M210.17,-171C210.17,-171 135.94,-171 135.94,-171 129.94,-171 123.94,-165 123.94,-159 123.94,-159 123.94,-119 123.94,-119 123.94,-113 129.94,-107 135.94,-107 135.94,-107 210.17,-107 210.17,-107 216.17,-107 222.17,-113 222.17,-119 222.17,-119 222.17,-159 222.17,-159 222.17,-165 216.17,-171 210.17,-171\"/>\n",
       "<text text-anchor=\"start\" x=\"132\" y=\"-155.8\" font-family=\"Helvetica,sans-Serif\" font-size=\"14.00\">entropy = 0.0</text>\n",
       "<text text-anchor=\"start\" x=\"135.12\" y=\"-141.8\" font-family=\"Helvetica,sans-Serif\" font-size=\"14.00\">samples = 1</text>\n",
       "<text text-anchor=\"start\" x=\"132.78\" y=\"-127.8\" font-family=\"Helvetica,sans-Serif\" font-size=\"14.00\">value = [1, 0]</text>\n",
       "<text text-anchor=\"start\" x=\"138.63\" y=\"-113.8\" font-family=\"Helvetica,sans-Serif\" font-size=\"14.00\">class = NO</text>\n",
       "</g>\n",
       "<!-- 4&#45;&gt;6 -->\n",
       "<g id=\"edge6\" class=\"edge\">\n",
       "<title>4&#45;&gt;6</title>\n",
       "<path fill=\"none\" stroke=\"black\" d=\"M173.06,-213.77C173.06,-203.31 173.06,-191.94 173.06,-181.32\"/>\n",
       "<polygon fill=\"black\" stroke=\"black\" points=\"176.56,-181.01 173.06,-171.01 169.56,-181.01 176.56,-181.01\"/>\n",
       "</g>\n",
       "<!-- 8 -->\n",
       "<g id=\"node9\" class=\"node\">\n",
       "<title>8</title>\n",
       "<path fill=\"#e6853f\" stroke=\"black\" d=\"M431.74,-292C431.74,-292 342.37,-292 342.37,-292 336.37,-292 330.37,-286 330.37,-280 330.37,-280 330.37,-226 330.37,-226 330.37,-220 336.37,-214 342.37,-214 342.37,-214 431.74,-214 431.74,-214 437.74,-214 443.74,-220 443.74,-226 443.74,-226 443.74,-280 443.74,-280 443.74,-286 437.74,-292 431.74,-292\"/>\n",
       "<text text-anchor=\"start\" x=\"342.36\" y=\"-276.8\" font-family=\"Helvetica,sans-Serif\" font-size=\"14.00\">Distance ≤ 4.0</text>\n",
       "<text text-anchor=\"start\" x=\"338.21\" y=\"-262.8\" font-family=\"Helvetica,sans-Serif\" font-size=\"14.00\">entropy = 0.191</text>\n",
       "<text text-anchor=\"start\" x=\"341.33\" y=\"-248.8\" font-family=\"Helvetica,sans-Serif\" font-size=\"14.00\">samples = 102</text>\n",
       "<text text-anchor=\"start\" x=\"342.89\" y=\"-234.8\" font-family=\"Helvetica,sans-Serif\" font-size=\"14.00\">value = [99, 3]</text>\n",
       "<text text-anchor=\"start\" x=\"352.63\" y=\"-220.8\" font-family=\"Helvetica,sans-Serif\" font-size=\"14.00\">class = NO</text>\n",
       "</g>\n",
       "<!-- 7&#45;&gt;8 -->\n",
       "<g id=\"edge8\" class=\"edge\">\n",
       "<title>7&#45;&gt;8</title>\n",
       "<path fill=\"none\" stroke=\"black\" d=\"M387.06,-327.77C387.06,-319.57 387.06,-310.8 387.06,-302.28\"/>\n",
       "<polygon fill=\"black\" stroke=\"black\" points=\"390.56,-302.06 387.06,-292.06 383.56,-302.06 390.56,-302.06\"/>\n",
       "</g>\n",
       "<!-- 13 -->\n",
       "<g id=\"node14\" class=\"node\">\n",
       "<title>13</title>\n",
       "<path fill=\"#c6e3f7\" stroke=\"black\" d=\"M594.52,-292C594.52,-292 497.59,-292 497.59,-292 491.59,-292 485.59,-286 485.59,-280 485.59,-280 485.59,-226 485.59,-226 485.59,-220 491.59,-214 497.59,-214 497.59,-214 594.52,-214 594.52,-214 600.52,-214 606.52,-220 606.52,-226 606.52,-226 606.52,-280 606.52,-280 606.52,-286 600.52,-292 594.52,-292\"/>\n",
       "<text text-anchor=\"start\" x=\"493.57\" y=\"-276.8\" font-family=\"Helvetica,sans-Serif\" font-size=\"14.00\">Distance ≤ 7.887</text>\n",
       "<text text-anchor=\"start\" x=\"497.21\" y=\"-262.8\" font-family=\"Helvetica,sans-Serif\" font-size=\"14.00\">entropy = 0.979</text>\n",
       "<text text-anchor=\"start\" x=\"504.23\" y=\"-248.8\" font-family=\"Helvetica,sans-Serif\" font-size=\"14.00\">samples = 53</text>\n",
       "<text text-anchor=\"start\" x=\"497.99\" y=\"-234.8\" font-family=\"Helvetica,sans-Serif\" font-size=\"14.00\">value = [22, 31]</text>\n",
       "<text text-anchor=\"start\" x=\"508.25\" y=\"-220.8\" font-family=\"Helvetica,sans-Serif\" font-size=\"14.00\">class = YES</text>\n",
       "</g>\n",
       "<!-- 7&#45;&gt;13 -->\n",
       "<g id=\"edge13\" class=\"edge\">\n",
       "<title>7&#45;&gt;13</title>\n",
       "<path fill=\"none\" stroke=\"black\" d=\"M441.33,-327.77C454.89,-318.22 469.54,-307.9 483.47,-298.09\"/>\n",
       "<polygon fill=\"black\" stroke=\"black\" points=\"485.87,-300.68 492.03,-292.06 481.84,-294.96 485.87,-300.68\"/>\n",
       "</g>\n",
       "<!-- 9 -->\n",
       "<g id=\"node10\" class=\"node\">\n",
       "<title>9</title>\n",
       "<path fill=\"#f8e0ce\" stroke=\"black\" d=\"M341.74,-178C341.74,-178 252.37,-178 252.37,-178 246.37,-178 240.37,-172 240.37,-166 240.37,-166 240.37,-112 240.37,-112 240.37,-106 246.37,-100 252.37,-100 252.37,-100 341.74,-100 341.74,-100 347.74,-100 353.74,-106 353.74,-112 353.74,-112 353.74,-166 353.74,-166 353.74,-172 347.74,-178 341.74,-178\"/>\n",
       "<text text-anchor=\"start\" x=\"263.25\" y=\"-162.8\" font-family=\"Helvetica,sans-Serif\" font-size=\"14.00\">Age ≤ 26.5</text>\n",
       "<text text-anchor=\"start\" x=\"248.21\" y=\"-148.8\" font-family=\"Helvetica,sans-Serif\" font-size=\"14.00\">entropy = 0.985</text>\n",
       "<text text-anchor=\"start\" x=\"259.12\" y=\"-134.8\" font-family=\"Helvetica,sans-Serif\" font-size=\"14.00\">samples = 7</text>\n",
       "<text text-anchor=\"start\" x=\"256.78\" y=\"-120.8\" font-family=\"Helvetica,sans-Serif\" font-size=\"14.00\">value = [4, 3]</text>\n",
       "<text text-anchor=\"start\" x=\"262.63\" y=\"-106.8\" font-family=\"Helvetica,sans-Serif\" font-size=\"14.00\">class = NO</text>\n",
       "</g>\n",
       "<!-- 8&#45;&gt;9 -->\n",
       "<g id=\"edge9\" class=\"edge\">\n",
       "<title>8&#45;&gt;9</title>\n",
       "<path fill=\"none\" stroke=\"black\" d=\"M356.34,-213.77C349.17,-204.85 341.46,-195.26 334.05,-186.04\"/>\n",
       "<polygon fill=\"black\" stroke=\"black\" points=\"336.63,-183.66 327.64,-178.06 331.18,-188.05 336.63,-183.66\"/>\n",
       "</g>\n",
       "<!-- 12 -->\n",
       "<g id=\"node13\" class=\"node\">\n",
       "<title>12</title>\n",
       "<path fill=\"#e58139\" stroke=\"black\" d=\"M464.4,-171C464.4,-171 383.72,-171 383.72,-171 377.72,-171 371.72,-165 371.72,-159 371.72,-159 371.72,-119 371.72,-119 371.72,-113 377.72,-107 383.72,-107 383.72,-107 464.4,-107 464.4,-107 470.4,-107 476.4,-113 476.4,-119 476.4,-119 476.4,-159 476.4,-159 476.4,-165 470.4,-171 464.4,-171\"/>\n",
       "<text text-anchor=\"start\" x=\"383\" y=\"-155.8\" font-family=\"Helvetica,sans-Serif\" font-size=\"14.00\">entropy = 0.0</text>\n",
       "<text text-anchor=\"start\" x=\"382.23\" y=\"-141.8\" font-family=\"Helvetica,sans-Serif\" font-size=\"14.00\">samples = 95</text>\n",
       "<text text-anchor=\"start\" x=\"379.89\" y=\"-127.8\" font-family=\"Helvetica,sans-Serif\" font-size=\"14.00\">value = [95, 0]</text>\n",
       "<text text-anchor=\"start\" x=\"389.63\" y=\"-113.8\" font-family=\"Helvetica,sans-Serif\" font-size=\"14.00\">class = NO</text>\n",
       "</g>\n",
       "<!-- 8&#45;&gt;12 -->\n",
       "<g id=\"edge12\" class=\"edge\">\n",
       "<title>8&#45;&gt;12</title>\n",
       "<path fill=\"none\" stroke=\"black\" d=\"M399.69,-213.77C403.21,-203.1 407.06,-191.46 410.63,-180.65\"/>\n",
       "<polygon fill=\"black\" stroke=\"black\" points=\"414,-181.6 413.81,-171.01 407.35,-179.41 414,-181.6\"/>\n",
       "</g>\n",
       "<!-- 10 -->\n",
       "<g id=\"node11\" class=\"node\">\n",
       "<title>10</title>\n",
       "<path fill=\"#399de5\" stroke=\"black\" d=\"M276.17,-64C276.17,-64 201.94,-64 201.94,-64 195.94,-64 189.94,-58 189.94,-52 189.94,-52 189.94,-12 189.94,-12 189.94,-6 195.94,0 201.94,0 201.94,0 276.17,0 276.17,0 282.17,0 288.17,-6 288.17,-12 288.17,-12 288.17,-52 288.17,-52 288.17,-58 282.17,-64 276.17,-64\"/>\n",
       "<text text-anchor=\"start\" x=\"198\" y=\"-48.8\" font-family=\"Helvetica,sans-Serif\" font-size=\"14.00\">entropy = 0.0</text>\n",
       "<text text-anchor=\"start\" x=\"201.12\" y=\"-34.8\" font-family=\"Helvetica,sans-Serif\" font-size=\"14.00\">samples = 3</text>\n",
       "<text text-anchor=\"start\" x=\"198.78\" y=\"-20.8\" font-family=\"Helvetica,sans-Serif\" font-size=\"14.00\">value = [0, 3]</text>\n",
       "<text text-anchor=\"start\" x=\"201.25\" y=\"-6.8\" font-family=\"Helvetica,sans-Serif\" font-size=\"14.00\">class = YES</text>\n",
       "</g>\n",
       "<!-- 9&#45;&gt;10 -->\n",
       "<g id=\"edge10\" class=\"edge\">\n",
       "<title>9&#45;&gt;10</title>\n",
       "<path fill=\"none\" stroke=\"black\" d=\"M275.95,-99.8C271.15,-91.09 266.02,-81.82 261.18,-73.04\"/>\n",
       "<polygon fill=\"black\" stroke=\"black\" points=\"264.14,-71.18 256.25,-64.12 258.02,-74.56 264.14,-71.18\"/>\n",
       "</g>\n",
       "<!-- 11 -->\n",
       "<g id=\"node12\" class=\"node\">\n",
       "<title>11</title>\n",
       "<path fill=\"#e58139\" stroke=\"black\" d=\"M392.17,-64C392.17,-64 317.94,-64 317.94,-64 311.94,-64 305.94,-58 305.94,-52 305.94,-52 305.94,-12 305.94,-12 305.94,-6 311.94,0 317.94,0 317.94,0 392.17,0 392.17,0 398.17,0 404.17,-6 404.17,-12 404.17,-12 404.17,-52 404.17,-52 404.17,-58 398.17,-64 392.17,-64\"/>\n",
       "<text text-anchor=\"start\" x=\"314\" y=\"-48.8\" font-family=\"Helvetica,sans-Serif\" font-size=\"14.00\">entropy = 0.0</text>\n",
       "<text text-anchor=\"start\" x=\"317.12\" y=\"-34.8\" font-family=\"Helvetica,sans-Serif\" font-size=\"14.00\">samples = 4</text>\n",
       "<text text-anchor=\"start\" x=\"314.78\" y=\"-20.8\" font-family=\"Helvetica,sans-Serif\" font-size=\"14.00\">value = [4, 0]</text>\n",
       "<text text-anchor=\"start\" x=\"320.63\" y=\"-6.8\" font-family=\"Helvetica,sans-Serif\" font-size=\"14.00\">class = NO</text>\n",
       "</g>\n",
       "<!-- 9&#45;&gt;11 -->\n",
       "<g id=\"edge11\" class=\"edge\">\n",
       "<title>9&#45;&gt;11</title>\n",
       "<path fill=\"none\" stroke=\"black\" d=\"M318.16,-99.8C322.97,-91.09 328.09,-81.82 332.94,-73.04\"/>\n",
       "<polygon fill=\"black\" stroke=\"black\" points=\"336.1,-74.56 337.87,-64.12 329.97,-71.18 336.1,-74.56\"/>\n",
       "</g>\n",
       "<!-- 14 -->\n",
       "<g id=\"node15\" class=\"node\">\n",
       "<title>14</title>\n",
       "<path fill=\"#399de5\" stroke=\"black\" d=\"M586.4,-171C586.4,-171 505.72,-171 505.72,-171 499.72,-171 493.72,-165 493.72,-159 493.72,-159 493.72,-119 493.72,-119 493.72,-113 499.72,-107 505.72,-107 505.72,-107 586.4,-107 586.4,-107 592.4,-107 598.4,-113 598.4,-119 598.4,-119 598.4,-159 598.4,-159 598.4,-165 592.4,-171 586.4,-171\"/>\n",
       "<text text-anchor=\"start\" x=\"505\" y=\"-155.8\" font-family=\"Helvetica,sans-Serif\" font-size=\"14.00\">entropy = 0.0</text>\n",
       "<text text-anchor=\"start\" x=\"504.23\" y=\"-141.8\" font-family=\"Helvetica,sans-Serif\" font-size=\"14.00\">samples = 31</text>\n",
       "<text text-anchor=\"start\" x=\"501.89\" y=\"-127.8\" font-family=\"Helvetica,sans-Serif\" font-size=\"14.00\">value = [0, 31]</text>\n",
       "<text text-anchor=\"start\" x=\"508.25\" y=\"-113.8\" font-family=\"Helvetica,sans-Serif\" font-size=\"14.00\">class = YES</text>\n",
       "</g>\n",
       "<!-- 13&#45;&gt;14 -->\n",
       "<g id=\"edge14\" class=\"edge\">\n",
       "<title>13&#45;&gt;14</title>\n",
       "<path fill=\"none\" stroke=\"black\" d=\"M546.06,-213.77C546.06,-203.31 546.06,-191.94 546.06,-181.32\"/>\n",
       "<polygon fill=\"black\" stroke=\"black\" points=\"549.56,-181.01 546.06,-171.01 542.56,-181.01 549.56,-181.01\"/>\n",
       "</g>\n",
       "<!-- 15 -->\n",
       "<g id=\"node16\" class=\"node\">\n",
       "<title>15</title>\n",
       "<path fill=\"#e58139\" stroke=\"black\" d=\"M708.4,-171C708.4,-171 627.72,-171 627.72,-171 621.72,-171 615.72,-165 615.72,-159 615.72,-159 615.72,-119 615.72,-119 615.72,-113 621.72,-107 627.72,-107 627.72,-107 708.4,-107 708.4,-107 714.4,-107 720.4,-113 720.4,-119 720.4,-119 720.4,-159 720.4,-159 720.4,-165 714.4,-171 708.4,-171\"/>\n",
       "<text text-anchor=\"start\" x=\"627\" y=\"-155.8\" font-family=\"Helvetica,sans-Serif\" font-size=\"14.00\">entropy = 0.0</text>\n",
       "<text text-anchor=\"start\" x=\"626.23\" y=\"-141.8\" font-family=\"Helvetica,sans-Serif\" font-size=\"14.00\">samples = 22</text>\n",
       "<text text-anchor=\"start\" x=\"623.89\" y=\"-127.8\" font-family=\"Helvetica,sans-Serif\" font-size=\"14.00\">value = [22, 0]</text>\n",
       "<text text-anchor=\"start\" x=\"633.63\" y=\"-113.8\" font-family=\"Helvetica,sans-Serif\" font-size=\"14.00\">class = NO</text>\n",
       "</g>\n",
       "<!-- 13&#45;&gt;15 -->\n",
       "<g id=\"edge15\" class=\"edge\">\n",
       "<title>13&#45;&gt;15</title>\n",
       "<path fill=\"none\" stroke=\"black\" d=\"M587.7,-213.77C600.28,-202.22 614.08,-189.55 626.64,-178.02\"/>\n",
       "<polygon fill=\"black\" stroke=\"black\" points=\"629.28,-180.35 634.28,-171.01 624.54,-175.19 629.28,-180.35\"/>\n",
       "</g>\n",
       "</g>\n",
       "</svg>\n"
      ],
      "text/plain": [
       "<graphviz.files.Source at 0x7f8e1813a550>"
      ]
     },
     "execution_count": 31,
     "metadata": {},
     "output_type": "execute_result"
    }
   ],
   "source": [
    "# Now we want to visualize the tree\n",
    "#tree.plot_tree(entr_model)\n",
    "\n",
    "# We can do so with export_graphviz\n",
    "#dot_data = tree.export_graphviz(entr_model, out_file=None) \n",
    "#graph = graphviz.Source(dot_data) \n",
    "#graph\n",
    "# Alternatively for class_names use entr_model.classes_\n",
    "dot_data = tree.export_graphviz(entr_model, out_file=None,\n",
    "                                feature_names=X_train.columns,\n",
    "                                class_names=entr_model.classes_, \n",
    "                                filled=True, rounded=True,\n",
    "                                special_characters=True)\n",
    "graph = graphviz.Source(dot_data) \n",
    "graph"
   ]
  },
  {
   "cell_type": "markdown",
   "metadata": {
    "colab_type": "text",
    "id": "dFbii4IADuWg"
   },
   "source": [
    "## Model 1: Entropy model - no max_depth: Interpretation and evaluation"
   ]
  },
  {
   "cell_type": "code",
   "execution_count": 32,
   "metadata": {
    "colab": {},
    "colab_type": "code",
    "id": "XRL0klK4DuWh"
   },
   "outputs": [
    {
     "name": "stdout",
     "output_type": "stream",
     "text": [
      "Model Entropy - no max depth\n",
      "Accuracy: 0.9915966386554622\n",
      "Balanced accuracy: 0.9878048780487805\n",
      "Precision score for \"Yes\" 0.9873417721518988\n",
      "Precision score for \"No\" 1.0\n",
      "Recall score for \"Yes\" 1.0\n",
      "Recall score for \"No\" 0.975609756097561\n"
     ]
    }
   ],
   "source": [
    "# Run this block for model evaluation metrics \n",
    "print(\"Model Entropy - no max depth\")\n",
    "print(\"Accuracy:\", metrics.accuracy_score(y_test,y_pred))\n",
    "print(\"Balanced accuracy:\", metrics.balanced_accuracy_score(y_test,y_pred))\n",
    "print('Precision score for \"Yes\"' , metrics.precision_score(y_test,y_pred, pos_label = \"YES\"))\n",
    "print('Precision score for \"No\"' , metrics.precision_score(y_test,y_pred, pos_label = \"NO\"))\n",
    "print('Recall score for \"Yes\"' , metrics.recall_score(y_test,y_pred, pos_label = \"YES\"))\n",
    "print('Recall score for \"No\"' , metrics.recall_score(y_test,y_pred, pos_label = \"NO\"))"
   ]
  },
  {
   "cell_type": "markdown",
   "metadata": {
    "colab_type": "text",
    "id": "icGOPFQ_DuWj"
   },
   "source": [
    "What can you infer from these results? Write your conclusions here:\n",
    "\n",
    "There are total 355 sample as a training set. The decision tree we had developed build based on entropy criterion. At first, the classification splits based on the variable `spent_last_month` with the threshold value 138. In the next step the tree split based on `distance` feature. Where it splits into 79 YES and 155 No values. It keeps splitting the trees until it reaches pure node that accomplished in 5 levels. \n",
    "\n",
    "The entropy decision tree classifier from this data achieve 99% accuracy. Whereas the balance accuracy (which is the average of sensitivity and specificity) is 98%. The precision (percentage of true correct predictions out of true positives and false positives) for Yes is 100% and for NO is 97%."
   ]
  },
  {
   "cell_type": "markdown",
   "metadata": {
    "colab_type": "text",
    "id": "MHipdpfxDuWk"
   },
   "source": [
    "## Model 2: Gini impurity model - no max_depth\n",
    "\n",
    "Gini impurity, like entropy, is a measure of how well a given feature (and threshold) splits the data into categories.\n",
    "\n",
    "Their equations are similar, but Gini impurity doesn't require logorathmic functions, which can be computationally expensive. "
   ]
  },
  {
   "cell_type": "code",
   "execution_count": 33,
   "metadata": {
    "colab": {},
    "colab_type": "code",
    "id": "FyBljeIpDuWl"
   },
   "outputs": [
    {
     "data": {
      "text/plain": [
       "DecisionTreeClassifier(random_state=1234)"
      ]
     },
     "execution_count": 33,
     "metadata": {},
     "output_type": "execute_result"
    }
   ],
   "source": [
    "# Make a variable called gini_model, and assign it exactly what you assigned entr_model with above, but with the\n",
    "# criterion changed to 'gini'\n",
    "gini_model = tree.DecisionTreeClassifier(criterion=\"gini\",random_state=1234) \n",
    "\n",
    "# Call fit() on the gini_model as you did with the entr_model\n",
    "gini_model.fit(X_train,y_train) \n",
    "\n",
    "# Call predict() on the gini_model as you did with the entr_model \n",
    "y_pred = gini_model.predict(X_test)\n",
    "\n",
    "# Turn y_pred into a series, as before\n",
    "y_pred = pd.Series(y_pred) \n",
    "\n",
    "# Check out gini_model\n",
    "gini_model"
   ]
  },
  {
   "cell_type": "code",
   "execution_count": 34,
   "metadata": {
    "colab": {},
    "colab_type": "code",
    "id": "d20SMUmgDuWo"
   },
   "outputs": [
    {
     "data": {
      "image/svg+xml": [
       "<?xml version=\"1.0\" encoding=\"UTF-8\" standalone=\"no\"?>\n",
       "<!DOCTYPE svg PUBLIC \"-//W3C//DTD SVG 1.1//EN\"\n",
       " \"http://www.w3.org/Graphics/SVG/1.1/DTD/svg11.dtd\">\n",
       "<!-- Generated by graphviz version 2.42.3 (20191010.1750)\n",
       " -->\n",
       "<!-- Title: Tree Pages: 1 -->\n",
       "<svg width=\"903pt\" height=\"756pt\"\n",
       " viewBox=\"0.00 0.00 903.34 756.00\" xmlns=\"http://www.w3.org/2000/svg\" xmlns:xlink=\"http://www.w3.org/1999/xlink\">\n",
       "<g id=\"graph0\" class=\"graph\" transform=\"scale(1 1) rotate(0) translate(4 752)\">\n",
       "<title>Tree</title>\n",
       "<polygon fill=\"white\" stroke=\"transparent\" points=\"-4,4 -4,-752 899.34,-752 899.34,4 -4,4\"/>\n",
       "<!-- 0 -->\n",
       "<g id=\"node1\" class=\"node\">\n",
       "<title>0</title>\n",
       "<path fill=\"#abd6f4\" stroke=\"black\" d=\"M564.68,-748C564.68,-748 411.66,-748 411.66,-748 405.66,-748 399.66,-742 399.66,-736 399.66,-736 399.66,-682 399.66,-682 399.66,-676 405.66,-670 411.66,-670 411.66,-670 564.68,-670 564.68,-670 570.68,-670 576.68,-676 576.68,-682 576.68,-682 576.68,-736 576.68,-736 576.68,-742 570.68,-748 564.68,-748\"/>\n",
       "<text text-anchor=\"start\" x=\"407.66\" y=\"-732.8\" font-family=\"Helvetica,sans-Serif\" font-size=\"14.00\">spent_last_month ≤ 100.5</text>\n",
       "<text text-anchor=\"start\" x=\"451.78\" y=\"-718.8\" font-family=\"Helvetica,sans-Serif\" font-size=\"14.00\">gini = 0.464</text>\n",
       "<text text-anchor=\"start\" x=\"442.45\" y=\"-704.8\" font-family=\"Helvetica,sans-Serif\" font-size=\"14.00\">samples = 355</text>\n",
       "<text text-anchor=\"start\" x=\"432.32\" y=\"-690.8\" font-family=\"Helvetica,sans-Serif\" font-size=\"14.00\">value = [130, 225]</text>\n",
       "<text text-anchor=\"start\" x=\"450.36\" y=\"-676.8\" font-family=\"Helvetica,sans-Serif\" font-size=\"14.00\">class = YES</text>\n",
       "</g>\n",
       "<!-- 1 -->\n",
       "<g id=\"node2\" class=\"node\">\n",
       "<title>1</title>\n",
       "<path fill=\"#f0b48a\" stroke=\"black\" d=\"M467.64,-634C467.64,-634 370.7,-634 370.7,-634 364.7,-634 358.7,-628 358.7,-622 358.7,-622 358.7,-568 358.7,-568 358.7,-562 364.7,-556 370.7,-556 370.7,-556 467.64,-556 467.64,-556 473.64,-556 479.64,-562 479.64,-568 479.64,-568 479.64,-622 479.64,-622 479.64,-628 473.64,-634 467.64,-634\"/>\n",
       "<text text-anchor=\"start\" x=\"366.69\" y=\"-618.8\" font-family=\"Helvetica,sans-Serif\" font-size=\"14.00\">Distance ≤ 3.754</text>\n",
       "<text text-anchor=\"start\" x=\"383.3\" y=\"-604.8\" font-family=\"Helvetica,sans-Serif\" font-size=\"14.00\">gini = 0.411</text>\n",
       "<text text-anchor=\"start\" x=\"373.45\" y=\"-590.8\" font-family=\"Helvetica,sans-Serif\" font-size=\"14.00\">samples = 152</text>\n",
       "<text text-anchor=\"start\" x=\"367.21\" y=\"-576.8\" font-family=\"Helvetica,sans-Serif\" font-size=\"14.00\">value = [108, 44]</text>\n",
       "<text text-anchor=\"start\" x=\"384.74\" y=\"-562.8\" font-family=\"Helvetica,sans-Serif\" font-size=\"14.00\">class = NO</text>\n",
       "</g>\n",
       "<!-- 0&#45;&gt;1 -->\n",
       "<g id=\"edge1\" class=\"edge\">\n",
       "<title>0&#45;&gt;1</title>\n",
       "<path fill=\"none\" stroke=\"black\" d=\"M464.62,-669.77C459.23,-661.03 453.45,-651.64 447.88,-642.6\"/>\n",
       "<polygon fill=\"black\" stroke=\"black\" points=\"450.84,-640.74 442.62,-634.06 444.88,-644.41 450.84,-640.74\"/>\n",
       "<text text-anchor=\"middle\" x=\"436.84\" y=\"-654.18\" font-family=\"Helvetica,sans-Serif\" font-size=\"14.00\">True</text>\n",
       "</g>\n",
       "<!-- 16 -->\n",
       "<g id=\"node17\" class=\"node\">\n",
       "<title>16</title>\n",
       "<path fill=\"#51a9e8\" stroke=\"black\" d=\"M606.64,-634C606.64,-634 509.7,-634 509.7,-634 503.7,-634 497.7,-628 497.7,-622 497.7,-622 497.7,-568 497.7,-568 497.7,-562 503.7,-556 509.7,-556 509.7,-556 606.64,-556 606.64,-556 612.64,-556 618.64,-562 618.64,-568 618.64,-568 618.64,-622 618.64,-622 618.64,-628 612.64,-634 606.64,-634\"/>\n",
       "<text text-anchor=\"start\" x=\"505.69\" y=\"-618.8\" font-family=\"Helvetica,sans-Serif\" font-size=\"14.00\">Distance ≤ 8.047</text>\n",
       "<text text-anchor=\"start\" x=\"521.78\" y=\"-604.8\" font-family=\"Helvetica,sans-Serif\" font-size=\"14.00\">gini = 0.193</text>\n",
       "<text text-anchor=\"start\" x=\"512.45\" y=\"-590.8\" font-family=\"Helvetica,sans-Serif\" font-size=\"14.00\">samples = 203</text>\n",
       "<text text-anchor=\"start\" x=\"506.21\" y=\"-576.8\" font-family=\"Helvetica,sans-Serif\" font-size=\"14.00\">value = [22, 181]</text>\n",
       "<text text-anchor=\"start\" x=\"520.36\" y=\"-562.8\" font-family=\"Helvetica,sans-Serif\" font-size=\"14.00\">class = YES</text>\n",
       "</g>\n",
       "<!-- 0&#45;&gt;16 -->\n",
       "<g id=\"edge16\" class=\"edge\">\n",
       "<title>0&#45;&gt;16</title>\n",
       "<path fill=\"none\" stroke=\"black\" d=\"M512.06,-669.77C517.53,-661.03 523.39,-651.64 529.05,-642.6\"/>\n",
       "<polygon fill=\"black\" stroke=\"black\" points=\"532.05,-644.39 534.38,-634.06 526.12,-640.68 532.05,-644.39\"/>\n",
       "<text text-anchor=\"middle\" x=\"540.01\" y=\"-654.22\" font-family=\"Helvetica,sans-Serif\" font-size=\"14.00\">False</text>\n",
       "</g>\n",
       "<!-- 2 -->\n",
       "<g id=\"node3\" class=\"node\">\n",
       "<title>2</title>\n",
       "<path fill=\"#6cb6ec\" stroke=\"black\" d=\"M311.9,-520C311.9,-520 166.44,-520 166.44,-520 160.44,-520 154.44,-514 154.44,-508 154.44,-508 154.44,-454 154.44,-454 154.44,-448 160.44,-442 166.44,-442 166.44,-442 311.9,-442 311.9,-442 317.9,-442 323.9,-448 323.9,-454 323.9,-454 323.9,-508 323.9,-508 323.9,-514 317.9,-520 311.9,-520\"/>\n",
       "<text text-anchor=\"start\" x=\"162.56\" y=\"-504.8\" font-family=\"Helvetica,sans-Serif\" font-size=\"14.00\">spent_last_month ≤ 24.5</text>\n",
       "<text text-anchor=\"start\" x=\"202.78\" y=\"-490.8\" font-family=\"Helvetica,sans-Serif\" font-size=\"14.00\">gini = 0.324</text>\n",
       "<text text-anchor=\"start\" x=\"197.34\" y=\"-476.8\" font-family=\"Helvetica,sans-Serif\" font-size=\"14.00\">samples = 54</text>\n",
       "<text text-anchor=\"start\" x=\"191.62\" y=\"-462.8\" font-family=\"Helvetica,sans-Serif\" font-size=\"14.00\">value = [11, 43]</text>\n",
       "<text text-anchor=\"start\" x=\"201.36\" y=\"-448.8\" font-family=\"Helvetica,sans-Serif\" font-size=\"14.00\">class = YES</text>\n",
       "</g>\n",
       "<!-- 1&#45;&gt;2 -->\n",
       "<g id=\"edge2\" class=\"edge\">\n",
       "<title>1&#45;&gt;2</title>\n",
       "<path fill=\"none\" stroke=\"black\" d=\"M358.48,-556.24C342.72,-546.43 325.62,-535.79 309.41,-525.71\"/>\n",
       "<polygon fill=\"black\" stroke=\"black\" points=\"310.85,-522.48 300.52,-520.17 307.16,-528.42 310.85,-522.48\"/>\n",
       "</g>\n",
       "<!-- 11 -->\n",
       "<g id=\"node12\" class=\"node\">\n",
       "<title>11</title>\n",
       "<path fill=\"#e5823b\" stroke=\"black\" d=\"M460.06,-520C460.06,-520 378.28,-520 378.28,-520 372.28,-520 366.28,-514 366.28,-508 366.28,-508 366.28,-454 366.28,-454 366.28,-448 372.28,-442 378.28,-442 378.28,-442 460.06,-442 460.06,-442 466.06,-442 472.06,-448 472.06,-454 472.06,-454 472.06,-508 472.06,-508 472.06,-514 466.06,-520 460.06,-520\"/>\n",
       "<text text-anchor=\"start\" x=\"374.47\" y=\"-504.8\" font-family=\"Helvetica,sans-Serif\" font-size=\"14.00\">Distance ≤ 4.0</text>\n",
       "<text text-anchor=\"start\" x=\"386.67\" y=\"-490.8\" font-family=\"Helvetica,sans-Serif\" font-size=\"14.00\">gini = 0.02</text>\n",
       "<text text-anchor=\"start\" x=\"377.34\" y=\"-476.8\" font-family=\"Helvetica,sans-Serif\" font-size=\"14.00\">samples = 98</text>\n",
       "<text text-anchor=\"start\" x=\"375\" y=\"-462.8\" font-family=\"Helvetica,sans-Serif\" font-size=\"14.00\">value = [97, 1]</text>\n",
       "<text text-anchor=\"start\" x=\"384.74\" y=\"-448.8\" font-family=\"Helvetica,sans-Serif\" font-size=\"14.00\">class = NO</text>\n",
       "</g>\n",
       "<!-- 1&#45;&gt;11 -->\n",
       "<g id=\"edge11\" class=\"edge\">\n",
       "<title>1&#45;&gt;11</title>\n",
       "<path fill=\"none\" stroke=\"black\" d=\"M419.17,-555.77C419.17,-547.57 419.17,-538.8 419.17,-530.28\"/>\n",
       "<polygon fill=\"black\" stroke=\"black\" points=\"422.67,-530.06 419.17,-520.06 415.67,-530.06 422.67,-530.06\"/>\n",
       "</g>\n",
       "<!-- 3 -->\n",
       "<g id=\"node4\" class=\"node\">\n",
       "<title>3</title>\n",
       "<path fill=\"#e58139\" stroke=\"black\" d=\"M157.23,-399C157.23,-399 85.11,-399 85.11,-399 79.11,-399 73.11,-393 73.11,-387 73.11,-387 73.11,-347 73.11,-347 73.11,-341 79.11,-335 85.11,-335 85.11,-335 157.23,-335 157.23,-335 163.23,-335 169.23,-341 169.23,-347 169.23,-347 169.23,-387 169.23,-387 169.23,-393 163.23,-399 157.23,-399\"/>\n",
       "<text text-anchor=\"start\" x=\"92.57\" y=\"-383.8\" font-family=\"Helvetica,sans-Serif\" font-size=\"14.00\">gini = 0.0</text>\n",
       "<text text-anchor=\"start\" x=\"83.23\" y=\"-369.8\" font-family=\"Helvetica,sans-Serif\" font-size=\"14.00\">samples = 8</text>\n",
       "<text text-anchor=\"start\" x=\"80.89\" y=\"-355.8\" font-family=\"Helvetica,sans-Serif\" font-size=\"14.00\">value = [8, 0]</text>\n",
       "<text text-anchor=\"start\" x=\"86.74\" y=\"-341.8\" font-family=\"Helvetica,sans-Serif\" font-size=\"14.00\">class = NO</text>\n",
       "</g>\n",
       "<!-- 2&#45;&gt;3 -->\n",
       "<g id=\"edge3\" class=\"edge\">\n",
       "<title>2&#45;&gt;3</title>\n",
       "<path fill=\"none\" stroke=\"black\" d=\"M198.89,-441.77C186.73,-430.22 173.38,-417.55 161.23,-406.02\"/>\n",
       "<polygon fill=\"black\" stroke=\"black\" points=\"163.5,-403.36 153.84,-399.01 158.69,-408.43 163.5,-403.36\"/>\n",
       "</g>\n",
       "<!-- 4 -->\n",
       "<g id=\"node5\" class=\"node\">\n",
       "<title>4</title>\n",
       "<path fill=\"#47a4e7\" stroke=\"black\" d=\"M279.51,-406C279.51,-406 198.83,-406 198.83,-406 192.83,-406 186.83,-400 186.83,-394 186.83,-394 186.83,-340 186.83,-340 186.83,-334 192.83,-328 198.83,-328 198.83,-328 279.51,-328 279.51,-328 285.51,-328 291.51,-334 291.51,-340 291.51,-340 291.51,-394 291.51,-394 291.51,-400 285.51,-406 279.51,-406\"/>\n",
       "<text text-anchor=\"start\" x=\"205.36\" y=\"-390.8\" font-family=\"Helvetica,sans-Serif\" font-size=\"14.00\">Age ≤ 57.5</text>\n",
       "<text text-anchor=\"start\" x=\"202.78\" y=\"-376.8\" font-family=\"Helvetica,sans-Serif\" font-size=\"14.00\">gini = 0.122</text>\n",
       "<text text-anchor=\"start\" x=\"197.34\" y=\"-362.8\" font-family=\"Helvetica,sans-Serif\" font-size=\"14.00\">samples = 46</text>\n",
       "<text text-anchor=\"start\" x=\"195\" y=\"-348.8\" font-family=\"Helvetica,sans-Serif\" font-size=\"14.00\">value = [3, 43]</text>\n",
       "<text text-anchor=\"start\" x=\"201.36\" y=\"-334.8\" font-family=\"Helvetica,sans-Serif\" font-size=\"14.00\">class = YES</text>\n",
       "</g>\n",
       "<!-- 2&#45;&gt;4 -->\n",
       "<g id=\"edge4\" class=\"edge\">\n",
       "<title>2&#45;&gt;4</title>\n",
       "<path fill=\"none\" stroke=\"black\" d=\"M239.17,-441.77C239.17,-433.57 239.17,-424.8 239.17,-416.28\"/>\n",
       "<polygon fill=\"black\" stroke=\"black\" points=\"242.67,-416.06 239.17,-406.06 235.67,-416.06 242.67,-416.06\"/>\n",
       "</g>\n",
       "<!-- 5 -->\n",
       "<g id=\"node6\" class=\"node\">\n",
       "<title>5</title>\n",
       "<path fill=\"#3e9fe6\" stroke=\"black\" d=\"M177.64,-292C177.64,-292 80.7,-292 80.7,-292 74.7,-292 68.7,-286 68.7,-280 68.7,-280 68.7,-226 68.7,-226 68.7,-220 74.7,-214 80.7,-214 80.7,-214 177.64,-214 177.64,-214 183.64,-214 189.64,-220 189.64,-226 189.64,-226 189.64,-280 189.64,-280 189.64,-286 183.64,-292 177.64,-292\"/>\n",
       "<text text-anchor=\"start\" x=\"76.69\" y=\"-276.8\" font-family=\"Helvetica,sans-Serif\" font-size=\"14.00\">Distance ≤ 3.298</text>\n",
       "<text text-anchor=\"start\" x=\"92.78\" y=\"-262.8\" font-family=\"Helvetica,sans-Serif\" font-size=\"14.00\">gini = 0.044</text>\n",
       "<text text-anchor=\"start\" x=\"87.34\" y=\"-248.8\" font-family=\"Helvetica,sans-Serif\" font-size=\"14.00\">samples = 44</text>\n",
       "<text text-anchor=\"start\" x=\"85\" y=\"-234.8\" font-family=\"Helvetica,sans-Serif\" font-size=\"14.00\">value = [1, 43]</text>\n",
       "<text text-anchor=\"start\" x=\"91.36\" y=\"-220.8\" font-family=\"Helvetica,sans-Serif\" font-size=\"14.00\">class = YES</text>\n",
       "</g>\n",
       "<!-- 4&#45;&gt;5 -->\n",
       "<g id=\"edge5\" class=\"edge\">\n",
       "<title>4&#45;&gt;5</title>\n",
       "<path fill=\"none\" stroke=\"black\" d=\"M201.62,-327.77C192.6,-318.58 182.87,-308.68 173.56,-299.2\"/>\n",
       "<polygon fill=\"black\" stroke=\"black\" points=\"176.05,-296.74 166.55,-292.06 171.06,-301.65 176.05,-296.74\"/>\n",
       "</g>\n",
       "<!-- 10 -->\n",
       "<g id=\"node11\" class=\"node\">\n",
       "<title>10</title>\n",
       "<path fill=\"#e58139\" stroke=\"black\" d=\"M292.23,-285C292.23,-285 220.11,-285 220.11,-285 214.11,-285 208.11,-279 208.11,-273 208.11,-273 208.11,-233 208.11,-233 208.11,-227 214.11,-221 220.11,-221 220.11,-221 292.23,-221 292.23,-221 298.23,-221 304.23,-227 304.23,-233 304.23,-233 304.23,-273 304.23,-273 304.23,-279 298.23,-285 292.23,-285\"/>\n",
       "<text text-anchor=\"start\" x=\"227.57\" y=\"-269.8\" font-family=\"Helvetica,sans-Serif\" font-size=\"14.00\">gini = 0.0</text>\n",
       "<text text-anchor=\"start\" x=\"218.23\" y=\"-255.8\" font-family=\"Helvetica,sans-Serif\" font-size=\"14.00\">samples = 2</text>\n",
       "<text text-anchor=\"start\" x=\"215.89\" y=\"-241.8\" font-family=\"Helvetica,sans-Serif\" font-size=\"14.00\">value = [2, 0]</text>\n",
       "<text text-anchor=\"start\" x=\"221.74\" y=\"-227.8\" font-family=\"Helvetica,sans-Serif\" font-size=\"14.00\">class = NO</text>\n",
       "</g>\n",
       "<!-- 4&#45;&gt;10 -->\n",
       "<g id=\"edge10\" class=\"edge\">\n",
       "<title>4&#45;&gt;10</title>\n",
       "<path fill=\"none\" stroke=\"black\" d=\"M244.97,-327.77C246.58,-317.2 248.32,-305.7 249.95,-294.98\"/>\n",
       "<polygon fill=\"black\" stroke=\"black\" points=\"253.42,-295.42 251.46,-285.01 246.5,-294.37 253.42,-295.42\"/>\n",
       "</g>\n",
       "<!-- 6 -->\n",
       "<g id=\"node7\" class=\"node\">\n",
       "<title>6</title>\n",
       "<path fill=\"#399de5\" stroke=\"black\" d=\"M92.51,-171C92.51,-171 11.83,-171 11.83,-171 5.83,-171 -0.17,-165 -0.17,-159 -0.17,-159 -0.17,-119 -0.17,-119 -0.17,-113 5.83,-107 11.83,-107 11.83,-107 92.51,-107 92.51,-107 98.51,-107 104.51,-113 104.51,-119 104.51,-119 104.51,-159 104.51,-159 104.51,-165 98.51,-171 92.51,-171\"/>\n",
       "<text text-anchor=\"start\" x=\"23.57\" y=\"-155.8\" font-family=\"Helvetica,sans-Serif\" font-size=\"14.00\">gini = 0.0</text>\n",
       "<text text-anchor=\"start\" x=\"10.34\" y=\"-141.8\" font-family=\"Helvetica,sans-Serif\" font-size=\"14.00\">samples = 41</text>\n",
       "<text text-anchor=\"start\" x=\"8\" y=\"-127.8\" font-family=\"Helvetica,sans-Serif\" font-size=\"14.00\">value = [0, 41]</text>\n",
       "<text text-anchor=\"start\" x=\"14.36\" y=\"-113.8\" font-family=\"Helvetica,sans-Serif\" font-size=\"14.00\">class = YES</text>\n",
       "</g>\n",
       "<!-- 5&#45;&gt;6 -->\n",
       "<g id=\"edge6\" class=\"edge\">\n",
       "<title>5&#45;&gt;6</title>\n",
       "<path fill=\"none\" stroke=\"black\" d=\"M102.89,-213.77C95.25,-202.66 86.9,-190.51 79.21,-179.33\"/>\n",
       "<polygon fill=\"black\" stroke=\"black\" points=\"82.04,-177.27 73.49,-171.01 76.27,-181.23 82.04,-177.27\"/>\n",
       "</g>\n",
       "<!-- 7 -->\n",
       "<g id=\"node8\" class=\"node\">\n",
       "<title>7</title>\n",
       "<path fill=\"#9ccef2\" stroke=\"black\" d=\"M279.9,-178C279.9,-178 134.44,-178 134.44,-178 128.44,-178 122.44,-172 122.44,-166 122.44,-166 122.44,-112 122.44,-112 122.44,-106 128.44,-100 134.44,-100 134.44,-100 279.9,-100 279.9,-100 285.9,-100 291.9,-106 291.9,-112 291.9,-112 291.9,-166 291.9,-166 291.9,-172 285.9,-178 279.9,-178\"/>\n",
       "<text text-anchor=\"start\" x=\"130.56\" y=\"-162.8\" font-family=\"Helvetica,sans-Serif\" font-size=\"14.00\">spent_last_month ≤ 59.5</text>\n",
       "<text text-anchor=\"start\" x=\"170.78\" y=\"-148.8\" font-family=\"Helvetica,sans-Serif\" font-size=\"14.00\">gini = 0.444</text>\n",
       "<text text-anchor=\"start\" x=\"169.23\" y=\"-134.8\" font-family=\"Helvetica,sans-Serif\" font-size=\"14.00\">samples = 3</text>\n",
       "<text text-anchor=\"start\" x=\"166.89\" y=\"-120.8\" font-family=\"Helvetica,sans-Serif\" font-size=\"14.00\">value = [1, 2]</text>\n",
       "<text text-anchor=\"start\" x=\"169.36\" y=\"-106.8\" font-family=\"Helvetica,sans-Serif\" font-size=\"14.00\">class = YES</text>\n",
       "</g>\n",
       "<!-- 5&#45;&gt;7 -->\n",
       "<g id=\"edge7\" class=\"edge\">\n",
       "<title>5&#45;&gt;7</title>\n",
       "<path fill=\"none\" stroke=\"black\" d=\"M155.8,-213.77C161.95,-204.94 168.55,-195.45 174.91,-186.32\"/>\n",
       "<polygon fill=\"black\" stroke=\"black\" points=\"177.82,-188.26 180.67,-178.06 172.08,-184.26 177.82,-188.26\"/>\n",
       "</g>\n",
       "<!-- 8 -->\n",
       "<g id=\"node9\" class=\"node\">\n",
       "<title>8</title>\n",
       "<path fill=\"#e58139\" stroke=\"black\" d=\"M185.23,-64C185.23,-64 113.11,-64 113.11,-64 107.11,-64 101.11,-58 101.11,-52 101.11,-52 101.11,-12 101.11,-12 101.11,-6 107.11,0 113.11,0 113.11,0 185.23,0 185.23,0 191.23,0 197.23,-6 197.23,-12 197.23,-12 197.23,-52 197.23,-52 197.23,-58 191.23,-64 185.23,-64\"/>\n",
       "<text text-anchor=\"start\" x=\"120.57\" y=\"-48.8\" font-family=\"Helvetica,sans-Serif\" font-size=\"14.00\">gini = 0.0</text>\n",
       "<text text-anchor=\"start\" x=\"111.23\" y=\"-34.8\" font-family=\"Helvetica,sans-Serif\" font-size=\"14.00\">samples = 1</text>\n",
       "<text text-anchor=\"start\" x=\"108.89\" y=\"-20.8\" font-family=\"Helvetica,sans-Serif\" font-size=\"14.00\">value = [1, 0]</text>\n",
       "<text text-anchor=\"start\" x=\"114.74\" y=\"-6.8\" font-family=\"Helvetica,sans-Serif\" font-size=\"14.00\">class = NO</text>\n",
       "</g>\n",
       "<!-- 7&#45;&gt;8 -->\n",
       "<g id=\"edge8\" class=\"edge\">\n",
       "<title>7&#45;&gt;8</title>\n",
       "<path fill=\"none\" stroke=\"black\" d=\"M186.07,-99.8C181.26,-91.09 176.14,-81.82 171.29,-73.04\"/>\n",
       "<polygon fill=\"black\" stroke=\"black\" points=\"174.26,-71.18 166.36,-64.12 168.13,-74.56 174.26,-71.18\"/>\n",
       "</g>\n",
       "<!-- 9 -->\n",
       "<g id=\"node10\" class=\"node\">\n",
       "<title>9</title>\n",
       "<path fill=\"#399de5\" stroke=\"black\" d=\"M300.23,-64C300.23,-64 228.11,-64 228.11,-64 222.11,-64 216.11,-58 216.11,-52 216.11,-52 216.11,-12 216.11,-12 216.11,-6 222.11,0 228.11,0 228.11,0 300.23,0 300.23,0 306.23,0 312.23,-6 312.23,-12 312.23,-12 312.23,-52 312.23,-52 312.23,-58 306.23,-64 300.23,-64\"/>\n",
       "<text text-anchor=\"start\" x=\"235.57\" y=\"-48.8\" font-family=\"Helvetica,sans-Serif\" font-size=\"14.00\">gini = 0.0</text>\n",
       "<text text-anchor=\"start\" x=\"226.23\" y=\"-34.8\" font-family=\"Helvetica,sans-Serif\" font-size=\"14.00\">samples = 2</text>\n",
       "<text text-anchor=\"start\" x=\"223.89\" y=\"-20.8\" font-family=\"Helvetica,sans-Serif\" font-size=\"14.00\">value = [0, 2]</text>\n",
       "<text text-anchor=\"start\" x=\"226.36\" y=\"-6.8\" font-family=\"Helvetica,sans-Serif\" font-size=\"14.00\">class = YES</text>\n",
       "</g>\n",
       "<!-- 7&#45;&gt;9 -->\n",
       "<g id=\"edge9\" class=\"edge\">\n",
       "<title>7&#45;&gt;9</title>\n",
       "<path fill=\"none\" stroke=\"black\" d=\"M227.91,-99.8C232.63,-91.09 237.67,-81.82 242.43,-73.04\"/>\n",
       "<polygon fill=\"black\" stroke=\"black\" points=\"245.58,-74.58 247.28,-64.12 239.43,-71.24 245.58,-74.58\"/>\n",
       "</g>\n",
       "<!-- 12 -->\n",
       "<g id=\"node13\" class=\"node\">\n",
       "<title>12</title>\n",
       "<path fill=\"#f2c09c\" stroke=\"black\" d=\"M516.46,-406C516.46,-406 321.88,-406 321.88,-406 315.88,-406 309.88,-400 309.88,-394 309.88,-394 309.88,-340 309.88,-340 309.88,-334 315.88,-328 321.88,-328 321.88,-328 516.46,-328 516.46,-328 522.46,-328 528.46,-334 528.46,-340 528.46,-340 528.46,-394 528.46,-394 528.46,-400 522.46,-406 516.46,-406\"/>\n",
       "<text text-anchor=\"start\" x=\"317.78\" y=\"-390.8\" font-family=\"Helvetica,sans-Serif\" font-size=\"14.00\">num_coffeeBags_per_year ≤ 2.0</text>\n",
       "<text text-anchor=\"start\" x=\"382.78\" y=\"-376.8\" font-family=\"Helvetica,sans-Serif\" font-size=\"14.00\">gini = 0.444</text>\n",
       "<text text-anchor=\"start\" x=\"381.23\" y=\"-362.8\" font-family=\"Helvetica,sans-Serif\" font-size=\"14.00\">samples = 3</text>\n",
       "<text text-anchor=\"start\" x=\"378.89\" y=\"-348.8\" font-family=\"Helvetica,sans-Serif\" font-size=\"14.00\">value = [2, 1]</text>\n",
       "<text text-anchor=\"start\" x=\"384.74\" y=\"-334.8\" font-family=\"Helvetica,sans-Serif\" font-size=\"14.00\">class = NO</text>\n",
       "</g>\n",
       "<!-- 11&#45;&gt;12 -->\n",
       "<g id=\"edge12\" class=\"edge\">\n",
       "<title>11&#45;&gt;12</title>\n",
       "<path fill=\"none\" stroke=\"black\" d=\"M419.17,-441.77C419.17,-433.57 419.17,-424.8 419.17,-416.28\"/>\n",
       "<polygon fill=\"black\" stroke=\"black\" points=\"422.67,-416.06 419.17,-406.06 415.67,-416.06 422.67,-416.06\"/>\n",
       "</g>\n",
       "<!-- 15 -->\n",
       "<g id=\"node16\" class=\"node\">\n",
       "<title>15</title>\n",
       "<path fill=\"#e58139\" stroke=\"black\" d=\"M639.51,-399C639.51,-399 558.83,-399 558.83,-399 552.83,-399 546.83,-393 546.83,-387 546.83,-387 546.83,-347 546.83,-347 546.83,-341 552.83,-335 558.83,-335 558.83,-335 639.51,-335 639.51,-335 645.51,-335 651.51,-341 651.51,-347 651.51,-347 651.51,-387 651.51,-387 651.51,-393 645.51,-399 639.51,-399\"/>\n",
       "<text text-anchor=\"start\" x=\"570.57\" y=\"-383.8\" font-family=\"Helvetica,sans-Serif\" font-size=\"14.00\">gini = 0.0</text>\n",
       "<text text-anchor=\"start\" x=\"557.34\" y=\"-369.8\" font-family=\"Helvetica,sans-Serif\" font-size=\"14.00\">samples = 95</text>\n",
       "<text text-anchor=\"start\" x=\"555\" y=\"-355.8\" font-family=\"Helvetica,sans-Serif\" font-size=\"14.00\">value = [95, 0]</text>\n",
       "<text text-anchor=\"start\" x=\"564.74\" y=\"-341.8\" font-family=\"Helvetica,sans-Serif\" font-size=\"14.00\">class = NO</text>\n",
       "</g>\n",
       "<!-- 11&#45;&gt;15 -->\n",
       "<g id=\"edge15\" class=\"edge\">\n",
       "<title>11&#45;&gt;15</title>\n",
       "<path fill=\"none\" stroke=\"black\" d=\"M472.2,-447C493.72,-433.62 518.64,-418.11 540.68,-404.39\"/>\n",
       "<polygon fill=\"black\" stroke=\"black\" points=\"542.65,-407.29 549.29,-399.04 538.95,-401.35 542.65,-407.29\"/>\n",
       "</g>\n",
       "<!-- 13 -->\n",
       "<g id=\"node14\" class=\"node\">\n",
       "<title>13</title>\n",
       "<path fill=\"#e58139\" stroke=\"black\" d=\"M439.23,-285C439.23,-285 367.11,-285 367.11,-285 361.11,-285 355.11,-279 355.11,-273 355.11,-273 355.11,-233 355.11,-233 355.11,-227 361.11,-221 367.11,-221 367.11,-221 439.23,-221 439.23,-221 445.23,-221 451.23,-227 451.23,-233 451.23,-233 451.23,-273 451.23,-273 451.23,-279 445.23,-285 439.23,-285\"/>\n",
       "<text text-anchor=\"start\" x=\"374.57\" y=\"-269.8\" font-family=\"Helvetica,sans-Serif\" font-size=\"14.00\">gini = 0.0</text>\n",
       "<text text-anchor=\"start\" x=\"365.23\" y=\"-255.8\" font-family=\"Helvetica,sans-Serif\" font-size=\"14.00\">samples = 2</text>\n",
       "<text text-anchor=\"start\" x=\"362.89\" y=\"-241.8\" font-family=\"Helvetica,sans-Serif\" font-size=\"14.00\">value = [2, 0]</text>\n",
       "<text text-anchor=\"start\" x=\"368.74\" y=\"-227.8\" font-family=\"Helvetica,sans-Serif\" font-size=\"14.00\">class = NO</text>\n",
       "</g>\n",
       "<!-- 12&#45;&gt;13 -->\n",
       "<g id=\"edge13\" class=\"edge\">\n",
       "<title>12&#45;&gt;13</title>\n",
       "<path fill=\"none\" stroke=\"black\" d=\"M413.71,-327.77C412.2,-317.2 410.56,-305.7 409.03,-294.98\"/>\n",
       "<polygon fill=\"black\" stroke=\"black\" points=\"412.48,-294.41 407.6,-285.01 405.55,-295.4 412.48,-294.41\"/>\n",
       "</g>\n",
       "<!-- 14 -->\n",
       "<g id=\"node15\" class=\"node\">\n",
       "<title>14</title>\n",
       "<path fill=\"#399de5\" stroke=\"black\" d=\"M554.23,-285C554.23,-285 482.11,-285 482.11,-285 476.11,-285 470.11,-279 470.11,-273 470.11,-273 470.11,-233 470.11,-233 470.11,-227 476.11,-221 482.11,-221 482.11,-221 554.23,-221 554.23,-221 560.23,-221 566.23,-227 566.23,-233 566.23,-233 566.23,-273 566.23,-273 566.23,-279 560.23,-285 554.23,-285\"/>\n",
       "<text text-anchor=\"start\" x=\"489.57\" y=\"-269.8\" font-family=\"Helvetica,sans-Serif\" font-size=\"14.00\">gini = 0.0</text>\n",
       "<text text-anchor=\"start\" x=\"480.23\" y=\"-255.8\" font-family=\"Helvetica,sans-Serif\" font-size=\"14.00\">samples = 1</text>\n",
       "<text text-anchor=\"start\" x=\"477.89\" y=\"-241.8\" font-family=\"Helvetica,sans-Serif\" font-size=\"14.00\">value = [0, 1]</text>\n",
       "<text text-anchor=\"start\" x=\"480.36\" y=\"-227.8\" font-family=\"Helvetica,sans-Serif\" font-size=\"14.00\">class = YES</text>\n",
       "</g>\n",
       "<!-- 12&#45;&gt;14 -->\n",
       "<g id=\"edge14\" class=\"edge\">\n",
       "<title>12&#45;&gt;14</title>\n",
       "<path fill=\"none\" stroke=\"black\" d=\"M452.96,-327.77C462.98,-316.44 473.95,-304.03 483.98,-292.68\"/>\n",
       "<polygon fill=\"black\" stroke=\"black\" points=\"486.76,-294.82 490.76,-285.01 481.51,-290.18 486.76,-294.82\"/>\n",
       "</g>\n",
       "<!-- 17 -->\n",
       "<g id=\"node18\" class=\"node\">\n",
       "<title>17</title>\n",
       "<path fill=\"#399de5\" stroke=\"black\" d=\"M602.3,-513C602.3,-513 514.04,-513 514.04,-513 508.04,-513 502.04,-507 502.04,-501 502.04,-501 502.04,-461 502.04,-461 502.04,-455 508.04,-449 514.04,-449 514.04,-449 602.3,-449 602.3,-449 608.3,-449 614.3,-455 614.3,-461 614.3,-461 614.3,-501 614.3,-501 614.3,-507 608.3,-513 602.3,-513\"/>\n",
       "<text text-anchor=\"start\" x=\"529.57\" y=\"-497.8\" font-family=\"Helvetica,sans-Serif\" font-size=\"14.00\">gini = 0.0</text>\n",
       "<text text-anchor=\"start\" x=\"512.45\" y=\"-483.8\" font-family=\"Helvetica,sans-Serif\" font-size=\"14.00\">samples = 158</text>\n",
       "<text text-anchor=\"start\" x=\"510.11\" y=\"-469.8\" font-family=\"Helvetica,sans-Serif\" font-size=\"14.00\">value = [0, 158]</text>\n",
       "<text text-anchor=\"start\" x=\"520.36\" y=\"-455.8\" font-family=\"Helvetica,sans-Serif\" font-size=\"14.00\">class = YES</text>\n",
       "</g>\n",
       "<!-- 16&#45;&gt;17 -->\n",
       "<g id=\"edge17\" class=\"edge\">\n",
       "<title>16&#45;&gt;17</title>\n",
       "<path fill=\"none\" stroke=\"black\" d=\"M558.17,-555.77C558.17,-545.31 558.17,-533.94 558.17,-523.32\"/>\n",
       "<polygon fill=\"black\" stroke=\"black\" points=\"561.67,-523.01 558.17,-513.01 554.67,-523.01 561.67,-523.01\"/>\n",
       "</g>\n",
       "<!-- 18 -->\n",
       "<g id=\"node19\" class=\"node\">\n",
       "<title>18</title>\n",
       "<path fill=\"#f6fbfe\" stroke=\"black\" d=\"M797.68,-520C797.68,-520 644.66,-520 644.66,-520 638.66,-520 632.66,-514 632.66,-508 632.66,-508 632.66,-454 632.66,-454 632.66,-448 638.66,-442 644.66,-442 644.66,-442 797.68,-442 797.68,-442 803.68,-442 809.68,-448 809.68,-454 809.68,-454 809.68,-508 809.68,-508 809.68,-514 803.68,-520 797.68,-520\"/>\n",
       "<text text-anchor=\"start\" x=\"640.66\" y=\"-504.8\" font-family=\"Helvetica,sans-Serif\" font-size=\"14.00\">spent_last_month ≤ 140.5</text>\n",
       "<text text-anchor=\"start\" x=\"692.57\" y=\"-490.8\" font-family=\"Helvetica,sans-Serif\" font-size=\"14.00\">gini = 0.5</text>\n",
       "<text text-anchor=\"start\" x=\"679.34\" y=\"-476.8\" font-family=\"Helvetica,sans-Serif\" font-size=\"14.00\">samples = 45</text>\n",
       "<text text-anchor=\"start\" x=\"673.11\" y=\"-462.8\" font-family=\"Helvetica,sans-Serif\" font-size=\"14.00\">value = [22, 23]</text>\n",
       "<text text-anchor=\"start\" x=\"683.36\" y=\"-448.8\" font-family=\"Helvetica,sans-Serif\" font-size=\"14.00\">class = YES</text>\n",
       "</g>\n",
       "<!-- 16&#45;&gt;18 -->\n",
       "<g id=\"edge18\" class=\"edge\">\n",
       "<title>16&#45;&gt;18</title>\n",
       "<path fill=\"none\" stroke=\"black\" d=\"M613.81,-555.77C627.84,-546.13 643.01,-535.7 657.41,-525.81\"/>\n",
       "<polygon fill=\"black\" stroke=\"black\" points=\"659.52,-528.61 665.78,-520.06 655.56,-522.84 659.52,-528.61\"/>\n",
       "</g>\n",
       "<!-- 19 -->\n",
       "<g id=\"node20\" class=\"node\">\n",
       "<title>19</title>\n",
       "<path fill=\"#e58139\" stroke=\"black\" d=\"M761.51,-399C761.51,-399 680.83,-399 680.83,-399 674.83,-399 668.83,-393 668.83,-387 668.83,-387 668.83,-347 668.83,-347 668.83,-341 674.83,-335 680.83,-335 680.83,-335 761.51,-335 761.51,-335 767.51,-335 773.51,-341 773.51,-347 773.51,-347 773.51,-387 773.51,-387 773.51,-393 767.51,-399 761.51,-399\"/>\n",
       "<text text-anchor=\"start\" x=\"692.57\" y=\"-383.8\" font-family=\"Helvetica,sans-Serif\" font-size=\"14.00\">gini = 0.0</text>\n",
       "<text text-anchor=\"start\" x=\"679.34\" y=\"-369.8\" font-family=\"Helvetica,sans-Serif\" font-size=\"14.00\">samples = 22</text>\n",
       "<text text-anchor=\"start\" x=\"677\" y=\"-355.8\" font-family=\"Helvetica,sans-Serif\" font-size=\"14.00\">value = [22, 0]</text>\n",
       "<text text-anchor=\"start\" x=\"686.74\" y=\"-341.8\" font-family=\"Helvetica,sans-Serif\" font-size=\"14.00\">class = NO</text>\n",
       "</g>\n",
       "<!-- 18&#45;&gt;19 -->\n",
       "<g id=\"edge19\" class=\"edge\">\n",
       "<title>18&#45;&gt;19</title>\n",
       "<path fill=\"none\" stroke=\"black\" d=\"M721.17,-441.77C721.17,-431.31 721.17,-419.94 721.17,-409.32\"/>\n",
       "<polygon fill=\"black\" stroke=\"black\" points=\"724.67,-409.01 721.17,-399.01 717.67,-409.01 724.67,-409.01\"/>\n",
       "</g>\n",
       "<!-- 20 -->\n",
       "<g id=\"node21\" class=\"node\">\n",
       "<title>20</title>\n",
       "<path fill=\"#399de5\" stroke=\"black\" d=\"M883.51,-399C883.51,-399 802.83,-399 802.83,-399 796.83,-399 790.83,-393 790.83,-387 790.83,-387 790.83,-347 790.83,-347 790.83,-341 796.83,-335 802.83,-335 802.83,-335 883.51,-335 883.51,-335 889.51,-335 895.51,-341 895.51,-347 895.51,-347 895.51,-387 895.51,-387 895.51,-393 889.51,-399 883.51,-399\"/>\n",
       "<text text-anchor=\"start\" x=\"814.57\" y=\"-383.8\" font-family=\"Helvetica,sans-Serif\" font-size=\"14.00\">gini = 0.0</text>\n",
       "<text text-anchor=\"start\" x=\"801.34\" y=\"-369.8\" font-family=\"Helvetica,sans-Serif\" font-size=\"14.00\">samples = 23</text>\n",
       "<text text-anchor=\"start\" x=\"799\" y=\"-355.8\" font-family=\"Helvetica,sans-Serif\" font-size=\"14.00\">value = [0, 23]</text>\n",
       "<text text-anchor=\"start\" x=\"805.36\" y=\"-341.8\" font-family=\"Helvetica,sans-Serif\" font-size=\"14.00\">class = YES</text>\n",
       "</g>\n",
       "<!-- 18&#45;&gt;20 -->\n",
       "<g id=\"edge20\" class=\"edge\">\n",
       "<title>18&#45;&gt;20</title>\n",
       "<path fill=\"none\" stroke=\"black\" d=\"M762.81,-441.77C775.39,-430.22 789.19,-417.55 801.75,-406.02\"/>\n",
       "<polygon fill=\"black\" stroke=\"black\" points=\"804.39,-408.35 809.39,-399.01 799.66,-403.19 804.39,-408.35\"/>\n",
       "</g>\n",
       "</g>\n",
       "</svg>\n"
      ],
      "text/plain": [
       "<graphviz.files.Source at 0x7f8e14327df0>"
      ]
     },
     "execution_count": 34,
     "metadata": {},
     "output_type": "execute_result"
    }
   ],
   "source": [
    "# As before, but make the model name gini_model\n",
    "\n",
    "# Alternatively for class_names use gini_model.classes_\n",
    "dot_data = tree.export_graphviz(gini_model, out_file=None,\n",
    "                                feature_names=X_train.columns,\n",
    "                                class_names=gini_model.classes_, \n",
    "                                filled=True, rounded=True,\n",
    "                                special_characters=True)\n",
    "graph = graphviz.Source(dot_data) \n",
    "graph"
   ]
  },
  {
   "cell_type": "code",
   "execution_count": 35,
   "metadata": {
    "colab": {},
    "colab_type": "code",
    "id": "T0RadBy0DuWp"
   },
   "outputs": [
    {
     "name": "stdout",
     "output_type": "stream",
     "text": [
      "Model Gini impurity model\n",
      "Accuracy: 0.9831932773109243\n",
      "Balanced accuracy: 0.9813946216385241\n",
      "Precision score 0.9871794871794872\n",
      "Recall score 0.975609756097561\n"
     ]
    }
   ],
   "source": [
    "# Run this block for model evaluation\n",
    "print(\"Model Gini impurity model\")\n",
    "print(\"Accuracy:\", metrics.accuracy_score(y_test,y_pred))\n",
    "print(\"Balanced accuracy:\", metrics.balanced_accuracy_score(y_test,y_pred))\n",
    "print('Precision score' , metrics.precision_score(y_test,y_pred, pos_label = \"YES\"))\n",
    "print('Recall score' , metrics.recall_score(y_test,y_pred, pos_label = \"NO\"))"
   ]
  },
  {
   "cell_type": "markdown",
   "metadata": {
    "colab_type": "text",
    "id": "LR5LkC_yDuWs"
   },
   "source": [
    "How do the results here compare to the previous model? Write your judgements here: \n",
    "\n",
    "Compare to entropy model, gini model maxed out on level 6 where entropy model had 5 levels. The accuracy of gini model is 98% that is less than entropy model of 99%. In case of balance accuracy, it is similar with the entropy model, 98%. The precision and recall for Yes were 98% for entropy and the precision for Yes in the gini model was 100% and 98% for recall. The precision and recall for No is 97% in the entropy model and the precision for No in the gini model is 100% in the recall is 97%."
   ]
  },
  {
   "cell_type": "markdown",
   "metadata": {
    "colab_type": "text",
    "id": "3PctBjTADuWs"
   },
   "source": [
    "# Model 3: Entropy model - max depth 3\n",
    "We're going to try to limit the depth of our decision tree, using entropy first.  \n",
    "\n",
    "As you know, we need to strike a balance with tree depth. \n",
    "\n",
    "Insufficiently deep, and we're not giving the tree the opportunity to spot the right patterns in the training data.\n",
    "\n",
    "Excessively deep, and we're probably going to make a tree that overfits to the training data, at the cost of very high error on the (hitherto unseen) test data. \n",
    "\n",
    "Sophisticated data scientists use methods like random search with cross-validation to systematically find a good depth for their tree. We'll start with picking 3, and see how that goes. "
   ]
  },
  {
   "cell_type": "code",
   "execution_count": 36,
   "metadata": {
    "colab": {},
    "colab_type": "code",
    "id": "cMiPjWClDuWt"
   },
   "outputs": [
    {
     "data": {
      "text/plain": [
       "DecisionTreeClassifier(criterion='entropy', max_depth=3, random_state=1234)"
      ]
     },
     "execution_count": 36,
     "metadata": {},
     "output_type": "execute_result"
    }
   ],
   "source": [
    "# Made a model as before, but call it entr_model2, and make the max_depth parameter equal to 3. \n",
    "# Execute the fitting, predicting, and Series operations as before\n",
    "entr_model2 = tree.DecisionTreeClassifier(criterion='entropy',random_state=1234,max_depth=3)\n",
    "entr_model2.fit(X_train,y_train)\n",
    "y_pred = entr_model2.predict(X_test)\n",
    "y_pred = pd.Series(y_pred)\n",
    "entr_model2"
   ]
  },
  {
   "cell_type": "code",
   "execution_count": 38,
   "metadata": {
    "colab": {},
    "colab_type": "code",
    "id": "IRuw72VMDuWv"
   },
   "outputs": [
    {
     "data": {
      "image/svg+xml": [
       "<?xml version=\"1.0\" encoding=\"UTF-8\" standalone=\"no\"?>\n",
       "<!DOCTYPE svg PUBLIC \"-//W3C//DTD SVG 1.1//EN\"\n",
       " \"http://www.w3.org/Graphics/SVG/1.1/DTD/svg11.dtd\">\n",
       "<!-- Generated by graphviz version 2.42.3 (20191010.1750)\n",
       " -->\n",
       "<!-- Title: Tree Pages: 1 -->\n",
       "<svg width=\"531pt\" height=\"414pt\"\n",
       " viewBox=\"0.00 0.00 530.90 414.00\" xmlns=\"http://www.w3.org/2000/svg\" xmlns:xlink=\"http://www.w3.org/1999/xlink\">\n",
       "<g id=\"graph0\" class=\"graph\" transform=\"scale(1 1) rotate(0) translate(4 410)\">\n",
       "<title>Tree</title>\n",
       "<polygon fill=\"white\" stroke=\"transparent\" points=\"-4,4 -4,-410 526.9,-410 526.9,4 -4,4\"/>\n",
       "<!-- 0 -->\n",
       "<g id=\"node1\" class=\"node\">\n",
       "<title>0</title>\n",
       "<path fill=\"#abd6f4\" stroke=\"black\" d=\"M398.57,-406C398.57,-406 245.54,-406 245.54,-406 239.54,-406 233.54,-400 233.54,-394 233.54,-394 233.54,-340 233.54,-340 233.54,-334 239.54,-328 245.54,-328 245.54,-328 398.57,-328 398.57,-328 404.57,-328 410.57,-334 410.57,-340 410.57,-340 410.57,-394 410.57,-394 410.57,-400 404.57,-406 398.57,-406\"/>\n",
       "<text text-anchor=\"start\" x=\"241.55\" y=\"-390.8\" font-family=\"Helvetica,sans-Serif\" font-size=\"14.00\">spent_last_month ≤ 138.0</text>\n",
       "<text text-anchor=\"start\" x=\"273.21\" y=\"-376.8\" font-family=\"Helvetica,sans-Serif\" font-size=\"14.00\">entropy = 0.948</text>\n",
       "<text text-anchor=\"start\" x=\"276.33\" y=\"-362.8\" font-family=\"Helvetica,sans-Serif\" font-size=\"14.00\">samples = 355</text>\n",
       "<text text-anchor=\"start\" x=\"266.21\" y=\"-348.8\" font-family=\"Helvetica,sans-Serif\" font-size=\"14.00\">value = [130, 225]</text>\n",
       "<text text-anchor=\"start\" x=\"284.25\" y=\"-334.8\" font-family=\"Helvetica,sans-Serif\" font-size=\"14.00\">class = YES</text>\n",
       "</g>\n",
       "<!-- 1 -->\n",
       "<g id=\"node2\" class=\"node\">\n",
       "<title>1</title>\n",
       "<path fill=\"#fae6d7\" stroke=\"black\" d=\"M304.76,-292C304.76,-292 201.36,-292 201.36,-292 195.36,-292 189.36,-286 189.36,-280 189.36,-280 189.36,-226 189.36,-226 189.36,-220 195.36,-214 201.36,-214 201.36,-214 304.76,-214 304.76,-214 310.76,-214 316.76,-220 316.76,-226 316.76,-226 316.76,-280 316.76,-280 316.76,-286 310.76,-292 304.76,-292\"/>\n",
       "<text text-anchor=\"start\" x=\"200.57\" y=\"-276.8\" font-family=\"Helvetica,sans-Serif\" font-size=\"14.00\">Distance ≤ 3.524</text>\n",
       "<text text-anchor=\"start\" x=\"204.21\" y=\"-262.8\" font-family=\"Helvetica,sans-Serif\" font-size=\"14.00\">entropy = 0.991</text>\n",
       "<text text-anchor=\"start\" x=\"207.33\" y=\"-248.8\" font-family=\"Helvetica,sans-Serif\" font-size=\"14.00\">samples = 234</text>\n",
       "<text text-anchor=\"start\" x=\"197.21\" y=\"-234.8\" font-family=\"Helvetica,sans-Serif\" font-size=\"14.00\">value = [130, 104]</text>\n",
       "<text text-anchor=\"start\" x=\"218.63\" y=\"-220.8\" font-family=\"Helvetica,sans-Serif\" font-size=\"14.00\">class = NO</text>\n",
       "</g>\n",
       "<!-- 0&#45;&gt;1 -->\n",
       "<g id=\"edge1\" class=\"edge\">\n",
       "<title>0&#45;&gt;1</title>\n",
       "<path fill=\"none\" stroke=\"black\" d=\"M298.5,-327.77C293.12,-319.03 287.34,-309.64 281.76,-300.6\"/>\n",
       "<polygon fill=\"black\" stroke=\"black\" points=\"284.73,-298.74 276.5,-292.06 278.77,-302.41 284.73,-298.74\"/>\n",
       "<text text-anchor=\"middle\" x=\"270.72\" y=\"-312.18\" font-family=\"Helvetica,sans-Serif\" font-size=\"14.00\">True</text>\n",
       "</g>\n",
       "<!-- 8 -->\n",
       "<g id=\"node9\" class=\"node\">\n",
       "<title>8</title>\n",
       "<path fill=\"#399de5\" stroke=\"black\" d=\"M435.18,-285C435.18,-285 346.93,-285 346.93,-285 340.93,-285 334.93,-279 334.93,-273 334.93,-273 334.93,-233 334.93,-233 334.93,-227 340.93,-221 346.93,-221 346.93,-221 435.18,-221 435.18,-221 441.18,-221 447.18,-227 447.18,-233 447.18,-233 447.18,-273 447.18,-273 447.18,-279 441.18,-285 435.18,-285\"/>\n",
       "<text text-anchor=\"start\" x=\"350\" y=\"-269.8\" font-family=\"Helvetica,sans-Serif\" font-size=\"14.00\">entropy = 0.0</text>\n",
       "<text text-anchor=\"start\" x=\"345.33\" y=\"-255.8\" font-family=\"Helvetica,sans-Serif\" font-size=\"14.00\">samples = 121</text>\n",
       "<text text-anchor=\"start\" x=\"342.99\" y=\"-241.8\" font-family=\"Helvetica,sans-Serif\" font-size=\"14.00\">value = [0, 121]</text>\n",
       "<text text-anchor=\"start\" x=\"353.25\" y=\"-227.8\" font-family=\"Helvetica,sans-Serif\" font-size=\"14.00\">class = YES</text>\n",
       "</g>\n",
       "<!-- 0&#45;&gt;8 -->\n",
       "<g id=\"edge8\" class=\"edge\">\n",
       "<title>0&#45;&gt;8</title>\n",
       "<path fill=\"none\" stroke=\"black\" d=\"M345.61,-327.77C352.39,-316.77 359.79,-304.75 366.62,-293.66\"/>\n",
       "<polygon fill=\"black\" stroke=\"black\" points=\"369.69,-295.36 371.95,-285.01 363.73,-291.69 369.69,-295.36\"/>\n",
       "<text text-anchor=\"middle\" x=\"377.73\" y=\"-305.13\" font-family=\"Helvetica,sans-Serif\" font-size=\"14.00\">False</text>\n",
       "</g>\n",
       "<!-- 2 -->\n",
       "<g id=\"node3\" class=\"node\">\n",
       "<title>2</title>\n",
       "<path fill=\"#52aae8\" stroke=\"black\" d=\"M230.78,-178C230.78,-178 85.33,-178 85.33,-178 79.33,-178 73.33,-172 73.33,-166 73.33,-166 73.33,-112 73.33,-112 73.33,-106 79.33,-100 85.33,-100 85.33,-100 230.78,-100 230.78,-100 236.78,-100 242.78,-106 242.78,-112 242.78,-112 242.78,-166 242.78,-166 242.78,-172 236.78,-178 230.78,-178\"/>\n",
       "<text text-anchor=\"start\" x=\"81.44\" y=\"-162.8\" font-family=\"Helvetica,sans-Serif\" font-size=\"14.00\">spent_last_month ≤ 24.5</text>\n",
       "<text text-anchor=\"start\" x=\"109.21\" y=\"-148.8\" font-family=\"Helvetica,sans-Serif\" font-size=\"14.00\">entropy = 0.512</text>\n",
       "<text text-anchor=\"start\" x=\"116.23\" y=\"-134.8\" font-family=\"Helvetica,sans-Serif\" font-size=\"14.00\">samples = 79</text>\n",
       "<text text-anchor=\"start\" x=\"113.89\" y=\"-120.8\" font-family=\"Helvetica,sans-Serif\" font-size=\"14.00\">value = [9, 70]</text>\n",
       "<text text-anchor=\"start\" x=\"120.25\" y=\"-106.8\" font-family=\"Helvetica,sans-Serif\" font-size=\"14.00\">class = YES</text>\n",
       "</g>\n",
       "<!-- 1&#45;&gt;2 -->\n",
       "<g id=\"edge2\" class=\"edge\">\n",
       "<title>1&#45;&gt;2</title>\n",
       "<path fill=\"none\" stroke=\"black\" d=\"M220.63,-213.77C212.99,-204.76 204.76,-195.06 196.87,-185.76\"/>\n",
       "<polygon fill=\"black\" stroke=\"black\" points=\"199.48,-183.42 190.34,-178.06 194.14,-187.95 199.48,-183.42\"/>\n",
       "</g>\n",
       "<!-- 5 -->\n",
       "<g id=\"node6\" class=\"node\">\n",
       "<title>5</title>\n",
       "<path fill=\"#eca471\" stroke=\"black\" d=\"M425.57,-178C425.57,-178 272.54,-178 272.54,-178 266.54,-178 260.54,-172 260.54,-166 260.54,-166 260.54,-112 260.54,-112 260.54,-106 266.54,-100 272.54,-100 272.54,-100 425.57,-100 425.57,-100 431.57,-100 437.57,-106 437.57,-112 437.57,-112 437.57,-166 437.57,-166 437.57,-172 431.57,-178 425.57,-178\"/>\n",
       "<text text-anchor=\"start\" x=\"268.55\" y=\"-162.8\" font-family=\"Helvetica,sans-Serif\" font-size=\"14.00\">spent_last_month ≤ 101.0</text>\n",
       "<text text-anchor=\"start\" x=\"300.21\" y=\"-148.8\" font-family=\"Helvetica,sans-Serif\" font-size=\"14.00\">entropy = 0.759</text>\n",
       "<text text-anchor=\"start\" x=\"303.33\" y=\"-134.8\" font-family=\"Helvetica,sans-Serif\" font-size=\"14.00\">samples = 155</text>\n",
       "<text text-anchor=\"start\" x=\"297.1\" y=\"-120.8\" font-family=\"Helvetica,sans-Serif\" font-size=\"14.00\">value = [121, 34]</text>\n",
       "<text text-anchor=\"start\" x=\"314.63\" y=\"-106.8\" font-family=\"Helvetica,sans-Serif\" font-size=\"14.00\">class = NO</text>\n",
       "</g>\n",
       "<!-- 1&#45;&gt;5 -->\n",
       "<g id=\"edge5\" class=\"edge\">\n",
       "<title>1&#45;&gt;5</title>\n",
       "<path fill=\"none\" stroke=\"black\" d=\"M285.83,-213.77C293.55,-204.76 301.86,-195.06 309.83,-185.76\"/>\n",
       "<polygon fill=\"black\" stroke=\"black\" points=\"312.58,-187.93 316.44,-178.06 307.27,-183.37 312.58,-187.93\"/>\n",
       "</g>\n",
       "<!-- 3 -->\n",
       "<g id=\"node4\" class=\"node\">\n",
       "<title>3</title>\n",
       "<path fill=\"#e58139\" stroke=\"black\" d=\"M86.17,-64C86.17,-64 11.94,-64 11.94,-64 5.94,-64 -0.06,-58 -0.06,-52 -0.06,-52 -0.06,-12 -0.06,-12 -0.06,-6 5.94,0 11.94,0 11.94,0 86.17,0 86.17,0 92.17,0 98.17,-6 98.17,-12 98.17,-12 98.17,-52 98.17,-52 98.17,-58 92.17,-64 86.17,-64\"/>\n",
       "<text text-anchor=\"start\" x=\"8\" y=\"-48.8\" font-family=\"Helvetica,sans-Serif\" font-size=\"14.00\">entropy = 0.0</text>\n",
       "<text text-anchor=\"start\" x=\"11.12\" y=\"-34.8\" font-family=\"Helvetica,sans-Serif\" font-size=\"14.00\">samples = 8</text>\n",
       "<text text-anchor=\"start\" x=\"8.78\" y=\"-20.8\" font-family=\"Helvetica,sans-Serif\" font-size=\"14.00\">value = [8, 0]</text>\n",
       "<text text-anchor=\"start\" x=\"14.63\" y=\"-6.8\" font-family=\"Helvetica,sans-Serif\" font-size=\"14.00\">class = NO</text>\n",
       "</g>\n",
       "<!-- 2&#45;&gt;3 -->\n",
       "<g id=\"edge3\" class=\"edge\">\n",
       "<title>2&#45;&gt;3</title>\n",
       "<path fill=\"none\" stroke=\"black\" d=\"M118.4,-99.8C108.7,-90.45 98.32,-80.45 88.62,-71.11\"/>\n",
       "<polygon fill=\"black\" stroke=\"black\" points=\"90.99,-68.53 81.36,-64.12 86.13,-73.58 90.99,-68.53\"/>\n",
       "</g>\n",
       "<!-- 4 -->\n",
       "<g id=\"node5\" class=\"node\">\n",
       "<title>4</title>\n",
       "<path fill=\"#3c9ee5\" stroke=\"black\" d=\"M217.74,-64C217.74,-64 128.37,-64 128.37,-64 122.37,-64 116.37,-58 116.37,-52 116.37,-52 116.37,-12 116.37,-12 116.37,-6 122.37,0 128.37,0 128.37,0 217.74,0 217.74,0 223.74,0 229.74,-6 229.74,-12 229.74,-12 229.74,-52 229.74,-52 229.74,-58 223.74,-64 217.74,-64\"/>\n",
       "<text text-anchor=\"start\" x=\"124.21\" y=\"-48.8\" font-family=\"Helvetica,sans-Serif\" font-size=\"14.00\">entropy = 0.107</text>\n",
       "<text text-anchor=\"start\" x=\"131.23\" y=\"-34.8\" font-family=\"Helvetica,sans-Serif\" font-size=\"14.00\">samples = 71</text>\n",
       "<text text-anchor=\"start\" x=\"128.89\" y=\"-20.8\" font-family=\"Helvetica,sans-Serif\" font-size=\"14.00\">value = [1, 70]</text>\n",
       "<text text-anchor=\"start\" x=\"135.25\" y=\"-6.8\" font-family=\"Helvetica,sans-Serif\" font-size=\"14.00\">class = YES</text>\n",
       "</g>\n",
       "<!-- 2&#45;&gt;4 -->\n",
       "<g id=\"edge4\" class=\"edge\">\n",
       "<title>2&#45;&gt;4</title>\n",
       "<path fill=\"none\" stroke=\"black\" d=\"M163.51,-99.8C164.71,-91.46 165.97,-82.6 167.18,-74.15\"/>\n",
       "<polygon fill=\"black\" stroke=\"black\" points=\"170.66,-74.51 168.61,-64.12 163.73,-73.52 170.66,-74.51\"/>\n",
       "</g>\n",
       "<!-- 6 -->\n",
       "<g id=\"node7\" class=\"node\">\n",
       "<title>6</title>\n",
       "<path fill=\"#e6853f\" stroke=\"black\" d=\"M378.74,-64C378.74,-64 289.37,-64 289.37,-64 283.37,-64 277.37,-58 277.37,-52 277.37,-52 277.37,-12 277.37,-12 277.37,-6 283.37,0 289.37,0 289.37,0 378.74,0 378.74,0 384.74,0 390.74,-6 390.74,-12 390.74,-12 390.74,-52 390.74,-52 390.74,-58 384.74,-64 378.74,-64\"/>\n",
       "<text text-anchor=\"start\" x=\"285.21\" y=\"-48.8\" font-family=\"Helvetica,sans-Serif\" font-size=\"14.00\">entropy = 0.191</text>\n",
       "<text text-anchor=\"start\" x=\"288.33\" y=\"-34.8\" font-family=\"Helvetica,sans-Serif\" font-size=\"14.00\">samples = 102</text>\n",
       "<text text-anchor=\"start\" x=\"289.89\" y=\"-20.8\" font-family=\"Helvetica,sans-Serif\" font-size=\"14.00\">value = [99, 3]</text>\n",
       "<text text-anchor=\"start\" x=\"299.63\" y=\"-6.8\" font-family=\"Helvetica,sans-Serif\" font-size=\"14.00\">class = NO</text>\n",
       "</g>\n",
       "<!-- 5&#45;&gt;6 -->\n",
       "<g id=\"edge6\" class=\"edge\">\n",
       "<title>5&#45;&gt;6</title>\n",
       "<path fill=\"none\" stroke=\"black\" d=\"M343.6,-99.8C342.41,-91.46 341.14,-82.6 339.94,-74.15\"/>\n",
       "<polygon fill=\"black\" stroke=\"black\" points=\"343.38,-73.52 338.5,-64.12 336.45,-74.51 343.38,-73.52\"/>\n",
       "</g>\n",
       "<!-- 7 -->\n",
       "<g id=\"node8\" class=\"node\">\n",
       "<title>7</title>\n",
       "<path fill=\"#c6e3f7\" stroke=\"black\" d=\"M510.74,-64C510.74,-64 421.37,-64 421.37,-64 415.37,-64 409.37,-58 409.37,-52 409.37,-52 409.37,-12 409.37,-12 409.37,-6 415.37,0 421.37,0 421.37,0 510.74,0 510.74,0 516.74,0 522.74,-6 522.74,-12 522.74,-12 522.74,-52 522.74,-52 522.74,-58 516.74,-64 510.74,-64\"/>\n",
       "<text text-anchor=\"start\" x=\"417.21\" y=\"-48.8\" font-family=\"Helvetica,sans-Serif\" font-size=\"14.00\">entropy = 0.979</text>\n",
       "<text text-anchor=\"start\" x=\"424.23\" y=\"-34.8\" font-family=\"Helvetica,sans-Serif\" font-size=\"14.00\">samples = 53</text>\n",
       "<text text-anchor=\"start\" x=\"417.99\" y=\"-20.8\" font-family=\"Helvetica,sans-Serif\" font-size=\"14.00\">value = [22, 31]</text>\n",
       "<text text-anchor=\"start\" x=\"428.25\" y=\"-6.8\" font-family=\"Helvetica,sans-Serif\" font-size=\"14.00\">class = YES</text>\n",
       "</g>\n",
       "<!-- 5&#45;&gt;7 -->\n",
       "<g id=\"edge7\" class=\"edge\">\n",
       "<title>5&#45;&gt;7</title>\n",
       "<path fill=\"none\" stroke=\"black\" d=\"M391.63,-99.8C402.14,-90.36 413.4,-80.25 423.9,-70.84\"/>\n",
       "<polygon fill=\"black\" stroke=\"black\" points=\"426.28,-73.4 431.38,-64.12 421.6,-68.19 426.28,-73.4\"/>\n",
       "</g>\n",
       "</g>\n",
       "</svg>\n"
      ],
      "text/plain": [
       "<graphviz.files.Source at 0x7f8e182aa370>"
      ]
     },
     "execution_count": 38,
     "metadata": {},
     "output_type": "execute_result"
    }
   ],
   "source": [
    "# As before, we need to visualize the tree to grasp its nature\n",
    " \n",
    "\n",
    "# Alternatively for class_names use entr_model2.classes_\n",
    "dot_data = tree.export_graphviz(entr_model2, out_file=None,\n",
    "                                feature_names=X_train.columns,\n",
    "                                class_names=entr_model2.classes_, \n",
    "                                filled=True, rounded=True,\n",
    "                                special_characters=True)\n",
    "graph = graphviz.Source(dot_data) \n",
    "graph"
   ]
  },
  {
   "cell_type": "code",
   "execution_count": 39,
   "metadata": {
    "colab": {},
    "colab_type": "code",
    "id": "29f4vmmMDuWy"
   },
   "outputs": [
    {
     "name": "stdout",
     "output_type": "stream",
     "text": [
      "Model Entropy model max depth 3\n",
      "Accuracy: 0.907563025210084\n",
      "Balanced accuracy: 0.8658536585365854\n",
      "Precision score for \"Yes\" 0.8764044943820225\n",
      "Recall score for \"No\" 0.7317073170731707\n"
     ]
    }
   ],
   "source": [
    "# Run this block for model evaluation \n",
    "print(\"Model Entropy model max depth 3\")\n",
    "print(\"Accuracy:\", metrics.accuracy_score(y_test,y_pred))\n",
    "print(\"Balanced accuracy:\", metrics.balanced_accuracy_score(y_test,y_pred))\n",
    "print('Precision score for \"Yes\"' , metrics.precision_score(y_test,y_pred, pos_label = \"YES\"))\n",
    "print('Recall score for \"No\"' , metrics.recall_score(y_test,y_pred, pos_label = \"NO\"))"
   ]
  },
  {
   "cell_type": "markdown",
   "metadata": {
    "colab_type": "text",
    "id": "AG7S2YgUDuW4"
   },
   "source": [
    "So our accuracy decreased, but is this certainly an inferior tree to the max depth original tree we did with Model 1? Write your conclusions here: \n",
    "\n",
    "This tree has high information gain like the first model. It underperforms for precision and recall. 73% is not an acceptable recall rate for a model."
   ]
  },
  {
   "cell_type": "markdown",
   "metadata": {
    "colab_type": "text",
    "id": "FZTl4W3wDuW4"
   },
   "source": [
    "## Model 4: Gini impurity  model - max depth 3\n",
    "We're now going to try the same with the Gini impurity model. "
   ]
  },
  {
   "cell_type": "code",
   "execution_count": 40,
   "metadata": {
    "colab": {},
    "colab_type": "code",
    "id": "FJK1bkG3DuW5"
   },
   "outputs": [
    {
     "data": {
      "text/plain": [
       "DecisionTreeClassifier(max_depth=3, random_state=1234)"
      ]
     },
     "execution_count": 40,
     "metadata": {},
     "output_type": "execute_result"
    }
   ],
   "source": [
    "# As before, make a variable, but call it gini_model2, and ensure the max_depth parameter is set to 3\n",
    "gini_model2 = tree.DecisionTreeClassifier(criterion ='gini', random_state = 1234, max_depth  = 3 )\n",
    "\n",
    "# Do the fit, predict, and series transformations as before. \n",
    "gini_model2.fit(X_train,y_train)\n",
    "y_pred = gini_model2.predict(X_test)\n",
    "gini_model2"
   ]
  },
  {
   "cell_type": "code",
   "execution_count": 42,
   "metadata": {
    "colab": {},
    "colab_type": "code",
    "id": "_UIWhKZBDuW7"
   },
   "outputs": [
    {
     "data": {
      "image/png": "[encoded data removed]",
      "text/plain": [
       "<IPython.core.display.Image object>"
      ]
     },
     "execution_count": 42,
     "metadata": {},
     "output_type": "execute_result"
    }
   ],
   "source": [
    "dot_data = StringIO()\n",
    "tree.export_graphviz(gini_model2, out_file=dot_data,\n",
    "                     filled=True, rounded=True,\n",
    "                     special_characters=True, \n",
    "                     feature_names=X_train.columns, class_names=[\"No\", \"Yes\"]) \n",
    "\n",
    "# Alternatively for class_names use gini_model2.classes_\n",
    "graph = pydotplus.graph_from_dot_data(dot_data.getvalue())  \n",
    "Image(graph.create_png())"
   ]
  },
  {
   "cell_type": "code",
   "execution_count": 43,
   "metadata": {
    "colab": {},
    "colab_type": "code",
    "id": "R4t7e9-GDuW9"
   },
   "outputs": [
    {
     "name": "stdout",
     "output_type": "stream",
     "text": [
      "Gini impurity  model - max depth 3\n",
      "Accuracy: 0.9747899159663865\n",
      "Balanced accuracy: 0.9691994996873046\n",
      "Precision score 0.9746835443037974\n",
      "Recall score 0.9512195121951219\n"
     ]
    }
   ],
   "source": [
    "print(\"Gini impurity  model - max depth 3\")\n",
    "print(\"Accuracy:\", metrics.accuracy_score(y_test,y_pred))\n",
    "print(\"Balanced accuracy:\", metrics.balanced_accuracy_score(y_test,y_pred))\n",
    "print('Precision score' , metrics.precision_score(y_test,y_pred, pos_label = \"YES\"))\n",
    "print('Recall score' , metrics.recall_score(y_test,y_pred, pos_label = \"NO\"))"
   ]
  },
  {
   "cell_type": "markdown",
   "metadata": {
    "colab_type": "text",
    "id": "UzGThBXSDuW-"
   },
   "source": [
    "Now this is an elegant tree. Its accuracy might not be the highest, but it's still the best model we've produced so far. Why is that? Write your answer here: This tree has high information gain in less moves."
   ]
  },
  {
   "cell_type": "markdown",
   "metadata": {
    "colab_type": "text",
    "id": "jS1niFlCDuW_"
   },
   "source": [
    "# 4. Evaluating and concluding\n",
    "## 4a. How many customers will buy Hidden Farm coffee? \n",
    "Let's first ascertain how many loyal customers claimed, in the survey, that they will purchase the Hidden Farm coffee. "
   ]
  },
  {
   "cell_type": "code",
   "execution_count": 45,
   "metadata": {
    "colab": {},
    "colab_type": "code",
    "id": "QPHXnHZvDuXC"
   },
   "outputs": [
    {
     "data": {
      "text/plain": [
       "YES    303\n",
       "NO     171\n",
       "Name: Decision, dtype: int64"
      ]
     },
     "execution_count": 45,
     "metadata": {},
     "output_type": "execute_result"
    }
   ],
   "source": [
    "# Call value_counts() on the 'Decision' column of the original coffeeData\n",
    "coffeeData.Decision.value_counts() "
   ]
  },
  {
   "cell_type": "markdown",
   "metadata": {
    "colab_type": "text",
    "id": "kw_5g_ZEDuXD"
   },
   "source": [
    "Let's now determine the number of people that, according to the model, will be willing to buy the Hidden Farm coffee. \n",
    "1. First we subset the Prediction dataset into `new_X` considering all the variables except `Decision` \n",
    "2. Use that dataset to predict a new variable called `potential_buyers`"
   ]
  },
  {
   "cell_type": "code",
   "execution_count": 58,
   "metadata": {
    "colab": {},
    "colab_type": "code",
    "id": "mwypR8ymDuXE"
   },
   "outputs": [],
   "source": [
    "# Feature selection\n",
    "# Make a variable called feature_cols, and assign it a list containing all the column names except 'Decision'\n",
    "features_cols = ['Age','Gender','num_coffeeBags_per_year','spent_last_week','spent_last_month','salary',\n",
    "            'Distance','Online'] \n",
    "\n",
    "# Make a variable called new_X, and assign it the subset of Prediction, containing just the feature_cols \n",
    "new_X = prediction[features_cols] "
   ]
  },
  {
   "cell_type": "code",
   "execution_count": 59,
   "metadata": {
    "colab": {},
    "colab_type": "code",
    "id": "0ajvbeRSDuXG"
   },
   "outputs": [],
   "source": [
    "# Call get_dummies() on the Pandas object pd, with new_X plugged in, to one-hot encode all features in the training set\n",
    "new_X = pd.get_dummies(new_X) \n",
    "new_X.head()\n",
    "# Make a variable called potential_buyers, and assign it the result of calling predict() on a model of your choice; \n",
    "# don't forget to pass new_X to predict()\n",
    "\n",
    "potential_buyers = gini_model2.predict(new_X)"
   ]
  },
  {
   "cell_type": "code",
   "execution_count": 60,
   "metadata": {
    "colab": {},
    "colab_type": "code",
    "id": "-MO_KWT9DuXI"
   },
   "outputs": [
    {
     "data": {
      "text/plain": [
       "(array(['NO', 'YES'], dtype=object), array([ 45, 183]))"
      ]
     },
     "execution_count": 60,
     "metadata": {},
     "output_type": "execute_result"
    }
   ],
   "source": [
    "# Let's get the numbers of YES's and NO's in the potential buyers \n",
    "# Call unique() on np, and pass potential_buyers and return_counts=True \n",
    "np.unique(potential_buyers,return_counts=True) "
   ]
  },
  {
   "cell_type": "markdown",
   "metadata": {
    "colab_type": "text",
    "id": "3CB7HbiTDuXJ"
   },
   "source": [
    "The total number of potential buyers is 303 + 183 = 486"
   ]
  },
  {
   "cell_type": "code",
   "execution_count": 62,
   "metadata": {
    "colab": {},
    "colab_type": "code",
    "id": "9EGFQcTuDuXK"
   },
   "outputs": [
    {
     "name": "stdout",
     "output_type": "stream",
     "text": [
      "Total Number of surveyed people are : 702\n"
     ]
    }
   ],
   "source": [
    "# Print the total number of surveyed people \n",
    "print ('Total Number of surveyed people are :', len(coffeeData))"
   ]
  },
  {
   "cell_type": "code",
   "execution_count": 65,
   "metadata": {
    "colab": {},
    "colab_type": "code",
    "id": "22_KRMX4DuXM"
   },
   "outputs": [],
   "source": [
    "# Let's calculate the proportion of buyers\n",
    "proportion = 486/702.0"
   ]
  },
  {
   "cell_type": "code",
   "execution_count": 67,
   "metadata": {
    "colab": {},
    "colab_type": "code",
    "id": "xLMCDMpmDuXO"
   },
   "outputs": [
    {
     "name": "stdout",
     "output_type": "stream",
     "text": [
      "Percentage of people who want to buy the Hidden Farm Coffee is:  69.23076923076923\n"
     ]
    }
   ],
   "source": [
    "# Print the percentage of people who want to buy the Hidden Farm coffee, by our model \n",
    "print ('Percentage of people who want to buy the Hidden Farm Coffee is: ', proportion*100)"
   ]
  },
  {
   "cell_type": "markdown",
   "metadata": {
    "colab_type": "text",
    "id": "9bRDyi6rDuXQ"
   },
   "source": [
    "## 4b. Decision\n",
    "Remember how you thought at the start: if more than 70% of the interviewed customers are likely to buy the Hidden Farm coffee, you will strike the deal with the local Hidden Farm farmers and sell the coffee. Otherwise, you won't strike the deal and the Hidden Farm coffee will remain in legends only. Well now's crunch time. Are you going to go ahead with that idea? If so, you won't be striking the deal with the Chinese farmers. \n",
    "\n",
    "They're called `decision trees`, aren't they? So where's the decision? What should you do? (Cue existential cat emoji). \n",
    "\n",
    "Ultimately, though, we can't write an algorithm to actually *make the business decision* for us. This is because such decisions depend on our values, what risks we are willing to take, the stakes of our decisions, and how important it us for us to *know* that we will succeed. What are you going to do with the models you've made? Are you going to risk everything, strike the deal with the *Hidden Farm* farmers, and sell the coffee? \n",
    "\n",
    "The philosopher of language Jason Stanley once wrote that the number of doubts our evidence has to rule out in order for us to know a given proposition depends on our stakes: the higher our stakes, the more doubts our evidence has to rule out, and therefore the harder it is for us to know things. We can end up paralyzed in predicaments; sometimes, we can act to better our situation only if we already know certain things, which we can only if our stakes were lower and we'd *already* bettered our situation. \n",
    "\n",
    "Data science and machine learning can't solve such problems. But what it can do is help us make great use of our data to help *inform* our decisions."
   ]
  },
  {
   "cell_type": "markdown",
   "metadata": {
    "colab_type": "text",
    "id": "crWWrpdox8i-"
   },
   "source": [
    "## 5. Random Forest\n",
    "You might have noticed an important fact about decision trees. Each time we run a given decision tree algorithm to make a prediction (such as whether customers will buy the Hidden Farm coffee) we will actually get a slightly different result. This might seem weird, but it has a simple explanation: machine learning algorithms are by definition ***stochastic***, in that their output is at least partly determined by randomness. \n",
    "\n",
    "To account for this variability and ensure that we get the most accurate prediction, we might want to actually make lots of decision trees, and get a value that captures the centre or average of the outputs of those trees. Luckily, there's a method for this, known as the ***Random Forest***. \n",
    "\n",
    "Essentially, Random Forest involves making lots of trees with similar properties, and then performing summary statistics on the outputs of those trees to reach that central value. Random forests are hugely powerful classifers, and they can improve predictive accuracy and control over-fitting. \n",
    "\n",
    "Why not try to inform your decision with random forest? You'll need to make use of the RandomForestClassifier function within the sklearn.ensemble module, found [here](https://scikit-learn.org/stable/modules/generated/sklearn.ensemble.RandomForestClassifier.html). "
   ]
  },
  {
   "cell_type": "markdown",
   "metadata": {
    "colab_type": "text",
    "id": "fI4fiVWq0IH9"
   },
   "source": [
    "### 5a. Import necessary modules"
   ]
  },
  {
   "cell_type": "code",
   "execution_count": null,
   "metadata": {
    "colab": {},
    "colab_type": "code",
    "id": "vSRTnHnD0D-O"
   },
   "outputs": [],
   "source": [
    "from sklearn.ensemble import RandomForestClassifier\n",
    "from sklearn.datasets import make_classification"
   ]
  },
  {
   "cell_type": "markdown",
   "metadata": {
    "colab_type": "text",
    "id": "jKmFvvjb0WB9"
   },
   "source": [
    "### 5b. Model\n",
    "You'll use your X_train and y_train variables just as before.\n",
    "\n",
    "You'll then need to make a variable (call it firstRFModel) to store your new Random Forest model. You'll assign this variable the result of calling RandomForestClassifier().\n",
    "\n",
    "Then, just as before, you'll call fit() on that firstRFModel variable, and plug in X_train and y_train.\n",
    "\n",
    "Finally, you should make a variable called y_pred, and assign it the result of calling the predict() method on your new firstRFModel, with the X_test data passed to it. "
   ]
  },
  {
   "cell_type": "code",
   "execution_count": 69,
   "metadata": {
    "colab": {},
    "colab_type": "code",
    "id": "OQEeTiRG1aSm"
   },
   "outputs": [
    {
     "data": {
      "text/plain": [
       "RandomForestClassifier(max_depth=3, random_state=1234)"
      ]
     },
     "execution_count": 69,
     "metadata": {},
     "output_type": "execute_result"
    }
   ],
   "source": [
    "# Plug in appropriate max_depth and random_state parameters \n",
    "firstRFModel = RandomForestClassifier(criterion='gini',max_depth=3,random_state=1234) \n",
    "\n",
    "# Model and fit\n",
    "firstRFModel.fit(X_train,y_train)\n",
    "y_pred = firstRFModel.predict(X_test)\n",
    "firstRFModel\n",
    "\n"
   ]
  },
  {
   "cell_type": "code",
   "execution_count": 70,
   "metadata": {},
   "outputs": [
    {
     "name": "stdout",
     "output_type": "stream",
     "text": [
      "Gini impurity  model - max depth 3\n",
      "Accuracy: 0.9411764705882353\n",
      "Balanced accuracy: 0.9204190118824265\n",
      "Precision score 0.927710843373494\n",
      "Recall score 0.8536585365853658\n"
     ]
    }
   ],
   "source": [
    "print(\"Gini impurity  model - max depth 3\")\n",
    "print(\"Accuracy:\", metrics.accuracy_score(y_test,y_pred))\n",
    "print(\"Balanced accuracy:\", metrics.balanced_accuracy_score(y_test,y_pred))\n",
    "print('Precision score' , metrics.precision_score(y_test,y_pred, pos_label = \"YES\"))\n",
    "print('Recall score' , metrics.recall_score(y_test,y_pred, pos_label = \"NO\"))"
   ]
  },
  {
   "cell_type": "markdown",
   "metadata": {
    "colab_type": "text",
    "id": "sCIt6pyn1zpb"
   },
   "source": [
    "### 5c. Revise conclusion\n",
    "\n",
    "Has your conclusion changed? Or is the result of executing random forest the same as your best model reached by a single decision tree? \n",
    "\n",
    "The model underperforms compared to the gini impurity model of max depth of three. The accuracy, balanced accuracy, precision, and recall are above 95% and for the random forest classifier they are between 94% and 85%.\n",
    "\n"
   ]
  },
  {
   "cell_type": "code",
   "execution_count": null,
   "metadata": {},
   "outputs": [],
   "source": []
  }
 ],
 "metadata": {
  "colab": {
   "collapsed_sections": [],
   "name": "Springboard Decision Tree Specialty Coffee Case Study - Tier 3.ipynb",
   "provenance": []
  },
  "kernelspec": {
   "display_name": "stock",
   "language": "python",
   "name": "stock"
  },
  "language_info": {
   "codemirror_mode": {
    "name": "ipython",
    "version": 3
   },
   "file_extension": ".py",
   "mimetype": "text/x-python",
   "name": "python",
   "nbconvert_exporter": "python",
   "pygments_lexer": "ipython3",
   "version": "3.8.3"
  }
 },
 "nbformat": 4,
 "nbformat_minor": 4
}
